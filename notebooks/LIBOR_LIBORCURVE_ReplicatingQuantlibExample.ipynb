{
 "cells": [
  {
   "cell_type": "markdown",
   "metadata": {},
   "source": [
    "# Building a Libor Curve"
   ]
  },
  {
   "cell_type": "markdown",
   "metadata": {},
   "source": [
    "This is an example of a replication of a Quantlib example from\n",
    "\n",
    "http://billiontrader.com/2015/02/16/bootstrapping-with-quantlib/\n",
    "\n",
    "Agreement is very good however some issues about date generation need to be checked."
   ]
  },
  {
   "cell_type": "code",
   "execution_count": 1,
   "metadata": {},
   "outputs": [],
   "source": [
    "import numpy as np\n",
    "import matplotlib.pyplot as plt"
   ]
  },
  {
   "cell_type": "code",
   "execution_count": 2,
   "metadata": {},
   "outputs": [
    {
     "name": "stdout",
     "output_type": "stream",
     "text": [
      "###################################################################\n",
      "# FINANCEPY BETA Version 0.180 - This build: 06 Sep 2020 at 11:50 #\n",
      "#     This software is distributed FREE & WITHOUT ANY WARRANTY    #\n",
      "# For info and disclaimer - https://github.com/domokane/FinancePy #\n",
      "###################################################################\n",
      "\n"
     ]
    }
   ],
   "source": [
    "from financepy.finutils.FinDate import FinDate\n",
    "from financepy.finutils.FinDayCount import FinDayCountTypes\n",
    "from financepy.finutils.FinFrequency import FinFrequencyTypes\n",
    "from financepy.finutils.FinCalendar import *\n",
    "from financepy.products.libor.FinLiborCurve import FinLiborCurve\n",
    "from financepy.products.libor.FinLiborFRA import FinLiborFRA\n",
    "from financepy.products.libor.FinLiborDeposit import FinLiborDeposit\n",
    "from financepy.products.libor.FinLiborSwap import FinLiborSwap\n",
    "from financepy.products.libor.FinLiborFuture import FinLiborFuture"
   ]
  },
  {
   "cell_type": "markdown",
   "metadata": {},
   "source": [
    "## Creating the Libor Instruments"
   ]
  },
  {
   "cell_type": "code",
   "execution_count": 3,
   "metadata": {},
   "outputs": [],
   "source": [
    "tradeDate = FinDate(16, 2, 2015)"
   ]
  },
  {
   "cell_type": "markdown",
   "metadata": {},
   "source": [
    "### Load up the deposits first"
   ]
  },
  {
   "cell_type": "code",
   "execution_count": 4,
   "metadata": {},
   "outputs": [],
   "source": [
    "spotDays = 0\n",
    "settlementDate = tradeDate.addWorkDays(spotDays)"
   ]
  },
  {
   "cell_type": "code",
   "execution_count": 5,
   "metadata": {},
   "outputs": [],
   "source": [
    "depoDCCType = FinDayCountTypes.ACT_360\n",
    "depos = []\n",
    "\n",
    "depositRate = 0.001375\n",
    "depo = FinLiborDeposit(settlementDate, \"7D\", depositRate, depoDCCType)\n",
    "depos.append(depo)\n",
    "\n",
    "depositRate = 0.001717\n",
    "depo = FinLiborDeposit(settlementDate, \"1M\", depositRate, depoDCCType)\n",
    "depos.append(depo)\n",
    "\n",
    "depositRate = 0.002112\n",
    "depo = FinLiborDeposit(settlementDate, \"2M\", depositRate, depoDCCType)\n",
    "depos.append(depo)\n",
    "\n",
    "depositRate = 0.002581\n",
    "depo = FinLiborDeposit(settlementDate, \"3M\", depositRate, depoDCCType)\n",
    "depos.append(depo)"
   ]
  },
  {
   "cell_type": "code",
   "execution_count": 6,
   "metadata": {},
   "outputs": [
    {
     "name": "stdout",
     "output_type": "stream",
     "text": [
      "OBJECT TYPE: FinLiborDeposit\n",
      "START DATE: MON 16 FEB 2015\n",
      "MATURITY DATE: MON 23 FEB 2015\n",
      "NOTIONAL: 100.0\n",
      "DEPOSIT RATE: 0.001375\n",
      "DAY COUNT TYPE: FinDayCountTypes.ACT_360\n",
      "CALENDAR: FinCalendarTypes.WEEKEND\n",
      "BUS DAY ADJUST TYPE: FinBusDayAdjustTypes.MODIFIED_FOLLOWING\n",
      "\n",
      "OBJECT TYPE: FinLiborDeposit\n",
      "START DATE: MON 16 FEB 2015\n",
      "MATURITY DATE: MON 16 MAR 2015\n",
      "NOTIONAL: 100.0\n",
      "DEPOSIT RATE: 0.001717\n",
      "DAY COUNT TYPE: FinDayCountTypes.ACT_360\n",
      "CALENDAR: FinCalendarTypes.WEEKEND\n",
      "BUS DAY ADJUST TYPE: FinBusDayAdjustTypes.MODIFIED_FOLLOWING\n",
      "\n",
      "OBJECT TYPE: FinLiborDeposit\n",
      "START DATE: MON 16 FEB 2015\n",
      "MATURITY DATE: THU 16 APR 2015\n",
      "NOTIONAL: 100.0\n",
      "DEPOSIT RATE: 0.002112\n",
      "DAY COUNT TYPE: FinDayCountTypes.ACT_360\n",
      "CALENDAR: FinCalendarTypes.WEEKEND\n",
      "BUS DAY ADJUST TYPE: FinBusDayAdjustTypes.MODIFIED_FOLLOWING\n",
      "\n",
      "OBJECT TYPE: FinLiborDeposit\n",
      "START DATE: MON 16 FEB 2015\n",
      "MATURITY DATE: MON 18 MAY 2015\n",
      "NOTIONAL: 100.0\n",
      "DEPOSIT RATE: 0.002581\n",
      "DAY COUNT TYPE: FinDayCountTypes.ACT_360\n",
      "CALENDAR: FinCalendarTypes.WEEKEND\n",
      "BUS DAY ADJUST TYPE: FinBusDayAdjustTypes.MODIFIED_FOLLOWING\n",
      "\n"
     ]
    }
   ],
   "source": [
    "for depo in depos:\n",
    "    print(depo)"
   ]
  },
  {
   "cell_type": "markdown",
   "metadata": {},
   "source": [
    "### Create Strips of Interest Rate Futures "
   ]
  },
  {
   "cell_type": "code",
   "execution_count": 7,
   "metadata": {},
   "outputs": [],
   "source": [
    "futs = []\n",
    "fut = FinLiborFuture(tradeDate, 1) ; futs.append(fut)\n",
    "fut = FinLiborFuture(tradeDate, 2) ; futs.append(fut)\n",
    "fut = FinLiborFuture(tradeDate, 3) ; futs.append(fut)\n",
    "fut = FinLiborFuture(tradeDate, 4) ; futs.append(fut)\n",
    "fut = FinLiborFuture(tradeDate, 5) ; futs.append(fut)\n",
    "fut = FinLiborFuture(tradeDate, 6) ; futs.append(fut)"
   ]
  },
  {
   "cell_type": "markdown",
   "metadata": {},
   "source": [
    "### Convert Interest Rate Futures to FRAs"
   ]
  },
  {
   "cell_type": "markdown",
   "metadata": {},
   "source": [
    "Need to supply futures price and the convexity (in percent) which is set to zero"
   ]
  },
  {
   "cell_type": "code",
   "execution_count": 8,
   "metadata": {},
   "outputs": [],
   "source": [
    "fras = [None]*len(futs)\n",
    "fras[0] = futs[0].toFRA(99.725,-0.0)\n",
    "fras[1] = futs[1].toFRA(99.585,-0.00)\n",
    "fras[2] = futs[2].toFRA(99.385,-0.00)\n",
    "fras[3] = futs[3].toFRA(99.160,-0.00)\n",
    "fras[4] = futs[4].toFRA(98.930,-0.00)\n",
    "fras[5] = futs[5].toFRA(98.715,-0.00)"
   ]
  },
  {
   "cell_type": "markdown",
   "metadata": {},
   "source": [
    "### Then we load up swap rates"
   ]
  },
  {
   "cell_type": "code",
   "execution_count": 9,
   "metadata": {},
   "outputs": [],
   "source": [
    "accrual = FinDayCountTypes.ACT_360\n",
    "freq = FinFrequencyTypes.ANNUAL\n",
    "longEnd = FinDateGenRuleTypes.BACKWARD"
   ]
  },
  {
   "cell_type": "code",
   "execution_count": 10,
   "metadata": {},
   "outputs": [],
   "source": [
    "spotDays = 2\n",
    "settlementDate = tradeDate.addWorkDays(spotDays)"
   ]
  },
  {
   "cell_type": "code",
   "execution_count": 11,
   "metadata": {},
   "outputs": [],
   "source": [
    "swaps = []\n",
    "swap = FinLiborSwap(settlementDate, \"2Y\", 0.0089268, freq, accrual); swaps.append(swap)\n",
    "swap = FinLiborSwap(settlementDate, \"3Y\", 0.0123343, freq, accrual); swaps.append(swap)\n",
    "swap = FinLiborSwap(settlementDate, \"4Y\", 0.0147985, freq, accrual); swaps.append(swap)\n",
    "swap = FinLiborSwap(settlementDate, \"5Y\", 0.0165843, freq, accrual); swaps.append(swap)"
   ]
  },
  {
   "cell_type": "code",
   "execution_count": 12,
   "metadata": {},
   "outputs": [
    {
     "name": "stdout",
     "output_type": "stream",
     "text": [
      "MON 20 FEB 2017\n",
      "MON 19 FEB 2018\n",
      "MON 18 FEB 2019\n",
      "TUE 18 FEB 2020\n"
     ]
    }
   ],
   "source": [
    "for swap in swaps:\n",
    "    print(swap._adjustedMaturityDate)"
   ]
  },
  {
   "cell_type": "markdown",
   "metadata": {},
   "source": [
    "## Build the Curve"
   ]
  },
  {
   "cell_type": "code",
   "execution_count": 13,
   "metadata": {},
   "outputs": [],
   "source": [
    "liborCurve = FinLiborCurve(tradeDate, depos, fras, swaps)"
   ]
  },
  {
   "cell_type": "markdown",
   "metadata": {},
   "source": [
    "## Curve Examination"
   ]
  },
  {
   "cell_type": "markdown",
   "metadata": {},
   "source": [
    "Generate a vector of time points and then generate zero rates and forward rates"
   ]
  },
  {
   "cell_type": "code",
   "execution_count": 14,
   "metadata": {},
   "outputs": [
    {
     "name": "stdout",
     "output_type": "stream",
     "text": [
      "MON 23 FEB 2015   0.13750000   0.99997326\n",
      "MON 16 MAR 2015   0.17170000   0.99986647\n",
      "THU 16 APR 2015   0.21120000   0.99965399\n",
      "MON 18 MAY 2015   0.25810000   0.99934801\n"
     ]
    }
   ],
   "source": [
    "for depo in depos:\n",
    "    dt = depo._maturityDate\n",
    "    df = liborCurve.df(dt)\n",
    "    zeroRate = liborCurve.zeroRate(dt, FinFrequencyTypes.SIMPLE, FinDayCountTypes.ACT_360)\n",
    "    df = liborCurve.df(dt)\n",
    "    print(\"%12s %12.8f %12.8f\" % (dt, zeroRate*100.0, df))"
   ]
  },
  {
   "cell_type": "code",
   "execution_count": 15,
   "metadata": {},
   "outputs": [
    {
     "name": "stdout",
     "output_type": "stream",
     "text": [
      "WED 17 JUN 2015   0.25066108   0.99915821\n",
      "WED 16 SEP 2015   0.32135287   0.99811116\n",
      "WED 16 DEC 2015   0.40989345   0.99656192\n",
      "WED 16 MAR 2016   0.50990211   0.99445037\n",
      "WED 15 JUN 2016   0.61611302   0.99176792\n",
      "WED 21 SEP 2016   0.73034320   0.98831075\n"
     ]
    }
   ],
   "source": [
    "for fra in fras:\n",
    "    dt = fra._maturityDate\n",
    "    df = liborCurve.df(dt)\n",
    "    zeroRate = liborCurve.zeroRate(dt, FinFrequencyTypes.SIMPLE, FinDayCountTypes.ACT_360)\n",
    "    print(\"%12s %12.8f %12.8f\" % (dt, zeroRate*100.0, df))"
   ]
  },
  {
   "cell_type": "code",
   "execution_count": 16,
   "metadata": {},
   "outputs": [
    {
     "name": "stdout",
     "output_type": "stream",
     "text": [
      "MON 20 FEB 2017   0.89237549   0.98202499\n",
      "MON 19 FEB 2018   1.23733169   0.96315473\n",
      "MON 18 FEB 2019   1.48896351   0.94170449\n",
      "TUE 18 FEB 2020   1.67274927   0.91921438\n"
     ]
    }
   ],
   "source": [
    "for swap in swaps:\n",
    "    dt = swap._adjustedMaturityDate\n",
    "    df = liborCurve.df(dt)\n",
    "    zeroRate = liborCurve.zeroRate(dt, FinFrequencyTypes.ANNUAL, FinDayCountTypes.ACT_360)\n",
    "    print(\"%12s %12.8f %12.8f\" % (dt, zeroRate*100.0, df))"
   ]
  },
  {
   "cell_type": "code",
   "execution_count": 17,
   "metadata": {},
   "outputs": [
    {
     "data": {
      "text/plain": [
       "-5.10702591327572e-15"
      ]
     },
     "execution_count": 17,
     "metadata": {},
     "output_type": "execute_result"
    }
   ],
   "source": [
    "swaps[0].value(settlementDate, liborCurve, liborCurve)"
   ]
  },
  {
   "cell_type": "code",
   "execution_count": 18,
   "metadata": {},
   "outputs": [
    {
     "name": "stdout",
     "output_type": "stream",
     "text": [
      "START DATE: WED 18 FEB 2015\n",
      "MATURITY DATE: MON 20 FEB 2017\n",
      "COUPON (%): 0.89268\n",
      "FIXED LEG FREQUENCY: FinFrequencyTypes.ANNUAL\n",
      "FIXED LEG DAY COUNT: FinDayCountTypes.ACT_360\n",
      "VALUATION DATE WED 18 FEB 2015\n",
      "PAYMENT_DATE     YEAR_FRAC        FLOW         DF         DF*FLOW       CUM_PV\n",
      "WED 18 FEB 2015          -            -   1.00000000            -            -\n",
      "THU 18 FEB 2016  1.0138889         0.91   0.99508401         0.90         0.90\n",
      "MON 20 FEB 2017  1.0222222         0.91   0.98203249         0.90         1.80\n"
     ]
    }
   ],
   "source": [
    "swaps[0].printFixedLegPV()"
   ]
  },
  {
   "cell_type": "code",
   "execution_count": 19,
   "metadata": {},
   "outputs": [
    {
     "name": "stdout",
     "output_type": "stream",
     "text": [
      "START DATE: WED 18 FEB 2015\n",
      "MATURITY DATE: MON 18 FEB 2019\n",
      "SPREAD COUPON (%): 0.0\n",
      "FLOAT LEG FREQUENCY: FinFrequencyTypes.QUARTERLY\n",
      "FLOAT LEG DAY COUNT: FinDayCountTypes.THIRTY_E_360\n",
      "VALUATION DATE None\n",
      "Floating Flows not calculated.\n"
     ]
    }
   ],
   "source": [
    "swaps[2].printFloatLegPV()"
   ]
  },
  {
   "cell_type": "markdown",
   "metadata": {},
   "source": [
    "Agreement with Quantlib example is very very good but not exact. Not sure how some of quantlib dates are generated - e.g. 19/2/2019 is a Tuesday so the 18th was a weekday and should have been used ?"
   ]
  },
  {
   "cell_type": "markdown",
   "metadata": {},
   "source": [
    "Copyright (c) 2020 Dominic O'Kane"
   ]
  }
 ],
 "metadata": {
  "kernelspec": {
   "display_name": "Python 3",
   "language": "python",
   "name": "python3"
  },
  "language_info": {
   "codemirror_mode": {
    "name": "ipython",
    "version": 3
   },
   "file_extension": ".py",
   "mimetype": "text/x-python",
   "name": "python",
   "nbconvert_exporter": "python",
   "pygments_lexer": "ipython3",
   "version": "3.7.6"
  }
 },
 "nbformat": 4,
 "nbformat_minor": 4
}
