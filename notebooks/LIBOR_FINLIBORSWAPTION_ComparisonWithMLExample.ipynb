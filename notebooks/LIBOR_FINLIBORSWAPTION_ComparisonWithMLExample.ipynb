{
 "cells": [
  {
   "cell_type": "markdown",
   "metadata": {},
   "source": [
    "# Valuing European-Style Swaptions with Matlab Example"
   ]
  },
  {
   "cell_type": "markdown",
   "metadata": {},
   "source": [
    "We value a European swaption using Black's model and try to replicate a ML example at https://fr.mathworks.com/help/fininst/swaptionbyblk.html"
   ]
  },
  {
   "cell_type": "code",
   "execution_count": 1,
   "metadata": {},
   "outputs": [],
   "source": [
    "import numpy as np\n",
    "import matplotlib.pyplot as plt"
   ]
  },
  {
   "cell_type": "code",
   "execution_count": 2,
   "metadata": {},
   "outputs": [
    {
     "name": "stdout",
     "output_type": "stream",
     "text": [
      "###################################################################\n",
      "# FINANCEPY BETA Version 0.180 - This build: 08 Sep 2020 at 12:26 #\n",
      "#     This software is distributed FREE & WITHOUT ANY WARRANTY    #\n",
      "# For info and disclaimer - https://github.com/domokane/FinancePy #\n",
      "###################################################################\n",
      "\n"
     ]
    }
   ],
   "source": [
    "from financepy.products.libor import *\n",
    "from financepy.finutils import *\n",
    "from financepy.market.curves import *\n",
    "from financepy.market.curves.FinDiscountCurveFlat import FinDiscountCurveFlat\n",
    "from financepy.market.curves.FinInterpolate import FinInterpTypes"
   ]
  },
  {
   "cell_type": "code",
   "execution_count": 3,
   "metadata": {},
   "outputs": [],
   "source": [
    "valuationDate = FinDate(1, 1, 2010)"
   ]
  },
  {
   "cell_type": "code",
   "execution_count": 4,
   "metadata": {},
   "outputs": [],
   "source": [
    "liborCurve = FinDiscountCurveFlat(valuationDate, 0.06, \n",
    "                                  FinFrequencyTypes.CONTINUOUS, \n",
    "                                  FinDayCountTypes.THIRTY_E_360)"
   ]
  },
  {
   "cell_type": "markdown",
   "metadata": {},
   "source": [
    "### Defining the swaption"
   ]
  },
  {
   "cell_type": "code",
   "execution_count": 5,
   "metadata": {},
   "outputs": [],
   "source": [
    "settlementDate = FinDate(1, 1, 2011)\n",
    "exerciseDate = FinDate(1, 1, 2016)\n",
    "maturityDate = FinDate(1, 1, 2019)\n",
    "fixedCoupon = 0.062\n",
    "fixedFrequencyType = FinFrequencyTypes.SEMI_ANNUAL\n",
    "fixedDayCountType = FinDayCountTypes.THIRTY_E_360\n",
    "floatFrequencyType = FinFrequencyTypes.SEMI_ANNUAL\n",
    "floatDayCountType = FinDayCountTypes.THIRTY_E_360\n",
    "notional = 100.0\n",
    "swaptionType = FinLiborSwaptionTypes.PAYER  \n",
    "calendarType = FinCalendarTypes.NONE\n",
    "busDayAdjustType = FinBusDayAdjustTypes.NONE\n",
    "dateGenRuleType = FinDateGenRuleTypes.BACKWARD"
   ]
  },
  {
   "cell_type": "code",
   "execution_count": 6,
   "metadata": {},
   "outputs": [],
   "source": [
    "swaption = FinLiborSwaption(settlementDate, \n",
    "                            exerciseDate,\n",
    "                            maturityDate,\n",
    "                            swaptionType,\n",
    "                            fixedCoupon,\n",
    "                            fixedFrequencyType,\n",
    "                            fixedDayCountType, \n",
    "                            notional, \n",
    "                            floatFrequencyType,\n",
    "                            floatDayCountType,\n",
    "                            calendarType, \n",
    "                            busDayAdjustType,\n",
    "                            dateGenRuleType)"
   ]
  },
  {
   "cell_type": "code",
   "execution_count": 7,
   "metadata": {},
   "outputs": [
    {
     "name": "stdout",
     "output_type": "stream",
     "text": [
      "OBJECT TYPE: FinLiborSwaption\n",
      "SETTLEMENT DATE: SAT 01 JAN 2011\n",
      "EXERCISE DATE: FRI 01 JAN 2016\n",
      "SWAPTION TYPE: FinLiborSwaptionTypes.PAYER\n",
      "MATURITY DATE: TUE 01 JAN 2019\n",
      "SWAP NOTIONAL: 100.0\n",
      "FIXED COUPON: 6.2\n",
      "FIXED FREQUENCY: FinFrequencyTypes.SEMI_ANNUAL\n",
      "FIXED DAY COUNT: FinDayCountTypes.THIRTY_E_360\n",
      "FLOAT FREQUENCY: FinFrequencyTypes.SEMI_ANNUAL\n",
      "FLOAT DAY COUNT: FinDayCountTypes.THIRTY_E_360\n",
      "\n"
     ]
    }
   ],
   "source": [
    "print(swaption)"
   ]
  },
  {
   "cell_type": "markdown",
   "metadata": {},
   "source": [
    "## Valuation using Black's Model"
   ]
  },
  {
   "cell_type": "code",
   "execution_count": 8,
   "metadata": {},
   "outputs": [],
   "source": [
    "model = FinModelBlack(0.20)"
   ]
  },
  {
   "cell_type": "code",
   "execution_count": 9,
   "metadata": {},
   "outputs": [
    {
     "data": {
      "text/plain": [
       "2.070857802922606"
      ]
     },
     "execution_count": 9,
     "metadata": {},
     "output_type": "execute_result"
    }
   ],
   "source": [
    "swaption.value(valuationDate, liborCurve, model)"
   ]
  },
  {
   "cell_type": "markdown",
   "metadata": {},
   "source": [
    "The MATLAB price is 2.071. "
   ]
  },
  {
   "cell_type": "code",
   "execution_count": 10,
   "metadata": {},
   "outputs": [
    {
     "name": "stdout",
     "output_type": "stream",
     "text": [
      "OBJECT TYPE: FinLiborSwaption\n",
      "SETTLEMENT DATE: SAT 01 JAN 2011\n",
      "EXERCISE DATE: FRI 01 JAN 2016\n",
      "SWAPTION TYPE: FinLiborSwaptionTypes.PAYER\n",
      "MATURITY DATE: TUE 01 JAN 2019\n",
      "SWAP NOTIONAL: 100.0\n",
      "FIXED COUPON: 6.2\n",
      "FIXED FREQUENCY: FinFrequencyTypes.SEMI_ANNUAL\n",
      "FIXED DAY COUNT: FinDayCountTypes.THIRTY_E_360\n",
      "FLOAT FREQUENCY: FinFrequencyTypes.SEMI_ANNUAL\n",
      "FLOAT DAY COUNT: FinDayCountTypes.THIRTY_E_360\n",
      "PV01: 1.8868795344638085\n",
      "FWD SWAP RATE: 6.090906790703007\n",
      "FWD DF TO EXPIRY: 0.697676326071031\n"
     ]
    }
   ],
   "source": [
    "print(swaption)"
   ]
  },
  {
   "cell_type": "markdown",
   "metadata": {},
   "source": [
    "We can see that the forward swap rate almost equals the fixed coupon. The underlying swap is close to being ATM forward."
   ]
  },
  {
   "cell_type": "code",
   "execution_count": 11,
   "metadata": {},
   "outputs": [
    {
     "name": "stdout",
     "output_type": "stream",
     "text": [
      "START DATE: FRI 01 JAN 2016\n",
      "MATURITY DATE: TUE 01 JAN 2019\n",
      "COUPON (%): 6.2\n",
      "FIXED LEG FREQUENCY: FinFrequencyTypes.SEMI_ANNUAL\n",
      "FIXED LEG DAY COUNT: FinDayCountTypes.THIRTY_E_360\n",
      "VALUATION DATE FRI 01 JAN 2010\n",
      "PAYMENT_DATE     YEAR_FRAC        FLOW         DF         DF*FLOW       CUM_PV\n",
      "FRI 01 JAN 2010          -            -   1.00000000            -            -\n",
      "FRI 01 JUL 2016  0.5000000         3.10   0.67705687         2.10         2.10\n",
      "SUN 01 JAN 2017  0.5000000         3.10   0.65704682         2.04         4.14\n",
      "SAT 01 JUL 2017  0.5000000         3.10   0.63762815         1.98         6.11\n",
      "MON 01 JAN 2018  0.5000000         3.10   0.61878339         1.92         8.03\n",
      "SUN 01 JUL 2018  0.5000000         3.10   0.60049558         1.86         9.89\n",
      "TUE 01 JAN 2019  0.5000000         3.10   0.58274825         1.81        11.70\n"
     ]
    }
   ],
   "source": [
    "swaption.printSwapFixedLeg()"
   ]
  },
  {
   "cell_type": "markdown",
   "metadata": {},
   "source": [
    "## Increasing Yield Curve"
   ]
  },
  {
   "cell_type": "code",
   "execution_count": 12,
   "metadata": {},
   "outputs": [],
   "source": [
    "valuationDate = FinDate(1, 1, 2010)"
   ]
  },
  {
   "cell_type": "code",
   "execution_count": 13,
   "metadata": {},
   "outputs": [],
   "source": [
    "dates = [FinDate(1,1,2011), FinDate(1,1,2012), FinDate(1,1,2013),\n",
    "         FinDate(1,1,2014), FinDate(1,1,2015)]\n",
    "rates = [0.03, 0.034, 0.037, 0.039, 0.04]\n",
    "\n",
    "frequencyType = FinFrequencyTypes.CONTINUOUS\n",
    "dayCountType = FinDayCountTypes.THIRTY_E_360"
   ]
  },
  {
   "cell_type": "code",
   "execution_count": 14,
   "metadata": {},
   "outputs": [],
   "source": [
    "liborCurve = FinDiscountCurveZeros(valuationDate, dates, rates, frequencyType, \n",
    "                                   dayCountType, FinInterpTypes.LINEAR_ZERO_RATES)"
   ]
  },
  {
   "cell_type": "code",
   "execution_count": 15,
   "metadata": {},
   "outputs": [
    {
     "name": "stdout",
     "output_type": "stream",
     "text": [
      "OBJECT TYPE: FinDiscountCurveZeros\n",
      "VALUATION DATE: FRI 01 JAN 2010\n",
      "FREQUENCY TYPE: FinFrequencyTypes.CONTINUOUS\n",
      "DAY COUNT TYPE: FinDayCountTypes.THIRTY_E_360\n",
      "INTERP TYPE: FinInterpTypes.LINEAR_ZERO_RATES\n",
      "DATES: ZERO RATES\n",
      "SAT 01 JAN 2011:  0.0300000\n",
      "SUN 01 JAN 2012:  0.0340000\n",
      "TUE 01 JAN 2013:  0.0370000\n",
      "WED 01 JAN 2014:  0.0390000\n",
      "THU 01 JAN 2015:  0.0400000\n",
      "\n"
     ]
    }
   ],
   "source": [
    "print(liborCurve)"
   ]
  },
  {
   "cell_type": "code",
   "execution_count": 16,
   "metadata": {},
   "outputs": [],
   "source": [
    "settlementDate = FinDate(1, 1, 2011)\n",
    "exerciseDate = FinDate(1, 1, 2012)\n",
    "maturityDate = FinDate(1, 1, 2017)\n",
    "fixedCoupon = 0.03\n",
    "fixedFrequencyType = FinFrequencyTypes.SEMI_ANNUAL\n",
    "fixedDayCountType = FinDayCountTypes.THIRTY_E_360\n",
    "notional = 1000.0\n",
    "swaptionType = FinLiborSwaptionTypes.RECEIVER  "
   ]
  },
  {
   "cell_type": "code",
   "execution_count": 17,
   "metadata": {},
   "outputs": [],
   "source": [
    "swaption = FinLiborSwaption(settlementDate, \n",
    "                            exerciseDate,\n",
    "                            maturityDate,\n",
    "                            swaptionType,\n",
    "                            fixedCoupon,\n",
    "                            fixedFrequencyType,\n",
    "                            fixedDayCountType, \n",
    "                            notional)"
   ]
  },
  {
   "cell_type": "code",
   "execution_count": 18,
   "metadata": {},
   "outputs": [],
   "source": [
    "model = FinModelBlack(0.21)"
   ]
  },
  {
   "cell_type": "code",
   "execution_count": 19,
   "metadata": {},
   "outputs": [
    {
     "data": {
      "text/plain": [
       "0.5704961284995548"
      ]
     },
     "execution_count": 19,
     "metadata": {},
     "output_type": "execute_result"
    }
   ],
   "source": [
    "swaption.value(valuationDate, liborCurve, model)"
   ]
  },
  {
   "cell_type": "markdown",
   "metadata": {},
   "source": [
    "This differs from Matlab who find 0.5771."
   ]
  },
  {
   "cell_type": "code",
   "execution_count": 20,
   "metadata": {},
   "outputs": [
    {
     "name": "stdout",
     "output_type": "stream",
     "text": [
      "OBJECT TYPE: FinLiborSwaption\n",
      "SETTLEMENT DATE: SAT 01 JAN 2011\n",
      "EXERCISE DATE: SUN 01 JAN 2012\n",
      "SWAPTION TYPE: FinLiborSwaptionTypes.RECEIVER\n",
      "MATURITY DATE: SUN 01 JAN 2017\n",
      "SWAP NOTIONAL: 1000.0\n",
      "FIXED COUPON: 3.0\n",
      "FIXED FREQUENCY: FinFrequencyTypes.SEMI_ANNUAL\n",
      "FIXED DAY COUNT: FinDayCountTypes.THIRTY_E_360\n",
      "FLOAT FREQUENCY: FinFrequencyTypes.QUARTERLY\n",
      "FLOAT DAY COUNT: FinDayCountTypes.THIRTY_E_360\n",
      "PV01: 4.156308290118222\n",
      "FWD SWAP RATE: 4.297730211889089\n",
      "FWD DF TO EXPIRY: 0.934302567686601\n"
     ]
    }
   ],
   "source": [
    "print(swaption)"
   ]
  },
  {
   "cell_type": "markdown",
   "metadata": {},
   "source": [
    "Let's just check the swap rate"
   ]
  },
  {
   "cell_type": "code",
   "execution_count": 22,
   "metadata": {},
   "outputs": [
    {
     "data": {
      "text/plain": [
       "0.04297730211889089"
      ]
     },
     "execution_count": 22,
     "metadata": {},
     "output_type": "execute_result"
    }
   ],
   "source": [
    "liborCurve.parRate(exerciseDate, \n",
    "                   maturityDate,\n",
    "                   FinFrequencyTypes.SEMI_ANNUAL, \n",
    "                   FinDayCountTypes.THIRTY_E_360)"
   ]
  },
  {
   "cell_type": "markdown",
   "metadata": {},
   "source": [
    "As required, it's the same."
   ]
  },
  {
   "cell_type": "code",
   "execution_count": 23,
   "metadata": {},
   "outputs": [
    {
     "name": "stdout",
     "output_type": "stream",
     "text": [
      "START DATE: SUN 01 JAN 2012\n",
      "MATURITY DATE: MON 02 JAN 2017\n",
      "COUPON (%): 3.0\n",
      "FIXED LEG FREQUENCY: FinFrequencyTypes.SEMI_ANNUAL\n",
      "FIXED LEG DAY COUNT: FinDayCountTypes.THIRTY_E_360\n",
      "VALUATION DATE FRI 01 JAN 2010\n",
      "PAYMENT_DATE     YEAR_FRAC        FLOW         DF         DF*FLOW       CUM_PV\n",
      "FRI 01 JAN 2010          -            -   1.00000000            -            -\n",
      "MON 02 JUL 2012  0.5000000        15.00   0.91508563        13.73        13.73\n",
      "TUE 01 JAN 2013  0.4972222        14.92   0.89490988        13.35        27.08\n",
      "MON 01 JUL 2013  0.5000000        15.00   0.87561037        13.13        40.21\n",
      "WED 01 JAN 2014  0.5000000        15.00   0.85555597        12.83        53.04\n",
      "TUE 01 JUL 2014  0.5000000        15.00   0.83731194        12.56        65.60\n",
      "THU 01 JAN 2015  0.5000000        15.00   0.81875194        12.28        77.88\n",
      "WED 01 JUL 2015  0.5000000        15.00   0.80267974        12.04        89.92\n",
      "FRI 01 JAN 2016  0.5000000        15.00   0.78666680        11.80       101.72\n",
      "FRI 01 JUL 2016  0.5000000        15.00   0.77114220        11.57       113.29\n",
      "MON 02 JAN 2017  0.5027778        15.08   0.75567565        11.40       124.69\n"
     ]
    }
   ],
   "source": [
    "swaption.printSwapFixedLeg()"
   ]
  },
  {
   "cell_type": "markdown",
   "metadata": {},
   "source": [
    "Differences with Matlab are likely due to rate compounding or calculation of time used in volatility calculations."
   ]
  },
  {
   "cell_type": "markdown",
   "metadata": {},
   "source": [
    "Copyright (c) 2020 Dominic O'Kane"
   ]
  }
 ],
 "metadata": {
  "kernelspec": {
   "display_name": "Python 3",
   "language": "python",
   "name": "python3"
  },
  "language_info": {
   "codemirror_mode": {
    "name": "ipython",
    "version": 3
   },
   "file_extension": ".py",
   "mimetype": "text/x-python",
   "name": "python",
   "nbconvert_exporter": "python",
   "pygments_lexer": "ipython3",
   "version": "3.7.6"
  }
 },
 "nbformat": 4,
 "nbformat_minor": 4
}
