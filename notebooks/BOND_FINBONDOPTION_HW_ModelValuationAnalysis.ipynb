{
 "cells": [
  {
   "cell_type": "markdown",
   "metadata": {},
   "source": [
    "# Bond Option Pricing using Hull-White Model"
   ]
  },
  {
   "cell_type": "markdown",
   "metadata": {},
   "source": [
    "Value an option on a coupon paying bond using the Hull-White and Black-Karasinski model"
   ]
  },
  {
   "cell_type": "code",
   "execution_count": 4,
   "metadata": {},
   "outputs": [],
   "source": [
    "import numpy as np\n",
    "import matplotlib.pyplot as plt\n",
    "import time"
   ]
  },
  {
   "cell_type": "code",
   "execution_count": 1,
   "metadata": {},
   "outputs": [
    {
     "name": "stdout",
     "output_type": "stream",
     "text": [
      "###################################################################\n",
      "# FINANCEPY BETA Version 0.180 - This build: 10 Sep 2020 at 01:37 #\n",
      "#     This software is distributed FREE & WITHOUT ANY WARRANTY    #\n",
      "# For info and disclaimer - https://github.com/domokane/FinancePy #\n",
      "###################################################################\n",
      "\n"
     ]
    }
   ],
   "source": [
    "from financepy.finutils import *\n",
    "from financepy.market.curves import *\n",
    "from financepy.products.libor import *\n",
    "from financepy.models import *\n",
    "from financepy.products.bonds import *"
   ]
  },
  {
   "cell_type": "markdown",
   "metadata": {},
   "source": [
    "## Bond Option Valuation"
   ]
  },
  {
   "cell_type": "code",
   "execution_count": 2,
   "metadata": {},
   "outputs": [],
   "source": [
    "settlementDate = FinDate(1, 12, 2019)"
   ]
  },
  {
   "cell_type": "markdown",
   "metadata": {},
   "source": [
    "Set up discount curve"
   ]
  },
  {
   "cell_type": "code",
   "execution_count": 4,
   "metadata": {},
   "outputs": [],
   "source": [
    "dcType = FinDayCountTypes.ACT_360\n",
    "fixedFreq = FinFrequencyTypes.SEMI_ANNUAL\n",
    "swap1 = FinLiborSwap(settlementDate,\"1Y\",0.0500,fixedFreq,dcType)\n",
    "swap2 = FinLiborSwap(settlementDate,\"3Y\",0.0500,fixedFreq,dcType)\n",
    "swap3 = FinLiborSwap(settlementDate,\"5Y\",0.0500,fixedFreq,dcType)\n",
    "swap4 = FinLiborSwap(settlementDate,\"7Y\",0.0500,fixedFreq,dcType)\n",
    "swap5 = FinLiborSwap(settlementDate,\"10Y\",0.0500,fixedFreq,dcType)\n",
    "swaps = [swap1, swap2, swap3, swap4, swap5]\n",
    "\n",
    "discountCurve = FinLiborCurve(settlementDate, [], [], swaps)"
   ]
  },
  {
   "cell_type": "markdown",
   "metadata": {},
   "source": [
    "## Set up the Bond Option"
   ]
  },
  {
   "cell_type": "markdown",
   "metadata": {},
   "source": [
    "First create the bond"
   ]
  },
  {
   "cell_type": "code",
   "execution_count": 8,
   "metadata": {},
   "outputs": [],
   "source": [
    "maturityDate = settlementDate.addTenor(\"10Y\")\n",
    "coupon = 0.05\n",
    "frequencyType = FinFrequencyTypes.SEMI_ANNUAL\n",
    "accrualType = FinDayCountTypes.ACT_ACT_ICMA\n",
    "bond = FinBond(maturityDate, coupon, frequencyType, accrualType)"
   ]
  },
  {
   "cell_type": "markdown",
   "metadata": {},
   "source": [
    "Let's first price the bond on the libor curve"
   ]
  },
  {
   "cell_type": "code",
   "execution_count": 12,
   "metadata": {},
   "outputs": [
    {
     "name": "stdout",
     "output_type": "stream",
     "text": [
      "Fixed Income Price: 96.95083924256632\n"
     ]
    }
   ],
   "source": [
    "price = bond.cleanPriceFromDiscountCurve(settlementDate, discountCurve)\n",
    "print(\"Fixed Income Price:\", price)"
   ]
  },
  {
   "cell_type": "markdown",
   "metadata": {},
   "source": [
    "Then define and create the option"
   ]
  },
  {
   "cell_type": "code",
   "execution_count": 17,
   "metadata": {},
   "outputs": [],
   "source": [
    "expiryDate = settlementDate.addTenor(\"18m\")\n",
    "strikePrice = 90.0\n",
    "face = 100.0\n",
    "optionType = FinOptionTypes.AMERICAN_CALL"
   ]
  },
  {
   "cell_type": "markdown",
   "metadata": {},
   "source": [
    "### Hull White Model"
   ]
  },
  {
   "cell_type": "markdown",
   "metadata": {},
   "source": [
    "Set the model parameters"
   ]
  },
  {
   "cell_type": "code",
   "execution_count": 18,
   "metadata": {},
   "outputs": [],
   "source": [
    "sigma = 0.01\n",
    "a = 0.1\n",
    "hwModel = FinModelRatesHW(sigma, a)"
   ]
  },
  {
   "cell_type": "code",
   "execution_count": 19,
   "metadata": {},
   "outputs": [],
   "source": [
    "strikes = [80, 85, 90, 95, 100, 105, 110, 115, 120]"
   ]
  },
  {
   "cell_type": "code",
   "execution_count": 21,
   "metadata": {},
   "outputs": [
    {
     "name": "stdout",
     "output_type": "stream",
     "text": [
      "K:  80.00000 EUR_CALL:  19.89612  AMER_CALL:  17.63615  EUR_PUT:   0.00000  AMER_PUT:   0.00004\n",
      "K:  85.00000 EUR_CALL:  15.37426  AMER_CALL:  13.11658  EUR_PUT:   0.00038  AMER_PUT:   0.00286\n",
      "K:  90.00000 EUR_CALL:  10.86723  AMER_CALL:   8.65695  EUR_PUT:   0.01557  AMER_PUT:   0.06563\n",
      "K:  95.00000 EUR_CALL:   6.53916  AMER_CALL:   4.62085  EUR_PUT:   0.20971  AMER_PUT:   0.55192\n",
      "K: 100.00000 EUR_CALL:   3.00407  AMER_CALL:   1.78335  EUR_PUT:   1.19682  AMER_PUT:   2.23682\n",
      "K: 105.00000 EUR_CALL:   0.95026  AMER_CALL:   0.45917  EUR_PUT:   3.66520  AMER_PUT:   5.43503\n",
      "K: 110.00000 EUR_CALL:   0.19574  AMER_CALL:   0.07556  EUR_PUT:   7.43286  AMER_PUT:   9.57382\n",
      "K: 115.00000 EUR_CALL:   0.02606  AMER_CALL:   0.00815  EUR_PUT:  11.78535  AMER_PUT:  14.02881\n",
      "K: 120.00000 EUR_CALL:   0.00229  AMER_CALL:   0.00060  EUR_PUT:  16.28374  AMER_PUT:  18.54365\n"
     ]
    }
   ],
   "source": [
    "for K in strikes:\n",
    "    europeanCallBondOption = FinBondOption(bond, expiryDate, K, face, FinOptionTypes.EUROPEAN_CALL)\n",
    "    v_ec = europeanCallBondOption.value(settlementDate, discountCurve, hwModel)\n",
    "    americanCallBondOption = FinBondOption(bond, expiryDate, K, face, FinOptionTypes.AMERICAN_CALL)\n",
    "    v_ac = americanCallBondOption.value(settlementDate, discountCurve, hwModel)\n",
    "    europeanPutBondOption = FinBondOption(bond, expiryDate, K, face, FinOptionTypes.EUROPEAN_PUT)\n",
    "    v_ep = europeanPutBondOption.value(settlementDate, discountCurve, hwModel)\n",
    "    americanPutBondOption = FinBondOption(bond, expiryDate, K, face, FinOptionTypes.AMERICAN_PUT)\n",
    "    v_ap = americanPutBondOption.value(settlementDate, discountCurve, hwModel)\n",
    "    \n",
    "    print(\"K: %9.5f EUR_CALL: %9.5f  AMER_CALL: %9.5f  EUR_PUT: %9.5f  AMER_PUT: %9.5f\" %(K, v_ec, v_ac, v_ep, v_ap))"
   ]
  },
  {
   "cell_type": "markdown",
   "metadata": {},
   "source": [
    "## Convergence Testing - Hull White"
   ]
  },
  {
   "cell_type": "markdown",
   "metadata": {},
   "source": [
    "It is important that the tree price is stable to the number of tree steps. This can be a challenge when pricing American optionality on bonds due to the payment of coupons and the effect of accrued interest on the clean bond price."
   ]
  },
  {
   "cell_type": "code",
   "execution_count": 23,
   "metadata": {},
   "outputs": [],
   "source": [
    "discountCurve = FinDiscountCurveFlat(settlementDate, 0.05)"
   ]
  },
  {
   "cell_type": "code",
   "execution_count": 35,
   "metadata": {},
   "outputs": [],
   "source": [
    "maturityDate = FinDate(1, 9, 2025)\n",
    "coupon = 0.05\n",
    "frequencyType = FinFrequencyTypes.ANNUAL\n",
    "accrualType = FinDayCountTypes.ACT_ACT_ICMA\n",
    "bond = FinBond(maturityDate, coupon, frequencyType, accrualType)\n",
    "expiryDate = settlementDate.addTenor(\"18m\")\n",
    "face = 100.0"
   ]
  },
  {
   "cell_type": "code",
   "execution_count": 36,
   "metadata": {},
   "outputs": [],
   "source": [
    "numStepsVector = range(50,1000,10)"
   ]
  },
  {
   "cell_type": "code",
   "execution_count": 64,
   "metadata": {},
   "outputs": [],
   "source": [
    "sigma = 0.00001\n",
    "a = 0.1"
   ]
  },
  {
   "cell_type": "code",
   "execution_count": 65,
   "metadata": {},
   "outputs": [],
   "source": [
    "K = 102.0"
   ]
  },
  {
   "cell_type": "code",
   "execution_count": 66,
   "metadata": {
    "scrolled": false
   },
   "outputs": [],
   "source": [
    "vec_ec = []\n",
    "vec_ac = []\n",
    "vec_ep = []\n",
    "vec_ap = []\n",
    "\n",
    "for numSteps in numStepsVector:\n",
    "    \n",
    "    hwModel = FinModelRatesHW(sigma, a, numSteps)\n",
    "    \n",
    "    europeanCallBondOption = FinBondOption(bond, expiryDate, K, face, FinOptionTypes.EUROPEAN_CALL)\n",
    "    v_ec = europeanCallBondOption.value(settlementDate, discountCurve, hwModel)\n",
    "\n",
    "    americanCallBondOption = FinBondOption(bond, expiryDate, K, face, FinOptionTypes.AMERICAN_CALL)\n",
    "    v_ac = americanCallBondOption.value(settlementDate, discountCurve, hwModel)\n",
    "    \n",
    "    europeanPutBondOption = FinBondOption(bond, expiryDate, K, face, FinOptionTypes.EUROPEAN_PUT)\n",
    "    v_ep = europeanPutBondOption.value(settlementDate, discountCurve, hwModel)\n",
    "    \n",
    "    americanPutBondOption = FinBondOption(bond, expiryDate, K, face, FinOptionTypes.AMERICAN_PUT)\n",
    "    v_ap = americanPutBondOption.value(settlementDate, discountCurve, hwModel)\n",
    "    \n",
    "    vec_ec.append(v_ec)\n",
    "    vec_ac.append(v_ac)\n",
    "    vec_ep.append(v_ep)\n",
    "    vec_ap.append(v_ap)"
   ]
  },
  {
   "cell_type": "code",
   "execution_count": 67,
   "metadata": {},
   "outputs": [
    {
     "data": {
      "image/png": "[encoded data removed]",
      "text/plain": [
       "<Figure size 432x288 with 1 Axes>"
      ]
     },
     "metadata": {
      "needs_background": "light"
     },
     "output_type": "display_data"
    }
   ],
   "source": [
    "plt.plot(numStepsVector,vec_ec, label=\"European Bond Call\")\n",
    "plt.legend();"
   ]
  },
  {
   "cell_type": "code",
   "execution_count": 68,
   "metadata": {},
   "outputs": [
    {
     "data": {
      "image/png": "[encoded data removed]",
      "text/plain": [
       "<Figure size 432x288 with 1 Axes>"
      ]
     },
     "metadata": {
      "needs_background": "light"
     },
     "output_type": "display_data"
    }
   ],
   "source": [
    "plt.plot(numStepsVector,vec_ac, label=\"American Bond Call\")\n",
    "plt.legend();"
   ]
  },
  {
   "cell_type": "code",
   "execution_count": 69,
   "metadata": {},
   "outputs": [
    {
     "data": {
      "image/png": "[encoded data removed]",
      "text/plain": [
       "<Figure size 432x288 with 1 Axes>"
      ]
     },
     "metadata": {
      "needs_background": "light"
     },
     "output_type": "display_data"
    }
   ],
   "source": [
    "plt.plot(numStepsVector,vec_ep, label=\"European Bond Put\")\n",
    "plt.legend();"
   ]
  },
  {
   "cell_type": "code",
   "execution_count": 70,
   "metadata": {},
   "outputs": [
    {
     "data": {
      "image/png": "[encoded data removed]",
      "text/plain": [
       "<Figure size 432x288 with 1 Axes>"
      ]
     },
     "metadata": {
      "needs_background": "light"
     },
     "output_type": "display_data"
    }
   ],
   "source": [
    "plt.plot(numStepsVector,vec_ap, label=\"American Bond Put\")\n",
    "plt.legend();"
   ]
  },
  {
   "cell_type": "markdown",
   "metadata": {},
   "source": [
    "Convergence is good. "
   ]
  },
  {
   "cell_type": "markdown",
   "metadata": {},
   "source": [
    "Copyright (c) Dominic O'Kane 2020"
   ]
  }
 ],
 "metadata": {
  "kernelspec": {
   "display_name": "Python 3",
   "language": "python",
   "name": "python3"
  },
  "language_info": {
   "codemirror_mode": {
    "name": "ipython",
    "version": 3
   },
   "file_extension": ".py",
   "mimetype": "text/x-python",
   "name": "python",
   "nbconvert_exporter": "python",
   "pygments_lexer": "ipython3",
   "version": "3.7.6"
  }
 },
 "nbformat": 4,
 "nbformat_minor": 2
}
