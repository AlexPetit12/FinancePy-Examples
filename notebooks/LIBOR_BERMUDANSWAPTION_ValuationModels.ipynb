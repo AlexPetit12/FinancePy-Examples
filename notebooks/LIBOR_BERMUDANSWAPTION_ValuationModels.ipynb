{
 "cells": [
  {
   "cell_type": "markdown",
   "metadata": {},
   "source": [
    "# Bermudan Swaption Pricing using HW, BK and BDT Models"
   ]
  },
  {
   "cell_type": "markdown",
   "metadata": {},
   "source": [
    "Value a Bermudan Swaption using the Hull-White, Black-Derman-Toy and Black-Karasinski models"
   ]
  },
  {
   "cell_type": "code",
   "execution_count": 1,
   "metadata": {},
   "outputs": [],
   "source": [
    "import numpy as np\n",
    "import matplotlib.pyplot as plt"
   ]
  },
  {
   "cell_type": "code",
   "execution_count": 2,
   "metadata": {},
   "outputs": [
    {
     "name": "stdout",
     "output_type": "stream",
     "text": [
      "###################################################################\n",
      "#   WELCOME TO FINANCEPY BETA VERSION 0.171 UNDER DEVELOPMENT      #\n",
      "# FinancePy it is distributed FREE & WITHOUT ANY WARRANTY AND     #\n",
      "# MERCHANTABILITY or FITNESS FOR A PARTICULAR PURPOSE. For more   #\n",
      "# details see the repo at https://github.com/domokane/FinancePy   #\n",
      "###################################################################\n",
      "\n"
     ]
    }
   ],
   "source": [
    "from financepy.finutils import *\n",
    "from financepy.products.libor import *\n",
    "\n",
    "from financepy.market.curves.FinDiscountCurve import FinDiscountCurve\n",
    "from financepy.market.curves.FinDiscountCurveFlat import FinDiscountCurveFlat\n",
    "\n",
    "from financepy.models.FinModelRatesHW import FinModelRatesHW\n",
    "from financepy.models.FinModelRatesBK import FinModelRatesBK\n",
    "from financepy.models.FinModelRatesBDT import FinModelRatesBDT"
   ]
  },
  {
   "cell_type": "markdown",
   "metadata": {},
   "source": [
    "## Discount Curve"
   ]
  },
  {
   "cell_type": "code",
   "execution_count": 3,
   "metadata": {},
   "outputs": [],
   "source": [
    "valuationDate = FinDate(1, 1, 2020)\n",
    "settlementDate = valuationDate"
   ]
  },
  {
   "cell_type": "markdown",
   "metadata": {},
   "source": [
    "Set up flat discount curve at 6% (semi-annual compounding)"
   ]
  },
  {
   "cell_type": "code",
   "execution_count": 4,
   "metadata": {},
   "outputs": [],
   "source": [
    "discountCurve = FinDiscountCurveFlat(settlementDate, 0.04, FinFrequencyTypes.SEMI_ANNUAL)"
   ]
  },
  {
   "cell_type": "markdown",
   "metadata": {},
   "source": [
    "# European Swaptions"
   ]
  },
  {
   "cell_type": "markdown",
   "metadata": {},
   "source": [
    "We begin with European swaptions. European swaptions can be set up directly as European Swaptions or as Bermudan swaptions with an exercise type of EUROPEAN"
   ]
  },
  {
   "cell_type": "code",
   "execution_count": 5,
   "metadata": {},
   "outputs": [],
   "source": [
    "exerciseDate = settlementDate.addYears(1)\n",
    "swapMaturityDate = settlementDate.addYears(4)\n",
    "swapFixedCoupon = 0.06\n",
    "swapFixedFrequencyType = FinFrequencyTypes.SEMI_ANNUAL\n",
    "swapFixedDayCountType = FinDayCountTypes.ACT_365_ISDA"
   ]
  },
  {
   "cell_type": "code",
   "execution_count": 6,
   "metadata": {},
   "outputs": [],
   "source": [
    "europeanSwaptionPay = FinLiborBermudanSwaption(settlementDate,\n",
    "                                               exerciseDate,\n",
    "                                               swapMaturityDate,\n",
    "                                               FinLiborSwaptionTypes.PAYER,\n",
    "                                               FinOptionExerciseTypes.EUROPEAN,\n",
    "                                               swapFixedCoupon,\n",
    "                                               swapFixedFrequencyType,\n",
    "                                               swapFixedDayCountType)"
   ]
  },
  {
   "cell_type": "code",
   "execution_count": 7,
   "metadata": {},
   "outputs": [],
   "source": [
    "europeanSwaptionRec = FinLiborBermudanSwaption(settlementDate,\n",
    "                                               exerciseDate,\n",
    "                                               swapMaturityDate,\n",
    "                                               FinLiborSwaptionTypes.RECEIVER,\n",
    "                                               FinOptionExerciseTypes.EUROPEAN,\n",
    "                                               swapFixedCoupon,\n",
    "                                               swapFixedFrequencyType,\n",
    "                                               swapFixedDayCountType)"
   ]
  },
  {
   "cell_type": "markdown",
   "metadata": {},
   "source": [
    "## Valuation using BDT Model"
   ]
  },
  {
   "cell_type": "code",
   "execution_count": 8,
   "metadata": {},
   "outputs": [],
   "source": [
    "sigma = 0.2012\n",
    "numTimeSteps = 500"
   ]
  },
  {
   "cell_type": "code",
   "execution_count": 9,
   "metadata": {},
   "outputs": [],
   "source": [
    "modelBDT = FinModelRatesBDT(sigma, numTimeSteps)"
   ]
  },
  {
   "cell_type": "code",
   "execution_count": 10,
   "metadata": {},
   "outputs": [
    {
     "name": "stdout",
     "output_type": "stream",
     "text": [
      "EUROPEAN BK PAY Value: 223.67682818569136\n"
     ]
    }
   ],
   "source": [
    "value = europeanSwaptionPay.value(valuationDate, discountCurve, modelBDT)\n",
    "print(\"EUROPEAN BK PAY Value:\", value)"
   ]
  },
  {
   "cell_type": "code",
   "execution_count": 11,
   "metadata": {},
   "outputs": [
    {
     "name": "stdout",
     "output_type": "stream",
     "text": [
      "EUROPEAN BK REC Value: 54054.64155262782\n"
     ]
    }
   ],
   "source": [
    "value = europeanSwaptionRec.value(valuationDate, discountCurve, modelBDT)\n",
    "print(\"EUROPEAN BK REC Value:\", value)"
   ]
  },
  {
   "cell_type": "code",
   "execution_count": 12,
   "metadata": {},
   "outputs": [
    {
     "name": "stdout",
     "output_type": "stream",
     "text": [
      "EXERCISE DATE: FRI 1 JAN 2021\n",
      "MATURITY DATE: MON 1 JAN 2024\n",
      "SWAPTION TYPE: FinLiborSwaptionTypes.PAYER\n",
      "EXERCISE TYPE: FinOptionExerciseTypes.EUROPEAN\n",
      "FIXED COUPON: 0.06\n",
      "FIXED FREQUENCY: FinFrequencyTypes.SEMI_ANNUAL\n",
      "FIXED DAYCOUNT TYPE: FinDayCountTypes.ACT_365_ISDA\n",
      "FLOAT FREQUENCY: FinFrequencyTypes.QUARTERLY\n",
      "FLOAT DAYCOUNT TYPE: FinDayCountTypes.THIRTY_360\n",
      "NOTIONAL: 1000000\n",
      "\n"
     ]
    }
   ],
   "source": [
    "print(europeanSwaptionPay)"
   ]
  },
  {
   "cell_type": "markdown",
   "metadata": {},
   "source": [
    "# Bermudan Swaptions"
   ]
  },
  {
   "cell_type": "markdown",
   "metadata": {},
   "source": [
    "This swaption can be exercised starting in one year and the underlying swap matures in 4 years"
   ]
  },
  {
   "cell_type": "code",
   "execution_count": 13,
   "metadata": {},
   "outputs": [],
   "source": [
    "exerciseDate = settlementDate.addYears(1)\n",
    "swapMaturityDate = settlementDate.addYears(4)\n",
    "swapFixedCoupon = 0.060"
   ]
  },
  {
   "cell_type": "code",
   "execution_count": 14,
   "metadata": {},
   "outputs": [],
   "source": [
    "swapFixedFrequencyType = FinFrequencyTypes.SEMI_ANNUAL\n",
    "swapFixedDayCountType = FinDayCountTypes.THIRTY_E_360_ISDA"
   ]
  },
  {
   "cell_type": "markdown",
   "metadata": {},
   "source": [
    "The swaption is Bermudan so it can only be exercised on coupon payment dates"
   ]
  },
  {
   "cell_type": "markdown",
   "metadata": {},
   "source": [
    "Create a payer swaption first"
   ]
  },
  {
   "cell_type": "code",
   "execution_count": 15,
   "metadata": {},
   "outputs": [],
   "source": [
    "bermudanSwaptionPay = FinLiborBermudanSwaption(settlementDate,\n",
    "                                               exerciseDate,\n",
    "                                               swapMaturityDate,\n",
    "                                               FinLiborSwaptionTypes.PAYER,\n",
    "                                               FinOptionExerciseTypes.BERMUDAN,\n",
    "                                               swapFixedCoupon,\n",
    "                                               swapFixedFrequencyType,\n",
    "                                               swapFixedDayCountType)"
   ]
  },
  {
   "cell_type": "markdown",
   "metadata": {},
   "source": [
    "Create a receiver swaption"
   ]
  },
  {
   "cell_type": "code",
   "execution_count": 16,
   "metadata": {},
   "outputs": [],
   "source": [
    "bermudanSwaptionRec = FinLiborBermudanSwaption(settlementDate,\n",
    "                                               exerciseDate,\n",
    "                                               swapMaturityDate,\n",
    "                                               FinLiborSwaptionTypes.RECEIVER,\n",
    "                                               FinOptionExerciseTypes.BERMUDAN,\n",
    "                                               swapFixedCoupon,\n",
    "                                               swapFixedFrequencyType,\n",
    "                                               swapFixedDayCountType)"
   ]
  },
  {
   "cell_type": "markdown",
   "metadata": {},
   "source": [
    "## Valuation using the BK Model"
   ]
  },
  {
   "cell_type": "code",
   "execution_count": 17,
   "metadata": {},
   "outputs": [],
   "source": [
    "sigma = 0.2012\n",
    "a = 0.02\n",
    "numTimeSteps = 400"
   ]
  },
  {
   "cell_type": "code",
   "execution_count": 18,
   "metadata": {},
   "outputs": [],
   "source": [
    "modelBK = FinModelRatesBK(sigma, a, numTimeSteps)"
   ]
  },
  {
   "cell_type": "markdown",
   "metadata": {},
   "source": [
    "Now specify the put and call dates"
   ]
  },
  {
   "cell_type": "code",
   "execution_count": 19,
   "metadata": {},
   "outputs": [
    {
     "name": "stdout",
     "output_type": "stream",
     "text": [
      "Bermudan BK PAY Value: 1337.0530027720947\n"
     ]
    }
   ],
   "source": [
    "value = bermudanSwaptionPay.value(valuationDate, discountCurve, modelBK)\n",
    "print(\"Bermudan BK PAY Value:\", value)"
   ]
  },
  {
   "cell_type": "code",
   "execution_count": 20,
   "metadata": {},
   "outputs": [
    {
     "name": "stdout",
     "output_type": "stream",
     "text": [
      "Bermudan BK REC Value: 45177.61607975585\n"
     ]
    }
   ],
   "source": [
    "value = bermudanSwaptionRec.value(valuationDate, discountCurve, modelBK)\n",
    "print(\"Bermudan BK REC Value:\", value)"
   ]
  },
  {
   "cell_type": "markdown",
   "metadata": {},
   "source": [
    "## Valuation using the BDT Model"
   ]
  },
  {
   "cell_type": "code",
   "execution_count": 21,
   "metadata": {},
   "outputs": [],
   "source": [
    "sigma = 0.2012\n",
    "numTimeSteps = 500"
   ]
  },
  {
   "cell_type": "code",
   "execution_count": 22,
   "metadata": {},
   "outputs": [],
   "source": [
    "modelBDT = FinModelRatesBDT(sigma, numTimeSteps)"
   ]
  },
  {
   "cell_type": "code",
   "execution_count": 23,
   "metadata": {},
   "outputs": [
    {
     "name": "stdout",
     "output_type": "stream",
     "text": [
      "Bermudan BDT PAY Value: 1516.668955451756\n"
     ]
    }
   ],
   "source": [
    "value = bermudanSwaptionPay.value(valuationDate, discountCurve, modelBDT)\n",
    "print(\"Bermudan BDT PAY Value:\", value)"
   ]
  },
  {
   "cell_type": "code",
   "execution_count": 24,
   "metadata": {},
   "outputs": [
    {
     "name": "stdout",
     "output_type": "stream",
     "text": [
      "Bermudan BDT REC Value: 54413.92082591884\n"
     ]
    }
   ],
   "source": [
    "value = bermudanSwaptionRec.value(valuationDate, discountCurve, modelBDT)\n",
    "print(\"Bermudan BDT REC Value:\", value)"
   ]
  },
  {
   "cell_type": "code",
   "execution_count": 25,
   "metadata": {},
   "outputs": [
    {
     "name": "stdout",
     "output_type": "stream",
     "text": [
      "EXERCISE DATE: FRI 1 JAN 2021\n",
      "MATURITY DATE: MON 1 JAN 2024\n",
      "SWAPTION TYPE: FinLiborSwaptionTypes.PAYER\n",
      "EXERCISE TYPE: FinOptionExerciseTypes.BERMUDAN\n",
      "FIXED COUPON: 0.06\n",
      "FIXED FREQUENCY: FinFrequencyTypes.SEMI_ANNUAL\n",
      "FIXED DAYCOUNT TYPE: FinDayCountTypes.THIRTY_E_360_ISDA\n",
      "FLOAT FREQUENCY: FinFrequencyTypes.QUARTERLY\n",
      "FLOAT DAYCOUNT TYPE: FinDayCountTypes.THIRTY_360\n",
      "NOTIONAL: 1000000\n",
      "\n"
     ]
    }
   ],
   "source": [
    "print(bermudanSwaptionPay)"
   ]
  },
  {
   "cell_type": "markdown",
   "metadata": {},
   "source": [
    "## Valuation using the HW Model"
   ]
  },
  {
   "cell_type": "code",
   "execution_count": 26,
   "metadata": {},
   "outputs": [],
   "source": [
    "sigma = 0.01  # basis point volatility\n",
    "a = 0.01\n",
    "numTimeSteps = 100"
   ]
  },
  {
   "cell_type": "code",
   "execution_count": 27,
   "metadata": {},
   "outputs": [],
   "source": [
    "modelHW = FinModelRatesHW(a, sigma, numTimeSteps)"
   ]
  },
  {
   "cell_type": "code",
   "execution_count": 28,
   "metadata": {},
   "outputs": [
    {
     "name": "stdout",
     "output_type": "stream",
     "text": [
      "Bermudan HW PAY Value: 1610.7615683580825\n"
     ]
    }
   ],
   "source": [
    "value = bermudanSwaptionPay.value(valuationDate, discountCurve, modelHW)\n",
    "print(\"Bermudan HW PAY Value:\", value)"
   ]
  },
  {
   "cell_type": "code",
   "execution_count": 29,
   "metadata": {},
   "outputs": [
    {
     "name": "stdout",
     "output_type": "stream",
     "text": [
      "Bermudan HW REC Value: 54277.89561156017\n"
     ]
    }
   ],
   "source": [
    "value = bermudanSwaptionRec.value(valuationDate, discountCurve, modelHW)\n",
    "print(\"Bermudan HW REC Value:\", value)"
   ]
  },
  {
   "cell_type": "markdown",
   "metadata": {},
   "source": [
    "# Convergence Testing"
   ]
  },
  {
   "cell_type": "markdown",
   "metadata": {},
   "source": [
    "## BK Model"
   ]
  },
  {
   "cell_type": "code",
   "execution_count": 30,
   "metadata": {},
   "outputs": [
    {
     "data": {
      "image/png": "[encoded data removed]",
      "text/plain": [
       "<Figure size 432x288 with 1 Axes>"
      ]
     },
     "metadata": {
      "needs_background": "light"
     },
     "output_type": "display_data"
    }
   ],
   "source": [
    "sigma = 0.2012\n",
    "a = 0.04\n",
    "\n",
    "timeSteps = range(100,500,1)\n",
    "values = []\n",
    "for numTimeSteps in timeSteps:\n",
    "    modelBK = FinModelRatesBK(sigma, a, numTimeSteps)\n",
    "    v = bermudanSwaptionPay.value(valuationDate, discountCurve, modelBK)\n",
    "    values.append(v)\n",
    "\n",
    "plt.plot(timeSteps, values);"
   ]
  },
  {
   "cell_type": "markdown",
   "metadata": {},
   "source": [
    "## BDT Model"
   ]
  },
  {
   "cell_type": "code",
   "execution_count": 31,
   "metadata": {},
   "outputs": [
    {
     "data": {
      "image/png": "[encoded data removed]",
      "text/plain": [
       "<Figure size 432x288 with 1 Axes>"
      ]
     },
     "metadata": {
      "needs_background": "light"
     },
     "output_type": "display_data"
    }
   ],
   "source": [
    "sigma = 0.2012\n",
    "\n",
    "timeSteps = range(100,500,1)\n",
    "values = []\n",
    "for numTimeSteps in timeSteps:\n",
    "    modelBDT = FinModelRatesBDT(sigma, numTimeSteps)\n",
    "    v = bermudanSwaptionPay.value(settlementDate, discountCurve, modelBDT)\n",
    "    values.append(v)\n",
    "    \n",
    "plt.plot(timeSteps, values);"
   ]
  },
  {
   "cell_type": "markdown",
   "metadata": {},
   "source": [
    "## HW Model"
   ]
  },
  {
   "cell_type": "code",
   "execution_count": 32,
   "metadata": {},
   "outputs": [
    {
     "data": {
      "image/png": "[encoded data removed]",
      "text/plain": [
       "<Figure size 432x288 with 1 Axes>"
      ]
     },
     "metadata": {
      "needs_background": "light"
     },
     "output_type": "display_data"
    }
   ],
   "source": [
    "sigma = 0.01  # basis point volatility\n",
    "a = 0.01\n",
    "timeSteps = range(100,500,1)\n",
    "values = []\n",
    "\n",
    "for numTimeSteps in timeSteps:\n",
    "    modelHW = FinModelRatesHW(a, sigma, numTimeSteps)\n",
    "    v = bermudanSwaptionPay.value(settlementDate, discountCurve, modelHW)\n",
    "    values.append(v)\n",
    "    \n",
    "plt.plot(timeSteps, values);"
   ]
  },
  {
   "cell_type": "markdown",
   "metadata": {},
   "source": [
    "In all 3 cases there is something happening at 300 time steps that needs investigation"
   ]
  },
  {
   "cell_type": "markdown",
   "metadata": {},
   "source": [
    "Copyright (c) 2020 Dominic O'Kane"
   ]
  }
 ],
 "metadata": {
  "kernelspec": {
   "display_name": "Python 3",
   "language": "python",
   "name": "python3"
  },
  "language_info": {
   "codemirror_mode": {
    "name": "ipython",
    "version": 3
   },
   "file_extension": ".py",
   "mimetype": "text/x-python",
   "name": "python",
   "nbconvert_exporter": "python",
   "pygments_lexer": "ipython3",
   "version": "3.7.6"
  }
 },
 "nbformat": 4,
 "nbformat_minor": 2
}
