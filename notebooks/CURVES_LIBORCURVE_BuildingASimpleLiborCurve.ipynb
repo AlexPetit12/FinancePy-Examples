{
 "cells": [
  {
   "cell_type": "markdown",
   "metadata": {},
   "source": [
    "# Building a Simple Libor Curve"
   ]
  },
  {
   "cell_type": "code",
   "execution_count": 1,
   "metadata": {},
   "outputs": [],
   "source": [
    "# This program is distributed in the hope that it will be useful, but WITHOUT\n",
    "# ANY WARRANTY; without even the implied warranty of MERCHANTABILITY or FITNESS\n",
    "# FOR A PARTICULAR PURPOSE.  See the license for more details."
   ]
  },
  {
   "cell_type": "markdown",
   "metadata": {},
   "source": [
    "Simple Libor curve that can be used in other notebooks"
   ]
  },
  {
   "cell_type": "code",
   "execution_count": 2,
   "metadata": {},
   "outputs": [],
   "source": [
    "import numpy as np\n",
    "import matplotlib.pyplot as plt"
   ]
  },
  {
   "cell_type": "code",
   "execution_count": 3,
   "metadata": {},
   "outputs": [],
   "source": [
    "from financepy.finutils import *\n",
    "from financepy.market.curves.FinLiborCurve import FinLiborCurve\n",
    "from financepy.products.libor import *"
   ]
  },
  {
   "cell_type": "code",
   "execution_count": 4,
   "metadata": {},
   "outputs": [],
   "source": [
    "valuationDate = FinDate(18, 9, 2019)"
   ]
  },
  {
   "cell_type": "markdown",
   "metadata": {},
   "source": [
    "## Building the Curve"
   ]
  },
  {
   "cell_type": "code",
   "execution_count": 5,
   "metadata": {},
   "outputs": [],
   "source": [
    "depoDCCType = FinDayCountTypes.THIRTY_E_360_ISDA\n",
    "depos = []\n",
    "spotDays = 2\n",
    "settlementDate = valuationDate.addWorkDays(spotDays)\n",
    "\n",
    "depo = FinLiborDeposit(settlementDate, \"1M\", 0.0200, depoDCCType); depos.append(depo)\n",
    "depo = FinLiborDeposit(settlementDate, \"3M\", 0.0230, depoDCCType); depos.append(depo)\n",
    "depo = FinLiborDeposit(settlementDate, \"6M\", 0.0250, depoDCCType); depos.append(depo)\n",
    "depo = FinLiborDeposit(settlementDate, \"9M\", 0.0280, depoDCCType); depos.append(depo)\n",
    "depo = FinLiborDeposit(settlementDate, \"12M\", 0.0310, depoDCCType); depos.append(depo)\n",
    "\n",
    "swaps = []\n",
    "fixedDCCType = FinDayCountTypes.ACT_365_ISDA\n",
    "fixedFreqType = FinFrequencyTypes.SEMI_ANNUAL\n",
    "\n",
    "swap = FinLiborSwap(settlementDate, \"2Y\", 0.0320, fixedFreqType, fixedDCCType); swaps.append(swap)\n",
    "swap = FinLiborSwap(settlementDate, \"3Y\", 0.0350, fixedFreqType, fixedDCCType); swaps.append(swap)\n",
    "swap = FinLiborSwap(settlementDate, \"4Y\", 0.0375, fixedFreqType, fixedDCCType); swaps.append(swap)\n",
    "swap = FinLiborSwap(settlementDate, \"5Y\", 0.0400, fixedFreqType, fixedDCCType); swaps.append(swap)\n",
    "swap = FinLiborSwap(settlementDate, \"7Y\", 0.0420, fixedFreqType, fixedDCCType); swaps.append(swap)\n",
    "swap = FinLiborSwap(settlementDate, \"10Y\", 0.0410, fixedFreqType, fixedDCCType); swaps.append(swap)\n",
    "\n",
    "liborCurve = FinLiborCurve(\"USD_LIBOR\", settlementDate, depos, [], swaps)"
   ]
  },
  {
   "cell_type": "code",
   "execution_count": 6,
   "metadata": {},
   "outputs": [
    {
     "name": "stdout",
     "output_type": "stream",
     "text": [
      "TIME: DISCOUNT FACTOR\n",
      "0.0: 1.0\n",
      "0.08487523340689186: 0.9982807387277467\n",
      "0.24914987871055355: 0.9942828734775044\n",
      "0.4982997574211071: 0.9876543209876544\n",
      "0.7556633683968437: 0.9792827298050139\n",
      "1.0048132471073972: 0.969851100915701\n",
      "2.0014127619496116: 0.9384002289041742\n",
      "3.0007501875468865: 0.9007723363427709\n",
      "4.000087613144162: 0.8610276955707579\n",
      "5.002162949496498: 0.8185748083719585\n",
      "7.00357571144611: 0.7446096082611926\n",
      "10.001587988237935: 0.6649836833935164\n",
      "\n"
     ]
    }
   ],
   "source": [
    "print(liborCurve)"
   ]
  },
  {
   "cell_type": "code",
   "execution_count": null,
   "metadata": {},
   "outputs": [],
   "source": []
  }
 ],
 "metadata": {
  "kernelspec": {
   "display_name": "Python 3",
   "language": "python",
   "name": "python3"
  },
  "language_info": {
   "codemirror_mode": {
    "name": "ipython",
    "version": 3
   },
   "file_extension": ".py",
   "mimetype": "text/x-python",
   "name": "python",
   "nbconvert_exporter": "python",
   "pygments_lexer": "ipython3",
   "version": "3.7.7"
  }
 },
 "nbformat": 4,
 "nbformat_minor": 4
}
