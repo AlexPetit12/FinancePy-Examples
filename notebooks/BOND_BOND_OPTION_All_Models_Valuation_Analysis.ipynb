{
 "cells": [
  {
   "cell_type": "markdown",
   "metadata": {},
   "source": [
    "# Bond Option Pricing using Various Models"
   ]
  },
  {
   "cell_type": "markdown",
   "metadata": {},
   "source": [
    "Value an option on a coupon paying bond using the Hull-White, Black-Derman-Toy and Black-Karasinski model"
   ]
  },
  {
   "cell_type": "code",
   "execution_count": 72,
   "metadata": {},
   "outputs": [],
   "source": [
    "import numpy as np\n",
    "import matplotlib.pyplot as plt\n",
    "import time"
   ]
  },
  {
   "cell_type": "code",
   "execution_count": 73,
   "metadata": {},
   "outputs": [],
   "source": [
    "from financepy.finutils import *\n",
    "from financepy.market.curves import *\n",
    "from financepy.models import FinModelRatesBK\n",
    "from financepy.models import FinModelRatesBDT\n",
    "from financepy.models import FinModelRatesHW\n",
    "from financepy.products.bonds import *"
   ]
  },
  {
   "cell_type": "markdown",
   "metadata": {},
   "source": [
    "## Set up the Discount Curve"
   ]
  },
  {
   "cell_type": "code",
   "execution_count": 74,
   "metadata": {},
   "outputs": [],
   "source": [
    "settlementDate = FinDate(1, 12, 2019)"
   ]
  },
  {
   "cell_type": "markdown",
   "metadata": {},
   "source": [
    "Set up discount curve"
   ]
  },
  {
   "cell_type": "code",
   "execution_count": 75,
   "metadata": {},
   "outputs": [],
   "source": [
    "rate = 0.10\n",
    "dcType = FinDayCountTypes.THIRTY_360_BOND\n",
    "fixedFreq = FinFrequencyTypes.SEMI_ANNUAL\n",
    "discountCurve = FinDiscountCurveFlat(settlementDate, rate, fixedFreq, dcType)"
   ]
  },
  {
   "cell_type": "markdown",
   "metadata": {},
   "source": [
    "## Set up the Bond Option"
   ]
  },
  {
   "cell_type": "markdown",
   "metadata": {},
   "source": [
    "First create the bond"
   ]
  },
  {
   "cell_type": "code",
   "execution_count": 76,
   "metadata": {},
   "outputs": [],
   "source": [
    "issueDate = FinDate(1,12,2018)\n",
    "maturityDate = issueDate.addTenor(\"3Y\")\n",
    "coupon = 0.10\n",
    "frequencyType = FinFrequencyTypes.SEMI_ANNUAL\n",
    "accrualType = FinDayCountTypes.THIRTY_360_BOND\n",
    "bond = FinBond(issueDate, maturityDate, coupon, frequencyType, accrualType)"
   ]
  },
  {
   "cell_type": "markdown",
   "metadata": {},
   "source": [
    "Let's first price the bond on the libor curve"
   ]
  },
  {
   "cell_type": "code",
   "execution_count": 77,
   "metadata": {},
   "outputs": [
    {
     "name": "stdout",
     "output_type": "stream",
     "text": [
      "Fixed Income Clean Price:   100.000\n",
      "Fixed Income Full  Price:   105.000\n"
     ]
    }
   ],
   "source": [
    "cp = bond.cleanPriceFromDiscountCurve(settlementDate, discountCurve)\n",
    "fp = bond.fullPriceFromDiscountCurve(settlementDate, discountCurve)\n",
    "print(\"Fixed Income Clean Price: %9.3f\"% cp)\n",
    "print(\"Fixed Income Full  Price: %9.3f\"% fp)"
   ]
  },
  {
   "cell_type": "code",
   "execution_count": 78,
   "metadata": {},
   "outputs": [
    {
     "data": {
      "text/plain": [
       "SUN 01 DEC 2019"
      ]
     },
     "execution_count": 78,
     "metadata": {},
     "output_type": "execute_result"
    }
   ],
   "source": [
    "settlementDate"
   ]
  },
  {
   "cell_type": "code",
   "execution_count": 79,
   "metadata": {},
   "outputs": [
    {
     "name": "stdout",
     "output_type": "stream",
     "text": [
      "SUN 01 DEC 2019          5.00 \n",
      "MON 01 JUN 2020          5.00 \n",
      "TUE 01 DEC 2020          5.00 \n",
      "TUE 01 JUN 2021          5.00 \n",
      "WED 01 DEC 2021        105.00 \n"
     ]
    }
   ],
   "source": [
    "bond.printFlows(settlementDate)"
   ]
  },
  {
   "cell_type": "markdown",
   "metadata": {},
   "source": [
    "# Create the Bond Options"
   ]
  },
  {
   "cell_type": "markdown",
   "metadata": {},
   "source": [
    "Then define and create the option"
   ]
  },
  {
   "cell_type": "code",
   "execution_count": 80,
   "metadata": {},
   "outputs": [],
   "source": [
    "expiryDate = settlementDate.addTenor(\"18m\")\n",
    "strikePrice = 95.0\n",
    "faceAmount = 100.0"
   ]
  },
  {
   "cell_type": "code",
   "execution_count": 81,
   "metadata": {},
   "outputs": [],
   "source": [
    "europeanCallBondOption = FinBondOption(bond, expiryDate, strikePrice, faceAmount, FinOptionTypes.EUROPEAN_CALL)\n",
    "americanCallBondOption = FinBondOption(bond, expiryDate, strikePrice, faceAmount, FinOptionTypes.AMERICAN_CALL)"
   ]
  },
  {
   "cell_type": "code",
   "execution_count": 82,
   "metadata": {},
   "outputs": [],
   "source": [
    "europeanPutBondOption = FinBondOption(bond, expiryDate, strikePrice, faceAmount, FinOptionTypes.EUROPEAN_PUT)\n",
    "americanPutBondOption = FinBondOption(bond, expiryDate, strikePrice, faceAmount, FinOptionTypes.AMERICAN_PUT)"
   ]
  },
  {
   "cell_type": "markdown",
   "metadata": {},
   "source": [
    "Consider the forward bond price."
   ]
  },
  {
   "cell_type": "code",
   "execution_count": 83,
   "metadata": {},
   "outputs": [
    {
     "name": "stdout",
     "output_type": "stream",
     "text": [
      "Fixed Income Clean Price:   100.000\n",
      "Fixed Income Full  Price:   105.000\n"
     ]
    }
   ],
   "source": [
    "cp = bond.cleanPriceFromDiscountCurve(expiryDate, discountCurve)\n",
    "fp = bond.fullPriceFromDiscountCurve(expiryDate, discountCurve)\n",
    "print(\"Fixed Income Clean Price: %9.3f\"% cp)\n",
    "print(\"Fixed Income Full  Price: %9.3f\"% fp)"
   ]
  },
  {
   "cell_type": "code",
   "execution_count": 84,
   "metadata": {},
   "outputs": [],
   "source": [
    "df = discountCurve.df(expiryDate)\n",
    "callIntrinsic = max(cp - strikePrice, 0) * df\n",
    "putIntrinsic = max(strikePrice - cp, 0) * df"
   ]
  },
  {
   "cell_type": "code",
   "execution_count": 85,
   "metadata": {},
   "outputs": [
    {
     "data": {
      "text/plain": [
       "4.319187992657368"
      ]
     },
     "execution_count": 85,
     "metadata": {},
     "output_type": "execute_result"
    }
   ],
   "source": [
    "callIntrinsic"
   ]
  },
  {
   "cell_type": "code",
   "execution_count": 86,
   "metadata": {},
   "outputs": [
    {
     "data": {
      "text/plain": [
       "0.0"
      ]
     },
     "execution_count": 86,
     "metadata": {},
     "output_type": "execute_result"
    }
   ],
   "source": [
    "putIntrinsic"
   ]
  },
  {
   "cell_type": "markdown",
   "metadata": {},
   "source": [
    "## Tree Models"
   ]
  },
  {
   "cell_type": "markdown",
   "metadata": {},
   "source": [
    "Set the model parameters, start with zero vol."
   ]
  },
  {
   "cell_type": "code",
   "execution_count": 87,
   "metadata": {},
   "outputs": [],
   "source": [
    "numSteps = 200"
   ]
  },
  {
   "cell_type": "code",
   "execution_count": 88,
   "metadata": {},
   "outputs": [],
   "source": [
    "sigma = 0.00001\n",
    "a = 0.1\n",
    "modelHW = FinModelRatesHW(sigma*rate, a, numSteps)\n",
    "modelBK = FinModelRatesBK(sigma, a, numSteps)\n",
    "modelBDT = FinModelRatesBDT(sigma, numSteps)"
   ]
  },
  {
   "cell_type": "markdown",
   "metadata": {},
   "source": [
    "Check some limits - the call option should be worth the intrinsic."
   ]
  },
  {
   "cell_type": "code",
   "execution_count": 89,
   "metadata": {},
   "outputs": [
    {
     "name": "stdout",
     "output_type": "stream",
     "text": [
      "European Call Value:   4.31862\n",
      "American Call Value:   4.99399\n"
     ]
    }
   ],
   "source": [
    "ec = europeanCallBondOption.value(settlementDate, discountCurve, modelHW)\n",
    "ac = americanCallBondOption.value(settlementDate, discountCurve, modelHW)\n",
    "print(\"European Call Value: %9.5f\" % ec)\n",
    "print(\"American Call Value: %9.5f\" % ac)"
   ]
  },
  {
   "cell_type": "markdown",
   "metadata": {},
   "source": [
    "The put option too."
   ]
  },
  {
   "cell_type": "code",
   "execution_count": 90,
   "metadata": {},
   "outputs": [
    {
     "name": "stdout",
     "output_type": "stream",
     "text": [
      "European Put Value:   0.00000\n",
      "American Put Value:   0.00000\n"
     ]
    }
   ],
   "source": [
    "ep = europeanPutBondOption.value(settlementDate, discountCurve, modelHW)\n",
    "ap = americanPutBondOption.value(settlementDate, discountCurve, modelHW)\n",
    "print(\"European Put Value: %9.5f\" % ep)\n",
    "print(\"American Put Value: %9.5f\" % ap)"
   ]
  },
  {
   "cell_type": "markdown",
   "metadata": {},
   "source": [
    "Now we turn on the volatility."
   ]
  },
  {
   "cell_type": "code",
   "execution_count": 91,
   "metadata": {},
   "outputs": [],
   "source": [
    "sigma = 0.20\n",
    "a = 0.1\n",
    "modelHW = FinModelRatesHW(sigma*rate, a, numSteps)\n",
    "modelBK = FinModelRatesBK(sigma, a, numSteps)\n",
    "modelBDT = FinModelRatesBDT(sigma, numSteps)"
   ]
  },
  {
   "cell_type": "code",
   "execution_count": 92,
   "metadata": {},
   "outputs": [
    {
     "name": "stdout",
     "output_type": "stream",
     "text": [
      "European Call Value:   4.31863\n",
      "American Call Value:   5.28080\n"
     ]
    }
   ],
   "source": [
    "ec = europeanCallBondOption.value(settlementDate, discountCurve, modelHW)\n",
    "ac = americanCallBondOption.value(settlementDate, discountCurve, modelHW)\n",
    "print(\"European Call Value: %9.5f\" % ec)\n",
    "print(\"American Call Value: %9.5f\" % ac)"
   ]
  },
  {
   "cell_type": "code",
   "execution_count": 93,
   "metadata": {},
   "outputs": [
    {
     "name": "stdout",
     "output_type": "stream",
     "text": [
      "European Put Value:   0.00000\n",
      "American Put Value:   0.00457\n"
     ]
    }
   ],
   "source": [
    "ep = europeanPutBondOption.value(settlementDate, discountCurve, modelHW)\n",
    "ap = americanPutBondOption.value(settlementDate, discountCurve, modelHW)\n",
    "print(\"European Put Value: %9.5f\" % ep)\n",
    "print(\"American Put Value: %9.5f\" % ap)"
   ]
  },
  {
   "cell_type": "markdown",
   "metadata": {},
   "source": [
    "Copyright (c) Dominic O'Kane 2020"
   ]
  }
 ],
 "metadata": {
  "kernelspec": {
   "display_name": "Python 3",
   "language": "python",
   "name": "python3"
  },
  "language_info": {
   "codemirror_mode": {
    "name": "ipython",
    "version": 3
   },
   "file_extension": ".py",
   "mimetype": "text/x-python",
   "name": "python",
   "nbconvert_exporter": "python",
   "pygments_lexer": "ipython3",
   "version": "3.7.6"
  }
 },
 "nbformat": 4,
 "nbformat_minor": 2
}
