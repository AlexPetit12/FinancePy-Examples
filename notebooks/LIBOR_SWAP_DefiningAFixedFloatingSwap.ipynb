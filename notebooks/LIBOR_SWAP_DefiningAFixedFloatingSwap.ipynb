{
 "cells": [
  {
   "cell_type": "markdown",
   "metadata": {},
   "source": [
    "# Defining a Fixed-Floating Interest Rate Swap"
   ]
  },
  {
   "cell_type": "code",
   "execution_count": 23,
   "metadata": {},
   "outputs": [],
   "source": [
    "# This program is distributed in the hope that it will be useful, but WITHOUT ANY WARRANTY; \n",
    "# without even the implied warranty of MERCHANTABILITY or FITNESS FOR A PARTICULAR PURPOSE.  \n",
    "# See the license for more details."
   ]
  },
  {
   "cell_type": "markdown",
   "metadata": {},
   "source": [
    "Simple introduction to the inputs required to define a Libor deposit and a FRA"
   ]
  },
  {
   "cell_type": "code",
   "execution_count": 24,
   "metadata": {},
   "outputs": [],
   "source": [
    "from financepy.finutils.FinDate import FinDate\n",
    "from financepy.finutils.FinDayCount import FinDayCountTypes\n",
    "from financepy.finutils.FinFrequency import FinFrequencyTypes\n",
    "from financepy.finutils.FinCalendar import *\n",
    "from financepy.products.libor.FinLiborSwap import FinLiborSwap\n",
    "from financepy.finutils.FinMath import ONE_MILLION"
   ]
  },
  {
   "cell_type": "markdown",
   "metadata": {},
   "source": [
    "## Creating the Swap"
   ]
  },
  {
   "cell_type": "markdown",
   "metadata": {},
   "source": [
    "We begin by setting the market conventions we wish to use."
   ]
  },
  {
   "cell_type": "code",
   "execution_count": 25,
   "metadata": {},
   "outputs": [],
   "source": [
    "swapCalendarType = FinCalendarTypes.TARGET\n",
    "busDayAdjustType = FinDayAdjustTypes.FOLLOWING\n",
    "dateGenRuleType = FinDateGenRuleTypes.BACKWARD"
   ]
  },
  {
   "cell_type": "markdown",
   "metadata": {},
   "source": [
    "We then define the Fixed Leg"
   ]
  },
  {
   "cell_type": "code",
   "execution_count": 26,
   "metadata": {},
   "outputs": [],
   "source": [
    "fixedCoupon = 0.05\n",
    "fixedFreqType = FinFrequencyTypes.ANNUAL\n",
    "fixedDayCountType = FinDayCountTypes.ACT_360"
   ]
  },
  {
   "cell_type": "markdown",
   "metadata": {},
   "source": [
    "And then we define the Floating Leg"
   ]
  },
  {
   "cell_type": "code",
   "execution_count": 27,
   "metadata": {},
   "outputs": [],
   "source": [
    "floatSpread = 0.0\n",
    "floatFreqType = FinFrequencyTypes.SEMI_ANNUAL\n",
    "floatDayCountType = FinDayCountTypes.ACT_360"
   ]
  },
  {
   "cell_type": "markdown",
   "metadata": {},
   "source": [
    "We need to specify the size and direction of the swap."
   ]
  },
  {
   "cell_type": "code",
   "execution_count": 28,
   "metadata": {},
   "outputs": [],
   "source": [
    "payFixedFlag = False\n",
    "notional = 10 * ONE_MILLION"
   ]
  },
  {
   "cell_type": "markdown",
   "metadata": {},
   "source": [
    "And then we define when the swap begins and ends."
   ]
  },
  {
   "cell_type": "code",
   "execution_count": 29,
   "metadata": {},
   "outputs": [],
   "source": [
    "startDate = FinDate(20, 6, 2018)\n",
    "maturityDate = FinDate(20, 9, 2025)"
   ]
  },
  {
   "cell_type": "markdown",
   "metadata": {},
   "source": [
    "We can now create the swap object."
   ]
  },
  {
   "cell_type": "code",
   "execution_count": 30,
   "metadata": {},
   "outputs": [],
   "source": [
    "swap = FinLiborSwap(startDate,\n",
    "                    maturityDate,\n",
    "                    fixedCoupon,\n",
    "                    fixedFreqType,\n",
    "                    fixedDayCountType,\n",
    "                    notional,\n",
    "                    floatSpread,\n",
    "                    floatFreqType,\n",
    "                    floatDayCountType,\n",
    "                    payFixedFlag,\n",
    "                    swapCalendarType,\n",
    "                    busDayAdjustType,\n",
    "                    dateGenRuleType)"
   ]
  },
  {
   "cell_type": "code",
   "execution_count": 31,
   "metadata": {},
   "outputs": [
    {
     "name": "stdout",
     "output_type": "stream",
     "text": [
      "START DATE: WED 20 JUN 2018\n",
      "MATURITY DATE: SAT 20 SEP 2025\n",
      "NOTIONAL: 10000000\n",
      "PAY FIXED LEG: False\n",
      "FIXED COUPON: 0.05\n",
      "FLOAT SPREAD: 0.0\n",
      "FIXED FREQUENCY: FinFrequencyTypes.ANNUAL\n",
      "FLOAT FREQUENCY: FinFrequencyTypes.SEMI_ANNUAL\n",
      "FIXED DAY COUNT: FinDayCountTypes.ACT_360\n",
      "FLOAT DAY COUNT: FinDayCountTypes.ACT_360\n",
      "PAY FIXED FLAG: False\n",
      "CALENDAR: FinCalendarTypes.TARGET\n",
      "BUS DAY ADJUST: FinDayAdjustTypes.FOLLOWING\n",
      "DATE GEN TYPE: FinDateGenRuleTypes.BACKWARD\n",
      "\n"
     ]
    }
   ],
   "source": [
    "print(swap)"
   ]
  },
  {
   "cell_type": "code",
   "execution_count": 32,
   "metadata": {},
   "outputs": [
    {
     "data": {
      "text/plain": [
       "[THU 20 SEP 2018,\n",
       " FRI 20 SEP 2019,\n",
       " MON 21 SEP 2020,\n",
       " MON 20 SEP 2021,\n",
       " TUE 20 SEP 2022,\n",
       " WED 20 SEP 2023,\n",
       " FRI 20 SEP 2024,\n",
       " MON 22 SEP 2025]"
      ]
     },
     "execution_count": 32,
     "metadata": {},
     "output_type": "execute_result"
    }
   ],
   "source": [
    "swap.fixedDates()"
   ]
  },
  {
   "cell_type": "code",
   "execution_count": 33,
   "metadata": {},
   "outputs": [
    {
     "data": {
      "text/plain": [
       "[THU 20 SEP 2018,\n",
       " WED 20 MAR 2019,\n",
       " FRI 20 SEP 2019,\n",
       " FRI 20 MAR 2020,\n",
       " MON 21 SEP 2020,\n",
       " MON 22 MAR 2021,\n",
       " MON 20 SEP 2021,\n",
       " MON 21 MAR 2022,\n",
       " TUE 20 SEP 2022,\n",
       " MON 20 MAR 2023,\n",
       " WED 20 SEP 2023,\n",
       " WED 20 MAR 2024,\n",
       " FRI 20 SEP 2024,\n",
       " THU 20 MAR 2025,\n",
       " MON 22 SEP 2025]"
      ]
     },
     "execution_count": 33,
     "metadata": {},
     "output_type": "execute_result"
    }
   ],
   "source": [
    "swap.floatDates()"
   ]
  },
  {
   "cell_type": "markdown",
   "metadata": {},
   "source": [
    "## Valuation"
   ]
  },
  {
   "cell_type": "code",
   "execution_count": 34,
   "metadata": {},
   "outputs": [],
   "source": [
    "valuationDate = FinDate(20,3,2020)"
   ]
  },
  {
   "cell_type": "code",
   "execution_count": 35,
   "metadata": {},
   "outputs": [],
   "source": [
    "settlementDate = valuationDate.addWorkDays(0)"
   ]
  },
  {
   "cell_type": "markdown",
   "metadata": {},
   "source": [
    "This is just using a flat curve without any Libor accrual factors."
   ]
  },
  {
   "cell_type": "code",
   "execution_count": 36,
   "metadata": {},
   "outputs": [],
   "source": [
    "from financepy.market.curves.FinFlatCurve import FinFlatCurve"
   ]
  },
  {
   "cell_type": "code",
   "execution_count": 37,
   "metadata": {},
   "outputs": [],
   "source": [
    "discountCurve = FinFlatCurve(valuationDate, 0.05, 2)"
   ]
  },
  {
   "cell_type": "markdown",
   "metadata": {},
   "source": [
    "Need to specify the next fixing on the floating leg"
   ]
  },
  {
   "cell_type": "code",
   "execution_count": 38,
   "metadata": {},
   "outputs": [
    {
     "data": {
      "text/plain": [
       "254422.14362080581"
      ]
     },
     "execution_count": 38,
     "metadata": {},
     "output_type": "execute_result"
    }
   ],
   "source": [
    "swap.value(settlementDate, discountCurve, discountCurve)"
   ]
  },
  {
   "cell_type": "markdown",
   "metadata": {},
   "source": [
    "We can examine the individual legs - here is the floating leg valuation"
   ]
  },
  {
   "cell_type": "code",
   "execution_count": 39,
   "metadata": {},
   "outputs": [
    {
     "name": "stdout",
     "output_type": "stream",
     "text": [
      "START DATE: WED 20 JUN 2018\n",
      "MATURITY DATE: SAT 20 SEP 2025\n",
      "SPREAD COUPON (%): 0.0\n",
      "FLOAT LEG FREQUENCY: FinFrequencyTypes.SEMI_ANNUAL\n",
      "FLOAT LEG DAY COUNT: FinDayCountTypes.ACT_360\n",
      "VALUATION DATE FRI 20 MAR 2020\n",
      "         *** FIRST FLOATING RATE PAYMENT IS IMPLIED ***\n",
      "PAYMENT_DATE     YEAR_FRAC        FLOW         DF         DF*FLOW       CUM_PV\n",
      "FRI 20 MAR 2020  0.5055556         0.00   1.00000000         0.00         0.00\n",
      "MON 21 SEP 2020  0.5138889    253297.64   0.97529598    247040.17    247040.18\n",
      "MON 22 MAR 2021  0.5055556    249139.38   0.95158817    237078.08    484118.26\n",
      "MON 20 SEP 2021  0.5055556    249139.38   0.92845666    231315.11    715433.38\n",
      "MON 21 MAR 2022  0.5055556    249139.38   0.90588744    225692.23    941125.61\n",
      "TUE 20 SEP 2022  0.5083333    250525.28   0.88374733    221401.05   1162526.66\n",
      "MON 20 MAR 2023  0.5027778    247753.66   0.86238152    213658.18   1376184.83\n",
      "WED 20 SEP 2023  0.5111111    251911.37   0.84119096    211905.57   1588090.40\n",
      "WED 20 MAR 2024  0.5055556    249139.38   0.82074302    204479.40   1792569.80\n",
      "FRI 20 SEP 2024  0.5111111    251911.37   0.80057561    201674.10   1994243.90\n",
      "THU 20 MAR 2025  0.5027778    247753.66   0.78122058    193550.26   2187794.16\n",
      "MON 22 SEP 2025  0.5166667    254684.12   0.76181828    194023.02   2381817.18\n"
     ]
    }
   ],
   "source": [
    "swap.printFloatLeg(valuationDate)"
   ]
  },
  {
   "cell_type": "markdown",
   "metadata": {},
   "source": [
    "And here is the fixed leg valuation"
   ]
  },
  {
   "cell_type": "code",
   "execution_count": 40,
   "metadata": {},
   "outputs": [
    {
     "name": "stdout",
     "output_type": "stream",
     "text": [
      "START DATE: WED 20 JUN 2018\n",
      "MATURITY DATE: SAT 20 SEP 2025\n",
      "COUPON (%): 5.0\n",
      "FIXED LEG FREQUENCY: FinFrequencyTypes.ANNUAL\n",
      "FIXED LEG DAY COUNT: FinDayCountTypes.ACT_360\n",
      "VALUATION DATE FRI 20 MAR 2020\n",
      "PAYMENT_DATE     YEAR_FRAC        FLOW         DF         DF*FLOW       CUM_PV\n",
      "MON 21 SEP 2020  1.0194444    509722.22   0.97529598    497130.04    497130.04\n",
      "MON 20 SEP 2021  1.0111111    505555.56   0.92845666    469386.42    966516.46\n",
      "TUE 20 SEP 2022  1.0138889    506944.44   0.88374733    448010.80   1414527.26\n",
      "WED 20 SEP 2023  1.0138889    506944.44   0.84119096    426437.08   1840964.34\n",
      "FRI 20 SEP 2024  1.0166667    508333.33   0.80057561    406959.27   2247923.61\n",
      "MON 22 SEP 2025  1.0194444    509722.22   0.76181828    388315.71   2636239.32\n"
     ]
    }
   ],
   "source": [
    "swap.printFixedLeg(valuationDate)"
   ]
  },
  {
   "cell_type": "code",
   "execution_count": 41,
   "metadata": {},
   "outputs": [
    {
     "data": {
      "text/plain": [
       "5.27247864343998"
      ]
     },
     "execution_count": 41,
     "metadata": {},
     "output_type": "execute_result"
    }
   ],
   "source": [
    "swap.pv01(valuationDate, discountCurve)"
   ]
  },
  {
   "cell_type": "code",
   "execution_count": 42,
   "metadata": {},
   "outputs": [
    {
     "data": {
      "text/plain": [
       "0.04513544595811375"
      ]
     },
     "execution_count": 42,
     "metadata": {},
     "output_type": "execute_result"
    }
   ],
   "source": [
    "swap.parCoupon(valuationDate, discountCurve)"
   ]
  },
  {
   "cell_type": "markdown",
   "metadata": {},
   "source": [
    "## Including a final exchange of principal"
   ]
  },
  {
   "cell_type": "code",
   "execution_count": 43,
   "metadata": {},
   "outputs": [
    {
     "data": {
      "text/plain": [
       "254422.14362080768"
      ]
     },
     "execution_count": 43,
     "metadata": {},
     "output_type": "execute_result"
    }
   ],
   "source": [
    "swap.value(settlementDate, discountCurve, discountCurve, principal=1.0)"
   ]
  },
  {
   "cell_type": "code",
   "execution_count": 44,
   "metadata": {},
   "outputs": [
    {
     "name": "stdout",
     "output_type": "stream",
     "text": [
      "START DATE: WED 20 JUN 2018\n",
      "MATURITY DATE: SAT 20 SEP 2025\n",
      "SPREAD COUPON (%): 0.0\n",
      "FLOAT LEG FREQUENCY: FinFrequencyTypes.SEMI_ANNUAL\n",
      "FLOAT LEG DAY COUNT: FinDayCountTypes.ACT_360\n",
      "VALUATION DATE FRI 20 MAR 2020\n",
      "         *** FIRST FLOATING RATE PAYMENT IS IMPLIED ***\n",
      "PAYMENT_DATE     YEAR_FRAC        FLOW         DF         DF*FLOW       CUM_PV\n",
      "FRI 20 MAR 2020  0.5055556         0.00   1.00000000         0.00         0.00\n",
      "MON 21 SEP 2020  0.5138889    253297.64   0.97529598    247040.17    247040.18\n",
      "MON 22 MAR 2021  0.5055556    249139.38   0.95158817    237078.08    484118.26\n",
      "MON 20 SEP 2021  0.5055556    249139.38   0.92845666    231315.11    715433.38\n",
      "MON 21 MAR 2022  0.5055556    249139.38   0.90588744    225692.23    941125.61\n",
      "TUE 20 SEP 2022  0.5083333    250525.28   0.88374733    221401.05   1162526.66\n",
      "MON 20 MAR 2023  0.5027778    247753.66   0.86238152    213658.18   1376184.83\n",
      "WED 20 SEP 2023  0.5111111    251911.37   0.84119096    211905.57   1588090.40\n",
      "WED 20 MAR 2024  0.5055556    249139.38   0.82074302    204479.40   1792569.80\n",
      "FRI 20 SEP 2024  0.5111111    251911.37   0.80057561    201674.10   1994243.90\n",
      "THU 20 MAR 2025  0.5027778    247753.66   0.78122058    193550.26   2187794.16\n",
      "MON 22 SEP 2025  0.5166667  10254684.12   0.76181828   7812205.84  10000000.00\n"
     ]
    }
   ],
   "source": [
    "swap.printFloatLeg(valuationDate)"
   ]
  },
  {
   "cell_type": "markdown",
   "metadata": {},
   "source": [
    "As expected we see the final PV is par."
   ]
  },
  {
   "cell_type": "code",
   "execution_count": 22,
   "metadata": {},
   "outputs": [
    {
     "name": "stdout",
     "output_type": "stream",
     "text": [
      "START DATE: WED 20 JUN 2018\n",
      "MATURITY DATE: SAT 20 SEP 2025\n",
      "COUPON (%): 5.0\n",
      "FIXED LEG FREQUENCY: FinFrequencyTypes.ANNUAL\n",
      "FIXED LEG DAY COUNT: FinDayCountTypes.ACT_360\n",
      "VALUATION DATE FRI 20 MAR 2020\n",
      "PAYMENT_DATE     YEAR_FRAC        FLOW         DF         DF*FLOW       CUM_PV\n",
      "MON 21 SEP 2020  1.0194444    509722.22   0.97529598    497130.04    497130.04\n",
      "MON 20 SEP 2021  1.0111111    505555.56   0.92845666    469386.42    966516.46\n",
      "TUE 20 SEP 2022  1.0138889    506944.44   0.88374733    448010.80   1414527.26\n",
      "WED 20 SEP 2023  1.0138889    506944.44   0.84119096    426437.08   1840964.34\n",
      "FRI 20 SEP 2024  1.0166667    508333.33   0.80057561    406959.27   2247923.61\n",
      "MON 22 SEP 2025  1.0194444  10509722.22   0.76181828   8006498.53  10254422.14\n"
     ]
    }
   ],
   "source": [
    "swap.printFixedLeg(valuationDate)"
   ]
  },
  {
   "cell_type": "markdown",
   "metadata": {},
   "source": [
    "Copyright (c) 2020 Dominic O'Kane"
   ]
  },
  {
   "cell_type": "code",
   "execution_count": null,
   "metadata": {},
   "outputs": [],
   "source": []
  }
 ],
 "metadata": {
  "kernelspec": {
   "display_name": "Python 3",
   "language": "python",
   "name": "python3"
  },
  "language_info": {
   "codemirror_mode": {
    "name": "ipython",
    "version": 3
   },
   "file_extension": ".py",
   "mimetype": "text/x-python",
   "name": "python",
   "nbconvert_exporter": "python",
   "pygments_lexer": "ipython3",
   "version": "3.7.7"
  }
 },
 "nbformat": 4,
 "nbformat_minor": 4
}
