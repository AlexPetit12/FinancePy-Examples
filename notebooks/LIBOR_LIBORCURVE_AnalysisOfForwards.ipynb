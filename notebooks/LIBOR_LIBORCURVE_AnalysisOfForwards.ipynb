{
 "cells": [
  {
   "cell_type": "markdown",
   "metadata": {},
   "source": [
    "# Bootstrapping a Libor Curve"
   ]
  },
  {
   "cell_type": "markdown",
   "metadata": {},
   "source": [
    "Constructing a Libor curve from a combination of deposits and swaps"
   ]
  },
  {
   "cell_type": "code",
   "execution_count": 1,
   "metadata": {},
   "outputs": [],
   "source": [
    "import numpy as np\n",
    "import matplotlib.pyplot as plt"
   ]
  },
  {
   "cell_type": "code",
   "execution_count": 1,
   "metadata": {},
   "outputs": [
    {
     "name": "stdout",
     "output_type": "stream",
     "text": [
      "###################################################################\n",
      "# FINANCEPY BETA Version 0.180 - This build: 10 Sep 2020 at 22:02 #\n",
      "#     This software is distributed FREE & WITHOUT ANY WARRANTY    #\n",
      "# For info and disclaimer - https://github.com/domokane/FinancePy #\n",
      "###################################################################\n",
      "\n"
     ]
    }
   ],
   "source": [
    "from financepy.finutils import *\n",
    "from financepy.products.libor import *"
   ]
  },
  {
   "cell_type": "code",
   "execution_count": 3,
   "metadata": {},
   "outputs": [],
   "source": [
    "tradeDate = FinDate(2019, 8, 9)\n",
    "spotDays = 2\n",
    "settlementDate = tradeDate.addDays(spotDays)"
   ]
  },
  {
   "cell_type": "markdown",
   "metadata": {},
   "source": [
    "## Libor Deposits"
   ]
  },
  {
   "cell_type": "code",
   "execution_count": 4,
   "metadata": {},
   "outputs": [],
   "source": [
    "dcType = FinDayCountTypes.ACT_360"
   ]
  },
  {
   "cell_type": "code",
   "execution_count": 5,
   "metadata": {},
   "outputs": [],
   "source": [
    "depo1 = FinLiborDeposit(settlementDate, \"1M\", 0.022009, dcType)\n",
    "depo2 = FinLiborDeposit(settlementDate, \"2M\", 0.022138, dcType)\n",
    "depo3 = FinLiborDeposit(settlementDate, \"3M\", 0.021810, dcType)\n",
    "depo4 = FinLiborDeposit(settlementDate, \"6M\", 0.020503, dcType)\n",
    "depo5 = FinLiborDeposit(settlementDate, \"12M\", 0.019930, dcType)"
   ]
  },
  {
   "cell_type": "code",
   "execution_count": 6,
   "metadata": {},
   "outputs": [],
   "source": [
    "depos = [depo1,depo2,depo3,depo4,depo5]"
   ]
  },
  {
   "cell_type": "code",
   "execution_count": 7,
   "metadata": {},
   "outputs": [],
   "source": [
    "dcType = FinDayCountTypes.THIRTY_E_360_ISDA\n",
    "fixedFreq = FinFrequencyTypes.SEMI_ANNUAL"
   ]
  },
  {
   "cell_type": "markdown",
   "metadata": {},
   "source": [
    "## Interest Rate Swaps"
   ]
  },
  {
   "cell_type": "code",
   "execution_count": 8,
   "metadata": {},
   "outputs": [],
   "source": [
    "dcType = FinDayCountTypes.THIRTY_E_360_ISDA\n",
    "fixedFreq = FinFrequencyTypes.SEMI_ANNUAL"
   ]
  },
  {
   "cell_type": "code",
   "execution_count": 9,
   "metadata": {},
   "outputs": [],
   "source": [
    "swap1 = FinLiborSwap(settlementDate,\"2Y\",0.015910,fixedFreq,dcType)\n",
    "swap2 = FinLiborSwap(settlementDate,\"3Y\",0.014990,fixedFreq,dcType)\n",
    "swap3 = FinLiborSwap(settlementDate,\"4Y\",0.014725,fixedFreq,dcType)\n",
    "swap4 = FinLiborSwap(settlementDate,\"5Y\",0.014640,fixedFreq,dcType)\n",
    "swap5 = FinLiborSwap(settlementDate,\"6Y\",0.014800,fixedFreq,dcType)\n",
    "swap6 = FinLiborSwap(settlementDate,\"7Y\",0.014995,fixedFreq,dcType)\n",
    "swap7 = FinLiborSwap(settlementDate,\"8Y\",0.015180,fixedFreq,dcType)\n",
    "swap8 = FinLiborSwap(settlementDate,\"9Y\",0.015610,fixedFreq,dcType)\n",
    "swap9 = FinLiborSwap(settlementDate,\"10Y\",0.0159880,fixedFreq,dcType)\n",
    "swap10 = FinLiborSwap(settlementDate,\"12Y\",0.016430,fixedFreq,dcType)"
   ]
  },
  {
   "cell_type": "code",
   "execution_count": 10,
   "metadata": {},
   "outputs": [],
   "source": [
    "swaps = [swap1,swap2,swap3,swap4,swap5,swap6,swap7,swap8,swap9,swap10]"
   ]
  },
  {
   "cell_type": "code",
   "execution_count": 11,
   "metadata": {},
   "outputs": [],
   "source": [
    "fras = []"
   ]
  },
  {
   "cell_type": "markdown",
   "metadata": {},
   "source": [
    "# Bootstrapping The Curve"
   ]
  },
  {
   "cell_type": "code",
   "execution_count": 12,
   "metadata": {},
   "outputs": [],
   "source": [
    "liborCurve = FinLiborCurve(settlementDate, depos, fras, swaps)"
   ]
  },
  {
   "cell_type": "markdown",
   "metadata": {},
   "source": [
    "Can we show that the Libor deposits have been repriced at par"
   ]
  },
  {
   "cell_type": "code",
   "execution_count": 13,
   "metadata": {},
   "outputs": [
    {
     "name": "stdout",
     "output_type": "stream",
     "text": [
      "100.0 WED 11 SEP 2019 100.0\n",
      "100.0 FRI 11 OCT 2019 100.0\n",
      "100.0 MON 11 NOV 2019 99.99999999999999\n",
      "100.0 TUE 11 FEB 2020 100.0\n",
      "100.0 TUE 11 AUG 2020 100.0\n"
     ]
    }
   ],
   "source": [
    "for depo in depos:\n",
    "    v = depo.value(settlementDate, liborCurve)\n",
    "    print(depo._notional, depo._maturityDate, v)"
   ]
  },
  {
   "cell_type": "code",
   "execution_count": 14,
   "metadata": {},
   "outputs": [
    {
     "name": "stdout",
     "output_type": "stream",
     "text": [
      "100.0 WED 11 AUG 2021 -3.1086244689504383e-15\n",
      "100.0 THU 11 AUG 2022 1.9539925233402755e-14\n",
      "100.0 FRI 11 AUG 2023 -1.687538997430238e-14\n",
      "100.0 MON 12 AUG 2024 -2.6645352591003757e-14\n",
      "100.0 MON 11 AUG 2025 -1.4210854715202004e-14\n",
      "100.0 TUE 11 AUG 2026 -3.907985046680551e-14\n",
      "100.0 WED 11 AUG 2027 -4.796163466380676e-14\n",
      "100.0 FRI 11 AUG 2028 -2.6645352591003757e-14\n",
      "100.0 MON 13 AUG 2029 -5.684341886080802e-14\n",
      "100.0 MON 11 AUG 2031 -3.552713678800501e-14\n"
     ]
    }
   ],
   "source": [
    "for swap in swaps:\n",
    "    v = swap.value(settlementDate, liborCurve, liborCurve, None)\n",
    "    print(swap._notional, swap._maturityDate, v)"
   ]
  },
  {
   "cell_type": "markdown",
   "metadata": {},
   "source": [
    "The worst is 4 units error on a notional of 1 million units - but we need to investigate this"
   ]
  },
  {
   "cell_type": "code",
   "execution_count": 15,
   "metadata": {},
   "outputs": [
    {
     "ename": "AttributeError",
     "evalue": "'FinLiborSwap' object has no attribute 'printFixedLeg'",
     "output_type": "error",
     "traceback": [
      "\u001b[1;31m---------------------------------------------------------------------------\u001b[0m",
      "\u001b[1;31mAttributeError\u001b[0m                            Traceback (most recent call last)",
      "\u001b[1;32m<ipython-input-15-e7b093ebe472>\u001b[0m in \u001b[0;36m<module>\u001b[1;34m\u001b[0m\n\u001b[1;32m----> 1\u001b[1;33m \u001b[0mswap9\u001b[0m\u001b[1;33m.\u001b[0m\u001b[0mprintFixedLeg\u001b[0m\u001b[1;33m(\u001b[0m\u001b[1;33m)\u001b[0m\u001b[1;33m\u001b[0m\u001b[1;33m\u001b[0m\u001b[0m\n\u001b[0m",
      "\u001b[1;31mAttributeError\u001b[0m: 'FinLiborSwap' object has no attribute 'printFixedLeg'"
     ]
    }
   ],
   "source": [
    "swap9.printFixedLeg()"
   ]
  },
  {
   "cell_type": "code",
   "execution_count": 16,
   "metadata": {},
   "outputs": [
    {
     "ename": "AttributeError",
     "evalue": "'FinLiborSwap' object has no attribute 'printFloatLeg'",
     "output_type": "error",
     "traceback": [
      "\u001b[1;31m---------------------------------------------------------------------------\u001b[0m",
      "\u001b[1;31mAttributeError\u001b[0m                            Traceback (most recent call last)",
      "\u001b[1;32m<ipython-input-16-df98158c3de4>\u001b[0m in \u001b[0;36m<module>\u001b[1;34m\u001b[0m\n\u001b[1;32m----> 1\u001b[1;33m \u001b[0mswap9\u001b[0m\u001b[1;33m.\u001b[0m\u001b[0mprintFloatLeg\u001b[0m\u001b[1;33m(\u001b[0m\u001b[1;33m)\u001b[0m\u001b[1;33m\u001b[0m\u001b[1;33m\u001b[0m\u001b[0m\n\u001b[0m",
      "\u001b[1;31mAttributeError\u001b[0m: 'FinLiborSwap' object has no attribute 'printFloatLeg'"
     ]
    }
   ],
   "source": [
    "swap9.printFloatLeg()"
   ]
  },
  {
   "cell_type": "markdown",
   "metadata": {},
   "source": [
    "Do I need to adjust the final maturity flow date ?"
   ]
  },
  {
   "cell_type": "markdown",
   "metadata": {},
   "source": [
    "## The Forward Curve"
   ]
  },
  {
   "cell_type": "code",
   "execution_count": 17,
   "metadata": {},
   "outputs": [],
   "source": [
    "years = np.linspace(0, 15.0, 200)\n",
    "dates = settlementDate.addYears(years)\n",
    "fwds = liborCurve.fwd(dates)"
   ]
  },
  {
   "cell_type": "code",
   "execution_count": 18,
   "metadata": {
    "scrolled": true
   },
   "outputs": [
    {
     "data": {
      "image/png": "[encoded data removed]",
      "text/plain": [
       "<Figure size 576x360 with 1 Axes>"
      ]
     },
     "metadata": {
      "needs_background": "light"
     },
     "output_type": "display_data"
    }
   ],
   "source": [
    "plt.figure(figsize=(8,5))\n",
    "plt.plot(years,fwds*100, label=\"Instantaneous Forwards\")\n",
    "plt.xlabel(\"Time\")\n",
    "plt.ylabel(\"Forwards (%)\")\n",
    "plt.legend()\n",
    "plt.grid()"
   ]
  },
  {
   "cell_type": "markdown",
   "metadata": {},
   "source": [
    "Zoom in one the short end"
   ]
  },
  {
   "cell_type": "code",
   "execution_count": 19,
   "metadata": {},
   "outputs": [],
   "source": [
    "years = np.linspace(0,1.0,1000)\n",
    "dates = settlementDate.addYears(years)\n",
    "fwds = liborCurve.fwd(dates)"
   ]
  },
  {
   "cell_type": "code",
   "execution_count": 20,
   "metadata": {},
   "outputs": [
    {
     "data": {
      "image/png": "[encoded data removed]",
      "text/plain": [
       "<Figure size 576x360 with 1 Axes>"
      ]
     },
     "metadata": {
      "needs_background": "light"
     },
     "output_type": "display_data"
    }
   ],
   "source": [
    "plt.figure(figsize=(8,5))\n",
    "plt.plot(years,fwds*100, label=\"Instantaneous Forwards\")\n",
    "plt.xlabel(\"Time\")\n",
    "plt.ylabel(\"Forwards (%)\")\n",
    "plt.legend()\n",
    "plt.grid()"
   ]
  },
  {
   "cell_type": "markdown",
   "metadata": {},
   "source": [
    "## Extracting the Zero Rate Curves"
   ]
  },
  {
   "cell_type": "markdown",
   "metadata": {},
   "source": [
    "We choose a range of zero rate frequencies."
   ]
  },
  {
   "cell_type": "code",
   "execution_count": 48,
   "metadata": {},
   "outputs": [],
   "source": [
    "years = np.linspace(1/365,5,100)\n",
    "dates = settlementDate.addYears(years)\n",
    "zerosC = liborCurve.zeroRate(dates, FinFrequencyTypes.CONTINUOUS)\n",
    "zeros1 = liborCurve.zeroRate(dates, FinFrequencyTypes.ANNUAL)\n",
    "zeros2 = liborCurve.zeroRate(dates, FinFrequencyTypes.SEMI_ANNUAL)\n",
    "zeros4 = liborCurve.zeroRate(dates, FinFrequencyTypes.QUARTERLY)"
   ]
  },
  {
   "cell_type": "code",
   "execution_count": 49,
   "metadata": {},
   "outputs": [
    {
     "data": {
      "image/png": "[encoded data removed]",
      "text/plain": [
       "<Figure size 576x360 with 1 Axes>"
      ]
     },
     "metadata": {
      "needs_background": "light"
     },
     "output_type": "display_data"
    }
   ],
   "source": [
    "plt.figure(figsize=(8,5))\n",
    "plt.plot(years,zerosC*100, label=\"Zero Rates (C)\")\n",
    "plt.plot(years,zeros1*100, label=\"Zero Rates (Ann)\")\n",
    "plt.plot(years,zeros2*100, label=\"Zero Rates (SA)\")\n",
    "plt.plot(years,zeros4*100, label=\"Zero Rates (Q)\")\n",
    "plt.xlabel(\"Time\")\n",
    "plt.ylabel(\"Zero (%)\")\n",
    "plt.legend()\n",
    "plt.grid()"
   ]
  },
  {
   "cell_type": "markdown",
   "metadata": {},
   "source": [
    "Copyright (c) 2020 Dominic O'Kane"
   ]
  }
 ],
 "metadata": {
  "kernelspec": {
   "display_name": "Python 3",
   "language": "python",
   "name": "python3"
  },
  "language_info": {
   "codemirror_mode": {
    "name": "ipython",
    "version": 3
   },
   "file_extension": ".py",
   "mimetype": "text/x-python",
   "name": "python",
   "nbconvert_exporter": "python",
   "pygments_lexer": "ipython3",
   "version": "3.7.6"
  }
 },
 "nbformat": 4,
 "nbformat_minor": 2
}
