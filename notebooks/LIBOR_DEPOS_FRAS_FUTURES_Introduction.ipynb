{
 "cells": [
  {
   "cell_type": "markdown",
   "metadata": {},
   "source": [
    "# Defining Libor Deposits, FRAs and Libor Futures"
   ]
  },
  {
   "cell_type": "code",
   "execution_count": 2,
   "metadata": {},
   "outputs": [],
   "source": [
    "# This program is distributed in the hope that it will be useful, but WITHOUT ANY WARRANTY; \n",
    "# without even the implied warranty of MERCHANTABILITY or FITNESS FOR A PARTICULAR PURPOSE.  \n",
    "# See the license for more details."
   ]
  },
  {
   "cell_type": "markdown",
   "metadata": {},
   "source": [
    "Simple introduction to the inputs required to define a Libor deposit and a FRA"
   ]
  },
  {
   "cell_type": "code",
   "execution_count": 62,
   "metadata": {},
   "outputs": [],
   "source": [
    "from financepy.finutils.FinDate import FinDate\n",
    "from financepy.finutils.FinMath import ONE_MILLION\n",
    "from financepy.finutils.FinDayCount import FinDayCountTypes\n",
    "from financepy.finutils.FinFrequency import FinFrequencyTypes\n",
    "from financepy.finutils.FinCalendar import FinCalendarTypes\n",
    "from financepy.market.curves.FinLiborCurve import FinLiborCurve\n",
    "from financepy.products.libor.FinLiborFRA import FinLiborFRA\n",
    "from financepy.products.libor.FinLiborDeposit import FinLiborDeposit\n",
    "from financepy.products.libor.FinLiborFuture import FinLiborFuture"
   ]
  },
  {
   "cell_type": "markdown",
   "metadata": {},
   "source": [
    "Before proceeding I am going to create a simple discount curve assuming flat zero rates. I will use this later."
   ]
  },
  {
   "cell_type": "code",
   "execution_count": 51,
   "metadata": {},
   "outputs": [],
   "source": [
    "from financepy.market.curves.FinFlatCurve import FinFlatCurve\n",
    "discountCurve = FinFlatCurve(settlementDate, 0.04, 1)"
   ]
  },
  {
   "cell_type": "markdown",
   "metadata": {},
   "source": [
    "## Libor Deposits\n"
   ]
  },
  {
   "cell_type": "markdown",
   "metadata": {},
   "source": [
    "A deposit is used to borrow cash interbank for a period specified at a rate agreed today. It settles in spot days."
   ]
  },
  {
   "cell_type": "code",
   "execution_count": 115,
   "metadata": {},
   "outputs": [],
   "source": [
    "valuationDate = FinDate(1, 3, 2020)\n",
    "spotDays = 0\n",
    "settlementDate = valuationDate.addWorkDays(spotDays)"
   ]
  },
  {
   "cell_type": "markdown",
   "metadata": {},
   "source": [
    "Interest is charged using a day count convention to measure the period"
   ]
  },
  {
   "cell_type": "markdown",
   "metadata": {},
   "source": [
    "This is a twelve month deposit at 4%"
   ]
  },
  {
   "cell_type": "code",
   "execution_count": 116,
   "metadata": {},
   "outputs": [],
   "source": [
    "notional = ONE_MILLION\n",
    "depositRate = 0.04\n",
    "dayCountType = FinDayCountTypes.ACT_360\n",
    "maturityDate = settlementDate.addTenor(\"12M\")\n",
    "calendarType = FinCalendarTypes.TARGET"
   ]
  },
  {
   "cell_type": "code",
   "execution_count": 117,
   "metadata": {},
   "outputs": [],
   "source": [
    "depo = FinLiborDeposit(settlementDate, maturityDate, depositRate, dayCountType, notional, calendarType)"
   ]
  },
  {
   "cell_type": "code",
   "execution_count": 118,
   "metadata": {},
   "outputs": [
    {
     "name": "stdout",
     "output_type": "stream",
     "text": [
      "SETTLEMENT DATE: SUN 1 MAR 2020\n",
      "MATURITY DATE: MON 1 MAR 2021\n",
      "NOTIONAL: 1000000\n",
      "DEPOSIT RATE: 0.04\n",
      "DAY COUNT TYPE: FinDayCountTypes.ACT_360\n",
      "CALENDAR: FinCalendarTypes.TARGET\n",
      "BUS DAY ADJUST TYPE: FinBusDayAdjustTypes.MODIFIED_FOLLOWING\n",
      "\n"
     ]
    }
   ],
   "source": [
    "print(depo)"
   ]
  },
  {
   "cell_type": "code",
   "execution_count": 119,
   "metadata": {},
   "outputs": [
    {
     "data": {
      "text/plain": [
       "1000560.1892867951"
      ]
     },
     "execution_count": 119,
     "metadata": {},
     "output_type": "execute_result"
    }
   ],
   "source": [
    "depo.value(valuationDate, discountCurve)"
   ]
  },
  {
   "cell_type": "markdown",
   "metadata": {},
   "source": [
    "It should be exactly 1M. However the discount curve is not using the same conventions as a Libor deposit which is why it is not."
   ]
  },
  {
   "cell_type": "markdown",
   "metadata": {},
   "source": [
    "## Floating Rate Agreements (FRAs)"
   ]
  },
  {
   "cell_type": "markdown",
   "metadata": {},
   "source": [
    "A floating rate agreement allows the buyer to lock in a rate of interest for borrowing over a future period start on a future start date and ending on the future maturity date."
   ]
  },
  {
   "cell_type": "code",
   "execution_count": 120,
   "metadata": {},
   "outputs": [],
   "source": [
    "fraRate = 0.04\n",
    "dayCountType = FinDayCountTypes.ACT_360\n",
    "fraStartDate = settlementDate.addMonths(1)\n",
    "fraMaturityDate = settlementDate.addMonths(4)\n",
    "payFixed = True\n",
    "notional = 100000\n",
    "calendarType = FinCalendarTypes.TARGET"
   ]
  },
  {
   "cell_type": "code",
   "execution_count": 121,
   "metadata": {},
   "outputs": [],
   "source": [
    "fra = FinLiborFRA(fraStartDate, fraMaturityDate, fraRate, dayCountType, notional, payFixed, calendarType)"
   ]
  },
  {
   "cell_type": "code",
   "execution_count": 122,
   "metadata": {},
   "outputs": [
    {
     "name": "stdout",
     "output_type": "stream",
     "text": [
      "START ACCD DATE: WED 1 APR 2020\n",
      "MATURITY DATE: WED 1 JUL 2020\n",
      "FRA RATE: 0.04\n",
      "NOTIONAL: 100000\n",
      "PAY FIXED RATE: True\n",
      "DAY COUNT TYPE: FinDayCountTypes.ACT_360\n",
      "BUS DAY ADJUST TYPE: FinBusDayAdjustTypes.MODIFIED_FOLLOWING\n",
      "CALENDAR: FinCalendarTypes.TARGET\n",
      "\n"
     ]
    }
   ],
   "source": [
    "print(fra)"
   ]
  },
  {
   "cell_type": "code",
   "execution_count": 123,
   "metadata": {},
   "outputs": [
    {
     "data": {
      "text/plain": [
       "28.758257924311945"
      ]
     },
     "execution_count": 123,
     "metadata": {},
     "output_type": "execute_result"
    }
   ],
   "source": [
    "fra.value(valuationDate, discountCurve)"
   ]
  },
  {
   "cell_type": "markdown",
   "metadata": {},
   "source": [
    "This is small given the notional of $1M. It should be exactly zero. However the discount curve is not using the same conventions as a Libor FRA which is why it is not."
   ]
  },
  {
   "cell_type": "markdown",
   "metadata": {},
   "source": [
    "## Interest Rate Futures"
   ]
  },
  {
   "cell_type": "markdown",
   "metadata": {},
   "source": [
    "Interest rate futures can be set up easily. Just set the number of the future."
   ]
  },
  {
   "cell_type": "code",
   "execution_count": 126,
   "metadata": {},
   "outputs": [],
   "source": [
    "fut = FinLiborFuture(valuationDate, 1)"
   ]
  },
  {
   "cell_type": "code",
   "execution_count": 125,
   "metadata": {},
   "outputs": [
    {
     "name": "stdout",
     "output_type": "stream",
     "text": [
      "LAST TRADING DATE: MON 16 MAR 2020\n",
      "DELIVERY DATE: WED 18 MAR 2020\n",
      "END INTEREST PERIOD: WED 17 JUN 2020\n",
      "ACCRUAL TYPE: FinDayCountTypes.ACT_360\n",
      "CONTRACT SIZE: 1000000\n",
      "\n"
     ]
    }
   ],
   "source": [
    "print(fut)"
   ]
  },
  {
   "cell_type": "markdown",
   "metadata": {},
   "source": [
    "This is the fifth futures contract."
   ]
  },
  {
   "cell_type": "code",
   "execution_count": 127,
   "metadata": {},
   "outputs": [],
   "source": [
    "fut = FinLiborFuture(valuationDate, 5)"
   ]
  },
  {
   "cell_type": "code",
   "execution_count": 128,
   "metadata": {},
   "outputs": [
    {
     "name": "stdout",
     "output_type": "stream",
     "text": [
      "LAST TRADING DATE: MON 15 MAR 2021\n",
      "DELIVERY DATE: WED 17 MAR 2021\n",
      "END INTEREST PERIOD: WED 16 JUN 2021\n",
      "ACCRUAL TYPE: FinDayCountTypes.ACT_360\n",
      "CONTRACT SIZE: 1000000\n",
      "\n"
     ]
    }
   ],
   "source": [
    "print(fut)"
   ]
  },
  {
   "cell_type": "markdown",
   "metadata": {},
   "source": [
    "For curve building we need to convert these to FRAs. We also need to provide a FRA price and convexity adjustment."
   ]
  },
  {
   "cell_type": "code",
   "execution_count": 133,
   "metadata": {},
   "outputs": [],
   "source": [
    "fra = fut.toFRA(97.323,-0.006)"
   ]
  },
  {
   "cell_type": "code",
   "execution_count": 134,
   "metadata": {},
   "outputs": [
    {
     "name": "stdout",
     "output_type": "stream",
     "text": [
      "START ACCD DATE: WED 17 MAR 2021\n",
      "MATURITY DATE: WED 16 JUN 2021\n",
      "FRA RATE: 0.026710000000000067\n",
      "NOTIONAL: 1000000\n",
      "PAY FIXED RATE: False\n",
      "DAY COUNT TYPE: FinDayCountTypes.ACT_360\n",
      "BUS DAY ADJUST TYPE: FinBusDayAdjustTypes.MODIFIED_FOLLOWING\n",
      "CALENDAR: FinCalendarTypes.WEEKEND\n",
      "\n"
     ]
    }
   ],
   "source": [
    "print(fra)"
   ]
  },
  {
   "cell_type": "code",
   "execution_count": null,
   "metadata": {},
   "outputs": [],
   "source": []
  }
 ],
 "metadata": {
  "kernelspec": {
   "display_name": "Python 3",
   "language": "python",
   "name": "python3"
  },
  "language_info": {
   "codemirror_mode": {
    "name": "ipython",
    "version": 3
   },
   "file_extension": ".py",
   "mimetype": "text/x-python",
   "name": "python",
   "nbconvert_exporter": "python",
   "pygments_lexer": "ipython3",
   "version": "3.7.7"
  }
 },
 "nbformat": 4,
 "nbformat_minor": 4
}
