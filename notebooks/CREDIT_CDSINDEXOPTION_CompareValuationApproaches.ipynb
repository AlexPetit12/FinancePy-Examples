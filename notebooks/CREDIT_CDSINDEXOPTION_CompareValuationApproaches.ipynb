{
 "cells": [
  {
   "cell_type": "markdown",
   "metadata": {},
   "source": [
    "# Creating and Valuing a CDS Index Option"
   ]
  },
  {
   "cell_type": "markdown",
   "metadata": {},
   "source": [
    "This notebook does the valuation of an option on a CDS index using Anderson's method and an Adjusted Black Method. For details see Modelling Singlename and Multiname Credit Derivatives by D.O'Kane."
   ]
  },
  {
   "cell_type": "code",
   "execution_count": 1,
   "metadata": {},
   "outputs": [],
   "source": [
    "import numpy as np\n",
    "import matplotlib.pyplot as plt"
   ]
  },
  {
   "cell_type": "code",
   "execution_count": 2,
   "metadata": {},
   "outputs": [
    {
     "name": "stdout",
     "output_type": "stream",
     "text": [
      "####################################################################\n",
      "# FINANCEPY BETA Version 0.180 - This build:  22 Sep 2020 at 22:40 #\n",
      "#      This software is distributed FREE & WITHOUT ANY WARRANTY    #\n",
      "# For info and disclaimer - https://github.com/domokane/FinancePy  #\n",
      "#    For bug reports and comments - allmypythonprojects@gmail.com  #\n",
      "####################################################################\n",
      "\n"
     ]
    }
   ],
   "source": [
    "from financepy.finutils import *\n",
    "from financepy.products.libor import *\n",
    "from financepy.products.credit import *"
   ]
  },
  {
   "cell_type": "code",
   "execution_count": 3,
   "metadata": {},
   "outputs": [],
   "source": [
    "tradeDate = FinDate(1, 8, 2007)\n",
    "stepInDate = tradeDate.addDays(1)\n",
    "valuationDate = stepInDate\n",
    "settlementDate = stepInDate"
   ]
  },
  {
   "cell_type": "markdown",
   "metadata": {},
   "source": [
    "## Build Libor Curve"
   ]
  },
  {
   "cell_type": "code",
   "execution_count": 4,
   "metadata": {},
   "outputs": [],
   "source": [
    "depos = []\n",
    "dcType = FinDayCountTypes.THIRTY_E_360_ISDA\n",
    "fixedFreq = FinFrequencyTypes.SEMI_ANNUAL\n",
    "swapType = FinLiborSwapTypes.PAYER\n",
    "swap1 = FinLiborSwap(settlementDate,\"1Y\",swapType,0.0502,fixedFreq,dcType)\n",
    "swap2 = FinLiborSwap(settlementDate,\"2Y\",swapType,0.0502,fixedFreq,dcType)\n",
    "swap3 = FinLiborSwap(settlementDate,\"3Y\",swapType,0.0501,fixedFreq,dcType)\n",
    "swap4 = FinLiborSwap(settlementDate,\"4Y\",swapType,0.0502,fixedFreq,dcType)\n",
    "swap5 = FinLiborSwap(settlementDate,\"5Y\",swapType,0.0501,fixedFreq,dcType)\n",
    "swaps = [swap1,swap2,swap3,swap4,swap5]\n",
    "\n",
    "liborCurve = FinLiborCurve(settlementDate, depos, [], swaps)"
   ]
  },
  {
   "cell_type": "code",
   "execution_count": 5,
   "metadata": {},
   "outputs": [],
   "source": [
    "cdsMaturity3Y = tradeDate.nextCDSDate(36)\n",
    "cdsMaturity5Y = tradeDate.nextCDSDate(60)\n",
    "cdsMaturity7Y = tradeDate.nextCDSDate(84)\n",
    "cdsMaturity10Y = tradeDate.nextCDSDate(120)"
   ]
  },
  {
   "cell_type": "markdown",
   "metadata": {},
   "source": [
    "## Load the Underlying CDS Index Portfolio"
   ]
  },
  {
   "cell_type": "code",
   "execution_count": 6,
   "metadata": {},
   "outputs": [],
   "source": [
    "f = open('.//data//CDX_NA_IG_S7_SPREADS.csv', 'r')\n",
    "data = f.readlines()\n",
    "issuerCurves = []\n",
    "\n",
    "numCredits = len(data) - 1  # The file has a header\n",
    "\n",
    "for row in data[1:]:\n",
    "    splitRow = row.split(\",\")\n",
    "    creditName = splitRow[0]\n",
    "    spd3Y = float(splitRow[1]) / 10000.0\n",
    "    spd5Y = float(splitRow[2]) / 10000.0\n",
    "    spd7Y = float(splitRow[3]) / 10000.0\n",
    "    spd10Y = float(splitRow[4]) / 10000.0\n",
    "    recoveryRate = float(splitRow[5])\n",
    "\n",
    "    cds3Y = FinCDS(stepInDate, cdsMaturity3Y, spd3Y)\n",
    "    cds5Y = FinCDS(stepInDate, cdsMaturity5Y, spd5Y)\n",
    "    cds7Y = FinCDS(stepInDate, cdsMaturity7Y, spd7Y)\n",
    "    cds10Y = FinCDS(stepInDate, cdsMaturity10Y, spd10Y)\n",
    "    cdsContracts = [cds3Y, cds5Y, cds7Y, cds10Y]\n",
    "\n",
    "    issuerCurve = FinCDSCurve(valuationDate, cdsContracts, liborCurve, recoveryRate)\n",
    "    issuerCurves.append(issuerCurve)"
   ]
  },
  {
   "cell_type": "markdown",
   "metadata": {},
   "source": [
    "## Term Structure of CDS Index Market"
   ]
  },
  {
   "cell_type": "markdown",
   "metadata": {},
   "source": [
    "We now set up the term structure of CDS Index trades and start by setting up the maturity dates of the index"
   ]
  },
  {
   "cell_type": "code",
   "execution_count": 7,
   "metadata": {},
   "outputs": [],
   "source": [
    "indexMaturity3Y = FinDate(20,12,2009)\n",
    "indexMaturity5Y = FinDate(20,12,2011)\n",
    "indexMaturity7Y = FinDate(20,12,2013)\n",
    "indexMaturity10Y = FinDate(20,12,2016)"
   ]
  },
  {
   "cell_type": "markdown",
   "metadata": {},
   "source": [
    "Now we set their upfronts and coupons"
   ]
  },
  {
   "cell_type": "code",
   "execution_count": 8,
   "metadata": {},
   "outputs": [],
   "source": [
    "indexUpfronts = [0.0, 0.0, 0.0, 0.0]\n",
    "indexMaturityDates = [indexMaturity3Y, indexMaturity5Y, indexMaturity7Y, indexMaturity10Y]\n",
    "indexRecovery = 0.40"
   ]
  },
  {
   "cell_type": "markdown",
   "metadata": {},
   "source": [
    "## Setting up the Index Option"
   ]
  },
  {
   "cell_type": "code",
   "execution_count": 9,
   "metadata": {},
   "outputs": [],
   "source": [
    "expiryDate = FinDate(1,2,2008)\n",
    "maturityDate = FinDate(20,12,2011)\n",
    "notional = 10000\n",
    "volatility = 0.50\n",
    "indexCoupon = 0.004\n",
    "tolerance = 1e-6"
   ]
  },
  {
   "cell_type": "markdown",
   "metadata": {},
   "source": [
    "## Comparison of Anderson versus Adjusted Black Model"
   ]
  },
  {
   "cell_type": "code",
   "execution_count": 10,
   "metadata": {},
   "outputs": [
    {
     "name": "stdout",
     "output_type": "stream",
     "text": [
      "STRIKE    INDEX      PAYER    RECEIVER      G(K)       X         EXPH       ABPAY       ABREC\n",
      "20.000   20.000     16.106      6.194    -70.746      22.89     -60.59      16.13       6.10\n",
      "30.000   20.000      4.033     28.800    -35.261      22.87     -60.65       4.03      28.65\n",
      "40.000   20.000      0.879     60.107      0.000      22.85     -60.71       0.89      59.89\n",
      "50.000   20.000      0.185     93.656     35.038      22.84     -60.77       0.20      93.29\n",
      "60.000   20.000      0.042    127.540     69.855      22.82     -60.83       0.05     126.96\n",
      "20.000   30.000     50.393      0.880    -70.746      34.38     -20.00      50.46       0.83\n",
      "30.000   30.000     24.055      9.191    -35.261      34.37     -20.03      24.09       9.14\n",
      "40.000   30.000      9.738     29.306      0.000      34.36     -20.06       9.82      29.27\n",
      "50.000   30.000      3.641     57.423     35.038      34.35     -20.09       3.70      57.28\n",
      "60.000   30.000      1.316     89.095     69.855      34.34     -20.12       1.36      88.79\n",
      "20.000   40.000     88.952      0.116    -70.746      45.88      20.31      89.06       0.11\n",
      "30.000   40.000     56.726      2.511    -35.261      45.88      20.31      56.72       2.48\n",
      "40.000   40.000     31.941     12.129      0.000      45.88      20.31      31.98      12.16\n",
      "50.000   40.000     16.414     30.787     35.038      45.88      20.31      16.52      30.86\n",
      "60.000   40.000      8.010     56.351     69.855      45.88      20.31       8.12      56.34\n",
      "20.000   50.000    127.976      0.016    -70.746      57.43      60.41     128.02       0.01\n",
      "30.000   50.000     94.027      0.660    -35.261      57.44      60.44      93.90       0.64\n",
      "40.000   50.000     63.611      4.617      0.000      57.45      60.47      63.44       4.63\n",
      "50.000   50.000     39.823     14.986     35.038      57.45      60.50      39.80      15.18\n",
      "60.000   50.000     23.610     32.712     69.855      57.46      60.53      23.64      32.93\n",
      "20.000   60.000    167.144      0.003    -70.746      69.09     100.57     166.78       0.00\n",
      "30.000   60.000    132.746      0.168    -35.261      69.11     100.63     132.17       0.16\n",
      "40.000   60.000     99.902      1.669      0.000      69.13     100.69      99.22       1.70\n",
      "50.000   60.000     71.009      6.903     35.038      69.15     100.74      70.38       7.07\n",
      "60.000   60.000     47.890     17.695     69.855      69.16     100.80      47.54      18.18\n"
     ]
    }
   ],
   "source": [
    "print(\"STRIKE    INDEX      PAYER    RECEIVER      G(K)       X         EXPH       ABPAY       ABREC\")\n",
    "\n",
    "for index in np.linspace(20, 60, 5):\n",
    "    \n",
    "    # Create a flat CDS index curve\n",
    "    cdsContracts = []\n",
    "    for dt in indexMaturityDates:\n",
    "        cds = FinCDS(valuationDate, dt, index / 10000.0)\n",
    "        cdsContracts.append(cds)\n",
    "\n",
    "    # Build the flat CDS index curve\n",
    "    indexCurve = FinCDSCurve(valuationDate, cdsContracts, liborCurve, indexRecovery)\n",
    "\n",
    "    # Now we need to set up the underlying curves and adjust them\n",
    "    indexSpreads = [index / 10000.0] * 4\n",
    "\n",
    "    indexPortfolio = FinCDSIndexPortfolio()\n",
    "    adjustedIssuerCurves = indexPortfolio.hazardRateAdjustIntrinsic(valuationDate, \n",
    "                                                                    issuerCurves, \n",
    "                                                                    indexSpreads, \n",
    "                                                                    indexUpfronts,\n",
    "                                                                    indexMaturityDates, \n",
    "                                                                    indexRecovery, \n",
    "                                                                    tolerance)        \n",
    "        \n",
    "    for strike in np.linspace(20, 60, 5):    \n",
    "\n",
    "        option = FinCDSIndexOption(expiryDate,\n",
    "                                   maturityDate, \n",
    "                                   indexCoupon, \n",
    "                                   strike / 10000.0, \n",
    "                                   notional)\n",
    "        \n",
    "        v_pay_1, v_rec_1, strikeValue, mu, expH = option.valueAnderson(valuationDate, \n",
    "                                                                       adjustedIssuerCurves, \n",
    "                                                                       indexRecovery,\n",
    "                                                                       volatility)\n",
    "\n",
    "        v_pay_2, v_rec_2 = option.valueAdjustedBlack(valuationDate,\n",
    "                                                     indexCurve, \n",
    "                                                     indexRecovery, \n",
    "                                                     liborCurve,\n",
    "                                                     volatility)\n",
    "            \n",
    "        print(\"%6.3f   %6.3f   %8.3f   %8.3f   %8.3f   %8.2f   %8.2f   %8.2f   %8.2f\" % \n",
    "              (strike, index, v_pay_1, v_rec_1, strikeValue, mu, expH, v_pay_2, v_rec_2 ))"
   ]
  },
  {
   "cell_type": "code",
   "execution_count": 11,
   "metadata": {},
   "outputs": [
    {
     "name": "stdout",
     "output_type": "stream",
     "text": [
      "OBJECT TYPE: FinCDSIndexOption\n",
      "EXPIRY DATE: FRI 01 FEB 2008\n",
      "MATURITY DATE: TUE 20 DEC 2011\n",
      "INDEX COUPON: 40.0bp\n",
      "NOTIONAL: 10000\n",
      "LONG PROTECTION: True\n",
      "FREQUENCY: FinFrequencyTypes.QUARTERLY\n",
      "DAYCOUNT: FinDayCountTypes.ACT_360\n",
      "CALENDAR: FinCalendarTypes.WEEKEND\n",
      "BUSDAYRULE: FinBusDayAdjustTypes.FOLLOWING\n",
      "DATEGENRULE: FinDateGenRuleTypes.BACKWARD\n",
      "\n"
     ]
    }
   ],
   "source": [
    "print(option)"
   ]
  },
  {
   "cell_type": "code",
   "execution_count": null,
   "metadata": {},
   "outputs": [],
   "source": []
  }
 ],
 "metadata": {
  "kernelspec": {
   "display_name": "Python 3",
   "language": "python",
   "name": "python3"
  },
  "language_info": {
   "codemirror_mode": {
    "name": "ipython",
    "version": 3
   },
   "file_extension": ".py",
   "mimetype": "text/x-python",
   "name": "python",
   "nbconvert_exporter": "python",
   "pygments_lexer": "ipython3",
   "version": "3.7.6"
  }
 },
 "nbformat": 4,
 "nbformat_minor": 2
}
