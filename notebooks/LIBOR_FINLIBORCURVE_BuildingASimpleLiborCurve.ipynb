{
 "cells": [
  {
   "cell_type": "markdown",
   "metadata": {},
   "source": [
    "# Building a Simple Libor Curve"
   ]
  },
  {
   "cell_type": "markdown",
   "metadata": {},
   "source": [
    "Simple Libor curve that can be used in other notebooks"
   ]
  },
  {
   "cell_type": "code",
   "execution_count": 1,
   "metadata": {},
   "outputs": [],
   "source": [
    "import numpy as np\n",
    "import matplotlib.pyplot as plt"
   ]
  },
  {
   "cell_type": "code",
   "execution_count": 2,
   "metadata": {},
   "outputs": [
    {
     "name": "stdout",
     "output_type": "stream",
     "text": [
      "###################################################################\n",
      "# FINANCEPY BETA Version 0.180 - This build: 22 Sep 2020 at 22:13 #\n",
      "#     This software is distributed FREE & WITHOUT ANY WARRANTY    #\n",
      "# For info and disclaimer - https://github.com/domokane/FinancePy #\n",
      "###################################################################\n",
      "\n"
     ]
    }
   ],
   "source": [
    "from financepy.finutils import *\n",
    "from financepy.products.libor import *"
   ]
  },
  {
   "cell_type": "code",
   "execution_count": 3,
   "metadata": {},
   "outputs": [],
   "source": [
    "valuationDate = FinDate(18, 9, 2019)"
   ]
  },
  {
   "cell_type": "markdown",
   "metadata": {},
   "source": [
    "## Building the Curve"
   ]
  },
  {
   "cell_type": "code",
   "execution_count": 4,
   "metadata": {},
   "outputs": [],
   "source": [
    "depoDCCType = FinDayCountTypes.THIRTY_E_360_ISDA\n",
    "depos = []\n",
    "spotDays = 2\n",
    "settlementDate = valuationDate.addWorkDays(spotDays)\n",
    "\n",
    "depo = FinLiborDeposit(settlementDate, \"1M\", 0.0200, depoDCCType); depos.append(depo)\n",
    "depo = FinLiborDeposit(settlementDate, \"3M\", 0.0230, depoDCCType); depos.append(depo)\n",
    "depo = FinLiborDeposit(settlementDate, \"6M\", 0.0250, depoDCCType); depos.append(depo)\n",
    "depo = FinLiborDeposit(settlementDate, \"9M\", 0.0280, depoDCCType); depos.append(depo)\n",
    "depo = FinLiborDeposit(settlementDate, \"12M\", 0.0310, depoDCCType); depos.append(depo)\n",
    "\n",
    "swaps = []\n",
    "swapType = FinLiborSwapTypes.PAYER\n",
    "fixedDCCType = FinDayCountTypes.ACT_365F\n",
    "fixedFreqType = FinFrequencyTypes.SEMI_ANNUAL\n",
    "\n",
    "swap = FinLiborSwap(settlementDate, \"2Y\", swapType, 0.0320, fixedFreqType, fixedDCCType); swaps.append(swap)\n",
    "swap = FinLiborSwap(settlementDate, \"3Y\", swapType, 0.0350, fixedFreqType, fixedDCCType); swaps.append(swap)\n",
    "swap = FinLiborSwap(settlementDate, \"4Y\", swapType, 0.0375, fixedFreqType, fixedDCCType); swaps.append(swap)\n",
    "swap = FinLiborSwap(settlementDate, \"5Y\", swapType, 0.0400, fixedFreqType, fixedDCCType); swaps.append(swap)\n",
    "swap = FinLiborSwap(settlementDate, \"7Y\", swapType, 0.0420, fixedFreqType, fixedDCCType); swaps.append(swap)\n",
    "swap = FinLiborSwap(settlementDate, \"10Y\", swapType, 0.0410, fixedFreqType, fixedDCCType); swaps.append(swap)"
   ]
  },
  {
   "cell_type": "code",
   "execution_count": 5,
   "metadata": {},
   "outputs": [],
   "source": [
    "liborCurve = FinLiborCurve(settlementDate, depos, [], swaps)"
   ]
  },
  {
   "cell_type": "code",
   "execution_count": 6,
   "metadata": {
    "scrolled": false
   },
   "outputs": [
    {
     "name": "stdout",
     "output_type": "stream",
     "text": [
      "OBJECT TYPE: FinLiborCurve\n",
      "VALUATION DATE: FRI 20 SEP 2019\n",
      "DEPOSIT: \n",
      "OBJECT TYPE: FinLiborDeposit\n",
      "START DATE: FRI 20 SEP 2019\n",
      "MATURITY DATE: MON 21 OCT 2019\n",
      "NOTIONAL: 100.0\n",
      "DEPOSIT RATE: 0.02\n",
      "DAY COUNT TYPE: FinDayCountTypes.THIRTY_E_360_ISDA\n",
      "CALENDAR: FinCalendarTypes.WEEKEND\n",
      "BUS DAY ADJUST TYPE: FinBusDayAdjustTypes.MODIFIED_FOLLOWING\n",
      "DEPOSIT: \n",
      "OBJECT TYPE: FinLiborDeposit\n",
      "START DATE: FRI 20 SEP 2019\n",
      "MATURITY DATE: FRI 20 DEC 2019\n",
      "NOTIONAL: 100.0\n",
      "DEPOSIT RATE: 0.023\n",
      "DAY COUNT TYPE: FinDayCountTypes.THIRTY_E_360_ISDA\n",
      "CALENDAR: FinCalendarTypes.WEEKEND\n",
      "BUS DAY ADJUST TYPE: FinBusDayAdjustTypes.MODIFIED_FOLLOWING\n",
      "DEPOSIT: \n",
      "OBJECT TYPE: FinLiborDeposit\n",
      "START DATE: FRI 20 SEP 2019\n",
      "MATURITY DATE: FRI 20 MAR 2020\n",
      "NOTIONAL: 100.0\n",
      "DEPOSIT RATE: 0.025\n",
      "DAY COUNT TYPE: FinDayCountTypes.THIRTY_E_360_ISDA\n",
      "CALENDAR: FinCalendarTypes.WEEKEND\n",
      "BUS DAY ADJUST TYPE: FinBusDayAdjustTypes.MODIFIED_FOLLOWING\n",
      "DEPOSIT: \n",
      "OBJECT TYPE: FinLiborDeposit\n",
      "START DATE: FRI 20 SEP 2019\n",
      "MATURITY DATE: MON 22 JUN 2020\n",
      "NOTIONAL: 100.0\n",
      "DEPOSIT RATE: 0.028\n",
      "DAY COUNT TYPE: FinDayCountTypes.THIRTY_E_360_ISDA\n",
      "CALENDAR: FinCalendarTypes.WEEKEND\n",
      "BUS DAY ADJUST TYPE: FinBusDayAdjustTypes.MODIFIED_FOLLOWING\n",
      "DEPOSIT: \n",
      "OBJECT TYPE: FinLiborDeposit\n",
      "START DATE: FRI 20 SEP 2019\n",
      "MATURITY DATE: MON 21 SEP 2020\n",
      "NOTIONAL: 100.0\n",
      "DEPOSIT RATE: 0.031\n",
      "DAY COUNT TYPE: FinDayCountTypes.THIRTY_E_360_ISDA\n",
      "CALENDAR: FinCalendarTypes.WEEKEND\n",
      "BUS DAY ADJUST TYPE: FinBusDayAdjustTypes.MODIFIED_FOLLOWING\n",
      "SWAP: \n",
      "OBJECT TYPE: FinLiborSwap\n",
      "START DATE: FRI 20 SEP 2019\n",
      "TERMINATION DATE: MON 20 SEP 2021\n",
      "MATURITY DATE: MON 20 SEP 2021\n",
      "NOTIONAL: 1000000\n",
      "SWAP TYPE: FinLiborSwapTypes.PAYER\n",
      "FIXED COUPON: 0.032\n",
      "FLOAT SPREAD: 0.0\n",
      "FIXED FREQUENCY: FinFrequencyTypes.SEMI_ANNUAL\n",
      "FLOAT FREQUENCY: FinFrequencyTypes.QUARTERLY\n",
      "FIXED DAY COUNT: FinDayCountTypes.ACT_365F\n",
      "FLOAT DAY COUNT: FinDayCountTypes.THIRTY_E_360\n",
      "CALENDAR: FinCalendarTypes.WEEKEND\n",
      "BUS DAY ADJUST: FinBusDayAdjustTypes.FOLLOWING\n",
      "DATE GEN TYPE: FinDateGenRuleTypes.BACKWARD\n",
      "SWAP: \n",
      "OBJECT TYPE: FinLiborSwap\n",
      "START DATE: FRI 20 SEP 2019\n",
      "TERMINATION DATE: TUE 20 SEP 2022\n",
      "MATURITY DATE: TUE 20 SEP 2022\n",
      "NOTIONAL: 1000000\n",
      "SWAP TYPE: FinLiborSwapTypes.PAYER\n",
      "FIXED COUPON: 0.035\n",
      "FLOAT SPREAD: 0.0\n",
      "FIXED FREQUENCY: FinFrequencyTypes.SEMI_ANNUAL\n",
      "FLOAT FREQUENCY: FinFrequencyTypes.QUARTERLY\n",
      "FIXED DAY COUNT: FinDayCountTypes.ACT_365F\n",
      "FLOAT DAY COUNT: FinDayCountTypes.THIRTY_E_360\n",
      "CALENDAR: FinCalendarTypes.WEEKEND\n",
      "BUS DAY ADJUST: FinBusDayAdjustTypes.FOLLOWING\n",
      "DATE GEN TYPE: FinDateGenRuleTypes.BACKWARD\n",
      "SWAP: \n",
      "OBJECT TYPE: FinLiborSwap\n",
      "START DATE: FRI 20 SEP 2019\n",
      "TERMINATION DATE: WED 20 SEP 2023\n",
      "MATURITY DATE: WED 20 SEP 2023\n",
      "NOTIONAL: 1000000\n",
      "SWAP TYPE: FinLiborSwapTypes.PAYER\n",
      "FIXED COUPON: 0.0375\n",
      "FLOAT SPREAD: 0.0\n",
      "FIXED FREQUENCY: FinFrequencyTypes.SEMI_ANNUAL\n",
      "FLOAT FREQUENCY: FinFrequencyTypes.QUARTERLY\n",
      "FIXED DAY COUNT: FinDayCountTypes.ACT_365F\n",
      "FLOAT DAY COUNT: FinDayCountTypes.THIRTY_E_360\n",
      "CALENDAR: FinCalendarTypes.WEEKEND\n",
      "BUS DAY ADJUST: FinBusDayAdjustTypes.FOLLOWING\n",
      "DATE GEN TYPE: FinDateGenRuleTypes.BACKWARD\n",
      "SWAP: \n",
      "OBJECT TYPE: FinLiborSwap\n",
      "START DATE: FRI 20 SEP 2019\n",
      "TERMINATION DATE: FRI 20 SEP 2024\n",
      "MATURITY DATE: FRI 20 SEP 2024\n",
      "NOTIONAL: 1000000\n",
      "SWAP TYPE: FinLiborSwapTypes.PAYER\n",
      "FIXED COUPON: 0.04\n",
      "FLOAT SPREAD: 0.0\n",
      "FIXED FREQUENCY: FinFrequencyTypes.SEMI_ANNUAL\n",
      "FLOAT FREQUENCY: FinFrequencyTypes.QUARTERLY\n",
      "FIXED DAY COUNT: FinDayCountTypes.ACT_365F\n",
      "FLOAT DAY COUNT: FinDayCountTypes.THIRTY_E_360\n",
      "CALENDAR: FinCalendarTypes.WEEKEND\n",
      "BUS DAY ADJUST: FinBusDayAdjustTypes.FOLLOWING\n",
      "DATE GEN TYPE: FinDateGenRuleTypes.BACKWARD\n",
      "SWAP: \n",
      "OBJECT TYPE: FinLiborSwap\n",
      "START DATE: FRI 20 SEP 2019\n",
      "TERMINATION DATE: SUN 20 SEP 2026\n",
      "MATURITY DATE: MON 21 SEP 2026\n",
      "NOTIONAL: 1000000\n",
      "SWAP TYPE: FinLiborSwapTypes.PAYER\n",
      "FIXED COUPON: 0.042\n",
      "FLOAT SPREAD: 0.0\n",
      "FIXED FREQUENCY: FinFrequencyTypes.SEMI_ANNUAL\n",
      "FLOAT FREQUENCY: FinFrequencyTypes.QUARTERLY\n",
      "FIXED DAY COUNT: FinDayCountTypes.ACT_365F\n",
      "FLOAT DAY COUNT: FinDayCountTypes.THIRTY_E_360\n",
      "CALENDAR: FinCalendarTypes.WEEKEND\n",
      "BUS DAY ADJUST: FinBusDayAdjustTypes.FOLLOWING\n",
      "DATE GEN TYPE: FinDateGenRuleTypes.BACKWARD\n",
      "SWAP: \n",
      "OBJECT TYPE: FinLiborSwap\n",
      "START DATE: FRI 20 SEP 2019\n",
      "TERMINATION DATE: THU 20 SEP 2029\n",
      "MATURITY DATE: THU 20 SEP 2029\n",
      "NOTIONAL: 1000000\n",
      "SWAP TYPE: FinLiborSwapTypes.PAYER\n",
      "FIXED COUPON: 0.041\n",
      "FLOAT SPREAD: 0.0\n",
      "FIXED FREQUENCY: FinFrequencyTypes.SEMI_ANNUAL\n",
      "FLOAT FREQUENCY: FinFrequencyTypes.QUARTERLY\n",
      "FIXED DAY COUNT: FinDayCountTypes.ACT_365F\n",
      "FLOAT DAY COUNT: FinDayCountTypes.THIRTY_E_360\n",
      "CALENDAR: FinCalendarTypes.WEEKEND\n",
      "BUS DAY ADJUST: FinBusDayAdjustTypes.FOLLOWING\n",
      "DATE GEN TYPE: FinDateGenRuleTypes.BACKWARD\n",
      "INTERP TYPE: FinInterpTypes.LINEAR_SWAP_RATES\n",
      "GRID TIMES: GRID DFS\n",
      "  0.000000: 1.0000000000\n",
      "  0.084932: 0.9982807387\n",
      "  0.249315: 0.9942828735\n",
      "  0.498630: 0.9876543210\n",
      "  0.756164: 0.9792827298\n",
      "  1.005479: 0.9698511009\n",
      "  1.504110: 0.9532996319\n",
      "  2.002740: 0.9383275237\n",
      "  2.501370: 0.9200773590\n",
      "  3.002740: 0.9006833466\n",
      "  3.498630: 0.8813272050\n",
      "  4.002740: 0.8609252112\n",
      "  4.501370: 0.8400855153\n",
      "  5.005479: 0.8183954409\n",
      "  5.501370: 0.8000805543\n",
      "  6.010959: 0.7812439416\n",
      "  6.501370: 0.7631027824\n",
      "  7.008219: 0.7443671861\n",
      "  7.506849: 0.7301482312\n",
      "  8.005479: 0.7163372486\n",
      "  8.504110: 0.7029226027\n",
      "  9.008219: 0.6897533842\n",
      "  9.504110: 0.6771697873\n",
      " 10.008219: 0.6647481483\n",
      "\n"
     ]
    }
   ],
   "source": [
    "print(liborCurve)"
   ]
  },
  {
   "cell_type": "markdown",
   "metadata": {},
   "source": [
    "Copyright (c) Dominic O'Kane 2020"
   ]
  }
 ],
 "metadata": {
  "kernelspec": {
   "display_name": "Python 3",
   "language": "python",
   "name": "python3"
  },
  "language_info": {
   "codemirror_mode": {
    "name": "ipython",
    "version": 3
   },
   "file_extension": ".py",
   "mimetype": "text/x-python",
   "name": "python",
   "nbconvert_exporter": "python",
   "pygments_lexer": "ipython3",
   "version": "3.7.6"
  }
 },
 "nbformat": 4,
 "nbformat_minor": 4
}
