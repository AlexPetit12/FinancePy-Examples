{
 "cells": [
  {
   "cell_type": "markdown",
   "metadata": {},
   "source": [
    "# Creating and Valuing a CDS Contract"
   ]
  },
  {
   "cell_type": "markdown",
   "metadata": {},
   "source": [
    "Replicating Markit Pricing on 20 Aug 2020"
   ]
  },
  {
   "cell_type": "code",
   "execution_count": 1,
   "metadata": {},
   "outputs": [],
   "source": [
    "import numpy as np\n",
    "import matplotlib.pyplot as plt"
   ]
  },
  {
   "cell_type": "code",
   "execution_count": 1,
   "metadata": {},
   "outputs": [
    {
     "name": "stdout",
     "output_type": "stream",
     "text": [
      "###################################################################\n",
      "# FINANCEPY BETA Version 0.180 - This build: 10 Sep 2020 at 16:40 #\n",
      "#     This software is distributed FREE & WITHOUT ANY WARRANTY    #\n",
      "# For info and disclaimer - https://github.com/domokane/FinancePy #\n",
      "###################################################################\n",
      "\n"
     ]
    }
   ],
   "source": [
    "from financepy.finutils import *\n",
    "from financepy.products.libor import *\n",
    "from financepy.products.credit import *"
   ]
  },
  {
   "cell_type": "markdown",
   "metadata": {},
   "source": [
    "## Creating a CDS Contract"
   ]
  },
  {
   "cell_type": "code",
   "execution_count": 2,
   "metadata": {},
   "outputs": [],
   "source": [
    "tradeDate = FinDate(20, 8, 2020)\n",
    "effectiveDate = FinDate(21, 8, 2020)\n",
    "maturityDate = FinDate(20, 6, 2025)\n",
    "runningCoupon = 0.05\n",
    "notional = ONE_MILLION\n",
    "longProtection = True"
   ]
  },
  {
   "cell_type": "code",
   "execution_count": 3,
   "metadata": {},
   "outputs": [],
   "source": [
    "cdsContract = FinCDS(effectiveDate, maturityDate, runningCoupon, notional, longProtection)"
   ]
  },
  {
   "cell_type": "markdown",
   "metadata": {},
   "source": [
    "## Build Libor Curve"
   ]
  },
  {
   "cell_type": "code",
   "execution_count": 4,
   "metadata": {},
   "outputs": [],
   "source": [
    "settlementDate = FinDate(24, 8, 2020)"
   ]
  },
  {
   "cell_type": "code",
   "execution_count": 5,
   "metadata": {},
   "outputs": [],
   "source": [
    "dcType = FinDayCountTypes.ACT_360\n",
    "depo1 = FinLiborDeposit(settlementDate, \"1M\", 0.001709, dcType)\n",
    "depo2 = FinLiborDeposit(settlementDate, \"2M\", 0.002123, dcType)\n",
    "depo3 = FinLiborDeposit(settlementDate, \"3M\", 0.002469, dcType)\n",
    "depo4 = FinLiborDeposit(settlementDate, \"6M\", 0.003045, dcType)\n",
    "depo5 = FinLiborDeposit(settlementDate, \"12M\", 0.004449, dcType)\n",
    "depos = [depo1,depo2,depo3,depo4,depo5]\n",
    "\n",
    "dcType = FinDayCountTypes.THIRTY_E_360_ISDA\n",
    "fixedFreq = FinFrequencyTypes.SEMI_ANNUAL\n",
    "swap1 = FinLiborSwap(settlementDate,\"2Y\",0.002155,fixedFreq,dcType)\n",
    "swap2 = FinLiborSwap(settlementDate,\"3Y\",0.002305,fixedFreq,dcType)\n",
    "swap3 = FinLiborSwap(settlementDate,\"4Y\",0.002665,fixedFreq,dcType)\n",
    "swap4 = FinLiborSwap(settlementDate,\"5Y\",0.003290,fixedFreq,dcType)\n",
    "swap5 = FinLiborSwap(settlementDate,\"6Y\",0.004025,fixedFreq,dcType)\n",
    "swap6 = FinLiborSwap(settlementDate,\"7Y\",0.004725,fixedFreq,dcType)\n",
    "swap7 = FinLiborSwap(settlementDate,\"8Y\",0.005430,fixedFreq,dcType)\n",
    "swap8 = FinLiborSwap(settlementDate,\"9Y\",0.006075,fixedFreq,dcType)\n",
    "swap9 = FinLiborSwap(settlementDate,\"10Y\",0.006640,fixedFreq,dcType)\n",
    "swaps = [swap1,swap2,swap3,swap4,swap5,swap6,swap7,swap8,swap9]\n",
    "\n",
    "liborCurve = FinLiborCurve(settlementDate, depos, [], swaps)"
   ]
  },
  {
   "cell_type": "markdown",
   "metadata": {},
   "source": [
    "# Build a CDS Curve"
   ]
  },
  {
   "cell_type": "code",
   "execution_count": 6,
   "metadata": {},
   "outputs": [],
   "source": [
    "cdsSpread = 0.01"
   ]
  },
  {
   "cell_type": "code",
   "execution_count": 7,
   "metadata": {},
   "outputs": [],
   "source": [
    "cds1 = FinCDS(settlementDate, \"6M\", cdsSpread)\n",
    "cds2 = FinCDS(settlementDate, \"1Y\", cdsSpread)\n",
    "cds3 = FinCDS(settlementDate, \"2Y\", cdsSpread)\n",
    "cds4 = FinCDS(settlementDate, \"3Y\", cdsSpread)\n",
    "cds5 = FinCDS(settlementDate, \"4Y\", cdsSpread)\n",
    "cds6 = FinCDS(settlementDate, \"5Y\", cdsSpread)\n",
    "cds7 = FinCDS(settlementDate, \"7Y\", cdsSpread)\n",
    "cds8 = FinCDS(settlementDate, \"10Y\", cdsSpread)"
   ]
  },
  {
   "cell_type": "code",
   "execution_count": 8,
   "metadata": {},
   "outputs": [],
   "source": [
    "cdss = [cds1, cds2, cds3, cds4, cds5, cds6, cds7, cds8]"
   ]
  },
  {
   "cell_type": "code",
   "execution_count": 9,
   "metadata": {},
   "outputs": [],
   "source": [
    "recoveryRate = 0.40"
   ]
  },
  {
   "cell_type": "code",
   "execution_count": 10,
   "metadata": {},
   "outputs": [],
   "source": [
    "issuerCurve = FinCDSCurve(settlementDate, cdss, liborCurve, recoveryRate)"
   ]
  },
  {
   "cell_type": "code",
   "execution_count": 11,
   "metadata": {},
   "outputs": [
    {
     "name": "stdout",
     "output_type": "stream",
     "text": [
      "OBJECT TYPE: FinCDSCurve\n",
      "TIME,SURVIVAL_PROBABILITY\n",
      " 0.0000000,  1.0000000\n",
      " 0.5698630,  0.9903756\n",
      " 1.0739726,  0.9819794\n",
      " 2.0739726,  0.9655268\n",
      " 3.0739726,  0.9493544\n",
      " 4.0767123,  0.9334122\n",
      " 5.0767123,  0.9177837\n",
      " 7.0767123,  0.8873181\n",
      "10.0794521,  0.8434794\n"
     ]
    }
   ],
   "source": [
    "print(issuerCurve)"
   ]
  },
  {
   "cell_type": "code",
   "execution_count": 12,
   "metadata": {},
   "outputs": [
    {
     "name": "stdout",
     "output_type": "stream",
     "text": [
      "PAYMENT_DATE      YEAR_FRAC      FLOW           DF       SURV_PROB      NPV\n",
      "MON 21 SEP 2020   0.252778     12638.89     0.999867     0.998699     12620.77\n",
      "MON 21 DEC 2020   0.252778     12638.89     0.999098     0.994482     12557.82\n",
      "MON 22 MAR 2021   0.252778     12638.89     0.998024     0.990284     12491.35\n",
      "MON 21 JUN 2021   0.252778     12638.89     0.996547     0.986123     12420.46\n",
      "MON 20 SEP 2021   0.252778     12638.89     0.995695     0.981979     12357.70\n",
      "MON 20 DEC 2021   0.252778     12638.89     0.996322     0.977851     12313.51\n",
      "MON 21 MAR 2022   0.252778     12638.89     0.996629     0.973741     12265.52\n",
      "MON 20 JUN 2022   0.252778     12638.89     0.996090     0.969648     12207.35\n",
      "TUE 20 SEP 2022   0.255556     12777.78     0.995520     0.965527     12282.01\n",
      "TUE 20 DEC 2022   0.252778     12638.89     0.994896     0.961469     12089.88\n",
      "MON 20 MAR 2023   0.250000     12500.00     0.994268     0.957473     11899.81\n",
      "TUE 20 JUN 2023   0.255556     12777.78     0.993592     0.953405     12104.34\n",
      "WED 20 SEP 2023   0.255556     12777.78     0.992855     0.949354     12043.97\n",
      "WED 20 DEC 2023   0.252778     12638.89     0.991979     0.945365     11852.53\n",
      "WED 20 MAR 2024   0.252778     12638.89     0.991080     0.941393     11792.03\n",
      "THU 20 JUN 2024   0.255556     12777.78     0.990099     0.937394     11859.22\n",
      "FRI 20 SEP 2024   0.255556     12777.78     0.989015     0.933412     11795.91\n",
      "FRI 20 DEC 2024   0.252778     12638.89     0.987666     0.929491     11602.83\n",
      "THU 20 MAR 2025   0.250000     12500.00     0.986289     0.925629     11411.72\n",
      "SAT 21 JUN 2025   0.258333     12916.67     0.984743     0.921655     11723.09\n"
     ]
    }
   ],
   "source": [
    "cdsContract.printFlows(issuerCurve)"
   ]
  },
  {
   "cell_type": "markdown",
   "metadata": {},
   "source": [
    "# Valuation"
   ]
  },
  {
   "cell_type": "code",
   "execution_count": 13,
   "metadata": {},
   "outputs": [
    {
     "name": "stdout",
     "output_type": "stream",
     "text": [
      "FAIR CDS SPREAD   99.99955 bp\n"
     ]
    }
   ],
   "source": [
    "spd = cdsContract.parSpread(settlementDate, issuerCurve, recoveryRate) * 10000.0\n",
    "print(\"FAIR CDS SPREAD %10.5f bp\"% spd)"
   ]
  },
  {
   "cell_type": "code",
   "execution_count": 16,
   "metadata": {},
   "outputs": [
    {
     "data": {
      "text/plain": [
       "(-195415.6774526287, -187082.34411929536, 533.3107521702477, 44.26519766962156)"
      ]
     },
     "execution_count": 16,
     "metadata": {},
     "output_type": "execute_result"
    }
   ],
   "source": [
    "cdsContract.valueFastApprox(settlementDate, 0.004, 0.01, 0.40, 0.40)"
   ]
  },
  {
   "cell_type": "code",
   "execution_count": 17,
   "metadata": {},
   "outputs": [],
   "source": [
    "v = cdsContract.value(settlementDate, issuerCurve, recoveryRate)"
   ]
  },
  {
   "cell_type": "code",
   "execution_count": 18,
   "metadata": {},
   "outputs": [],
   "source": [
    "full_pv = v['full_pv'] \n",
    "clean_pv = v['clean_pv']"
   ]
  },
  {
   "cell_type": "code",
   "execution_count": 19,
   "metadata": {},
   "outputs": [
    {
     "name": "stdout",
     "output_type": "stream",
     "text": [
      "FULL VALUE    -195421.00\n",
      "CLEAN VALUE   -187087.66\n"
     ]
    }
   ],
   "source": [
    "print(\"FULL VALUE  %12.2f\"% full_pv)\n",
    "print(\"CLEAN VALUE %12.2f\"% clean_pv)"
   ]
  },
  {
   "cell_type": "code",
   "execution_count": 20,
   "metadata": {},
   "outputs": [
    {
     "name": "stdout",
     "output_type": "stream",
     "text": [
      "CLEAN PRICE   118.708758\n"
     ]
    }
   ],
   "source": [
    "cleanp = cdsContract.cleanPrice(settlementDate, issuerCurve, recoveryRate)\n",
    "print(\"CLEAN PRICE %12.6f\"% cleanp)"
   ]
  },
  {
   "cell_type": "code",
   "execution_count": 21,
   "metadata": {},
   "outputs": [
    {
     "name": "stdout",
     "output_type": "stream",
     "text": [
      "ACCRUED_DAYS 60\n"
     ]
    }
   ],
   "source": [
    "accruedDays = cdsContract.accruedDays()\n",
    "print(\"ACCRUED_DAYS\", accruedDays)"
   ]
  },
  {
   "cell_type": "code",
   "execution_count": 22,
   "metadata": {},
   "outputs": [
    {
     "name": "stdout",
     "output_type": "stream",
     "text": [
      "ACCRUED_COUPON -8333.333333333334\n"
     ]
    }
   ],
   "source": [
    "accruedInterest = cdsContract.accruedInterest()\n",
    "print(\"ACCRUED_COUPON\", accruedInterest)"
   ]
  },
  {
   "cell_type": "code",
   "execution_count": 23,
   "metadata": {},
   "outputs": [
    {
     "name": "stdout",
     "output_type": "stream",
     "text": [
      "PROTECTION_PV 46771.65011290441\n"
     ]
    }
   ],
   "source": [
    "protPV = cdsContract.protectionLegPV(settlementDate, issuerCurve, recoveryRate)\n",
    "print(\"PROTECTION_PV\", protPV)"
   ]
  },
  {
   "cell_type": "code",
   "execution_count": 24,
   "metadata": {},
   "outputs": [
    {
     "name": "stdout",
     "output_type": "stream",
     "text": [
      "PREMIUM_PV 242192.64702501387\n"
     ]
    }
   ],
   "source": [
    "premPV = cdsContract.premiumLegPV(settlementDate, issuerCurve, recoveryRate)\n",
    "print(\"PREMIUM_PV\", premPV)"
   ]
  },
  {
   "cell_type": "code",
   "execution_count": 25,
   "metadata": {},
   "outputs": [
    {
     "data": {
      "text/plain": [
       "{'full_rpv01': 4.843852940500277, 'clean_rpv01': 4.67718627383361}"
      ]
     },
     "execution_count": 25,
     "metadata": {},
     "output_type": "execute_result"
    }
   ],
   "source": [
    "cdsContract.riskyPV01(settlementDate, issuerCurve)"
   ]
  },
  {
   "cell_type": "markdown",
   "metadata": {},
   "source": [
    "## Risk Measures"
   ]
  },
  {
   "cell_type": "code",
   "execution_count": 26,
   "metadata": {},
   "outputs": [
    {
     "data": {
      "text/plain": [
       "542.5032361748454"
      ]
     },
     "execution_count": 26,
     "metadata": {},
     "output_type": "execute_result"
    }
   ],
   "source": [
    "cdsContract.creditDV01(settlementDate, issuerCurve, recoveryRate)"
   ]
  },
  {
   "cell_type": "code",
   "execution_count": 27,
   "metadata": {},
   "outputs": [
    {
     "data": {
      "text/plain": [
       "46.52493246647646"
      ]
     },
     "execution_count": 27,
     "metadata": {},
     "output_type": "execute_result"
    }
   ],
   "source": [
    "cdsContract.interestDV01(settlementDate, issuerCurve, recoveryRate)"
   ]
  },
  {
   "cell_type": "markdown",
   "metadata": {},
   "source": [
    "Copyright (c) 2020 Dominic O'Kane"
   ]
  }
 ],
 "metadata": {
  "kernelspec": {
   "display_name": "Python 3",
   "language": "python",
   "name": "python3"
  },
  "language_info": {
   "codemirror_mode": {
    "name": "ipython",
    "version": 3
   },
   "file_extension": ".py",
   "mimetype": "text/x-python",
   "name": "python",
   "nbconvert_exporter": "python",
   "pygments_lexer": "ipython3",
   "version": "3.7.6"
  }
 },
 "nbformat": 4,
 "nbformat_minor": 2
}
