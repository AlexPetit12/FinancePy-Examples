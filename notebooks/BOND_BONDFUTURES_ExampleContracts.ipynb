{
 "cells": [
  {
   "cell_type": "markdown",
   "metadata": {},
   "source": [
    "# ANALYSING BOND FUTURES CONTRACTS"
   ]
  },
  {
   "cell_type": "markdown",
   "metadata": {},
   "source": [
    "In this notebook I analyse a CME bond futures contract"
   ]
  },
  {
   "cell_type": "code",
   "execution_count": 1,
   "metadata": {},
   "outputs": [],
   "source": [
    "import datetime as dt"
   ]
  },
  {
   "cell_type": "code",
   "execution_count": 2,
   "metadata": {},
   "outputs": [],
   "source": [
    "from financepy.products.bonds.FinBondFuture import FinBondFuture\n",
    "from financepy.products.bonds.FinBond import FinBond\n",
    "from financepy.finutils.FinFrequency import FinFrequencyTypes\n",
    "from financepy.finutils.FinDayCount import FinDayCountTypes\n",
    "from financepy.finutils.FinDate import FinDate"
   ]
  },
  {
   "cell_type": "markdown",
   "metadata": {},
   "source": [
    "## Example from CME"
   ]
  },
  {
   "cell_type": "markdown",
   "metadata": {},
   "source": [
    "https://www.cmegroup.com/education/files/understanding-treasury-futures.pdf"
   ]
  },
  {
   "cell_type": "code",
   "execution_count": 3,
   "metadata": {},
   "outputs": [],
   "source": [
    "firstDeliveryDate = FinDate(1, 12, 2017)\n",
    "lastDeliveryDate = FinDate(28, 12, 2017)\n",
    "\n",
    "contractSize = 100000\n",
    "contractCoupon = 0.06\n",
    "\n",
    "bondFutureContract = FinBondFuture(\"TYZ7\", firstDeliveryDate, lastDeliveryDate, contractSize, contractCoupon)"
   ]
  },
  {
   "cell_type": "code",
   "execution_count": 13,
   "metadata": {},
   "outputs": [
    {
     "name": "stdout",
     "output_type": "stream",
     "text": [
      "TICKER NAME: TYZ7\n",
      "FIRST DELIVERY DATE: FRI 1 DEC 2017\n",
      "LAST DELIVERY DATE: THU 28 DEC 2017\n",
      "CONTRACT SIZE: 100000\n",
      "COUPON: 0.06\n",
      "\n"
     ]
    }
   ],
   "source": [
    "print(bondFutureContract)"
   ]
  },
  {
   "cell_type": "code",
   "execution_count": 4,
   "metadata": {},
   "outputs": [],
   "source": [
    "freq = FinFrequencyTypes.SEMI_ANNUAL\n",
    "basis = FinDayCountTypes.ACT_ACT_ICMA\n",
    "settlementDate = FinDate(10, 10, 2017)"
   ]
  },
  {
   "cell_type": "code",
   "execution_count": 5,
   "metadata": {},
   "outputs": [],
   "source": [
    "bonds = []\n",
    "prices = []\n",
    "bond = FinBond(FinDate(15, 8, 2027), 0.0225, freq, basis); bonds.append(bond); prices.append(99 + 1 / 32)\n",
    "bond = FinBond(FinDate(15, 5, 2027), 0.02375, freq, basis); bonds.append(bond); prices.append(100 + 5 / 32 + 1 / 64)\n",
    "bond = FinBond(FinDate(15, 2, 2027), 0.0225, freq, basis); bonds.append(bond); prices.append(99 + 5 / 32 + 1 / 64)\n",
    "bond = FinBond(FinDate(15, 11, 2026), 0.02, freq, basis); bonds.append(bond); prices.append(97 + 7 / 32 + 1 / 64)\n",
    "bond = FinBond(FinDate(5, 8, 2026), 0.015, freq, basis); bonds.append(bond); prices.append(93 + 14 / 32)\n",
    "bond = FinBond(FinDate(15, 5, 2026), 0.01625, freq, basis); bonds.append(bond); prices.append(94 + 21 / 32 + 1 / 64)\n",
    "bond = FinBond(FinDate(15, 2, 2026), 0.01625, freq, basis); bonds.append(bond); prices.append(94 + 29 / 32)\n",
    "bond = FinBond(FinDate(15, 11, 2025), 0.0225, freq, basis); bonds.append(bond); prices.append(99 + 25 / 32)\n",
    "bond = FinBond(FinDate(15, 8, 2025), 0.02, freq, basis); bonds.append(bond); prices.append(98 + 3 / 32)\n",
    "bond = FinBond(FinDate(15, 5, 2025), 0.02125, freq, basis); bonds.append(bond); prices.append(99 + 5 / 32 + 1 / 64)\n",
    "bond = FinBond(FinDate(15, 2, 2025), 0.02, freq, basis); bonds.append(bond); prices.append(98 + 14 / 32 + 1 / 64)\n",
    "bond = FinBond(FinDate(15, 11, 2024), 0.0225, freq, basis); bonds.append(bond); prices.append(100 + 9 / 32 + 1 / 64)\n",
    "bond = FinBond(FinDate(15, 8, 2024), 0.02375, freq, basis); bonds.append(bond); prices.append(101 + 7 / 32 + 1 / 64)\n",
    "bond = FinBond(FinDate(15, 8, 2024), 0.01875, freq, basis); bonds.append(bond); prices.append(98 + 1 / 32 + 0/64) #TYPO IN REPT"
   ]
  },
  {
   "cell_type": "markdown",
   "metadata": {},
   "source": [
    "Calculate the bond yield"
   ]
  },
  {
   "cell_type": "code",
   "execution_count": 6,
   "metadata": {},
   "outputs": [
    {
     "name": "stdout",
     "output_type": "stream",
     "text": [
      "     Bond Maturity    Coupon        Yield\n",
      "   SUN 15 AUG 2027   2.25000   2.36049984\n",
      "   SAT 15 MAY 2027   2.37500   2.35463188\n",
      "   MON 15 FEB 2027   2.25000   2.34885040\n",
      "   SUN 15 NOV 2026   2.00000   2.33900466\n",
      "    WED 5 AUG 2026   1.50000   2.32695325\n",
      "   FRI 15 MAY 2026   1.62500   2.31166907\n",
      "   SUN 15 FEB 2026   1.62500   2.29879314\n",
      "   SAT 15 NOV 2025   2.25000   2.27946129\n",
      "   FRI 15 AUG 2025   2.00000   2.26615960\n",
      "   THU 15 MAY 2025   2.12500   2.24388311\n",
      "   SAT 15 FEB 2025   2.00000   2.22903638\n",
      "   FRI 15 NOV 2024   2.25000   2.20429165\n",
      "   THU 15 AUG 2024   2.37500   2.17956249\n",
      "   THU 15 AUG 2024   1.87500   2.18575341\n"
     ]
    }
   ],
   "source": [
    "print(\"%18s %9s %12s\" % (\"Bond Maturity\", \"Coupon\", \"Yield\"))\n",
    "for bond, cleanPrice in zip(bonds, prices):\n",
    "    yld = bond.yieldToMaturity(settlementDate, cleanPrice)\n",
    "    dt = bond._maturityDate\n",
    "    print(\"%18s %9.5f %12.8f\"% (dt, bond._coupon * 100, yld*100))"
   ]
  },
  {
   "cell_type": "markdown",
   "metadata": {},
   "source": [
    "Get the conversion factors"
   ]
  },
  {
   "cell_type": "code",
   "execution_count": 7,
   "metadata": {},
   "outputs": [
    {
     "name": "stdout",
     "output_type": "stream",
     "text": [
      "     Bond Maturity    Coupon    Conv Fact\n",
      "   SUN 15 AUG 2027   2.25000  73.14290000\n",
      "   SAT 15 MAY 2027   2.37500  74.54960000\n",
      "   MON 15 FEB 2027   2.25000  74.21220000\n",
      "   SUN 15 NOV 2026   2.00000  73.07560000\n",
      "    WED 5 AUG 2026   1.50000  70.37620000\n",
      "   FRI 15 MAY 2026   1.62500  71.85660000\n",
      "   SUN 15 FEB 2026   1.62500  72.52260000\n",
      "   SAT 15 NOV 2025   2.25000  77.02690000\n",
      "   FRI 15 AUG 2025   2.00000  76.12410000\n",
      "   THU 15 MAY 2025   2.12500  77.48700000\n",
      "   SAT 15 FEB 2025   2.00000  77.40790000\n",
      "   FRI 15 NOV 2024   2.25000  79.43430000\n",
      "   THU 15 AUG 2024   2.37500  80.72410000\n",
      "   THU 15 AUG 2024   1.87500  78.06540000\n"
     ]
    }
   ],
   "source": [
    "print(\"%18s %9s %12s\" % (\"Bond Maturity\", \"Coupon\", \"Conv Fact\"))\n",
    "for bond in bonds:\n",
    "    cf = bondFutureContract.conversionFactor(bond)\n",
    "    dt = bond._maturityDate\n",
    "    print(\"%18s %9.5f %12.8f\"% (dt, bond._coupon * 100, cf))"
   ]
  },
  {
   "cell_type": "code",
   "execution_count": 8,
   "metadata": {},
   "outputs": [],
   "source": [
    "# Get the Invoice Prices\n",
    "futuresPrice = 125 + 8/32 + 1/64"
   ]
  },
  {
   "cell_type": "code",
   "execution_count": 9,
   "metadata": {},
   "outputs": [
    {
     "data": {
      "text/plain": [
       "125.265625"
      ]
     },
     "execution_count": 9,
     "metadata": {},
     "output_type": "execute_result"
    }
   ],
   "source": [
    "futuresPrice"
   ]
  },
  {
   "cell_type": "code",
   "execution_count": 10,
   "metadata": {},
   "outputs": [
    {
     "name": "stdout",
     "output_type": "stream",
     "text": [
      "          MATURITY       COUPON     PRINC.INV. PRICE\n",
      "   SUN 15 AUG 2027      2.25000         9162291.0800\n",
      "   SAT 15 MAY 2027      2.37500         9338502.2400\n",
      "   MON 15 FEB 2027      2.25000         9296237.6200\n",
      "   SUN 15 NOV 2026      2.00000         9153860.7100\n",
      "    WED 5 AUG 2026      1.50000         8815718.6800\n",
      "   FRI 15 MAY 2026      1.62500         9001161.9100\n",
      "   SUN 15 FEB 2026      1.62500         9084588.8200\n",
      "   SAT 15 NOV 2025      2.25000         9648822.7700\n",
      "   FRI 15 AUG 2025      2.00000         9535732.9600\n",
      "   THU 15 MAY 2025      2.12500         9706457.4800\n",
      "   SAT 15 FEB 2025      2.00000         9696548.9700\n",
      "   FRI 15 NOV 2024      2.25000         9950387.2400\n",
      "   THU 15 AUG 2024      2.37500        10111954.8400\n",
      "   THU 15 AUG 2024      1.87500         9778911.1200\n"
     ]
    }
   ],
   "source": [
    "print(\"%18s %12s %20s\"%(\"MATURITY\", \"COUPON\", \"PRINC.INV. PRICE\"))\n",
    "\n",
    "for bond in bonds:\n",
    "    pip = bondFutureContract.principalInvoicePrice(bond, futuresPrice)\n",
    "    print(\"%18s %12.5f %20.4f\"% (str(bond._maturityDate), bond._coupon*100, pip))"
   ]
  },
  {
   "cell_type": "code",
   "execution_count": 11,
   "metadata": {},
   "outputs": [
    {
     "name": "stdout",
     "output_type": "stream",
     "text": [
      "          MATURITY       COUPON   DELIVERY GAIN/LOSS\n",
      "   SUN 15 AUG 2027      2.25000         9063259.8300\n",
      "   SAT 15 MAY 2027      2.37500         9238330.3650\n",
      "   MON 15 FEB 2027      2.25000         9197065.7450\n",
      "   SUN 15 NOV 2026      2.00000         9056626.3350\n",
      "    WED 5 AUG 2026      1.50000         8722281.1800\n",
      "   FRI 15 MAY 2026      1.62500         8906490.0350\n",
      "   SUN 15 FEB 2026      1.62500         8989682.5700\n",
      "   SAT 15 NOV 2025      2.25000         9549041.5200\n",
      "   FRI 15 AUG 2025      2.00000         9437639.2100\n",
      "   THU 15 MAY 2025      2.12500         9607285.6050\n",
      "   SAT 15 FEB 2025      2.00000         9598095.8450\n",
      "   FRI 15 NOV 2024      2.25000         9850090.3650\n",
      "   THU 15 AUG 2024      2.37500        10010720.4650\n",
      "   THU 15 AUG 2024      1.87500         9680879.8700\n"
     ]
    }
   ],
   "source": [
    "print(\"%18s %12s %20s\" %(\"MATURITY\", \"COUPON\", \"DELIVERY GAIN/LOSS\"))\n",
    "\n",
    "for bond, cleanPrice in zip(bonds, prices):\n",
    "    gainloss, payForBond, receiveOnFuture = bondFutureContract.deliveryGainLoss(bond, cleanPrice, futuresPrice)\n",
    "    print(\"%18s %12.5f %20.4f\"% (str(bond._maturityDate), bond._coupon*100, gainloss))"
   ]
  },
  {
   "cell_type": "code",
   "execution_count": 12,
   "metadata": {},
   "outputs": [
    {
     "name": "stdout",
     "output_type": "stream",
     "text": [
      "CTD MATURITY CTD COUPON\n",
      "THU 15 AUG 2024 2.375\n"
     ]
    }
   ],
   "source": [
    "ctd = bondFutureContract.cheapestToDeliver(bonds, prices, futuresPrice)\n",
    "print(\"CTD MATURITY\", \"CTD COUPON\")\n",
    "print(str(ctd._maturityDate), ctd._coupon*100)"
   ]
  },
  {
   "cell_type": "markdown",
   "metadata": {},
   "source": [
    "Copyright (c) 2019, Dominic O'Kane "
   ]
  }
 ],
 "metadata": {
  "kernelspec": {
   "display_name": "Python 3",
   "language": "python",
   "name": "python3"
  },
  "language_info": {
   "codemirror_mode": {
    "name": "ipython",
    "version": 3
   },
   "file_extension": ".py",
   "mimetype": "text/x-python",
   "name": "python",
   "nbconvert_exporter": "python",
   "pygments_lexer": "ipython3",
   "version": "3.7.7"
  }
 },
 "nbformat": 4,
 "nbformat_minor": 2
}
