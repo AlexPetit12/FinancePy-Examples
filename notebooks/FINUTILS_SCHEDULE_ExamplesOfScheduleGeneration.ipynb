{
 "cells": [
  {
   "cell_type": "markdown",
   "metadata": {},
   "source": [
    "# Schedule Generation"
   ]
  },
  {
   "cell_type": "markdown",
   "metadata": {},
   "source": [
    "Examples of how to generate schedules"
   ]
  },
  {
   "cell_type": "code",
   "execution_count": 1,
   "metadata": {},
   "outputs": [
    {
     "name": "stdout",
     "output_type": "stream",
     "text": [
      "####################################################################\n",
      "# FINANCEPY BETA Version 0.180 - This build:  22 Sep 2020 at 22:40 #\n",
      "#      This software is distributed FREE & WITHOUT ANY WARRANTY    #\n",
      "# For info and disclaimer - https://github.com/domokane/FinancePy  #\n",
      "#    For bug reports and comments - allmypythonprojects@gmail.com  #\n",
      "####################################################################\n",
      "\n"
     ]
    }
   ],
   "source": [
    "from financepy.finutils import *"
   ]
  },
  {
   "cell_type": "code",
   "execution_count": 2,
   "metadata": {},
   "outputs": [],
   "source": [
    "startDate = FinDate(4, 8, 2016)\n",
    "endDate = FinDate(1, 5, 2022)"
   ]
  },
  {
   "cell_type": "code",
   "execution_count": 3,
   "metadata": {},
   "outputs": [],
   "source": [
    "frequencyType = FinFrequencyTypes.ANNUAL\n",
    "calendarType = FinCalendarTypes.WEEKEND\n",
    "busDayAdjustType = FinBusDayAdjustTypes.FOLLOWING\n",
    "dateGenRuleType = FinDateGenRuleTypes.BACKWARD\n",
    "schedule = FinSchedule(startDate, endDate, frequencyType, calendarType, \n",
    "                       busDayAdjustType, dateGenRuleType)"
   ]
  },
  {
   "cell_type": "code",
   "execution_count": 4,
   "metadata": {},
   "outputs": [
    {
     "name": "stdout",
     "output_type": "stream",
     "text": [
      "START DATE: THU 04 AUG 2016\n",
      "END DATE: SUN 01 MAY 2022\n",
      "FREQUENCY: FinFrequencyTypes.ANNUAL\n",
      "CALENDAR: FinCalendarTypes.WEEKEND\n",
      "BUSDAYRULE: FinBusDayAdjustTypes.FOLLOWING\n",
      "DATEGENRULE: FinDateGenRuleTypes.BACKWARD\n",
      "\n",
      "PCD: SUN 01 MAY 2016\n",
      "NCD: MON 01 MAY 2017\n",
      "     TUE 01 MAY 2018\n",
      "     WED 01 MAY 2019\n",
      "     FRI 01 MAY 2020\n",
      "     MON 03 MAY 2021\n",
      "     MON 02 MAY 2022\n"
     ]
    }
   ],
   "source": [
    "print(schedule)"
   ]
  },
  {
   "cell_type": "markdown",
   "metadata": {},
   "source": [
    "The first date is the previous coupon date. The next date is the next coupon date after today."
   ]
  },
  {
   "cell_type": "code",
   "execution_count": 8,
   "metadata": {},
   "outputs": [],
   "source": [
    "frequencyType = FinFrequencyTypes.SEMI_ANNUAL\n",
    "calendarType = FinCalendarTypes.WEEKEND\n",
    "busDayAdjustType = FinBusDayAdjustTypes.FOLLOWING\n",
    "dateGenRuleType = FinDateGenRuleTypes.BACKWARD\n",
    "schedule = FinSchedule(startDate, endDate, frequencyType, calendarType, busDayAdjustType, dateGenRuleType)"
   ]
  },
  {
   "cell_type": "code",
   "execution_count": 9,
   "metadata": {},
   "outputs": [
    {
     "name": "stdout",
     "output_type": "stream",
     "text": [
      "START DATE: THU 04 AUG 2016\n",
      "END DATE: SUN 01 MAY 2022\n",
      "FREQUENCY: FinFrequencyTypes.SEMI_ANNUAL\n",
      "CALENDAR: FinCalendarTypes.WEEKEND\n",
      "BUSDAYRULE: FinBusDayAdjustTypes.FOLLOWING\n",
      "DATEGENRULE: FinDateGenRuleTypes.BACKWARD\n",
      "\n",
      "PCD: MON 02 MAY 2016\n",
      "NCD: TUE 01 NOV 2016\n",
      "     MON 01 MAY 2017\n",
      "     WED 01 NOV 2017\n",
      "     TUE 01 MAY 2018\n",
      "     THU 01 NOV 2018\n",
      "     WED 01 MAY 2019\n",
      "     FRI 01 NOV 2019\n",
      "     FRI 01 MAY 2020\n",
      "     MON 02 NOV 2020\n",
      "     MON 03 MAY 2021\n",
      "     MON 01 NOV 2021\n",
      "     MON 02 MAY 2022\n"
     ]
    }
   ],
   "source": [
    "print(schedule)"
   ]
  },
  {
   "cell_type": "code",
   "execution_count": 10,
   "metadata": {},
   "outputs": [],
   "source": [
    "frequencyType = FinFrequencyTypes.SEMI_ANNUAL\n",
    "calendarType = FinCalendarTypes.TARGET\n",
    "busDayAdjustType = FinBusDayAdjustTypes.FOLLOWING\n",
    "dateGenRuleType = FinDateGenRuleTypes.BACKWARD\n",
    "schedule = FinSchedule(startDate, endDate, frequencyType, calendarType, busDayAdjustType, dateGenRuleType)"
   ]
  },
  {
   "cell_type": "code",
   "execution_count": 12,
   "metadata": {},
   "outputs": [
    {
     "name": "stdout",
     "output_type": "stream",
     "text": [
      "START DATE: THU 04 AUG 2016\n",
      "END DATE: SUN 01 MAY 2022\n",
      "FREQUENCY: FinFrequencyTypes.SEMI_ANNUAL\n",
      "CALENDAR: FinCalendarTypes.TARGET\n",
      "BUSDAYRULE: FinBusDayAdjustTypes.FOLLOWING\n",
      "DATEGENRULE: FinDateGenRuleTypes.BACKWARD\n",
      "\n",
      "PCD: MON 02 MAY 2016\n",
      "NCD: TUE 01 NOV 2016\n",
      "     TUE 02 MAY 2017\n",
      "     WED 01 NOV 2017\n",
      "     WED 02 MAY 2018\n",
      "     THU 01 NOV 2018\n",
      "     THU 02 MAY 2019\n",
      "     FRI 01 NOV 2019\n",
      "     MON 04 MAY 2020\n",
      "     MON 02 NOV 2020\n",
      "     MON 03 MAY 2021\n",
      "     MON 01 NOV 2021\n",
      "     MON 02 MAY 2022\n"
     ]
    }
   ],
   "source": [
    "print(schedule)"
   ]
  }
 ],
 "metadata": {
  "kernelspec": {
   "display_name": "Python 3",
   "language": "python",
   "name": "python3"
  },
  "language_info": {
   "codemirror_mode": {
    "name": "ipython",
    "version": 3
   },
   "file_extension": ".py",
   "mimetype": "text/x-python",
   "name": "python",
   "nbconvert_exporter": "python",
   "pygments_lexer": "ipython3",
   "version": "3.7.6"
  }
 },
 "nbformat": 4,
 "nbformat_minor": 2
}
