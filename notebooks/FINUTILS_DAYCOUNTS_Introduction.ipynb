{
 "cells": [
  {
   "cell_type": "markdown",
   "metadata": {},
   "source": [
    "# UNDERSTANDING DAY COUNTS"
   ]
  },
  {
   "cell_type": "code",
   "execution_count": 1,
   "metadata": {},
   "outputs": [],
   "source": [
    "# This program is distributed in the hope that it will be useful, but WITHOUT ANY WARRANTY; \n",
    "# without even the implied warranty of MERCHANTABILITY or FITNESS FOR A PARTICULAR PURPOSE.  \n",
    "# See the license for more details."
   ]
  },
  {
   "cell_type": "markdown",
   "metadata": {},
   "source": [
    "## Calculating year fractions according to different conventions"
   ]
  },
  {
   "cell_type": "code",
   "execution_count": 2,
   "metadata": {},
   "outputs": [],
   "source": [
    "from financepy.finutils.FinDate import FinDate\n",
    "from financepy.finutils.FinDayCount import FinDayCount, FinDayCountTypes"
   ]
  },
  {
   "cell_type": "code",
   "execution_count": 14,
   "metadata": {},
   "outputs": [
    {
     "name": "stdout",
     "output_type": "stream",
     "text": [
      "           FinDayCountTypes.THIRTY_E_360_ISDA   0.08056\n",
      "      FinDayCountTypes.THIRTY_E_360_PLUS_ISDA   0.08333\n",
      "                FinDayCountTypes.ACT_ACT_ISDA   0.08219\n",
      "                FinDayCountTypes.ACT_ACT_ICMA   1.00000\n",
      "                FinDayCountTypes.ACT_365_ISDA   0.08219\n",
      "                  FinDayCountTypes.THIRTY_360   0.08333\n",
      "             FinDayCountTypes.THIRTY_360_BOND   0.08333\n",
      "                FinDayCountTypes.THIRTY_E_360   0.08056\n",
      "                     FinDayCountTypes.ACT_360   0.08333\n",
      "               FinDayCountTypes.ACT_365_FIXED   0.08219\n",
      "                FinDayCountTypes.ACT_365_LEAP   0.08219\n"
     ]
    }
   ],
   "source": [
    "numDays = 1\n",
    "\n",
    "for dayCountMethod in FinDayCountTypes:\n",
    "\n",
    "    startDate = FinDate(2019, 1, 1)\n",
    "    nextDate = startDate\n",
    "    dayCount = FinDayCount(dayCountMethod)\n",
    "\n",
    "    for i in range(0, numDays):\n",
    "        nextDate = nextDate.addDays(30)\n",
    "        alpha = dayCount.yearFrac(startDate, nextDate, nextDate)\n",
    "        print(\"%45s %9.5f\" % (dayCount, alpha))"
   ]
  },
  {
   "cell_type": "markdown",
   "metadata": {},
   "source": [
    "Copyright (c) 2020 Dominic O'Kane"
   ]
  },
  {
   "cell_type": "code",
   "execution_count": null,
   "metadata": {},
   "outputs": [],
   "source": []
  }
 ],
 "metadata": {
  "kernelspec": {
   "display_name": "Python 3",
   "language": "python",
   "name": "python3"
  },
  "language_info": {
   "codemirror_mode": {
    "name": "ipython",
    "version": 3
   },
   "file_extension": ".py",
   "mimetype": "text/x-python",
   "name": "python",
   "nbconvert_exporter": "python",
   "pygments_lexer": "ipython3",
   "version": "3.7.7"
  }
 },
 "nbformat": 4,
 "nbformat_minor": 4
}
