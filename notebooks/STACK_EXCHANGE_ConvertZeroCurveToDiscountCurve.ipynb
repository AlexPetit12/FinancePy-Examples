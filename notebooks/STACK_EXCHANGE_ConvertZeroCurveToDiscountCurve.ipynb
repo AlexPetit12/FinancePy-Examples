{
 "cells": [
  {
   "cell_type": "markdown",
   "metadata": {},
   "source": [
    "# Convert Zero Curve to a Discount Curve"
   ]
  },
  {
   "cell_type": "markdown",
   "metadata": {},
   "source": [
    "https://quant.stackexchange.com/questions/58148/how-to-convert-a-zero-curve-to-a-discount-curve"
   ]
  },
  {
   "cell_type": "code",
   "execution_count": 3,
   "metadata": {},
   "outputs": [],
   "source": [
    "import numpy as np\n",
    "import matplotlib.pyplot as plt"
   ]
  },
  {
   "cell_type": "code",
   "execution_count": 4,
   "metadata": {},
   "outputs": [
    {
     "name": "stdout",
     "output_type": "stream",
     "text": [
      "####################################################################\n",
      "# FINANCEPY BETA Version 0.180 - This build:  23 Sep 2020 at 00:02 #\n",
      "#      This software is distributed FREE & WITHOUT ANY WARRANTY    #\n",
      "# For info and disclaimer - https://github.com/domokane/FinancePy  #\n",
      "#    For bug reports and comments - allmypythonprojects@gmail.com  #\n",
      "####################################################################\n",
      "\n"
     ]
    }
   ],
   "source": [
    "from financepy.finutils import *\n",
    "from financepy.products.libor import *\n",
    "from financepy.market.curves import *"
   ]
  },
  {
   "cell_type": "markdown",
   "metadata": {},
   "source": [
    "## Building a Libor Discount Curve"
   ]
  },
  {
   "cell_type": "markdown",
   "metadata": {},
   "source": [
    "The example does this using a set of dates and zero ratesm"
   ]
  },
  {
   "cell_type": "code",
   "execution_count": 12,
   "metadata": {},
   "outputs": [],
   "source": [
    "valuationDate = FinDate(1, 1, 2015)"
   ]
  },
  {
   "cell_type": "markdown",
   "metadata": {},
   "source": [
    "We have a vector of dates and zero rates"
   ]
  },
  {
   "cell_type": "code",
   "execution_count": 18,
   "metadata": {},
   "outputs": [],
   "source": [
    "frequencyType = FinFrequencyTypes.ANNUAL\n",
    "dayCountType = FinDayCountTypes.ACT_365F"
   ]
  },
  {
   "cell_type": "code",
   "execution_count": 19,
   "metadata": {},
   "outputs": [],
   "source": [
    "spot_dates = [FinDate(1, 1, 2015), FinDate(1, 6, 2015), FinDate(1, 12, 2015), FinDate(1, 4, 2016), FinDate(1, 8, 2016)]\n",
    "spot_rates = [0, 0.02, 0.04, 0.06, 0.08]\n",
    "zero_curve = FinDiscountCurveZeros(valuationDate, spot_dates, spot_rates, \n",
    "                                   frequencyType, dayCountType, FinInterpTypes.LINEAR_ZERO_RATES)"
   ]
  },
  {
   "cell_type": "code",
   "execution_count": 20,
   "metadata": {},
   "outputs": [
    {
     "name": "stdout",
     "output_type": "stream",
     "text": [
      "OBJECT TYPE: FinDiscountCurveZeros\n",
      "VALUATION DATE: THU 01 JAN 2015\n",
      "FREQUENCY TYPE: FinFrequencyTypes.ANNUAL\n",
      "DAY COUNT TYPE: FinDayCountTypes.ACT_365F\n",
      "INTERP TYPE: FinInterpTypes.LINEAR_ZERO_RATES\n",
      "DATES: ZERO RATES\n",
      "THU 01 JAN 2015:  0.0000000\n",
      "MON 01 JUN 2015:  0.0200000\n",
      "TUE 01 DEC 2015:  0.0400000\n",
      "FRI 01 APR 2016:  0.0600000\n",
      "MON 01 AUG 2016:  0.0800000\n",
      "\n"
     ]
    }
   ],
   "source": [
    "print(zero_curve)"
   ]
  },
  {
   "cell_type": "code",
   "execution_count": 21,
   "metadata": {},
   "outputs": [
    {
     "name": "stdout",
     "output_type": "stream",
     "text": [
      "THU 01 JAN 2015 1.0\n",
      "MON 01 JUN 2015 0.9918411458168641\n",
      "TUE 01 DEC 2015 0.9647467581357048\n",
      "FRI 01 APR 2016 0.9297902787888683\n",
      "MON 01 AUG 2016 0.8852611853613656\n"
     ]
    }
   ],
   "source": [
    "for dt in spot_dates:\n",
    "    df = zero_curve.df(dt)\n",
    "    print(dt, df)"
   ]
  },
  {
   "cell_type": "markdown",
   "metadata": {},
   "source": [
    "This agrees with Quantlib"
   ]
  }
 ],
 "metadata": {
  "kernelspec": {
   "display_name": "Python 3",
   "language": "python",
   "name": "python3"
  },
  "language_info": {
   "codemirror_mode": {
    "name": "ipython",
    "version": 3
   },
   "file_extension": ".py",
   "mimetype": "text/x-python",
   "name": "python",
   "nbconvert_exporter": "python",
   "pygments_lexer": "ipython3",
   "version": "3.7.6"
  }
 },
 "nbformat": 4,
 "nbformat_minor": 4
}
