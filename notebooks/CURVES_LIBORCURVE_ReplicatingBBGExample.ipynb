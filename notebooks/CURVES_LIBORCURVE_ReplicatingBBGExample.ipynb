{
 "cells": [
  {
   "cell_type": "markdown",
   "metadata": {},
   "source": [
    "# Building a Libor Curve"
   ]
  },
  {
   "cell_type": "markdown",
   "metadata": {},
   "source": [
    "This is an example of a replication of a BBG example from\n",
    "\n",
    "https://github.com/vilen22/curve-building/blob/master/Bloomberg%20Curve%20Building%20Replication.xlsx\n",
    "\n",
    "Agreement is very good however some issues about date generation need to be checked."
   ]
  },
  {
   "cell_type": "code",
   "execution_count": 31,
   "metadata": {},
   "outputs": [],
   "source": [
    "# This program is distributed in the hope that it will be useful, but WITHOUT ANY WARRANTY; \n",
    "# without even the implied warranty of MERCHANTABILITY or FITNESS FOR A PARTICULAR PURPOSE.  \n",
    "# See the license for more details."
   ]
  },
  {
   "cell_type": "code",
   "execution_count": 13,
   "metadata": {},
   "outputs": [],
   "source": [
    "import numpy as np\n",
    "import matplotlib.pyplot as plt"
   ]
  },
  {
   "cell_type": "code",
   "execution_count": 14,
   "metadata": {},
   "outputs": [],
   "source": [
    "from financepy.finutils.FinDate import FinDate\n",
    "from financepy.finutils.FinDayCount import FinDayCountTypes\n",
    "from financepy.finutils.FinFrequency import FinFrequencyTypes\n",
    "from financepy.finutils.FinCalendar import *\n",
    "from financepy.market.curves.FinLiborCurve import FinLiborCurve\n",
    "from financepy.products.libor.FinLiborFRA import FinLiborFRA\n",
    "from financepy.products.libor.FinLiborDeposit import FinLiborDeposit\n",
    "from financepy.products.libor.FinLiborSwap import FinLiborSwap\n",
    "from financepy.products.libor.FinLiborFuture import FinLiborFuture"
   ]
  },
  {
   "cell_type": "markdown",
   "metadata": {},
   "source": [
    "## Creating the Libor Instruments"
   ]
  },
  {
   "cell_type": "code",
   "execution_count": 15,
   "metadata": {},
   "outputs": [],
   "source": [
    "spotDate = FinDate(6, 6, 2018)"
   ]
  },
  {
   "cell_type": "markdown",
   "metadata": {},
   "source": [
    "### Load up the deposits first"
   ]
  },
  {
   "cell_type": "code",
   "execution_count": 16,
   "metadata": {},
   "outputs": [],
   "source": [
    "spotDays = 0\n",
    "settlementDate = spotDate.addWorkDays(spotDays)"
   ]
  },
  {
   "cell_type": "code",
   "execution_count": 17,
   "metadata": {},
   "outputs": [],
   "source": [
    "depoDCCType = FinDayCountTypes.THIRTY_E_360_ISDA\n",
    "depos = []\n",
    "depositRate = 0.0231381\n",
    "maturityDate = settlementDate.addMonths(3)\n",
    "depo = FinLiborDeposit(settlementDate, maturityDate, depositRate, depoDCCType)\n",
    "depos.append(depo)"
   ]
  },
  {
   "cell_type": "markdown",
   "metadata": {},
   "source": [
    "### Create Strips of Interest Rate Futures "
   ]
  },
  {
   "cell_type": "code",
   "execution_count": 18,
   "metadata": {},
   "outputs": [],
   "source": [
    "futs = []\n",
    "fut = FinLiborFuture(spotDate, 1) ; futs.append(fut)\n",
    "fut = FinLiborFuture(spotDate, 2) ; futs.append(fut)\n",
    "fut = FinLiborFuture(spotDate, 3) ; futs.append(fut)\n",
    "fut = FinLiborFuture(spotDate, 4) ; futs.append(fut)\n",
    "fut = FinLiborFuture(spotDate, 5) ; futs.append(fut)\n",
    "fut = FinLiborFuture(spotDate, 6) ; futs.append(fut)"
   ]
  },
  {
   "cell_type": "markdown",
   "metadata": {},
   "source": [
    "### Convert Interest Rate Futures to FRAs"
   ]
  },
  {
   "cell_type": "markdown",
   "metadata": {},
   "source": [
    "Need to supply futures price and the convexity (in percent)"
   ]
  },
  {
   "cell_type": "code",
   "execution_count": 19,
   "metadata": {},
   "outputs": [],
   "source": [
    "fras = [None]*6\n",
    "fras[0] = futs[0].toFRA(97.6675,-0.00005)\n",
    "fras[1] = futs[1].toFRA(97.5200,-0.00060)\n",
    "fras[2] = futs[2].toFRA(97.3550,-0.00146)\n",
    "fras[3] = futs[3].toFRA(97.2450,-0.00263)\n",
    "fras[4] = futs[4].toFRA(97.1450,-0.00411)\n",
    "fras[5] = futs[5].toFRA(97.0750,-0.00589)"
   ]
  },
  {
   "cell_type": "markdown",
   "metadata": {},
   "source": [
    "### Then we load up swap rates"
   ]
  },
  {
   "cell_type": "code",
   "execution_count": 20,
   "metadata": {},
   "outputs": [],
   "source": [
    "accrual = FinDayCountTypes.THIRTY_360\n",
    "freq = FinFrequencyTypes.SEMI_ANNUAL\n",
    "longEnd = FinDateGenRuleTypes.BACKWARD"
   ]
  },
  {
   "cell_type": "code",
   "execution_count": 21,
   "metadata": {},
   "outputs": [],
   "source": [
    "spotDays = 2\n",
    "settlementDate = spotDate.addWorkDays(spotDays)\n",
    "notional = 1000000"
   ]
  },
  {
   "cell_type": "code",
   "execution_count": 22,
   "metadata": {},
   "outputs": [],
   "source": [
    "swaps = []\n",
    "swap = FinLiborSwap(settlementDate, \"2Y\", (2.77417+2.77844)/200, freq, accrual, notional); swaps.append(swap)\n",
    "swap = FinLiborSwap(settlementDate, \"3Y\", (2.86098+2.86582)/200, freq, accrual); swaps.append(swap)\n",
    "swap = FinLiborSwap(settlementDate, \"4Y\", (2.90240+2.90620)/200, freq, accrual); swaps.append(swap)\n",
    "swap = FinLiborSwap(settlementDate, \"5Y\", (2.92944+2.92906)/200, freq, accrual); swaps.append(swap)\n",
    "swap = FinLiborSwap(settlementDate, \"6Y\", (2.94001+2.94499)/200, freq, accrual); swaps.append(swap)\n",
    "swap = FinLiborSwap(settlementDate, \"7Y\", (2.95352+2.95998)/200, freq, accrual); swaps.append(swap)\n",
    "swap = FinLiborSwap(settlementDate, \"8Y\", (2.96830+2.97400)/200, freq, accrual); swaps.append(swap)\n",
    "swap = FinLiborSwap(settlementDate, \"9Y\", (2.98403+2.98817)/200, freq, accrual); swaps.append(swap)\n",
    "swap = FinLiborSwap(settlementDate, \"10Y\", (2.99716+3.00394)/200, freq, accrual); swaps.append(swap)\n",
    "swap = FinLiborSwap(settlementDate, \"11Y\", (3.01344+3.01596)/200, freq, accrual); swaps.append(swap)\n",
    "swap = FinLiborSwap(settlementDate, \"12Y\", (3.02276+3.02684)/200, freq, accrual); swaps.append(swap)\n",
    "swap = FinLiborSwap(settlementDate, \"15Y\", (3.04092+3.04508)/200, freq, accrual); swaps.append(swap)\n",
    "swap = FinLiborSwap(settlementDate, \"20Y\", (3.04417+3.05183)/200, freq, accrual); swaps.append(swap)\n",
    "swap = FinLiborSwap(settlementDate, \"25Y\", (3.03219+3.03621)/200, freq, accrual); swaps.append(swap)\n",
    "swap = FinLiborSwap(settlementDate, \"30Y\", (3.01030+3.01370)/200, freq, accrual); swaps.append(swap)\n",
    "swap = FinLiborSwap(settlementDate, \"40Y\", (2.96946+2.97354)/200, freq, accrual); swaps.append(swap)\n",
    "swap = FinLiborSwap(settlementDate, \"50Y\", (2.91552+2.93748)/200, freq, accrual); swaps.append(swap)"
   ]
  },
  {
   "cell_type": "markdown",
   "metadata": {},
   "source": [
    "## Build the Curve"
   ]
  },
  {
   "cell_type": "code",
   "execution_count": 23,
   "metadata": {},
   "outputs": [],
   "source": [
    "liborCurve = FinLiborCurve(\"USD_LIBOR\", settlementDate, depos, fras, swaps)"
   ]
  },
  {
   "cell_type": "markdown",
   "metadata": {},
   "source": [
    "## Curve Examination"
   ]
  },
  {
   "cell_type": "markdown",
   "metadata": {},
   "source": [
    "Generate a vector of time points and then generate zero rates and forward rates"
   ]
  },
  {
   "cell_type": "code",
   "execution_count": 24,
   "metadata": {},
   "outputs": [],
   "source": [
    "times = np.linspace(0.0,50,500)\n",
    "zeroRates = liborCurve.zeroRate(times)\n",
    "fwdRates = liborCurve.fwd(times)"
   ]
  },
  {
   "cell_type": "code",
   "execution_count": 25,
   "metadata": {},
   "outputs": [
    {
     "data": {
      "image/png": "[encoded data removed]",
      "text/plain": [
       "<Figure size 576x432 with 1 Axes>"
      ]
     },
     "metadata": {
      "needs_background": "light"
     },
     "output_type": "display_data"
    }
   ],
   "source": [
    "plt.figure(figsize=(8,6))\n",
    "plt.plot(times, zeroRates*100, label=\"zero rates\")\n",
    "plt.plot(times, fwdRates*100, label = \"fwd rates\")\n",
    "plt.xlabel(\"Times\")\n",
    "plt.ylabel(\"CC forward rates\")\n",
    "plt.legend();"
   ]
  },
  {
   "cell_type": "markdown",
   "metadata": {},
   "source": [
    "We see that the forward rates are piecewise flat"
   ]
  },
  {
   "cell_type": "code",
   "execution_count": 26,
   "metadata": {},
   "outputs": [
    {
     "name": "stdout",
     "output_type": "stream",
     "text": [
      "TIME: DISCOUNT FACTOR\n",
      "0.0: 1.0\n",
      "0.2464119679554925: 0.9942487432882308\n",
      "0.2820048077712859: 0.9933743965105937\n",
      "0.5311546864818394: 0.9871873260849587\n",
      "0.780304565192393: 0.9806344504748489\n",
      "1.0294544439029465: 0.9738589440055212\n",
      "1.2786043226135: 0.9668911239635243\n",
      "1.5277542013240535: 0.9598088276643569\n",
      "2.0014127619496116: 0.9462854512894789\n",
      "3.0007501875468865: 0.9181115683333075\n",
      "4.000087613144162: 0.8908725409589888\n",
      "4.999425038741437: 0.8644222609249615\n",
      "6.006976196603895: 0.8388020498710722\n",
      "7.00357571144611: 0.8138428561899081\n",
      "8.000175226288324: 0.7893686514147824\n",
      "8.999512651885599: 0.7652788705611039\n",
      "10.001587988237935: 0.7417121891745818\n",
      "11.00092541383521: 0.7186568913860792\n",
      "12.005738660942606: 0.6963659230197796\n",
      "15.001013026979372: 0.6344215050797687\n",
      "20.000438065720807: 0.5448184206405027\n",
      "24.999863104462246: 0.4705596359252432\n",
      "30.002026053958744: 0.4087920290158814\n",
      "40.00635195295174: 0.31110819018736086\n",
      "50.00246411967955: 0.24163937363118132\n",
      "\n"
     ]
    }
   ],
   "source": [
    "liborCurve.print()"
   ]
  },
  {
   "cell_type": "code",
   "execution_count": 28,
   "metadata": {},
   "outputs": [
    {
     "name": "stdout",
     "output_type": "stream",
     "text": [
      "START DATE: FRI 8 JUN 2018\n",
      "MATURITY DATE: MON 8 JUN 2020\n",
      "COUPON (%): 2.776305\n",
      "FIXED LEG FREQUENCY: FinFrequencyTypes.SEMI_ANNUAL\n",
      "FIXED LEG DAY COUNT: FinDayCountTypes.THIRTY_360\n",
      "VALUATION DATE FRI 8 JUN 2018\n",
      "PAYMENT_DATE     YEAR_FRAC        FLOW         DF         DF*FLOW       CUM_PV\n",
      "MON 10 DEC 2018  0.5055556     14035.76   0.98779751     13864.49     13864.49\n",
      "MON 10 JUN 2019  0.5000000     13881.52   0.97452696     13527.92     27392.41\n",
      " MON 9 DEC 2019  0.4972222     13804.41   0.96050696     13259.23     40651.64\n",
      " MON 8 JUN 2020  0.4972222     13804.41   0.94628545     13062.91     53714.55\n"
     ]
    }
   ],
   "source": [
    "swaps[0].printFixedLeg()"
   ]
  },
  {
   "cell_type": "code",
   "execution_count": 30,
   "metadata": {},
   "outputs": [
    {
     "name": "stdout",
     "output_type": "stream",
     "text": [
      "START DATE: FRI 8 JUN 2018\n",
      "MATURITY DATE: MON 8 JUN 2020\n",
      "SPREAD COUPON (%): 0.0\n",
      "FLOAT LEG FREQUENCY: FinFrequencyTypes.QUARTERLY\n",
      "FLOAT LEG DAY COUNT: FinDayCountTypes.THIRTY_360\n",
      "VALUATION DATE FRI 8 JUN 2018\n",
      "         *** FIRST FLOATING RATE PAYMENT IS IMPLIED ***\n",
      "PAYMENT_DATE     YEAR_FRAC        FLOW         DF         DF*FLOW       CUM_PV\n",
      "MON 10 SEP 2018  0.2555556      6056.83   0.99397963      6020.37      6020.37\n",
      "MON 10 DEC 2018  0.2500000      6258.49   0.98779751      6182.12     12202.49\n",
      " FRI 8 MAR 2019  0.2444444      6420.24   0.98149607      6301.44     18503.93\n",
      "MON 10 JUN 2019  0.2555556      7151.28   0.97452696      6969.11     25473.04\n",
      " MON 9 SEP 2019  0.2472222      7181.78   0.96757802      6948.94     32421.98\n",
      " MON 9 DEC 2019  0.2500000      7361.81   0.96050696      7071.06     39493.04\n",
      " MON 9 MAR 2020  0.2500000      7480.77   0.95337498      7131.98     46625.02\n",
      " MON 8 JUN 2020  0.2472222      7491.95   0.94628545      7089.53     53714.55\n"
     ]
    }
   ],
   "source": [
    "swaps[0].printFloatLeg()"
   ]
  },
  {
   "cell_type": "markdown",
   "metadata": {},
   "source": [
    "Copyright (c) 2020 Dominic O'Kane"
   ]
  }
 ],
 "metadata": {
  "kernelspec": {
   "display_name": "Python 3",
   "language": "python",
   "name": "python3"
  },
  "language_info": {
   "codemirror_mode": {
    "name": "ipython",
    "version": 3
   },
   "file_extension": ".py",
   "mimetype": "text/x-python",
   "name": "python",
   "nbconvert_exporter": "python",
   "pygments_lexer": "ipython3",
   "version": "3.7.7"
  }
 },
 "nbformat": 4,
 "nbformat_minor": 4
}
