{
 "cells": [
  {
   "cell_type": "markdown",
   "metadata": {},
   "source": [
    "# ANNUITY CALCULATOR"
   ]
  },
  {
   "cell_type": "markdown",
   "metadata": {},
   "source": [
    "In this notebook I use the simple mortgage calculator to generate mortgage cashflows."
   ]
  },
  {
   "cell_type": "code",
   "execution_count": 2,
   "metadata": {
    "scrolled": true
   },
   "outputs": [
    {
     "name": "stdout",
     "output_type": "stream",
     "text": [
      "####################################################################\n",
      "TEMPORARY MESSAGE: Welcome to FinancePy!\n",
      "This program is distributed in the hope that it will be useful, but\n",
      "WITHOUT ANY WARRANTY and without even the implied warranty of \n",
      "MERCHANTABILITY or FITNESS FOR A PARTICULAR PURPOSE. Furthermore,\n",
      "this is an alpha version of FinancePy & so is in early development.\n",
      "Users are requested to verify outputs and if any doubt is found \n",
      "users are requested to contact the author of FinancePy. \n",
      "###################################################################\n",
      "\n"
     ]
    }
   ],
   "source": [
    "from financepy.products.bonds.FinBondAnnuity import FinBondAnnuity\n",
    "from financepy.finutils.FinCalendar import *\n",
    "from financepy.finutils.FinDayCount import FinDayCountTypes\n",
    "from financepy.finutils.FinFrequency import FinFrequencyTypes\n",
    "from financepy.finutils.FinDate import FinDate\n",
    "from financepy.products.libor.FinLiborDeposit import FinLiborDeposit\n",
    "from financepy.products.libor.FinLiborSwap import FinLiborSwap\n",
    "from financepy.market.curves.FinLiborCurve import FinLiborCurve\n",
    "from financepy.finutils.FinMath import ONE_MILLION"
   ]
  },
  {
   "cell_type": "markdown",
   "metadata": {},
   "source": [
    "## CREATE AN ANNUITY STREAM"
   ]
  },
  {
   "cell_type": "markdown",
   "metadata": {},
   "source": [
    "Calculate the cashflows on an annuity"
   ]
  },
  {
   "cell_type": "code",
   "execution_count": 3,
   "metadata": {},
   "outputs": [],
   "source": [
    "settlementDate = FinDate(20, 6, 2018)"
   ]
  },
  {
   "cell_type": "code",
   "execution_count": 4,
   "metadata": {
    "scrolled": true
   },
   "outputs": [],
   "source": [
    "maturityDate = settlementDate.addTenor(\"5Y\")  # FinDate(20, 9, 2028)\n",
    "coupon = 0.05\n",
    "frequencyType = FinFrequencyTypes.SEMI_ANNUAL\n",
    "calendarType = FinCalendarTypes.WEEKEND\n",
    "busDayAdjustType = FinBusDayAdjustTypes.FOLLOWING\n",
    "dateGenRuleType = FinDateGenRuleTypes.BACKWARD\n",
    "basisType = FinDayCountTypes.ACT_360\n",
    "face = ONE_MILLION"
   ]
  },
  {
   "cell_type": "code",
   "execution_count": 5,
   "metadata": {},
   "outputs": [],
   "source": [
    "annuity = FinBondAnnuity(maturityDate,coupon,frequencyType,calendarType,busDayAdjustType,dateGenRuleType,basisType,face)"
   ]
  },
  {
   "cell_type": "code",
   "execution_count": 6,
   "metadata": {
    "scrolled": true
   },
   "outputs": [
    {
     "name": "stdout",
     "output_type": "stream",
     "text": [
      "MATURITY DATE: TUE 20 JUN 2023\n",
      "FREQUENCY: FinFrequencyTypes.SEMI_ANNUAL\n",
      "CALENDAR: FinCalendarTypes.WEEKEND\n",
      "BUSDAYRULE: FinBusDayAdjustTypes.FOLLOWING\n",
      "DATEGENRULE: FinDateGenRuleTypes.BACKWARD\n",
      "\n"
     ]
    }
   ],
   "source": [
    "print(annuity)"
   ]
  },
  {
   "cell_type": "code",
   "execution_count": 7,
   "metadata": {},
   "outputs": [
    {
     "name": "stdout",
     "output_type": "stream",
     "text": [
      "THU 20 DEC 2018 , 25416.666666666668\n",
      "THU 20 JUN 2019 , 25277.777777777777\n",
      "FRI 20 DEC 2019 , 25416.666666666668\n",
      "SAT 20 JUN 2020 , 25416.666666666668\n",
      "SUN 20 DEC 2020 , 25416.666666666668\n",
      "SUN 20 JUN 2021 , 25277.777777777777\n",
      "MON 20 DEC 2021 , 25416.666666666668\n",
      "MON 20 JUN 2022 , 25277.777777777777\n",
      "TUE 20 DEC 2022 , 25416.666666666668\n",
      "TUE 20 JUN 2023 , 25277.777777777777\n"
     ]
    }
   ],
   "source": [
    "annuity.printFlows(settlementDate)"
   ]
  },
  {
   "cell_type": "markdown",
   "metadata": {},
   "source": [
    "## We can value the flows by discounting them"
   ]
  },
  {
   "cell_type": "markdown",
   "metadata": {},
   "source": [
    "First we build a Libor swap curve"
   ]
  },
  {
   "cell_type": "code",
   "execution_count": 8,
   "metadata": {},
   "outputs": [],
   "source": [
    "depos = []\n",
    "dcType = FinDayCountTypes.ACT_360\n",
    "fixedFreq = FinFrequencyTypes.SEMI_ANNUAL\n",
    "swap1 = FinLiborSwap(settlementDate,\"1Y\",0.0500,fixedFreq,dcType)\n",
    "swap2 = FinLiborSwap(settlementDate,\"2Y\",0.0500,fixedFreq,dcType)\n",
    "swap3 = FinLiborSwap(settlementDate,\"3Y\",0.0500,fixedFreq,dcType)\n",
    "swap4 = FinLiborSwap(settlementDate,\"4Y\",0.0500,fixedFreq,dcType)\n",
    "swap5 = FinLiborSwap(settlementDate,\"5Y\",0.0500,fixedFreq,dcType)\n",
    "swaps = [swap1, swap2, swap3, swap4, swap5]\n",
    "\n",
    "liborCurve = FinLiborCurve(\"USD_LIBOR\", settlementDate, depos, [], swaps)"
   ]
  },
  {
   "cell_type": "markdown",
   "metadata": {},
   "source": [
    "Here are the flows on the fixed leg of the 5Y swap"
   ]
  },
  {
   "cell_type": "code",
   "execution_count": 9,
   "metadata": {},
   "outputs": [
    {
     "name": "stdout",
     "output_type": "stream",
     "text": [
      "START DATE: WED 20 JUN 2018\n",
      "MATURITY DATE: TUE 20 JUN 2023\n",
      "COUPON (%): 5.0\n",
      "FIXED LEG FREQUENCY: FinFrequencyTypes.SEMI_ANNUAL\n",
      "FIXED LEG DAY COUNT: FinDayCountTypes.ACT_360\n",
      "VALUATION DATE WED 20 JUN 2018\n",
      "PAYMENT_DATE     YEAR_FRAC        FLOW         DF         DF*FLOW       CUM_PV\n",
      "THU 20 DEC 2018  0.5083333         2.54   0.97521251         2.48         2.48\n",
      "THU 20 JUN 2019  0.5055556         2.53   0.95116989         2.40         4.88\n",
      "FRI 20 DEC 2019  0.5083333         2.54   0.92759512         2.36         7.24\n",
      "MON 22 JUN 2020  0.5138889         2.57   0.90435657         2.32         9.56\n",
      "MON 21 DEC 2020  0.5055556         2.53   0.88206005         2.23        11.79\n",
      "MON 21 JUN 2021  0.5055556         2.53   0.86031325         2.17        13.97\n",
      "MON 20 DEC 2021  0.5055556         2.53   0.83910260         2.12        16.09\n",
      "MON 20 JUN 2022  0.5055556         2.53   0.81841489         2.07        18.16\n",
      "TUE 20 DEC 2022  0.5083333         2.54   0.79812844         2.03        20.19\n",
      "TUE 20 JUN 2023  0.5055556         2.53   0.77845160         1.97        22.15\n"
     ]
    }
   ],
   "source": [
    "swap5.printFixedLeg()"
   ]
  },
  {
   "cell_type": "code",
   "execution_count": 10,
   "metadata": {},
   "outputs": [],
   "source": [
    "cleanValue = annuity.cleanPriceFromDiscountCurve(settlementDate, liborCurve)"
   ]
  },
  {
   "cell_type": "code",
   "execution_count": 11,
   "metadata": {},
   "outputs": [],
   "source": [
    "dirtyValue = annuity.fullPriceFromDiscountCurve(settlementDate, liborCurve)"
   ]
  },
  {
   "cell_type": "markdown",
   "metadata": {},
   "source": [
    "The price of the annuity is quoted based on a par notional"
   ]
  },
  {
   "cell_type": "code",
   "execution_count": 12,
   "metadata": {},
   "outputs": [
    {
     "name": "stdout",
     "output_type": "stream",
     "text": [
      "CLEAN PRICE: 22.154860705530105\n",
      "DIRTY PRICE: 22.154860705530105\n",
      "ACCRD VALUE: 0.0\n"
     ]
    }
   ],
   "source": [
    "print(\"CLEAN PRICE:\", cleanValue)\n",
    "print(\"DIRTY PRICE:\", dirtyValue)\n",
    "print(\"ACCRD VALUE:\", annuity._accruedInterest)"
   ]
  },
  {
   "cell_type": "markdown",
   "metadata": {},
   "source": [
    "Copyright (c) 2020 Dominic O'Kane"
   ]
  }
 ],
 "metadata": {
  "kernelspec": {
   "display_name": "Python 3",
   "language": "python",
   "name": "python3"
  },
  "language_info": {
   "codemirror_mode": {
    "name": "ipython",
    "version": 3
   },
   "file_extension": ".py",
   "mimetype": "text/x-python",
   "name": "python",
   "nbconvert_exporter": "python",
   "pygments_lexer": "ipython3",
   "version": "3.7.7"
  }
 },
 "nbformat": 4,
 "nbformat_minor": 2
}
