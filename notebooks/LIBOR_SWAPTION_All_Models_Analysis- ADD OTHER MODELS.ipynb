{
 "cells": [
  {
   "cell_type": "markdown",
   "metadata": {},
   "source": [
    "# European Swaption Pricing - All Models"
   ]
  },
  {
   "cell_type": "markdown",
   "metadata": {},
   "source": [
    "Value a European Swaption using the Hull-White, Black-Derman-Toy and Black-Karasinski models. I analyse relationships to test the model pricing."
   ]
  },
  {
   "cell_type": "code",
   "execution_count": 1,
   "metadata": {},
   "outputs": [],
   "source": [
    "import numpy as np\n",
    "import matplotlib.pyplot as plt"
   ]
  },
  {
   "cell_type": "code",
   "execution_count": 2,
   "metadata": {},
   "outputs": [
    {
     "name": "stdout",
     "output_type": "stream",
     "text": [
      "###################################################################\n",
      "# FINANCEPY BETA Version 0.180 - This build: 15 Sep 2020 at 23:59 #\n",
      "#     This software is distributed FREE & WITHOUT ANY WARRANTY    #\n",
      "# For info and disclaimer - https://github.com/domokane/FinancePy #\n",
      "###################################################################\n",
      "\n"
     ]
    }
   ],
   "source": [
    "from financepy.finutils import *\n",
    "from financepy.products.libor import *\n",
    "from financepy.market.curves import *\n",
    "from financepy.models.FinModelRatesHW import FinModelRatesHW\n",
    "from financepy.models.FinModelRatesBK import FinModelRatesBK\n",
    "from financepy.models.FinModelRatesBDT import FinModelRatesBDT"
   ]
  },
  {
   "cell_type": "markdown",
   "metadata": {},
   "source": [
    "## Discount Curve"
   ]
  },
  {
   "cell_type": "code",
   "execution_count": 3,
   "metadata": {},
   "outputs": [],
   "source": [
    "valuationDate = FinDate(1, 1, 2011)\n",
    "settlementDate = valuationDate"
   ]
  },
  {
   "cell_type": "markdown",
   "metadata": {},
   "source": [
    "Set up flat discount curve at 6% (semi-annual compounding)"
   ]
  },
  {
   "cell_type": "code",
   "execution_count": 4,
   "metadata": {},
   "outputs": [],
   "source": [
    "liborCurve = FinDiscountCurveFlat(valuationDate, 0.0625, FinFrequencyTypes.SEMI_ANNUAL)"
   ]
  },
  {
   "cell_type": "markdown",
   "metadata": {},
   "source": [
    "# Defining the Swaptions"
   ]
  },
  {
   "cell_type": "markdown",
   "metadata": {},
   "source": [
    "We begin with European swaptions. European swaptions can be set up directly as European Swaptions or as Bermudan swaptions with an exercise type of EUROPEAN"
   ]
  },
  {
   "cell_type": "code",
   "execution_count": 5,
   "metadata": {},
   "outputs": [],
   "source": [
    "exerciseDate = settlementDate.addTenor(\"1Y\")\n",
    "swapMaturityDate = settlementDate.addTenor(\"4Y\")\n",
    "\n",
    "swapFixedCoupon = 0.060\n",
    "swapFixedFrequencyType = FinFrequencyTypes.SEMI_ANNUAL\n",
    "swapFixedDayCountType = FinDayCountTypes.ACT_365F\n",
    "swapType = FinLiborSwapTypes.PAYER "
   ]
  },
  {
   "cell_type": "code",
   "execution_count": 6,
   "metadata": {},
   "outputs": [
    {
     "data": {
      "text/plain": [
       "SUN 01 JAN 2012"
      ]
     },
     "execution_count": 6,
     "metadata": {},
     "output_type": "execute_result"
    }
   ],
   "source": [
    "exerciseDate"
   ]
  },
  {
   "cell_type": "code",
   "execution_count": 7,
   "metadata": {},
   "outputs": [
    {
     "data": {
      "text/plain": [
       "THU 01 JAN 2015"
      ]
     },
     "execution_count": 7,
     "metadata": {},
     "output_type": "execute_result"
    }
   ],
   "source": [
    "swapMaturityDate"
   ]
  },
  {
   "cell_type": "code",
   "execution_count": 8,
   "metadata": {},
   "outputs": [],
   "source": [
    "swaptionPay = FinLiborSwaption(settlementDate,\n",
    "                               exerciseDate,\n",
    "                               swapMaturityDate,\n",
    "                               FinLiborSwapTypes.PAYER ,\n",
    "                               swapFixedCoupon,\n",
    "                               swapFixedFrequencyType,\n",
    "                               swapFixedDayCountType)"
   ]
  },
  {
   "cell_type": "code",
   "execution_count": 9,
   "metadata": {},
   "outputs": [],
   "source": [
    "swaptionRec = FinLiborSwaption(settlementDate,\n",
    "                               exerciseDate,\n",
    "                               swapMaturityDate,\n",
    "                               FinLiborSwapTypes.RECEIVER,\n",
    "                               swapFixedCoupon,\n",
    "                               swapFixedFrequencyType,\n",
    "                               swapFixedDayCountType)"
   ]
  },
  {
   "cell_type": "markdown",
   "metadata": {},
   "source": [
    "## Valuation using Black's Model"
   ]
  },
  {
   "cell_type": "markdown",
   "metadata": {},
   "source": [
    "Let's try the zero volatility limit first"
   ]
  },
  {
   "cell_type": "code",
   "execution_count": 10,
   "metadata": {},
   "outputs": [],
   "source": [
    "model = FinModelBlack(0.00001)"
   ]
  },
  {
   "cell_type": "code",
   "execution_count": 11,
   "metadata": {},
   "outputs": [
    {
     "name": "stdout",
     "output_type": "stream",
     "text": [
      "Payer Value: 6193.31147\n",
      "Recvr Value:   0.00000\n",
      "PayV - RecV: 6193.31147\n"
     ]
    }
   ],
   "source": [
    "valuePay = swaptionPay.value(settlementDate, liborCurve, model)\n",
    "valueRec = swaptionRec.value(settlementDate, liborCurve, model)\n",
    "valuePayRec = valuePay - valueRec\n",
    "print(\"Payer Value: %9.5f\"% valuePay)\n",
    "print(\"Recvr Value: %9.5f\"% valueRec)\n",
    "print(\"PayV - RecV: %9.5f\"% valuePayRec)"
   ]
  },
  {
   "cell_type": "markdown",
   "metadata": {},
   "source": [
    "We can value the forward starting swap."
   ]
  },
  {
   "cell_type": "code",
   "execution_count": 12,
   "metadata": {},
   "outputs": [],
   "source": [
    "swap = FinLiborSwap(exerciseDate,\n",
    "                    swapMaturityDate,\n",
    "                    swapType,\n",
    "                    swapFixedCoupon,\n",
    "                    swapFixedFrequencyType,\n",
    "                    swapFixedDayCountType)"
   ]
  },
  {
   "cell_type": "code",
   "execution_count": 13,
   "metadata": {},
   "outputs": [
    {
     "data": {
      "text/plain": [
       "6193.311465714156"
      ]
     },
     "execution_count": 13,
     "metadata": {},
     "output_type": "execute_result"
    }
   ],
   "source": [
    "swap.value(settlementDate, liborCurve, liborCurve)"
   ]
  },
  {
   "cell_type": "markdown",
   "metadata": {},
   "source": [
    "At zero volatility the payer swaption is in the money and is just a forward starting swap so this makes sense."
   ]
  },
  {
   "cell_type": "markdown",
   "metadata": {},
   "source": [
    "Let's repeat with a non-zero volatility"
   ]
  },
  {
   "cell_type": "code",
   "execution_count": 14,
   "metadata": {},
   "outputs": [],
   "source": [
    "model = FinModelBlack(0.20)"
   ]
  },
  {
   "cell_type": "code",
   "execution_count": 15,
   "metadata": {},
   "outputs": [
    {
     "name": "stdout",
     "output_type": "stream",
     "text": [
      "Payer Value: 15721.54222\n",
      "Recvr Value: 9528.23076\n",
      "PayV - RecV: 6193.31147\n"
     ]
    }
   ],
   "source": [
    "valuePay = swaptionPay.value(settlementDate, liborCurve, model)\n",
    "valueRec = swaptionRec.value(settlementDate, liborCurve, model)\n",
    "valuePayRec = valuePay - valueRec\n",
    "print(\"Payer Value: %9.5f\"% valuePay)\n",
    "print(\"Recvr Value: %9.5f\"% valueRec)\n",
    "print(\"PayV - RecV: %9.5f\"% valuePayRec)"
   ]
  },
  {
   "cell_type": "markdown",
   "metadata": {},
   "source": [
    "The swaption values have changed. Put call parity keeps the difference equal to the value of the forward starting swap."
   ]
  },
  {
   "cell_type": "markdown",
   "metadata": {},
   "source": [
    "We can also value the European option using other models. Let's try Black-Karasinski."
   ]
  },
  {
   "cell_type": "markdown",
   "metadata": {},
   "source": [
    "## Valuation using Black-Karasinski"
   ]
  },
  {
   "cell_type": "markdown",
   "metadata": {},
   "source": [
    "Start with the zero volatility limit"
   ]
  },
  {
   "cell_type": "code",
   "execution_count": 17,
   "metadata": {},
   "outputs": [],
   "source": [
    "sigma = 0.00001\n",
    "a = 0.01\n",
    "numTimeSteps = 200\n",
    "model = FinModelRatesBK(sigma, a, numTimeSteps)"
   ]
  },
  {
   "cell_type": "code",
   "execution_count": 18,
   "metadata": {},
   "outputs": [
    {
     "name": "stdout",
     "output_type": "stream",
     "text": [
      "Payer Value: 6193.30557\n",
      "Recvr Value:   0.00000\n",
      "PayV - RecV: 6193.30557\n"
     ]
    }
   ],
   "source": [
    "valuePay = swaptionPay.value(settlementDate, liborCurve, model)\n",
    "valueRec = swaptionRec.value(settlementDate, liborCurve, model)\n",
    "valuePayRec = valuePay - valueRec\n",
    "print(\"Payer Value: %9.5f\"% valuePay)\n",
    "print(\"Recvr Value: %9.5f\"% valueRec)\n",
    "print(\"PayV - RecV: %9.5f\"% valuePayRec)"
   ]
  },
  {
   "cell_type": "markdown",
   "metadata": {},
   "source": [
    "Only the payer swaption is in the money and is worth the forward starting swap."
   ]
  },
  {
   "cell_type": "code",
   "execution_count": 19,
   "metadata": {},
   "outputs": [],
   "source": [
    "sigma = 0.20\n",
    "a = 0.01\n",
    "numTimeSteps = 200\n",
    "model = FinModelRatesBK(sigma, a, numTimeSteps)"
   ]
  },
  {
   "cell_type": "code",
   "execution_count": 20,
   "metadata": {},
   "outputs": [
    {
     "name": "stdout",
     "output_type": "stream",
     "text": [
      "Payer Value: 15633.19291\n",
      "Recvr Value: 9439.88154\n",
      "PayV - RecV: 6193.31138\n"
     ]
    }
   ],
   "source": [
    "valuePay = swaptionPay.value(settlementDate, liborCurve, model)\n",
    "valueRec = swaptionRec.value(settlementDate, liborCurve, model)\n",
    "valuePayRec = valuePay - valueRec\n",
    "print(\"Payer Value: %9.5f\"% valuePay)\n",
    "print(\"Recvr Value: %9.5f\"% valueRec)\n",
    "print(\"PayV - RecV: %9.5f\"% valuePayRec)"
   ]
  },
  {
   "cell_type": "markdown",
   "metadata": {},
   "source": [
    "At 20% volatility the values are higher but put-call parity is obeyed."
   ]
  },
  {
   "cell_type": "markdown",
   "metadata": {},
   "source": [
    "## Valuation using Black-Derman-Toy"
   ]
  },
  {
   "cell_type": "markdown",
   "metadata": {},
   "source": [
    "Check the zero volatility limit"
   ]
  },
  {
   "cell_type": "code",
   "execution_count": 21,
   "metadata": {},
   "outputs": [],
   "source": [
    "sigma = 0.00001\n",
    "numTimeSteps = 200\n",
    "model = FinModelRatesBDT(sigma, numTimeSteps)"
   ]
  },
  {
   "cell_type": "code",
   "execution_count": 22,
   "metadata": {},
   "outputs": [
    {
     "name": "stdout",
     "output_type": "stream",
     "text": [
      "Payer Value: 6193.08206\n",
      "Recvr Value:   0.00000\n",
      "PayV - RecV: 6193.08206\n"
     ]
    }
   ],
   "source": [
    "valuePay = swaptionPay.value(settlementDate, liborCurve, model)\n",
    "valueRec = swaptionRec.value(settlementDate, liborCurve, model)\n",
    "valuePayRec = valuePay - valueRec\n",
    "print(\"Payer Value: %9.5f\"% valuePay)\n",
    "print(\"Recvr Value: %9.5f\"% valueRec)\n",
    "print(\"PayV - RecV: %9.5f\"% valuePayRec)"
   ]
  },
  {
   "cell_type": "markdown",
   "metadata": {},
   "source": [
    "Same result as before."
   ]
  },
  {
   "cell_type": "code",
   "execution_count": 23,
   "metadata": {},
   "outputs": [],
   "source": [
    "sigma = 0.20\n",
    "numTimeSteps = 200\n",
    "model = FinModelRatesBDT(sigma, numTimeSteps)"
   ]
  },
  {
   "cell_type": "code",
   "execution_count": 24,
   "metadata": {},
   "outputs": [
    {
     "name": "stdout",
     "output_type": "stream",
     "text": [
      "Payer Value: 15895.53194\n",
      "Recvr Value: 9698.75866\n",
      "PayV - RecV: 6196.77328\n"
     ]
    }
   ],
   "source": [
    "valuePay = swaptionPay.value(settlementDate, liborCurve, model)\n",
    "valueRec = swaptionRec.value(settlementDate, liborCurve, model)\n",
    "valuePayRec = valuePay - valueRec\n",
    "print(\"Payer Value: %9.5f\"% valuePay)\n",
    "print(\"Recvr Value: %9.5f\"% valueRec)\n",
    "print(\"PayV - RecV: %9.5f\"% valuePayRec)"
   ]
  },
  {
   "cell_type": "markdown",
   "metadata": {},
   "source": [
    "At 20% volatility the values are higher but put-call parity is obeyed."
   ]
  },
  {
   "cell_type": "markdown",
   "metadata": {},
   "source": [
    "## Valuation using Hull-White Model"
   ]
  },
  {
   "cell_type": "markdown",
   "metadata": {},
   "source": [
    "We do the zero volatility limit first."
   ]
  },
  {
   "cell_type": "code",
   "execution_count": 30,
   "metadata": {},
   "outputs": [],
   "source": [
    "sigma = 0.0000001\n",
    "a = 0.01\n",
    "numTimeSteps = 200\n",
    "model = FinModelRatesHW(sigma, a)"
   ]
  },
  {
   "cell_type": "markdown",
   "metadata": {},
   "source": [
    "This is analytical as it uses Jamshidians method."
   ]
  },
  {
   "cell_type": "code",
   "execution_count": 31,
   "metadata": {},
   "outputs": [
    {
     "name": "stdout",
     "output_type": "stream",
     "text": [
      "Payer Value: 6193.28350\n",
      "Recvr Value:   0.00000\n",
      "PayV - RecV: 6193.28350\n"
     ]
    }
   ],
   "source": [
    "valuePay = swaptionPay.value(settlementDate, liborCurve, model)\n",
    "valueRec = swaptionRec.value(settlementDate, liborCurve, model)\n",
    "valuePayRec = valuePay - valueRec\n",
    "print(\"Payer Value: %9.5f\"% valuePay)\n",
    "print(\"Recvr Value: %9.5f\"% valueRec)\n",
    "print(\"PayV - RecV: %9.5f\"% valuePayRec)"
   ]
  },
  {
   "cell_type": "markdown",
   "metadata": {},
   "source": [
    "This is as expected."
   ]
  },
  {
   "cell_type": "code",
   "execution_count": 33,
   "metadata": {},
   "outputs": [],
   "source": [
    "sigma = 0.01\n",
    "a = 0.01\n",
    "numTimeSteps = 200\n",
    "model = FinModelRatesHW(sigma, a)"
   ]
  },
  {
   "cell_type": "code",
   "execution_count": 34,
   "metadata": {},
   "outputs": [
    {
     "name": "stdout",
     "output_type": "stream",
     "text": [
      "Payer Value: 13629.34383\n",
      "Recvr Value: 7436.17727\n",
      "PayV - RecV: 6193.16656\n"
     ]
    }
   ],
   "source": [
    "valuePay = swaptionPay.value(settlementDate, liborCurve, model)\n",
    "valueRec = swaptionRec.value(settlementDate, liborCurve, model)\n",
    "valuePayRec = valuePay - valueRec\n",
    "print(\"Payer Value: %9.5f\"% valuePay)\n",
    "print(\"Recvr Value: %9.5f\"% valueRec)\n",
    "print(\"PayV - RecV: %9.5f\"% valuePayRec)"
   ]
  },
  {
   "cell_type": "markdown",
   "metadata": {},
   "source": [
    "Once again put-call parity is obeyed."
   ]
  },
  {
   "cell_type": "markdown",
   "metadata": {},
   "source": [
    "# Convergence Testing"
   ]
  },
  {
   "cell_type": "markdown",
   "metadata": {},
   "source": [
    "## BK Model"
   ]
  },
  {
   "cell_type": "code",
   "execution_count": 25,
   "metadata": {},
   "outputs": [
    {
     "data": {
      "image/png": "[encoded data removed]",
      "text/plain": [
       "<Figure size 432x288 with 1 Axes>"
      ]
     },
     "metadata": {
      "needs_background": "light"
     },
     "output_type": "display_data"
    }
   ],
   "source": [
    "sigma = 0.2012\n",
    "a = 0.04\n",
    "\n",
    "timeSteps = range(100,500,1)\n",
    "values = []\n",
    "for numTimeSteps in timeSteps:\n",
    "    model = FinModelRatesBK(sigma, a, numTimeSteps)\n",
    "    v = swaptionPay.value(valuationDate, liborCurve, model)\n",
    "    values.append(v)\n",
    "\n",
    "plt.plot(timeSteps, values);"
   ]
  },
  {
   "cell_type": "markdown",
   "metadata": {},
   "source": [
    "Averaging even and odd values will improve convergence."
   ]
  },
  {
   "cell_type": "markdown",
   "metadata": {},
   "source": [
    "## BDT Model"
   ]
  },
  {
   "cell_type": "code",
   "execution_count": 26,
   "metadata": {},
   "outputs": [
    {
     "data": {
      "image/png": "[encoded data removed]",
      "text/plain": [
       "<Figure size 432x288 with 1 Axes>"
      ]
     },
     "metadata": {
      "needs_background": "light"
     },
     "output_type": "display_data"
    }
   ],
   "source": [
    "sigma = 0.2012\n",
    "\n",
    "timeSteps = range(100,500,1)\n",
    "values = []\n",
    "for numTimeSteps in timeSteps:\n",
    "    model = FinModelRatesBDT(sigma, numTimeSteps)\n",
    "    v = swaptionPay.value(settlementDate, liborCurve, model)\n",
    "    values.append(v)\n",
    "    \n",
    "plt.plot(timeSteps, values);"
   ]
  },
  {
   "cell_type": "markdown",
   "metadata": {},
   "source": [
    "Averaging even and odd values will improve convergence."
   ]
  },
  {
   "cell_type": "markdown",
   "metadata": {},
   "source": []
  },
  {
   "cell_type": "markdown",
   "metadata": {},
   "source": [
    "Copyright (c) 2020 Dominic O'Kane"
   ]
  }
 ],
 "metadata": {
  "kernelspec": {
   "display_name": "Python 3",
   "language": "python",
   "name": "python3"
  },
  "language_info": {
   "codemirror_mode": {
    "name": "ipython",
    "version": 3
   },
   "file_extension": ".py",
   "mimetype": "text/x-python",
   "name": "python",
   "nbconvert_exporter": "python",
   "pygments_lexer": "ipython3",
   "version": "3.7.6"
  }
 },
 "nbformat": 4,
 "nbformat_minor": 2
}
