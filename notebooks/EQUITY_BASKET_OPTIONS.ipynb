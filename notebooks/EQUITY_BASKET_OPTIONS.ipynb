{
 "cells": [
  {
   "cell_type": "markdown",
   "metadata": {},
   "source": [
    "# EQUITY BASKET OPTIONS - VALUATION ANALYSIS"
   ]
  },
  {
   "cell_type": "markdown",
   "metadata": {},
   "source": [
    "Valuation and Risk of Equity Basket Options in which the option is on a basket of stocks."
   ]
  },
  {
   "cell_type": "code",
   "execution_count": 77,
   "metadata": {},
   "outputs": [],
   "source": [
    "import numpy as np\n",
    "import matplotlib.pyplot as plt"
   ]
  },
  {
   "cell_type": "code",
   "execution_count": 78,
   "metadata": {},
   "outputs": [],
   "source": [
    "from financepy.finutils import *\n",
    "from financepy.market.curves.FinDiscountCurveFlat import *\n",
    "from financepy.products.equity.FinEquityAsianOption import *\n",
    "from financepy.market.curves.FinDiscountCurveFlat import *\n",
    "from financepy.products.equity.FinEquityBasketOption import FinEquityBasketOption\n",
    "from financepy.products.equity.FinEquityModelTypes import FinEquityModelBlackScholes\n",
    "from financepy.finutils.FinHelperFunctions import betaVectorToCorrMatrix"
   ]
  },
  {
   "cell_type": "markdown",
   "metadata": {},
   "source": [
    "# Homogeneous Basket"
   ]
  },
  {
   "cell_type": "markdown",
   "metadata": {},
   "source": [
    "All the assets in the basket have the same characteristicsm"
   ]
  },
  {
   "cell_type": "code",
   "execution_count": 79,
   "metadata": {},
   "outputs": [],
   "source": [
    "numAssets = 5"
   ]
  },
  {
   "cell_type": "code",
   "execution_count": 80,
   "metadata": {},
   "outputs": [],
   "source": [
    "expiryDate = FinDate(1, 1, 2021)"
   ]
  },
  {
   "cell_type": "code",
   "execution_count": 81,
   "metadata": {},
   "outputs": [],
   "source": [
    "strikePrice = 100.0"
   ]
  },
  {
   "cell_type": "code",
   "execution_count": 82,
   "metadata": {},
   "outputs": [],
   "source": [
    "basketCallOption = FinEquityBasketOption(expiryDate,  strikePrice, \n",
    "                                         FinOptionTypes.EUROPEAN_CALL, numAssets)"
   ]
  },
  {
   "cell_type": "code",
   "execution_count": 83,
   "metadata": {},
   "outputs": [],
   "source": [
    "basketPutOption = FinEquityBasketOption(expiryDate,  strikePrice, \n",
    "                                        FinOptionTypes.EUROPEAN_PUT, numAssets)"
   ]
  },
  {
   "cell_type": "code",
   "execution_count": 84,
   "metadata": {},
   "outputs": [
    {
     "name": "stdout",
     "output_type": "stream",
     "text": [
      "EXPIRY DATE: FRI 1 JAN 2021\n",
      "STRIKE PRICE: 100.0\n",
      "OPTION TYPE: FinOptionTypes.EUROPEAN_CALL\n",
      "NUM ASSETS: 5\n"
     ]
    }
   ],
   "source": [
    "print(basketCallOption)"
   ]
  },
  {
   "cell_type": "code",
   "execution_count": 85,
   "metadata": {},
   "outputs": [
    {
     "name": "stdout",
     "output_type": "stream",
     "text": [
      "EXPIRY DATE: FRI 1 JAN 2021\n",
      "STRIKE PRICE: 100.0\n",
      "OPTION TYPE: FinOptionTypes.EUROPEAN_PUT\n",
      "NUM ASSETS: 5\n"
     ]
    }
   ],
   "source": [
    "print(basketPutOption)"
   ]
  },
  {
   "cell_type": "markdown",
   "metadata": {},
   "source": [
    "## Valuation"
   ]
  },
  {
   "cell_type": "code",
   "execution_count": 86,
   "metadata": {},
   "outputs": [],
   "source": [
    "valueDate = FinDate(1, 1, 2020)"
   ]
  },
  {
   "cell_type": "code",
   "execution_count": 87,
   "metadata": {},
   "outputs": [],
   "source": [
    "interestRate = 0.05"
   ]
  },
  {
   "cell_type": "code",
   "execution_count": 88,
   "metadata": {},
   "outputs": [],
   "source": [
    "discountCurve = FinDiscountCurveFlat(valueDate, interestRate)"
   ]
  },
  {
   "cell_type": "code",
   "execution_count": 89,
   "metadata": {},
   "outputs": [],
   "source": [
    "volatility = 0.20\n",
    "dividendYield = 0.01\n",
    "stockPrice = 100.0"
   ]
  },
  {
   "cell_type": "markdown",
   "metadata": {},
   "source": [
    "We examine how the price depends on the stock price"
   ]
  },
  {
   "cell_type": "code",
   "execution_count": 90,
   "metadata": {},
   "outputs": [],
   "source": [
    "volatilities = np.ones(numAssets) * volatility\n",
    "dividendYields = np.ones(numAssets) * dividendYield\n",
    "stockPrices = np.ones(numAssets) * stockPrice\n",
    "\n",
    "valuesCall = []\n",
    "valuesPut = []\n",
    "valuesCallMC = []\n",
    "valuesPutMC = []\n",
    "\n",
    "svector = np.linspace(50,150, 100)\n",
    "\n",
    "for s in svector:\n",
    "\n",
    "    stockPrices = np.ones(numAssets) * s\n",
    "    betaVector = np.ones(numAssets) * 0.6\n",
    "    corrMatrix = betaVectorToCorrMatrix(betaVector)\n",
    "\n",
    "    vcall = basketCallOption.value(valueDate, stockPrices, discountCurve, \n",
    "                                   dividendYields, volatilities, corrMatrix)\n",
    "    \n",
    "    vput = basketPutOption.value(valueDate, stockPrices, discountCurve, \n",
    "                                 dividendYields, volatilities, corrMatrix)\n",
    "\n",
    "    vcallmc = basketCallOption.valueMC(valueDate, stockPrices, discountCurve, \n",
    "                                   dividendYields, volatilities, corrMatrix)\n",
    "    \n",
    "    vputmc = basketPutOption.valueMC(valueDate, stockPrices, discountCurve, \n",
    "                                 dividendYields, volatilities, corrMatrix)\n",
    "\n",
    "    valuesCall.append(vcall)\n",
    "    valuesPut.append(vput)\n",
    "    valuesCallMC.append(vcallmc)\n",
    "    valuesPutMC.append(vputmc)\n"
   ]
  },
  {
   "cell_type": "code",
   "execution_count": 91,
   "metadata": {},
   "outputs": [
    {
     "data": {
      "image/png": "[encoded data removed]",
      "text/plain": [
       "<Figure size 576x432 with 1 Axes>"
      ]
     },
     "metadata": {
      "needs_background": "light"
     },
     "output_type": "display_data"
    }
   ],
   "source": [
    "plt.figure(figsize=(8, 6))\n",
    "plt.plot(svector, valuesCall, label=\"Call\");\n",
    "plt.plot(svector, valuesPut, label=\"Put\");\n",
    "plt.plot(svector, valuesCallMC, '.', label=\"CallMC\");\n",
    "plt.plot(svector, valuesPutMC, '.', label=\"PutMC\");\n",
    "plt.xlabel(\"Stock Price\")\n",
    "plt.ylabel(\"Value\")\n",
    "plt.legend();"
   ]
  },
  {
   "cell_type": "markdown",
   "metadata": {},
   "source": [
    "We see the usual payoff we would expect and that the Monte Carlo agrees closely with the analytical approach."
   ]
  },
  {
   "cell_type": "markdown",
   "metadata": {},
   "source": [
    "## Examining the Role of Correlation"
   ]
  },
  {
   "cell_type": "markdown",
   "metadata": {},
   "source": [
    "We examine the dependency of the basket option price on the inter-asset correlation."
   ]
  },
  {
   "cell_type": "code",
   "execution_count": 92,
   "metadata": {},
   "outputs": [],
   "source": [
    "valuesCall = []\n",
    "valuesPut = []\n",
    "valuesCallMC = []\n",
    "valuesPutMC = []\n",
    "\n",
    "stockPrice = 100.0\n",
    "stockPrices = np.ones(numAssets) * stockPrice\n",
    "\n",
    "betas = np.linspace(0.0, 0.90, 20)\n",
    "\n",
    "for beta in betas:\n",
    "\n",
    "    betaVector = np.ones(numAssets) * beta\n",
    "    corrMatrix = betaVectorToCorrMatrix(betaVector)\n",
    "\n",
    "    vcall = basketCallOption.value(valueDate, stockPrices, discountCurve, \n",
    "                                   dividendYields, volatilities, corrMatrix)\n",
    "    \n",
    "    vput = basketPutOption.value(valueDate, stockPrices, discountCurve, \n",
    "                                 dividendYields, volatilities, corrMatrix)\n",
    "\n",
    "    vcallmc = basketCallOption.valueMC(valueDate, stockPrices, discountCurve, \n",
    "                                   dividendYields, volatilities, corrMatrix)\n",
    "    \n",
    "    vputmc = basketPutOption.valueMC(valueDate, stockPrices, discountCurve, \n",
    "                                 dividendYields, volatilities, corrMatrix)\n",
    "\n",
    "    valuesCall.append(vcall)\n",
    "    valuesPut.append(vput)\n",
    "    valuesCallMC.append(vcallmc)\n",
    "    valuesPutMC.append(vputmc)"
   ]
  },
  {
   "cell_type": "code",
   "execution_count": 93,
   "metadata": {},
   "outputs": [
    {
     "data": {
      "image/png": "[encoded data removed]",
      "text/plain": [
       "<Figure size 576x432 with 1 Axes>"
      ]
     },
     "metadata": {
      "needs_background": "light"
     },
     "output_type": "display_data"
    }
   ],
   "source": [
    "plt.figure(figsize=(8, 6))\n",
    "plt.plot(betas, valuesCall, label=\"Call\");\n",
    "plt.plot(betas, valuesPut, label=\"Put\");\n",
    "plt.plot(betas, valuesCallMC, '.', label=\"CallMC\");\n",
    "plt.plot(betas, valuesPutMC, '.', label=\"PutMC\");\n",
    "plt.xlabel(\"Correlation\")\n",
    "plt.ylabel(\"Value\")\n",
    "plt.legend();"
   ]
  },
  {
   "cell_type": "markdown",
   "metadata": {},
   "source": [
    "Both the call and put increase in value with correlation as the effective volatility of the assets increases."
   ]
  },
  {
   "cell_type": "markdown",
   "metadata": {},
   "source": [
    "## Heterogenous Basket"
   ]
  },
  {
   "cell_type": "markdown",
   "metadata": {},
   "source": [
    "Now we examine what happpens if we allow the assets to differ"
   ]
  },
  {
   "cell_type": "code",
   "execution_count": 94,
   "metadata": {},
   "outputs": [],
   "source": [
    "valuesCallx = []\n",
    "valuesPutx = []\n",
    "valuesCallMCx = []\n",
    "valuesPutMCx = []\n",
    "\n",
    "# Volatilities differ\n",
    "volatilities = np.linspace(0.1, 0.3, numAssets)\n",
    "\n",
    "# Correlations differ\n",
    "beta = 0.5\n",
    "betaVector = np.linspace(beta-0.4, beta+0.4, numAssets)\n",
    "corrMatrix = betaVectorToCorrMatrix(betaVector)\n",
    "\n",
    "# Dividends differ\n",
    "dividendYields = np.linspace(0.0, 0.04, numAssets)\n",
    "\n",
    "svector = np.linspace(50, 150, 100)\n",
    "\n",
    "for s in svector:\n",
    "\n",
    "    # initial stock prices differ\n",
    "    stockPrices = np.linspace(s-50, s+50, numAssets)\n",
    "\n",
    "    vcall = basketCallOption.value(valueDate, stockPrices, discountCurve, \n",
    "                                   dividendYields, volatilities, corrMatrix)\n",
    "    \n",
    "    vput = basketPutOption.value(valueDate, stockPrices, discountCurve, \n",
    "                                 dividendYields, volatilities, corrMatrix)\n",
    "\n",
    "    vcallmc = basketCallOption.valueMC(valueDate, stockPrices, discountCurve, \n",
    "                                   dividendYields, volatilities, corrMatrix)\n",
    "    \n",
    "    vputmc = basketPutOption.valueMC(valueDate, stockPrices, discountCurve, \n",
    "                                 dividendYields, volatilities, corrMatrix)\n",
    "\n",
    "    valuesCallx.append(vcall)\n",
    "    valuesPutx.append(vput)\n",
    "    valuesCallMCx.append(vcallmc)\n",
    "    valuesPutMCx.append(vputmc)"
   ]
  },
  {
   "cell_type": "code",
   "execution_count": 95,
   "metadata": {},
   "outputs": [
    {
     "data": {
      "image/png": "[encoded data removed]",
      "text/plain": [
       "<Figure size 576x432 with 1 Axes>"
      ]
     },
     "metadata": {
      "needs_background": "light"
     },
     "output_type": "display_data"
    }
   ],
   "source": [
    "plt.figure(figsize=(8, 6))\n",
    "plt.plot(svector, valuesCallx, label=\"Call\");\n",
    "plt.plot(svector, valuesPutx, label=\"Put\");\n",
    "plt.plot(svector, valuesCallMCx, '.', label=\"CallMC\");\n",
    "plt.plot(svector, valuesPutMCx, '.', label=\"PutMC\");\n",
    "plt.xlabel(\"Stock Price\")\n",
    "plt.ylabel(\"Value\")\n",
    "plt.legend();"
   ]
  },
  {
   "cell_type": "markdown",
   "metadata": {},
   "source": [
    "The price dependency does not change significantly as the assets become more heterogenous."
   ]
  },
  {
   "cell_type": "markdown",
   "metadata": {},
   "source": [
    "Copyright (c) 2020 Dominic O'Kane"
   ]
  }
 ],
 "metadata": {
  "kernelspec": {
   "display_name": "Python 3",
   "language": "python",
   "name": "python3"
  },
  "language_info": {
   "codemirror_mode": {
    "name": "ipython",
    "version": 3
   },
   "file_extension": ".py",
   "mimetype": "text/x-python",
   "name": "python",
   "nbconvert_exporter": "python",
   "pygments_lexer": "ipython3",
   "version": "3.7.6"
  }
 },
 "nbformat": 4,
 "nbformat_minor": 2
}
