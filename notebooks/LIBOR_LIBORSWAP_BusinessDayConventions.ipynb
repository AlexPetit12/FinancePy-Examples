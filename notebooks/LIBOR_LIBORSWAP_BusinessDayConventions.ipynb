{
 "cells": [
  {
   "cell_type": "markdown",
   "metadata": {},
   "source": [
    "# Building a Libor Curve - Business Day Conventions"
   ]
  },
  {
   "cell_type": "markdown",
   "metadata": {},
   "source": [
    "Examining role of conventions in determining swap flowsm"
   ]
  },
  {
   "cell_type": "code",
   "execution_count": 1,
   "metadata": {},
   "outputs": [],
   "source": [
    "import numpy as np\n",
    "import matplotlib.pyplot as plt"
   ]
  },
  {
   "cell_type": "code",
   "execution_count": 2,
   "metadata": {},
   "outputs": [
    {
     "name": "stdout",
     "output_type": "stream",
     "text": [
      "###################################################################\n",
      "# FINANCEPY BETA Version 0.180 - This build: 06 Sep 2020 at 12:06 #\n",
      "#     This software is distributed FREE & WITHOUT ANY WARRANTY    #\n",
      "# For info and disclaimer - https://github.com/domokane/FinancePy #\n",
      "###################################################################\n",
      "\n"
     ]
    }
   ],
   "source": [
    "from financepy.finutils.FinDate import FinDate\n",
    "from financepy.finutils.FinDayCount import FinDayCountTypes\n",
    "from financepy.finutils.FinFrequency import FinFrequencyTypes\n",
    "from financepy.finutils.FinCalendar import *\n",
    "from financepy.products.libor.FinLiborSwap import FinLiborSwap"
   ]
  },
  {
   "cell_type": "markdown",
   "metadata": {},
   "source": [
    "## Creating the Swap"
   ]
  },
  {
   "cell_type": "code",
   "execution_count": 3,
   "metadata": {},
   "outputs": [],
   "source": [
    "valuationDate = FinDate(26, 2, 2008)"
   ]
  },
  {
   "cell_type": "code",
   "execution_count": 4,
   "metadata": {},
   "outputs": [],
   "source": [
    "spotDays = 2"
   ]
  },
  {
   "cell_type": "code",
   "execution_count": 5,
   "metadata": {},
   "outputs": [],
   "source": [
    "effectiveDate = valuationDate.addWorkDays(spotDays)"
   ]
  },
  {
   "cell_type": "code",
   "execution_count": 6,
   "metadata": {},
   "outputs": [],
   "source": [
    "maturityDate = FinDate(28, 2, 2011)"
   ]
  },
  {
   "cell_type": "code",
   "execution_count": 7,
   "metadata": {},
   "outputs": [],
   "source": [
    "swapRate = 0.050"
   ]
  },
  {
   "cell_type": "markdown",
   "metadata": {},
   "source": [
    "### Calendar Types is NONE"
   ]
  },
  {
   "cell_type": "code",
   "execution_count": 8,
   "metadata": {},
   "outputs": [],
   "source": [
    "swap = FinLiborSwap(effectiveDate, \n",
    "                    maturityDate, \n",
    "                    swapRate, \n",
    "                    fixedFreqType=FinFrequencyTypes.SEMI_ANNUAL, \n",
    "                    fixedDayCountType= FinDayCountTypes.ACT_360,\n",
    "                    calendarType = FinCalendarTypes.NONE, \n",
    "                    busDayAdjustType=FinBusDayAdjustTypes.MODIFIED_FOLLOWING)"
   ]
  },
  {
   "cell_type": "code",
   "execution_count": 9,
   "metadata": {},
   "outputs": [
    {
     "data": {
      "text/plain": [
       "[THU 28 AUG 2008,\n",
       " SAT 28 FEB 2009,\n",
       " FRI 28 AUG 2009,\n",
       " SUN 28 FEB 2010,\n",
       " SAT 28 AUG 2010,\n",
       " MON 28 FEB 2011]"
      ]
     },
     "execution_count": 9,
     "metadata": {},
     "output_type": "execute_result"
    }
   ],
   "source": [
    "swap.fixedDates()"
   ]
  },
  {
   "cell_type": "markdown",
   "metadata": {},
   "source": [
    "### Calendar Types is WEEKEND and Adjustment is MODIFIED FOLLOWING"
   ]
  },
  {
   "cell_type": "code",
   "execution_count": 10,
   "metadata": {},
   "outputs": [],
   "source": [
    "swap = FinLiborSwap(effectiveDate, \n",
    "                    maturityDate,\n",
    "                    swapRate,\n",
    "                    fixedFreqType=FinFrequencyTypes.SEMI_ANNUAL, \n",
    "                    fixedDayCountType= FinDayCountTypes.ACT_360,\n",
    "                    calendarType = FinCalendarTypes.WEEKEND, \n",
    "                    busDayAdjustType=FinBusDayAdjustTypes.MODIFIED_FOLLOWING)"
   ]
  },
  {
   "cell_type": "code",
   "execution_count": 11,
   "metadata": {},
   "outputs": [
    {
     "data": {
      "text/plain": [
       "[THU 28 AUG 2008,\n",
       " FRI 27 FEB 2009,\n",
       " FRI 28 AUG 2009,\n",
       " FRI 26 FEB 2010,\n",
       " MON 30 AUG 2010,\n",
       " MON 28 FEB 2011]"
      ]
     },
     "execution_count": 11,
     "metadata": {},
     "output_type": "execute_result"
    }
   ],
   "source": [
    "swap.fixedDates()"
   ]
  },
  {
   "cell_type": "markdown",
   "metadata": {},
   "source": [
    "Copyright (c) 2020 Dominic O'Kane"
   ]
  }
 ],
 "metadata": {
  "kernelspec": {
   "display_name": "Python 3",
   "language": "python",
   "name": "python3"
  },
  "language_info": {
   "codemirror_mode": {
    "name": "ipython",
    "version": 3
   },
   "file_extension": ".py",
   "mimetype": "text/x-python",
   "name": "python",
   "nbconvert_exporter": "python",
   "pygments_lexer": "ipython3",
   "version": "3.7.6"
  }
 },
 "nbformat": 4,
 "nbformat_minor": 4
}
