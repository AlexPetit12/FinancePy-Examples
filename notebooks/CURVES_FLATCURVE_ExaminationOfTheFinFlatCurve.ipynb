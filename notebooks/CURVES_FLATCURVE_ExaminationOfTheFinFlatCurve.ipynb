{
 "cells": [
  {
   "cell_type": "markdown",
   "metadata": {},
   "source": [
    "# Examination of the FinFlatCurve"
   ]
  },
  {
   "cell_type": "code",
   "execution_count": 10,
   "metadata": {},
   "outputs": [],
   "source": [
    "# This program is distributed in the hope that it will be useful, but WITHOUT ANY WARRANTY; \n",
    "# without even the implied warranty of MERCHANTABILITY or FITNESS FOR A PARTICULAR PURPOSE.  \n",
    "# See the license for more details."
   ]
  },
  {
   "cell_type": "markdown",
   "metadata": {},
   "source": [
    "Examine the impact of changing the compunding frequency"
   ]
  },
  {
   "cell_type": "code",
   "execution_count": 1,
   "metadata": {},
   "outputs": [],
   "source": [
    "import numpy as np"
   ]
  },
  {
   "cell_type": "code",
   "execution_count": 2,
   "metadata": {},
   "outputs": [],
   "source": [
    "from financepy.market.curves.FinFlatCurve import FinFlatCurve\n",
    "from financepy.finutils.FinDate import FinDate"
   ]
  },
  {
   "cell_type": "code",
   "execution_count": 3,
   "metadata": {},
   "outputs": [],
   "source": [
    "curveDate = FinDate(2019, 2, 2)\n",
    "times = np.linspace(0.0, 1.0, 5)    "
   ]
  },
  {
   "cell_type": "code",
   "execution_count": 4,
   "metadata": {},
   "outputs": [
    {
     "name": "stdout",
     "output_type": "stream",
     "text": [
      "COMPOUNDING DFS\n",
      "-1 [1.         0.9875778  0.97530991 0.96319442 0.95122942]\n"
     ]
    }
   ],
   "source": [
    "print(\"COMPOUNDING\", \"DFS\")\n",
    "compounding = -1\n",
    "flatCurve = FinFlatCurve(curveDate, 0.05, compounding)\n",
    "dfs = flatCurve.df(times)\n",
    "print(compounding, dfs)"
   ]
  },
  {
   "cell_type": "code",
   "execution_count": 5,
   "metadata": {},
   "outputs": [
    {
     "name": "stdout",
     "output_type": "stream",
     "text": [
      "1 [1.         0.98787655 0.97590007 0.96406879 0.95238095]\n"
     ]
    }
   ],
   "source": [
    "compounding = 1\n",
    "flatCurve = FinFlatCurve(curveDate, 0.05, compounding)\n",
    "dfs = flatCurve.df(times)\n",
    "print(compounding, dfs)"
   ]
  },
  {
   "cell_type": "code",
   "execution_count": 6,
   "metadata": {},
   "outputs": [
    {
     "name": "stdout",
     "output_type": "stream",
     "text": [
      "2 [1.         0.9877296  0.97560976 0.96363863 0.9518144 ]\n"
     ]
    }
   ],
   "source": [
    "compounding = 2\n",
    "flatCurve = FinFlatCurve(curveDate, 0.05, compounding)\n",
    "dfs = flatCurve.df(times)\n",
    "print(compounding, dfs)"
   ]
  },
  {
   "cell_type": "code",
   "execution_count": 7,
   "metadata": {},
   "outputs": [
    {
     "name": "stdout",
     "output_type": "stream",
     "text": [
      "4 [1.         0.98765432 0.97546106 0.96341833 0.95152428]\n"
     ]
    }
   ],
   "source": [
    "compounding = 4\n",
    "flatCurve = FinFlatCurve(curveDate, 0.05, compounding)\n",
    "dfs = flatCurve.df(times)\n",
    "print(compounding, dfs)"
   ]
  },
  {
   "cell_type": "code",
   "execution_count": 8,
   "metadata": {},
   "outputs": [
    {
     "name": "stdout",
     "output_type": "stream",
     "text": [
      "12 [1.         0.98760345 0.97536057 0.96326946 0.95132824]\n"
     ]
    }
   ],
   "source": [
    "compounding = 12\n",
    "flatCurve = FinFlatCurve(curveDate, 0.05, compounding)\n",
    "dfs = flatCurve.df(times)\n",
    "print(compounding, dfs)"
   ]
  },
  {
   "cell_type": "code",
   "execution_count": 9,
   "metadata": {},
   "outputs": [
    {
     "name": "stdout",
     "output_type": "stream",
     "text": [
      "0 [1.         0.98765432 0.97560976 0.96385542 0.95238095]\n"
     ]
    }
   ],
   "source": [
    "compounding = 0\n",
    "flatCurve = FinFlatCurve(curveDate, 0.05, compounding)\n",
    "dfs = flatCurve.df(times)\n",
    "print(compounding, dfs)"
   ]
  }
 ],
 "metadata": {
  "kernelspec": {
   "display_name": "Python 3",
   "language": "python",
   "name": "python3"
  },
  "language_info": {
   "codemirror_mode": {
    "name": "ipython",
    "version": 3
   },
   "file_extension": ".py",
   "mimetype": "text/x-python",
   "name": "python",
   "nbconvert_exporter": "python",
   "pygments_lexer": "ipython3",
   "version": "3.7.7"
  }
 },
 "nbformat": 4,
 "nbformat_minor": 4
}
