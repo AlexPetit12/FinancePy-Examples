{
 "cells": [
  {
   "cell_type": "markdown",
   "metadata": {},
   "source": [
    "# Valuing Caps and Floors"
   ]
  },
  {
   "cell_type": "code",
   "execution_count": 1,
   "metadata": {},
   "outputs": [],
   "source": [
    "# This program is distributed in the hope that it will be useful, but WITHOUT\n",
    "# ANY WARRANTY; without even the implied warranty of MERCHANTABILITY or FITNESS\n",
    "# FOR A PARTICULAR PURPOSE.  See the FinancePy license for more details."
   ]
  },
  {
   "cell_type": "markdown",
   "metadata": {},
   "source": [
    "We value caps and floors using Black's model"
   ]
  },
  {
   "cell_type": "code",
   "execution_count": 4,
   "metadata": {},
   "outputs": [],
   "source": [
    "import numpy as np\n",
    "import matplotlib.pyplot as plt"
   ]
  },
  {
   "cell_type": "code",
   "execution_count": 6,
   "metadata": {},
   "outputs": [],
   "source": [
    "from financepy.finutils import *\n",
    "from financepy.products.libor.FinLiborDeposit import FinLiborDeposit\n",
    "from financepy.products.libor.FinLiborSwap import FinLiborSwap\n",
    "from financepy.products.libor.FinLiborCapFloor import *\n",
    "from financepy.market.curves import *"
   ]
  },
  {
   "cell_type": "markdown",
   "metadata": {},
   "source": [
    "## Building a Libor Curve"
   ]
  },
  {
   "cell_type": "code",
   "execution_count": 7,
   "metadata": {},
   "outputs": [],
   "source": [
    "valuationDate = FinDate(6, 6, 2018)"
   ]
  },
  {
   "cell_type": "code",
   "execution_count": 8,
   "metadata": {},
   "outputs": [],
   "source": [
    "spotDays = 0\n",
    "settlementDate = valuationDate.addWorkDays(spotDays)\n",
    "depoDCCType = FinDayCountTypes.THIRTY_E_360_ISDA\n",
    "\n",
    "depos = []\n",
    "depo = FinLiborDeposit(settlementDate, \"1M\", 0.0230, depoDCCType); depos.append(depo)\n",
    "depo = FinLiborDeposit(settlementDate, \"2M\", 0.0230, depoDCCType); depos.append(depo)\n",
    "depo = FinLiborDeposit(settlementDate, \"3M\", 0.0230, depoDCCType); depos.append(depo)\n",
    "depo = FinLiborDeposit(settlementDate, \"6M\", 0.0230, depoDCCType); depos.append(depo)\n",
    "depo = FinLiborDeposit(settlementDate, \"9M\", 0.0230, depoDCCType); depos.append(depo)"
   ]
  },
  {
   "cell_type": "code",
   "execution_count": 9,
   "metadata": {},
   "outputs": [],
   "source": [
    "accrual = FinDayCountTypes.THIRTY_360\n",
    "freq = FinFrequencyTypes.SEMI_ANNUAL\n",
    "longEnd = FinDateGenRuleTypes.BACKWARD\n",
    "\n",
    "spotDays = 2\n",
    "settlementDate = valuationDate.addWorkDays(spotDays)\n",
    "\n",
    "swaps = []\n",
    "swap = FinLiborSwap(settlementDate, \"1Y\", 0.0250, freq, accrual); swaps.append(swap)\n",
    "swap = FinLiborSwap(settlementDate, \"2Y\", 0.0255, freq, accrual); swaps.append(swap)\n",
    "swap = FinLiborSwap(settlementDate, \"3Y\", 0.0260, freq, accrual); swaps.append(swap)\n",
    "swap = FinLiborSwap(settlementDate, \"4Y\", 0.0265, freq, accrual); swaps.append(swap)\n",
    "swap = FinLiborSwap(settlementDate, \"5Y\", 0.0270, freq, accrual); swaps.append(swap)"
   ]
  },
  {
   "cell_type": "code",
   "execution_count": 10,
   "metadata": {},
   "outputs": [],
   "source": [
    "liborCurve = FinLiborCurve(\"USD_LIBOR\", settlementDate, depos, [], swaps)"
   ]
  },
  {
   "cell_type": "markdown",
   "metadata": {},
   "source": [
    "## Creating a Cap and Floor"
   ]
  },
  {
   "cell_type": "code",
   "execution_count": 11,
   "metadata": {},
   "outputs": [],
   "source": [
    "capType = FinLiborCapFloorType.CAP\n",
    "floorType = FinLiborCapFloorType.FLOOR"
   ]
  },
  {
   "cell_type": "code",
   "execution_count": 12,
   "metadata": {},
   "outputs": [],
   "source": [
    "strikeRate = 0.02"
   ]
  },
  {
   "cell_type": "code",
   "execution_count": 13,
   "metadata": {},
   "outputs": [],
   "source": [
    "cap = FinLiborCapFloor(settlementDate, \"2Y\", capType, strikeRate)\n",
    "flr = FinLiborCapFloor(settlementDate, \"2Y\", floorType, strikeRate)"
   ]
  },
  {
   "cell_type": "code",
   "execution_count": 14,
   "metadata": {},
   "outputs": [
    {
     "name": "stdout",
     "output_type": "stream",
     "text": [
      "START DATE: FRI 8 JUN 2018\n",
      "MATURITY DATE: MON 8 JUN 2020\n",
      "STRIKE COUPON: 2.0\n",
      "OPTION TYPE: FinLiborCapFloorType.CAP\n",
      "FREQUENCY: FinFrequencyTypes.QUARTERLY\n",
      "DAY COUNT: FinDayCountTypes.THIRTY_E_360_ISDA\n"
     ]
    }
   ],
   "source": [
    "print(cap)"
   ]
  },
  {
   "cell_type": "code",
   "execution_count": 15,
   "metadata": {},
   "outputs": [
    {
     "name": "stdout",
     "output_type": "stream",
     "text": [
      "START DATE: FRI 8 JUN 2018\n",
      "MATURITY DATE: MON 8 JUN 2020\n",
      "STRIKE COUPON: 2.0\n",
      "OPTION TYPE: FinLiborCapFloorType.FLOOR\n",
      "FREQUENCY: FinFrequencyTypes.QUARTERLY\n",
      "DAY COUNT: FinDayCountTypes.THIRTY_E_360_ISDA\n"
     ]
    }
   ],
   "source": [
    "print(flr)"
   ]
  },
  {
   "cell_type": "markdown",
   "metadata": {},
   "source": [
    "## Valuation"
   ]
  },
  {
   "cell_type": "markdown",
   "metadata": {},
   "source": [
    "### Black's Model"
   ]
  },
  {
   "cell_type": "markdown",
   "metadata": {},
   "source": [
    "We start with Black's model with 25% volatility"
   ]
  },
  {
   "cell_type": "code",
   "execution_count": 16,
   "metadata": {},
   "outputs": [],
   "source": [
    "model = FinModelBlack(0.25)"
   ]
  },
  {
   "cell_type": "code",
   "execution_count": 17,
   "metadata": {},
   "outputs": [
    {
     "data": {
      "text/plain": [
       "11373.487460663488"
      ]
     },
     "execution_count": 17,
     "metadata": {},
     "output_type": "execute_result"
    }
   ],
   "source": [
    "cap.value(valuationDate, liborCurve, model)"
   ]
  },
  {
   "cell_type": "code",
   "execution_count": 18,
   "metadata": {},
   "outputs": [
    {
     "data": {
      "text/plain": [
       "839.0297040488564"
      ]
     },
     "execution_count": 18,
     "metadata": {},
     "output_type": "execute_result"
    }
   ],
   "source": [
    "flr.value(valuationDate, liborCurve, model)"
   ]
  },
  {
   "cell_type": "code",
   "execution_count": 20,
   "metadata": {},
   "outputs": [
    {
     "name": "stdout",
     "output_type": "stream",
     "text": [
      "START DATE: FRI 8 JUN 2018\n",
      "MATURITY DATE: MON 8 JUN 2020\n",
      "OPTION TYPE FinLiborCapFloorType.CAP\n",
      "STRIKE (%): 2.0\n",
      "FREQUENCY: FinFrequencyTypes.QUARTERLY\n",
      "DAY COUNT: FinDayCountTypes.THIRTY_E_360_ISDA\n",
      "VALUATION DATE WED 6 JUN 2018\n",
      "PAYMENT_DATE     YEAR_FRAC   FWD_RATE    INTRINSIC           DF    CAPLET_PV       CUM_PV\n",
      " FRI 8 JUN 2018  0.0000000    0.00000         0.00     1.000000         0.00         0.00\n",
      "MON 10 SEP 2018  0.2555556    2.34863       885.63     0.994034       885.63       885.63\n",
      "MON 10 DEC 2018  0.2500000    2.28739       710.13     0.988382       761.48      1647.11\n",
      " FRI 8 MAR 2019  0.2444444    2.28951       695.58     0.982881       814.60      2461.71\n",
      "MON 10 JUN 2019  0.2555556    3.03491      2579.49     0.975316      2592.95      5054.66\n",
      " MON 9 SEP 2019  0.2472222    2.60810      1456.85     0.969068      1558.86      6613.52\n",
      " MON 9 DEC 2019  0.2500000    2.57912      1394.03     0.962860      1545.14      8158.66\n",
      " MON 9 MAR 2020  0.2500000    2.57912      1385.10     0.956691      1574.27      9732.94\n",
      " MON 8 JUN 2020  0.2472222    2.60810      1429.03     0.950562      1640.55     11373.49\n"
     ]
    }
   ],
   "source": [
    "cap.printLeg()"
   ]
  },
  {
   "cell_type": "markdown",
   "metadata": {},
   "source": [
    "# Alternative Models"
   ]
  },
  {
   "cell_type": "markdown",
   "metadata": {},
   "source": [
    "## Shifted Black"
   ]
  },
  {
   "cell_type": "markdown",
   "metadata": {},
   "source": [
    "Shifted Black gives the same pdf at F+S as Black does at F. So if we want to have the PDF for F=0.25 at -0.25 because rates are negative then you need to set F=-0.50."
   ]
  },
  {
   "cell_type": "code",
   "execution_count": 21,
   "metadata": {},
   "outputs": [],
   "source": [
    "model = FinModelBlackShifted(0.25, -0.005)"
   ]
  },
  {
   "cell_type": "code",
   "execution_count": 22,
   "metadata": {},
   "outputs": [
    {
     "data": {
      "text/plain": [
       "11907.567907413986"
      ]
     },
     "execution_count": 22,
     "metadata": {},
     "output_type": "execute_result"
    }
   ],
   "source": [
    "cap.value(valuationDate, liborCurve, model)"
   ]
  },
  {
   "cell_type": "code",
   "execution_count": 23,
   "metadata": {},
   "outputs": [
    {
     "data": {
      "text/plain": [
       "1373.111675229057"
      ]
     },
     "execution_count": 23,
     "metadata": {},
     "output_type": "execute_result"
    }
   ],
   "source": [
    "flr.value(valuationDate, liborCurve, model)"
   ]
  },
  {
   "cell_type": "markdown",
   "metadata": {},
   "source": [
    "The floor has increased in value as the downside risk is greater."
   ]
  },
  {
   "cell_type": "markdown",
   "metadata": {},
   "source": [
    "## SABR Model"
   ]
  },
  {
   "cell_type": "code",
   "execution_count": 24,
   "metadata": {},
   "outputs": [],
   "source": [
    "alpha = 0.037; beta = 0.5; rho  = 0.1; nu = 0.573"
   ]
  },
  {
   "cell_type": "code",
   "execution_count": 25,
   "metadata": {},
   "outputs": [],
   "source": [
    "model = FinModelSABR(alpha, beta, rho, nu)"
   ]
  },
  {
   "cell_type": "code",
   "execution_count": 26,
   "metadata": {},
   "outputs": [
    {
     "data": {
      "text/plain": [
       "11476.08433550521"
      ]
     },
     "execution_count": 26,
     "metadata": {},
     "output_type": "execute_result"
    }
   ],
   "source": [
    "cap.value(valuationDate, liborCurve, model)"
   ]
  },
  {
   "cell_type": "code",
   "execution_count": 27,
   "metadata": {},
   "outputs": [
    {
     "data": {
      "text/plain": [
       "941.6247561755903"
      ]
     },
     "execution_count": 27,
     "metadata": {},
     "output_type": "execute_result"
    }
   ],
   "source": [
    "flr.value(valuationDate, liborCurve, model)"
   ]
  },
  {
   "cell_type": "markdown",
   "metadata": {},
   "source": [
    "## Shifted SABR Model"
   ]
  },
  {
   "cell_type": "code",
   "execution_count": 28,
   "metadata": {},
   "outputs": [],
   "source": [
    "alpha = 0.037; beta = 0.5; rho  = 0.1; nu = 0.573; shift = -0.005"
   ]
  },
  {
   "cell_type": "code",
   "execution_count": 29,
   "metadata": {},
   "outputs": [],
   "source": [
    "model = FinModelSABRShifted(alpha, beta, rho, nu, shift)"
   ]
  },
  {
   "cell_type": "code",
   "execution_count": 30,
   "metadata": {},
   "outputs": [
    {
     "data": {
      "text/plain": [
       "11844.971927506947"
      ]
     },
     "execution_count": 30,
     "metadata": {},
     "output_type": "execute_result"
    }
   ],
   "source": [
    "cap.value(valuationDate, liborCurve, model)"
   ]
  },
  {
   "cell_type": "code",
   "execution_count": 31,
   "metadata": {},
   "outputs": [
    {
     "data": {
      "text/plain": [
       "1310.512348177328"
      ]
     },
     "execution_count": 31,
     "metadata": {},
     "output_type": "execute_result"
    }
   ],
   "source": [
    "flr.value(valuationDate, liborCurve, model)"
   ]
  },
  {
   "cell_type": "markdown",
   "metadata": {},
   "source": [
    "## Hull White Model"
   ]
  },
  {
   "cell_type": "code",
   "execution_count": 32,
   "metadata": {},
   "outputs": [],
   "source": [
    "sigma = 0.01; alpha = 0.005"
   ]
  },
  {
   "cell_type": "code",
   "execution_count": 33,
   "metadata": {},
   "outputs": [],
   "source": [
    "model = FinModelRatesHW(sigma, alpha)"
   ]
  },
  {
   "cell_type": "code",
   "execution_count": 34,
   "metadata": {},
   "outputs": [
    {
     "data": {
      "text/plain": [
       "11149.637416506732"
      ]
     },
     "execution_count": 34,
     "metadata": {},
     "output_type": "execute_result"
    }
   ],
   "source": [
    "cap.value(valuationDate, liborCurve, model)"
   ]
  },
  {
   "cell_type": "code",
   "execution_count": 35,
   "metadata": {},
   "outputs": [
    {
     "data": {
      "text/plain": [
       "593.6128741545962"
      ]
     },
     "execution_count": 35,
     "metadata": {},
     "output_type": "execute_result"
    }
   ],
   "source": [
    "flr.value(valuationDate, liborCurve, model)"
   ]
  },
  {
   "cell_type": "markdown",
   "metadata": {},
   "source": [
    "Copyright (c) 2020 Dominic O'Kane"
   ]
  }
 ],
 "metadata": {
  "kernelspec": {
   "display_name": "Python 3",
   "language": "python",
   "name": "python3"
  },
  "language_info": {
   "codemirror_mode": {
    "name": "ipython",
    "version": 3
   },
   "file_extension": ".py",
   "mimetype": "text/x-python",
   "name": "python",
   "nbconvert_exporter": "python",
   "pygments_lexer": "ipython3",
   "version": "3.7.7"
  }
 },
 "nbformat": 4,
 "nbformat_minor": 4
}
