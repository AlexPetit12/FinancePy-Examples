{
 "cells": [
  {
   "cell_type": "markdown",
   "metadata": {},
   "source": [
    "# Valuing Caps and Floors"
   ]
  },
  {
   "cell_type": "markdown",
   "metadata": {},
   "source": [
    "We value caps and floors using Black's model"
   ]
  },
  {
   "cell_type": "code",
   "execution_count": 11,
   "metadata": {},
   "outputs": [],
   "source": [
    "import numpy as np\n",
    "import matplotlib.pyplot as plt"
   ]
  },
  {
   "cell_type": "code",
   "execution_count": 1,
   "metadata": {},
   "outputs": [
    {
     "name": "stdout",
     "output_type": "stream",
     "text": [
      "###################################################################\n",
      "# FINANCEPY BETA Version 0.180 - This build: 10 Sep 2020 at 22:02 #\n",
      "#     This software is distributed FREE & WITHOUT ANY WARRANTY    #\n",
      "# For info and disclaimer - https://github.com/domokane/FinancePy #\n",
      "###################################################################\n",
      "\n"
     ]
    }
   ],
   "source": [
    "from financepy.finutils import *\n",
    "from financepy.products.libor import *"
   ]
  },
  {
   "cell_type": "markdown",
   "metadata": {},
   "source": [
    "## Building a Libor Curve"
   ]
  },
  {
   "cell_type": "code",
   "execution_count": 18,
   "metadata": {},
   "outputs": [],
   "source": [
    "valuationDate = FinDate(6, 6, 2018)"
   ]
  },
  {
   "cell_type": "code",
   "execution_count": 25,
   "metadata": {},
   "outputs": [],
   "source": [
    "spotDays = 0\n",
    "settlementDate = valuationDate\n",
    "depoDCCType = FinDayCountTypes.THIRTY_E_360_ISDA\n",
    "\n",
    "depos = []\n",
    "depo = FinLiborDeposit(settlementDate, \"1M\", 0.0230, depoDCCType); depos.append(depo)\n",
    "depo = FinLiborDeposit(settlementDate, \"2M\", 0.0230, depoDCCType); depos.append(depo)\n",
    "depo = FinLiborDeposit(settlementDate, \"3M\", 0.0230, depoDCCType); depos.append(depo)\n",
    "depo = FinLiborDeposit(settlementDate, \"6M\", 0.0230, depoDCCType); depos.append(depo)\n",
    "depo = FinLiborDeposit(settlementDate, \"9M\", 0.0230, depoDCCType); depos.append(depo)"
   ]
  },
  {
   "cell_type": "code",
   "execution_count": 26,
   "metadata": {},
   "outputs": [],
   "source": [
    "accrual = FinDayCountTypes.THIRTY_E_360\n",
    "freq = FinFrequencyTypes.SEMI_ANNUAL\n",
    "longEnd = FinDateGenRuleTypes.BACKWARD\n",
    "\n",
    "spotDays = 2\n",
    "settlementDate = valuationDate.addWorkDays(spotDays)\n",
    "\n",
    "swaps = []\n",
    "swap = FinLiborSwap(settlementDate, \"1Y\", 0.0250, freq, accrual); swaps.append(swap)\n",
    "swap = FinLiborSwap(settlementDate, \"2Y\", 0.0255, freq, accrual); swaps.append(swap)\n",
    "swap = FinLiborSwap(settlementDate, \"3Y\", 0.0260, freq, accrual); swaps.append(swap)\n",
    "swap = FinLiborSwap(settlementDate, \"4Y\", 0.0265, freq, accrual); swaps.append(swap)\n",
    "swap = FinLiborSwap(settlementDate, \"5Y\", 0.0270, freq, accrual); swaps.append(swap)"
   ]
  },
  {
   "cell_type": "code",
   "execution_count": 28,
   "metadata": {},
   "outputs": [],
   "source": [
    "liborCurve = FinLiborCurve(valuationDate, depos, [], swaps)"
   ]
  },
  {
   "cell_type": "markdown",
   "metadata": {},
   "source": [
    "## Creating a Cap and Floor"
   ]
  },
  {
   "cell_type": "code",
   "execution_count": 29,
   "metadata": {},
   "outputs": [],
   "source": [
    "capType = FinLiborCapFloorTypes.CAP\n",
    "floorType = FinLiborCapFloorTypes.FLOOR"
   ]
  },
  {
   "cell_type": "code",
   "execution_count": 30,
   "metadata": {},
   "outputs": [],
   "source": [
    "strikeRate = 0.02"
   ]
  },
  {
   "cell_type": "code",
   "execution_count": 31,
   "metadata": {},
   "outputs": [],
   "source": [
    "cap = FinLiborCapFloor(settlementDate, \"2Y\", capType, strikeRate)\n",
    "flr = FinLiborCapFloor(settlementDate, \"2Y\", floorType, strikeRate)"
   ]
  },
  {
   "cell_type": "code",
   "execution_count": 32,
   "metadata": {},
   "outputs": [
    {
     "name": "stdout",
     "output_type": "stream",
     "text": [
      "START DATE: FRI 08 JUN 2018\n",
      "MATURITY DATE: MON 08 JUN 2020\n",
      "STRIKE COUPON: 2.0\n",
      "OPTION TYPE: FinLiborCapFloorTypes.CAP\n",
      "FREQUENCY: FinFrequencyTypes.QUARTERLY\n",
      "DAY COUNT: FinDayCountTypes.THIRTY_E_360_ISDA\n"
     ]
    }
   ],
   "source": [
    "print(cap)"
   ]
  },
  {
   "cell_type": "code",
   "execution_count": 33,
   "metadata": {},
   "outputs": [
    {
     "name": "stdout",
     "output_type": "stream",
     "text": [
      "START DATE: FRI 08 JUN 2018\n",
      "MATURITY DATE: MON 08 JUN 2020\n",
      "STRIKE COUPON: 2.0\n",
      "OPTION TYPE: FinLiborCapFloorTypes.FLOOR\n",
      "FREQUENCY: FinFrequencyTypes.QUARTERLY\n",
      "DAY COUNT: FinDayCountTypes.THIRTY_E_360_ISDA\n"
     ]
    }
   ],
   "source": [
    "print(flr)"
   ]
  },
  {
   "cell_type": "markdown",
   "metadata": {},
   "source": [
    "# Valuation"
   ]
  },
  {
   "cell_type": "markdown",
   "metadata": {},
   "source": [
    "### Black's Model"
   ]
  },
  {
   "cell_type": "markdown",
   "metadata": {},
   "source": [
    "We start with Black's model with 25% volatility"
   ]
  },
  {
   "cell_type": "code",
   "execution_count": 34,
   "metadata": {},
   "outputs": [],
   "source": [
    "model = FinModelBlack(0.25)"
   ]
  },
  {
   "cell_type": "code",
   "execution_count": 35,
   "metadata": {},
   "outputs": [
    {
     "data": {
      "text/plain": [
       "11361.05137142763"
      ]
     },
     "execution_count": 35,
     "metadata": {},
     "output_type": "execute_result"
    }
   ],
   "source": [
    "cap.value(valuationDate, liborCurve, model)"
   ]
  },
  {
   "cell_type": "code",
   "execution_count": 36,
   "metadata": {},
   "outputs": [
    {
     "data": {
      "text/plain": [
       "826.5171694471896"
      ]
     },
     "execution_count": 36,
     "metadata": {},
     "output_type": "execute_result"
    }
   ],
   "source": [
    "flr.value(valuationDate, liborCurve, model)"
   ]
  },
  {
   "cell_type": "code",
   "execution_count": 37,
   "metadata": {},
   "outputs": [
    {
     "name": "stdout",
     "output_type": "stream",
     "text": [
      "START DATE: FRI 08 JUN 2018\n",
      "MATURITY DATE: MON 08 JUN 2020\n",
      "OPTION TYPE FinLiborCapFloorTypes.CAP\n",
      "STRIKE (%): 2.0\n",
      "FREQUENCY: FinFrequencyTypes.QUARTERLY\n",
      "DAY COUNT: FinDayCountTypes.THIRTY_E_360_ISDA\n",
      "VALUATION DATE WED 06 JUN 2018\n",
      "PAYMENT_DATE     YEAR_FRAC   FWD_RATE    INTRINSIC           DF    CAPLET_PV       CUM_PV\n",
      "FRI 08 JUN 2018          -         -            -     1.000000            -            -\n",
      "MON 10 SEP 2018  0.2555556   2.29838       757.99     0.994034       757.99       757.99\n",
      "MON 10 DEC 2018  0.2500000   2.28739       710.13     0.988382       759.95      1517.94\n",
      "FRI 08 MAR 2019  0.2444444   2.29062       698.24     0.982878       815.40      2333.34\n",
      "MON 10 JUN 2019  0.2555556   3.08483      2703.56     0.975190      2714.71      5048.05\n",
      "MON 09 SEP 2019  0.2472222   2.58278      1396.11     0.969003      1504.89      6552.94\n",
      "MON 09 DEC 2019  0.2500000   2.55409      1333.76     0.962855      1493.33      8046.28\n",
      "MON 09 MAR 2020  0.2500000   2.60448      1445.65     0.956626      1624.55      9670.83\n",
      "MON 08 JUN 2020  0.2472222   2.63374      1489.10     0.950438      1690.22     11361.05\n"
     ]
    }
   ],
   "source": [
    "cap.printLeg()"
   ]
  },
  {
   "cell_type": "markdown",
   "metadata": {},
   "source": [
    "# Alternative Models"
   ]
  },
  {
   "cell_type": "markdown",
   "metadata": {},
   "source": [
    "## Shifted Black"
   ]
  },
  {
   "cell_type": "markdown",
   "metadata": {},
   "source": [
    "Shifted Black gives the same pdf at F+S as Black does at F. So if we want to have the PDF for F=0.25 at -0.25 because rates are negative then you need to set F=-0.50."
   ]
  },
  {
   "cell_type": "code",
   "execution_count": 38,
   "metadata": {},
   "outputs": [],
   "source": [
    "model = FinModelBlackShifted(0.25, -0.005)"
   ]
  },
  {
   "cell_type": "code",
   "execution_count": 39,
   "metadata": {},
   "outputs": [
    {
     "data": {
      "text/plain": [
       "11889.637179252899"
      ]
     },
     "execution_count": 39,
     "metadata": {},
     "output_type": "execute_result"
    }
   ],
   "source": [
    "cap.value(valuationDate, liborCurve, model)"
   ]
  },
  {
   "cell_type": "code",
   "execution_count": 40,
   "metadata": {},
   "outputs": [
    {
     "data": {
      "text/plain": [
       "1355.106744260354"
      ]
     },
     "execution_count": 40,
     "metadata": {},
     "output_type": "execute_result"
    }
   ],
   "source": [
    "flr.value(valuationDate, liborCurve, model)"
   ]
  },
  {
   "cell_type": "markdown",
   "metadata": {},
   "source": [
    "The floor has increased in value as the downside risk is greater."
   ]
  },
  {
   "cell_type": "markdown",
   "metadata": {},
   "source": [
    "## SABR Model"
   ]
  },
  {
   "cell_type": "code",
   "execution_count": 41,
   "metadata": {},
   "outputs": [],
   "source": [
    "alpha = 0.037; beta = 0.5; rho  = 0.1; nu = 0.573"
   ]
  },
  {
   "cell_type": "code",
   "execution_count": 42,
   "metadata": {},
   "outputs": [],
   "source": [
    "model = FinModelSABR(alpha, beta, rho, nu)"
   ]
  },
  {
   "cell_type": "code",
   "execution_count": 43,
   "metadata": {},
   "outputs": [
    {
     "data": {
      "text/plain": [
       "11462.605315193625"
      ]
     },
     "execution_count": 43,
     "metadata": {},
     "output_type": "execute_result"
    }
   ],
   "source": [
    "cap.value(valuationDate, liborCurve, model)"
   ]
  },
  {
   "cell_type": "code",
   "execution_count": 44,
   "metadata": {},
   "outputs": [
    {
     "data": {
      "text/plain": [
       "928.0711132131839"
      ]
     },
     "execution_count": 44,
     "metadata": {},
     "output_type": "execute_result"
    }
   ],
   "source": [
    "flr.value(valuationDate, liborCurve, model)"
   ]
  },
  {
   "cell_type": "markdown",
   "metadata": {},
   "source": [
    "## Shifted SABR Model"
   ]
  },
  {
   "cell_type": "code",
   "execution_count": 45,
   "metadata": {},
   "outputs": [],
   "source": [
    "alpha = 0.037; beta = 0.5; rho  = 0.1; nu = 0.573; shift = -0.005"
   ]
  },
  {
   "cell_type": "code",
   "execution_count": 46,
   "metadata": {},
   "outputs": [],
   "source": [
    "model = FinModelSABRShifted(alpha, beta, rho, nu, shift)"
   ]
  },
  {
   "cell_type": "code",
   "execution_count": 47,
   "metadata": {},
   "outputs": [
    {
     "data": {
      "text/plain": [
       "11828.173009456626"
      ]
     },
     "execution_count": 47,
     "metadata": {},
     "output_type": "execute_result"
    }
   ],
   "source": [
    "cap.value(valuationDate, liborCurve, model)"
   ]
  },
  {
   "cell_type": "code",
   "execution_count": 48,
   "metadata": {},
   "outputs": [
    {
     "data": {
      "text/plain": [
       "1293.6388074761853"
      ]
     },
     "execution_count": 48,
     "metadata": {},
     "output_type": "execute_result"
    }
   ],
   "source": [
    "flr.value(valuationDate, liborCurve, model)"
   ]
  },
  {
   "cell_type": "markdown",
   "metadata": {},
   "source": [
    "## Hull White Model"
   ]
  },
  {
   "cell_type": "code",
   "execution_count": 49,
   "metadata": {},
   "outputs": [],
   "source": [
    "sigma = 0.01; alpha = 0.005"
   ]
  },
  {
   "cell_type": "code",
   "execution_count": 50,
   "metadata": {},
   "outputs": [],
   "source": [
    "model = FinModelRatesHW(sigma, alpha)"
   ]
  },
  {
   "cell_type": "code",
   "execution_count": 51,
   "metadata": {},
   "outputs": [
    {
     "data": {
      "text/plain": [
       "14282.947550977811"
      ]
     },
     "execution_count": 51,
     "metadata": {},
     "output_type": "execute_result"
    }
   ],
   "source": [
    "cap.value(valuationDate, liborCurve, model)"
   ]
  },
  {
   "cell_type": "code",
   "execution_count": 52,
   "metadata": {},
   "outputs": [
    {
     "data": {
      "text/plain": [
       "2765.4505366363196"
      ]
     },
     "execution_count": 52,
     "metadata": {},
     "output_type": "execute_result"
    }
   ],
   "source": [
    "flr.value(valuationDate, liborCurve, model)"
   ]
  },
  {
   "cell_type": "markdown",
   "metadata": {},
   "source": [
    "Copyright (c) 2020 Dominic O'Kane"
   ]
  }
 ],
 "metadata": {
  "kernelspec": {
   "display_name": "Python 3",
   "language": "python",
   "name": "python3"
  },
  "language_info": {
   "codemirror_mode": {
    "name": "ipython",
    "version": 3
   },
   "file_extension": ".py",
   "mimetype": "text/x-python",
   "name": "python",
   "nbconvert_exporter": "python",
   "pygments_lexer": "ipython3",
   "version": "3.7.6"
  }
 },
 "nbformat": 4,
 "nbformat_minor": 4
}
