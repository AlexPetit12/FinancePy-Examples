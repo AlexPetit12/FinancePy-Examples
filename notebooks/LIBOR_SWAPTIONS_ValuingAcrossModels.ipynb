{
 "cells": [
  {
   "cell_type": "markdown",
   "metadata": {},
   "source": [
    "# Valuing European-Style Swaptions Across Models"
   ]
  },
  {
   "cell_type": "code",
   "execution_count": 1,
   "metadata": {},
   "outputs": [],
   "source": [
    "import numpy as np\n",
    "import matplotlib.pyplot as plt"
   ]
  },
  {
   "cell_type": "code",
   "execution_count": 2,
   "metadata": {},
   "outputs": [
    {
     "name": "stdout",
     "output_type": "stream",
     "text": [
      "###################################################################\n",
      "#   WELCOME TO FINANCEPY BETA VERSION 0.168 - UNDER DEVELOPMENT   #\n",
      "# FinancePy it is distributed FREE & WITHOUT ANY WARRANTY AND     #\n",
      "# MERCHANTABILITY or FITNESS FOR A PARTICULAR PURPOSE. For more   #\n",
      "# details see the repo at https://github.com/domokane/FinancePy   #\n",
      "###################################################################\n",
      "\n"
     ]
    }
   ],
   "source": [
    "from financepy.products.libor import *\n",
    "from financepy.finutils import *\n",
    "from financepy.market.curves.FinLiborCurve import FinLiborCurve\n",
    "from financepy.market.curves.FinInterpolate import FinInterpMethods"
   ]
  },
  {
   "cell_type": "markdown",
   "metadata": {},
   "source": [
    "## Building a Libor Discount Curve"
   ]
  },
  {
   "cell_type": "code",
   "execution_count": 3,
   "metadata": {},
   "outputs": [],
   "source": [
    "valuationDate = FinDate(28, 2, 2014)\n",
    "settlementDate = FinDate(4, 3, 2014)"
   ]
  },
  {
   "cell_type": "markdown",
   "metadata": {},
   "source": [
    "We have a vector of dates and zero rates"
   ]
  },
  {
   "cell_type": "code",
   "execution_count": 4,
   "metadata": {},
   "outputs": [],
   "source": [
    "depoDCCType = FinDayCountTypes.THIRTY_E_360_ISDA\n",
    "depos = []\n",
    "\n",
    "depo = FinLiborDeposit(settlementDate, \"1W\", 0.0023, depoDCCType); depos.append(depo)\n",
    "depo = FinLiborDeposit(settlementDate, \"1M\", 0.0023, depoDCCType); depos.append(depo)\n",
    "depo = FinLiborDeposit(settlementDate, \"3M\", 0.0023, depoDCCType); depos.append(depo)\n",
    "depo = FinLiborDeposit(settlementDate, \"6M\", 0.0023, depoDCCType); depos.append(depo)\n",
    "\n",
    "# No convexity correction provided so I omit interest rate futures\n",
    "\n",
    "swaps = []\n",
    "fixedDCCType = FinDayCountTypes.ACT_365_ISDA\n",
    "fixedFreqType = FinFrequencyTypes.SEMI_ANNUAL\n",
    "\n",
    "swap = FinLiborSwap(settlementDate, \"3Y\", 0.00790, fixedFreqType, fixedDCCType); swaps.append(swap)\n",
    "swap = FinLiborSwap(settlementDate, \"4Y\", 0.01200, fixedFreqType, fixedDCCType); swaps.append(swap)\n",
    "swap = FinLiborSwap(settlementDate, \"5Y\", 0.01570, fixedFreqType, fixedDCCType); swaps.append(swap)\n",
    "swap = FinLiborSwap(settlementDate, \"6Y\", 0.01865, fixedFreqType, fixedDCCType); swaps.append(swap)\n",
    "swap = FinLiborSwap(settlementDate, \"7Y\", 0.02160, fixedFreqType, fixedDCCType); swaps.append(swap)\n",
    "swap = FinLiborSwap(settlementDate, \"8Y\", 0.02350, fixedFreqType, fixedDCCType); swaps.append(swap)\n",
    "swap = FinLiborSwap(settlementDate, \"9Y\", 0.02540, fixedFreqType, fixedDCCType); swaps.append(swap)\n",
    "swap = FinLiborSwap(settlementDate, \"10Y\", 0.0273, fixedFreqType, fixedDCCType); swaps.append(swap)\n",
    "swap = FinLiborSwap(settlementDate, \"15Y\", 0.0297, fixedFreqType, fixedDCCType); swaps.append(swap)\n",
    "swap = FinLiborSwap(settlementDate, \"20Y\", 0.0316, fixedFreqType, fixedDCCType); swaps.append(swap)\n",
    "swap = FinLiborSwap(settlementDate, \"25Y\", 0.0335, fixedFreqType, fixedDCCType); swaps.append(swap)\n",
    "swap = FinLiborSwap(settlementDate, \"30Y\", 0.0354, fixedFreqType, fixedDCCType); swaps.append(swap)\n",
    "\n",
    "liborCurve = FinLiborCurve(\"USD_LIBOR\", valuationDate, depos, [], swaps, FinInterpMethods.LINEAR_ZERO_RATES)"
   ]
  },
  {
   "cell_type": "code",
   "execution_count": 5,
   "metadata": {},
   "outputs": [],
   "source": [
    "exerciseDate = settlementDate.addTenor(\"5Y\")\n",
    "swapMaturityDate = exerciseDate.addTenor(\"5Y\")\n",
    "swapFixedCoupon = 0.040852\n",
    "swapFixedFrequencyType = FinFrequencyTypes.SEMI_ANNUAL\n",
    "swapFixedDayCountType = FinDayCountTypes.THIRTY_E_360_ISDA\n",
    "swapFloatFrequencyType = FinFrequencyTypes.QUARTERLY\n",
    "swapFloatDayCountType = FinDayCountTypes.ACT_360\n",
    "swapNotional = ONE_MILLION\n",
    "swaptionType = FinLiborSwaptionTypes.PAYER  \n",
    "calendarType = FinCalendarTypes.WEEKEND\n",
    "busDayAdjustType = FinBusDayAdjustTypes.NONE\n",
    "dateGenRuleType = FinDateGenRuleTypes.BACKWARD"
   ]
  },
  {
   "cell_type": "code",
   "execution_count": 6,
   "metadata": {},
   "outputs": [],
   "source": [
    "swaption = FinLiborSwaption(settlementDate,\n",
    "                            exerciseDate,\n",
    "                            swapMaturityDate,\n",
    "                            swaptionType,\n",
    "                            swapFixedCoupon,\n",
    "                            swapFixedFrequencyType,\n",
    "                            swapFixedDayCountType, \n",
    "                            swapNotional, \n",
    "                            swapFloatFrequencyType,\n",
    "                            swapFloatDayCountType,\n",
    "                            calendarType, \n",
    "                            busDayAdjustType,\n",
    "                            dateGenRuleType)"
   ]
  },
  {
   "cell_type": "code",
   "execution_count": 7,
   "metadata": {},
   "outputs": [
    {
     "name": "stdout",
     "output_type": "stream",
     "text": [
      "SETTLEMENT DATE: TUE 4 MAR 2014\n",
      "EXERCISE DATE: MON 4 MAR 2019\n",
      "SWAPTION TYPE: FinLiborSwaptionTypes.PAYER\n",
      "MATURITY DATE: MON 4 MAR 2024\n",
      "SWAP NOTIONAL: 1000000\n",
      "FIXED COUPON: 4.0852\n",
      "FIXED FREQUENCY: FinFrequencyTypes.SEMI_ANNUAL\n",
      "FIXED DAY COUNT: FinDayCountTypes.THIRTY_E_360_ISDA\n",
      "FLOAT FREQUENCY: FinFrequencyTypes.QUARTERLY\n",
      "FLOAT DAY COUNT: FinDayCountTypes.ACT_360\n",
      "\n"
     ]
    }
   ],
   "source": [
    "print(swaption)"
   ]
  },
  {
   "cell_type": "markdown",
   "metadata": {},
   "source": [
    "## Valuation using Black's Model"
   ]
  },
  {
   "cell_type": "code",
   "execution_count": 8,
   "metadata": {},
   "outputs": [],
   "source": [
    "model = FinModelBlack(0.1533)"
   ]
  },
  {
   "cell_type": "code",
   "execution_count": 9,
   "metadata": {},
   "outputs": [
    {
     "data": {
      "text/plain": [
       "23151.19239437166"
      ]
     },
     "execution_count": 9,
     "metadata": {},
     "output_type": "execute_result"
    }
   ],
   "source": [
    "swaption.value(settlementDate, liborCurve, model)"
   ]
  },
  {
   "cell_type": "markdown",
   "metadata": {},
   "source": [
    "## Valuation using Shifted Black"
   ]
  },
  {
   "cell_type": "code",
   "execution_count": 10,
   "metadata": {},
   "outputs": [],
   "source": [
    "model = FinModelBlackShifted(0.1533, -0.008)"
   ]
  },
  {
   "cell_type": "code",
   "execution_count": 11,
   "metadata": {},
   "outputs": [
    {
     "data": {
      "text/plain": [
       "27681.37058274581"
      ]
     },
     "execution_count": 11,
     "metadata": {},
     "output_type": "execute_result"
    }
   ],
   "source": [
    "swaption.value(settlementDate, liborCurve, model)"
   ]
  },
  {
   "cell_type": "markdown",
   "metadata": {},
   "source": [
    "##  Valuation using SABR"
   ]
  },
  {
   "cell_type": "code",
   "execution_count": 12,
   "metadata": {},
   "outputs": [],
   "source": [
    "model = FinModelSABR(0.132, 0.5, 0.5, 0.5)"
   ]
  },
  {
   "cell_type": "code",
   "execution_count": 13,
   "metadata": {},
   "outputs": [
    {
     "data": {
      "text/plain": [
       "104535.337040495"
      ]
     },
     "execution_count": 13,
     "metadata": {},
     "output_type": "execute_result"
    }
   ],
   "source": [
    "swaption.value(settlementDate, liborCurve, model)"
   ]
  },
  {
   "cell_type": "markdown",
   "metadata": {},
   "source": [
    "## Valuation using Shifted SABR"
   ]
  },
  {
   "cell_type": "code",
   "execution_count": 44,
   "metadata": {},
   "outputs": [],
   "source": [
    "model = FinModelSABRShifted(0.1, 0.2, 0.1, 0.15, -0.005)"
   ]
  },
  {
   "cell_type": "code",
   "execution_count": 45,
   "metadata": {},
   "outputs": [
    {
     "data": {
      "text/plain": [
       "163409.8258927529"
      ]
     },
     "execution_count": 45,
     "metadata": {},
     "output_type": "execute_result"
    }
   ],
   "source": [
    "swaption.value(settlementDate, liborCurve, model)"
   ]
  },
  {
   "cell_type": "markdown",
   "metadata": {},
   "source": [
    "## Valuation using Hull-White"
   ]
  },
  {
   "cell_type": "code",
   "execution_count": 34,
   "metadata": {},
   "outputs": [],
   "source": [
    "model1 = FinModelRatesHW(0.01, 0.02)"
   ]
  },
  {
   "cell_type": "code",
   "execution_count": 35,
   "metadata": {},
   "outputs": [
    {
     "data": {
      "text/plain": [
       "34158.87046477075"
      ]
     },
     "execution_count": 35,
     "metadata": {},
     "output_type": "execute_result"
    }
   ],
   "source": [
    "swaption.value(settlementDate, liborCurve, model1)"
   ]
  },
  {
   "cell_type": "markdown",
   "metadata": {},
   "source": [
    "## Internals"
   ]
  },
  {
   "cell_type": "code",
   "execution_count": 17,
   "metadata": {},
   "outputs": [
    {
     "name": "stdout",
     "output_type": "stream",
     "text": [
      "EXERCISE DATE: MON 4 MAR 2019\n",
      "SWAPTION TYPE: FinLiborSwaptionTypes.PAYER\n",
      "MATURITY DATE: MON 4 MAR 2024\n",
      "SWAP NOTIONAL: 1000000\n",
      "FIXED COUPON: 4.0852\n",
      "FIXED FREQUENCY: FinFrequencyTypes.SEMI_ANNUAL\n",
      "FIXED DAY COUNT: FinDayCountTypes.THIRTY_E_360_ISDA\n",
      "FLOAT FREQUENCY: FinFrequencyTypes.QUARTERLY\n",
      "FLOAT DAY COUNT: FinDayCountTypes.ACT_360\n",
      "PV01: 4.161289611071258\n",
      "FWD SWAP RATE: 4.085954343978203\n",
      "FWD DF TO EXPIRY: 0.9237073134954512\n"
     ]
    }
   ],
   "source": [
    "print(swaption)"
   ]
  },
  {
   "cell_type": "markdown",
   "metadata": {},
   "source": [
    "We can see that the forward swap rate almost equals the fixed coupon. The underlying swap is close to being ATM forward."
   ]
  },
  {
   "cell_type": "code",
   "execution_count": 47,
   "metadata": {},
   "outputs": [
    {
     "name": "stdout",
     "output_type": "stream",
     "text": [
      "START DATE: MON 4 MAR 2019\n",
      "MATURITY DATE: MON 4 MAR 2024\n",
      "COUPON (%): 4.0852\n",
      "FIXED LEG FREQUENCY: FinFrequencyTypes.SEMI_ANNUAL\n",
      "FIXED LEG DAY COUNT: FinDayCountTypes.THIRTY_E_360_ISDA\n",
      "VALUATION DATE TUE 4 MAR 2014\n",
      "PAYMENT_DATE     YEAR_FRAC        FLOW         DF         DF*FLOW       CUM_PV\n",
      " WED 4 SEP 2019  0.5000000     20426.00   0.90860187     18559.10     18559.10\n",
      " WED 4 MAR 2020  0.5000000     20426.00   0.89253745     18230.97     36790.07\n",
      " FRI 4 SEP 2020  0.5000000     20426.00   0.87505999     17873.98     54664.05\n",
      " THU 4 MAR 2021  0.5000000     20426.00   0.85687536     17502.54     72166.58\n",
      " SAT 4 SEP 2021  0.5000000     20426.00   0.84093396     17176.92     89343.50\n",
      " FRI 4 MAR 2022  0.5000000     20426.00   0.82471280     16845.58    106189.08\n",
      " SUN 4 SEP 2022  0.5000000     20426.00   0.80761260     16496.29    122685.38\n",
      " SAT 4 MAR 2023  0.5000000     20426.00   0.79033077     16143.30    138828.68\n",
      " MON 4 SEP 2023  0.5000000     20426.00   0.77210016     15770.92    154599.59\n",
      " MON 4 MAR 2024  0.5000000     20426.00   0.75367892     15394.65    169994.24\n"
     ]
    }
   ],
   "source": [
    "swaption.printSwapFixedLeg()"
   ]
  },
  {
   "cell_type": "markdown",
   "metadata": {},
   "source": [
    "Copyright (c) 2020 Dominic O'Kane"
   ]
  }
 ],
 "metadata": {
  "kernelspec": {
   "display_name": "Python 3",
   "language": "python",
   "name": "python3"
  },
  "language_info": {
   "codemirror_mode": {
    "name": "ipython",
    "version": 3
   },
   "file_extension": ".py",
   "mimetype": "text/x-python",
   "name": "python",
   "nbconvert_exporter": "python",
   "pygments_lexer": "ipython3",
   "version": "3.7.7"
  }
 },
 "nbformat": 4,
 "nbformat_minor": 4
}
