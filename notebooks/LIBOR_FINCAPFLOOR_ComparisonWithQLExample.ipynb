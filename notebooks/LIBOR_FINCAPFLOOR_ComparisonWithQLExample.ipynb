{
 "cells": [
  {
   "cell_type": "markdown",
   "metadata": {},
   "source": [
    "# Valuing Caps and Floors with QL Example"
   ]
  },
  {
   "cell_type": "markdown",
   "metadata": {},
   "source": [
    "We value caps and floors using Black's model and try to replicate a QL example at \n",
    "http://gouthamanbalaraman.com/blog/interest-rate-cap-floor-valuation-quantlib-python.html"
   ]
  },
  {
   "cell_type": "code",
   "execution_count": 1,
   "metadata": {},
   "outputs": [],
   "source": [
    "import numpy as np\n",
    "import matplotlib.pyplot as plt"
   ]
  },
  {
   "cell_type": "code",
   "execution_count": 2,
   "metadata": {},
   "outputs": [
    {
     "name": "stdout",
     "output_type": "stream",
     "text": [
      "###################################################################\n",
      "# FINANCEPY BETA Version 0.180 - This build: 07 Sep 2020 at 22:01 #\n",
      "#     This software is distributed FREE & WITHOUT ANY WARRANTY    #\n",
      "# For info and disclaimer - https://github.com/domokane/FinancePy #\n",
      "###################################################################\n",
      "\n"
     ]
    }
   ],
   "source": [
    "from financepy.finutils import *\n",
    "from financepy.products.libor import *\n",
    "from financepy.market.curves import *"
   ]
  },
  {
   "cell_type": "markdown",
   "metadata": {},
   "source": [
    "## Building a Libor Discount Curve"
   ]
  },
  {
   "cell_type": "markdown",
   "metadata": {},
   "source": [
    "The example does this using a set of dates and zero ratesm"
   ]
  },
  {
   "cell_type": "code",
   "execution_count": 3,
   "metadata": {},
   "outputs": [],
   "source": [
    "valuationDate = FinDate(14, 6, 2016)"
   ]
  },
  {
   "cell_type": "markdown",
   "metadata": {},
   "source": [
    "We have a vector of dates and zero rates"
   ]
  },
  {
   "cell_type": "code",
   "execution_count": 13,
   "metadata": {},
   "outputs": [],
   "source": [
    "dates = [FinDate(14,6,2016), FinDate(14,9,2016), FinDate(14,12,2016), FinDate(14,6,2017),\n",
    "         FinDate(14,6,2019), FinDate(14,6,2021), FinDate(15,6,2026), FinDate(16,6,2031),\n",
    "         FinDate(16,6,2036), FinDate(14,6,2046)]\n",
    "rates = [0.000000, 0.006616, 0.007049, 0.007795, 0.009599, 0.011203, 0.015068, 0.017583,\n",
    "         0.018998, 0.020080]\n",
    "\n",
    "frequencyType = FinFrequencyTypes.ANNUAL\n",
    "dayCountType = FinDayCountTypes.ACT_ACT_ISDA"
   ]
  },
  {
   "cell_type": "code",
   "execution_count": 14,
   "metadata": {},
   "outputs": [],
   "source": [
    "discountCurve = FinDiscountCurveZeros(valuationDate, dates, rates, frequencyType, \n",
    "                                      dayCountType, FinInterpTypes.LINEAR_ZERO_RATES)"
   ]
  },
  {
   "cell_type": "code",
   "execution_count": 15,
   "metadata": {},
   "outputs": [
    {
     "name": "stdout",
     "output_type": "stream",
     "text": [
      "OBJECT TYPE: FinDiscountCurveZeros\n",
      "VALUATION DATE: TUE 14 JUN 2016\n",
      "FREQUENCY TYPE: FinFrequencyTypes.ANNUAL\n",
      "DAY COUNT TYPE: FinDayCountTypes.ACT_ACT_ISDA\n",
      "INTERP TYPE: FinInterpTypes.LINEAR_ZERO_RATES\n",
      "DATES: ZERO RATES\n",
      "TUE 14 JUN 2016:  0.0000000\n",
      "WED 14 SEP 2016:  0.0066160\n",
      "WED 14 DEC 2016:  0.0070490\n",
      "WED 14 JUN 2017:  0.0077950\n",
      "FRI 14 JUN 2019:  0.0095990\n",
      "MON 14 JUN 2021:  0.0112030\n",
      "MON 15 JUN 2026:  0.0150680\n",
      "MON 16 JUN 2031:  0.0175830\n",
      "MON 16 JUN 2036:  0.0189980\n",
      "THU 14 JUN 2046:  0.0200800\n",
      "\n"
     ]
    }
   ],
   "source": [
    "print(discountCurve)"
   ]
  },
  {
   "cell_type": "code",
   "execution_count": 16,
   "metadata": {},
   "outputs": [],
   "source": [
    "startDate = FinDate(14, 6, 2016)\n",
    "endDate = FinDate(14, 6 , 2026)\n",
    "calendarType = FinCalendarTypes.US\n",
    "busDayAdjustType = FinBusDayAdjustTypes.MODIFIED_FOLLOWING\n",
    "frequencyType = FinFrequencyTypes.QUARTERLY\n",
    "dateGenRuleType = FinDateGenRuleTypes.FORWARD\n",
    "lastFixing = 0.0065560\n",
    "notional = 1000000\n",
    "dayCountType=FinDayCountTypes.ACT_360\n",
    "optionType = FinLiborCapFloorTypes.CAP\n",
    "strikeRate = 0.02"
   ]
  },
  {
   "cell_type": "code",
   "execution_count": 8,
   "metadata": {},
   "outputs": [],
   "source": [
    "cap = FinLiborCapFloor(startDate, endDate, optionType, strikeRate, lastFixing, \n",
    "                       frequencyType,  dayCountType, notional,\n",
    "                       calendarType, busDayAdjustType, dateGenRuleType)"
   ]
  },
  {
   "cell_type": "code",
   "execution_count": 9,
   "metadata": {},
   "outputs": [
    {
     "name": "stdout",
     "output_type": "stream",
     "text": [
      "START DATE: TUE 14 JUN 2016\n",
      "MATURITY DATE: SUN 14 JUN 2026\n",
      "STRIKE COUPON: 2.0\n",
      "OPTION TYPE: FinLiborCapFloorTypes.CAP\n",
      "FREQUENCY: FinFrequencyTypes.QUARTERLY\n",
      "DAY COUNT: FinDayCountTypes.ACT_360\n"
     ]
    }
   ],
   "source": [
    "print(cap)"
   ]
  },
  {
   "cell_type": "markdown",
   "metadata": {},
   "source": [
    "## Valuation"
   ]
  },
  {
   "cell_type": "markdown",
   "metadata": {},
   "source": [
    "### Black's Model"
   ]
  },
  {
   "cell_type": "code",
   "execution_count": 10,
   "metadata": {},
   "outputs": [],
   "source": [
    "blackVol = 0.547295\n",
    "model = FinModelBlack(blackVol)"
   ]
  },
  {
   "cell_type": "code",
   "execution_count": 11,
   "metadata": {},
   "outputs": [
    {
     "data": {
      "text/plain": [
       "54367.93412182139"
      ]
     },
     "execution_count": 11,
     "metadata": {},
     "output_type": "execute_result"
    }
   ],
   "source": [
    "cap.value(valuationDate, discountCurve, model)"
   ]
  },
  {
   "cell_type": "markdown",
   "metadata": {},
   "source": [
    "This is very close to QL which finds 54,369.858"
   ]
  },
  {
   "cell_type": "code",
   "execution_count": 12,
   "metadata": {},
   "outputs": [
    {
     "name": "stdout",
     "output_type": "stream",
     "text": [
      "START DATE: TUE 14 JUN 2016\n",
      "MATURITY DATE: SUN 14 JUN 2026\n",
      "OPTION TYPE FinLiborCapFloorTypes.CAP\n",
      "STRIKE (%): 2.0\n",
      "FREQUENCY: FinFrequencyTypes.QUARTERLY\n",
      "DAY COUNT: FinDayCountTypes.ACT_360\n",
      "VALUATION DATE TUE 14 JUN 2016\n",
      "PAYMENT_DATE     YEAR_FRAC   FWD_RATE    INTRINSIC           DF    CAPLET_PV       CUM_PV\n",
      "TUE 14 JUN 2016          -         -            -     1.000000            -            -\n",
      "WED 14 SEP 2016  0.2555556   0.65560         0.00     0.998340         0.00         0.00\n",
      "WED 14 DEC 2016  0.2527778   0.73610         0.00     0.996486         0.03         0.03\n",
      "TUE 14 MAR 2017  0.2500000   0.80274         0.00     0.994490         3.72         3.75\n",
      "WED 14 JUN 2017  0.2555556   0.87568         0.00     0.992270        25.43        29.18\n",
      "THU 14 SEP 2017  0.2555556   0.87667         0.00     0.990052        51.40        80.58\n",
      "THU 14 DEC 2017  0.2527778   0.92092         0.00     0.987752        98.11       178.69\n",
      "WED 14 MAR 2018  0.2500000   0.96469         0.00     0.985376       155.51       334.20\n",
      "THU 14 JUN 2018  0.2555556   1.00875         0.00     0.982842       228.46       562.66\n",
      "FRI 14 SEP 2018  0.2555556   1.05327         0.00     0.980204       307.35       870.01\n",
      "FRI 14 DEC 2018  0.2527778   1.09753         0.00     0.977492       388.32      1258.33\n",
      "THU 14 MAR 2019  0.2500000   1.14131         0.00     0.974711       471.53      1729.85\n",
      "FRI 14 JUN 2019  0.2555556   1.18540         0.00     0.971767       575.27      2305.12\n",
      "MON 16 SEP 2019  0.2611111   1.19818         0.00     0.968736       649.59      2954.71\n",
      "MON 16 DEC 2019  0.2527778   1.23782         0.00     0.965714       721.37      3676.08\n",
      "MON 16 MAR 2020  0.2527778   1.27693         0.00     0.962607       813.43      4489.51\n",
      "MON 15 JUN 2020  0.2527778   1.31604         0.00     0.959416       906.78      5396.29\n",
      "MON 14 SEP 2020  0.2527778   1.35516         0.00     0.956140      1001.10      6397.39\n",
      "MON 14 DEC 2020  0.2527778   1.39428         0.00     0.952782      1096.12      7493.51\n",
      "MON 15 MAR 2021  0.2527778   1.43340         0.00     0.949343      1191.61      8685.12\n",
      "MON 14 JUN 2021  0.2527778   1.47247         0.00     0.945822      1287.29      9972.41\n",
      "TUE 14 SEP 2021  0.2555556   1.49570         0.00     0.942221      1373.56     11345.97\n",
      "TUE 14 DEC 2021  0.2527778   1.53347         0.00     0.938582      1452.32     12798.29\n",
      "MON 14 MAR 2022  0.2500000   1.57083         0.00     0.934911      1527.80     14326.09\n",
      "TUE 14 JUN 2022  0.2555556   1.60851         0.00     0.931084      1654.83     15980.92\n",
      "WED 14 SEP 2022  0.2555556   1.64653         0.00     0.927182      1748.90     17729.83\n",
      "WED 14 DEC 2022  0.2527778   1.68431         0.00     0.923251      1822.10     19551.93\n",
      "TUE 14 MAR 2023  0.2500000   1.72167         0.00     0.919295      1891.69     21443.62\n",
      "WED 14 JUN 2023  0.2555556   1.75938         0.00     0.915180      2024.65     23468.27\n",
      "THU 14 SEP 2023  0.2555556   1.79741         0.00     0.910995      2116.19     25584.46\n",
      "THU 14 DEC 2023  0.2527778   1.83520         0.00     0.906789      2182.60     27767.06\n",
      "THU 14 MAR 2024  0.2527778   1.87283         0.00     0.902516      2270.51     30037.57\n",
      "FRI 14 JUN 2024  0.2555556   1.91072         0.00     0.898131      2383.77     32421.34\n",
      "MON 16 SEP 2024  0.2611111   1.94929         0.00     0.893582      2526.16     34947.50\n",
      "MON 16 DEC 2024  0.2527778   1.98739         0.00     0.889116      2532.46     37479.96\n",
      "FRI 14 MAR 2025  0.2444444   2.02424        52.43     0.884738      2529.32     40009.28\n",
      "MON 16 JUN 2025  0.2611111   2.06223       143.00     0.879999      2786.65     42795.94\n",
      "MON 15 SEP 2025  0.2527778   2.10033       222.00     0.875352      2781.38     45577.32\n",
      "MON 15 DEC 2025  0.2527778   2.13798       303.67     0.870647      2862.15     48439.47\n",
      "MON 16 MAR 2026  0.2527778   2.17564       384.43     0.865885      2941.76     51381.23\n",
      "SUN 14 JUN 2026  0.2500000   2.21303       458.60     0.861121      2986.70     54367.93\n"
     ]
    }
   ],
   "source": [
    "cap.printLeg()"
   ]
  },
  {
   "cell_type": "markdown",
   "metadata": {},
   "source": [
    "Copyright (c) 2020 Dominic O'Kane"
   ]
  },
  {
   "cell_type": "markdown",
   "metadata": {},
   "source": [
    "This value is within a few dollars of the Quantlib valuation."
   ]
  }
 ],
 "metadata": {
  "kernelspec": {
   "display_name": "Python 3",
   "language": "python",
   "name": "python3"
  },
  "language_info": {
   "codemirror_mode": {
    "name": "ipython",
    "version": 3
   },
   "file_extension": ".py",
   "mimetype": "text/x-python",
   "name": "python",
   "nbconvert_exporter": "python",
   "pygments_lexer": "ipython3",
   "version": "3.7.6"
  }
 },
 "nbformat": 4,
 "nbformat_minor": 4
}
