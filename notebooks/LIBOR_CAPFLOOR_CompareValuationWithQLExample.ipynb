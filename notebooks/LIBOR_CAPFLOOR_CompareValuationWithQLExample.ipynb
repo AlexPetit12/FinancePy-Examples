{
 "cells": [
  {
   "cell_type": "markdown",
   "metadata": {},
   "source": [
    "# Valuing Caps and Floors with QL Example"
   ]
  },
  {
   "cell_type": "code",
   "execution_count": 1,
   "metadata": {},
   "outputs": [],
   "source": [
    "# This program is distributed in the hope that it will be useful, but WITHOUT ANY WARRANTY; \n",
    "# without even the implied warranty of MERCHANTABILITY or FITNESS FOR A PARTICULAR PURPOSE.  \n",
    "# See the license for more details."
   ]
  },
  {
   "cell_type": "markdown",
   "metadata": {},
   "source": [
    "We value caps and floors using Black's model and try to replicate a QL example at \n",
    "http://gouthamanbalaraman.com/blog/interest-rate-cap-floor-valuation-quantlib-python.html"
   ]
  },
  {
   "cell_type": "code",
   "execution_count": 1,
   "metadata": {},
   "outputs": [],
   "source": [
    "import numpy as np\n",
    "import matplotlib.pyplot as plt"
   ]
  },
  {
   "cell_type": "code",
   "execution_count": 7,
   "metadata": {},
   "outputs": [],
   "source": [
    "from financepy.finutils import *\n",
    "from financepy.products.libor import *\n",
    "from financepy.market.curves.FinDiscountCurveZeros import FinDiscountCurveZeros"
   ]
  },
  {
   "cell_type": "markdown",
   "metadata": {},
   "source": [
    "## Building a Libor Discount Curve"
   ]
  },
  {
   "cell_type": "code",
   "execution_count": 8,
   "metadata": {},
   "outputs": [],
   "source": [
    "valuationDate = FinDate(14, 6, 2016)"
   ]
  },
  {
   "cell_type": "markdown",
   "metadata": {},
   "source": [
    "We have a vector of dates and zero rates"
   ]
  },
  {
   "cell_type": "code",
   "execution_count": 9,
   "metadata": {},
   "outputs": [],
   "source": [
    "dates = [FinDate(14,6,2016), FinDate(14,9,2016), \n",
    "         FinDate(14,12,2016), FinDate(14,6,2017),\n",
    "         FinDate(14,6,2019), FinDate(14,6,2021),\n",
    "         FinDate(15,6,2026), FinDate(16,6,2031),\n",
    "         FinDate(16,6,2036), FinDate(14,6,2046)]\n",
    "rates = [0.000000, 0.006616, 0.007049, 0.007795,\n",
    "          0.009599, 0.011203, 0.015068, 0.017583,\n",
    "          0.018998, 0.020080]\n",
    "\n",
    "frequencyType = FinFrequencyTypes.ANNUAL\n",
    "dayCountType = FinDayCountTypes.ACT_ACT_ISDA"
   ]
  },
  {
   "cell_type": "code",
   "execution_count": 11,
   "metadata": {},
   "outputs": [],
   "source": [
    "discountCurve = FinDiscountCurveZeros(valuationDate, dates, rates, frequencyType, dayCountType, FinInterpMethods.LINEAR_ZERO_RATES)"
   ]
  },
  {
   "cell_type": "code",
   "execution_count": 12,
   "metadata": {},
   "outputs": [
    {
     "name": "stdout",
     "output_type": "stream",
     "text": [
      "TIMES: DISCOUNT FACTORS\n",
      "0.0: 1.0\n",
      "0.2518877894656146: 0.9983438119300313\n",
      "0.5010376681761681: 0.9964940243669889\n",
      "0.9993374255972752: 0.9922768846624446\n",
      "2.9980122767918256: 0.9717610936815668\n",
      "4.999425038741437: 0.9458353312420089\n",
      "10.001587988237935: 0.8610742638633735\n",
      "15.003750937734432: 0.7698786339743336\n",
      "20.005913887230932: 0.6862600297303036\n",
      "29.99928814320368: 0.5507899520905515\n",
      "\n"
     ]
    }
   ],
   "source": [
    "print(discountCurve)"
   ]
  },
  {
   "cell_type": "code",
   "execution_count": 14,
   "metadata": {},
   "outputs": [],
   "source": [
    "startDate = FinDate(14, 6, 2016)\n",
    "endDate = FinDate(14, 6 , 2026)\n",
    "calendarType = FinCalendarTypes.US\n",
    "busDayAdjustType = FinBusDayAdjustTypes.MODIFIED_FOLLOWING\n",
    "frequencyType = FinFrequencyTypes.QUARTERLY\n",
    "dateGenRuleType = FinDateGenRuleTypes.FORWARD\n",
    "lastFixing = 0.0065560\n",
    "notional = 1000000\n",
    "dayCountType=FinDayCountTypes.ACT_360\n",
    "optionType = FinLiborCapFloorTypes.CAP\n",
    "strikeRate = 0.02"
   ]
  },
  {
   "cell_type": "code",
   "execution_count": 15,
   "metadata": {},
   "outputs": [],
   "source": [
    "cap = FinLiborCapFloor(startDate, endDate, optionType, strikeRate, lastFixing, frequencyType,  dayCountType, notional,\n",
    "                       calendarType, busDayAdjustType, dateGenRuleType)"
   ]
  },
  {
   "cell_type": "code",
   "execution_count": 16,
   "metadata": {},
   "outputs": [
    {
     "name": "stdout",
     "output_type": "stream",
     "text": [
      "START DATE: TUE 14 JUN 2016\n",
      "MATURITY DATE: SUN 14 JUN 2026\n",
      "STRIKE COUPON: 2.0\n",
      "OPTION TYPE: FinLiborCapFloorTypes.CAP\n",
      "FREQUENCY: FinFrequencyTypes.QUARTERLY\n",
      "DAY COUNT: FinDayCountTypes.ACT_360\n"
     ]
    }
   ],
   "source": [
    "print(cap)"
   ]
  },
  {
   "cell_type": "markdown",
   "metadata": {},
   "source": [
    "## Valuation"
   ]
  },
  {
   "cell_type": "markdown",
   "metadata": {},
   "source": [
    "### Black's Model"
   ]
  },
  {
   "cell_type": "code",
   "execution_count": 17,
   "metadata": {},
   "outputs": [],
   "source": [
    "blackVol = 0.547295\n",
    "model = FinModelBlack(blackVol)"
   ]
  },
  {
   "cell_type": "code",
   "execution_count": 18,
   "metadata": {},
   "outputs": [
    {
     "data": {
      "text/plain": [
       "54366.87082299465"
      ]
     },
     "execution_count": 18,
     "metadata": {},
     "output_type": "execute_result"
    }
   ],
   "source": [
    "cap.value(valuationDate, discountCurve, model)"
   ]
  },
  {
   "cell_type": "code",
   "execution_count": 19,
   "metadata": {},
   "outputs": [
    {
     "name": "stdout",
     "output_type": "stream",
     "text": [
      "START DATE: TUE 14 JUN 2016\n",
      "MATURITY DATE: SUN 14 JUN 2026\n",
      "OPTION TYPE FinLiborCapFloorTypes.CAP\n",
      "STRIKE (%): 2.0\n",
      "FREQUENCY: FinFrequencyTypes.QUARTERLY\n",
      "DAY COUNT: FinDayCountTypes.ACT_360\n",
      "VALUATION DATE TUE 14 JUN 2016\n",
      "PAYMENT_DATE     YEAR_FRAC   FWD_RATE    INTRINSIC           DF    CAPLET_PV       CUM_PV\n",
      "TUE 14 JUN 2016          -         -            -     1.000000            -            -\n",
      "WED 14 SEP 2016  0.2555556   0.65560         0.00     0.998344         0.00         0.00\n",
      "WED 14 DEC 2016  0.2527778   0.73436         0.00     0.996494         0.03         0.03\n",
      "TUE 14 MAR 2017  0.2500000   0.80238         0.00     0.994499         3.71         3.74\n",
      "WED 14 JUN 2017  0.2555556   0.87633         0.00     0.992277        25.54        29.27\n",
      "THU 14 SEP 2017  0.2555556   0.87652         0.00     0.990059        51.36        80.63\n",
      "THU 14 DEC 2017  0.2527778   0.92100         0.00     0.987760        98.15       178.78\n",
      "WED 14 MAR 2018  0.2500000   0.96500         0.00     0.985382       155.69       334.47\n",
      "THU 14 JUN 2018  0.2555556   1.00928         0.00     0.982847       228.84       563.30\n",
      "FRI 14 SEP 2018  0.2555556   1.05403         0.00     0.980207       307.98       871.29\n",
      "FRI 14 DEC 2018  0.2527778   1.09853         0.00     0.977493       389.24      1260.53\n",
      "THU 14 MAR 2019  0.2500000   1.14254         0.00     0.974709       472.76      1733.29\n",
      "FRI 14 JUN 2019  0.2555556   1.18685         0.00     0.971761       576.89      2310.18\n",
      "MON 16 SEP 2019  0.2611111   1.19756         0.00     0.968732       648.83      2959.02\n",
      "MON 16 DEC 2019  0.2527778   1.23713         0.00     0.965712       720.52      3679.54\n",
      "MON 16 MAR 2020  0.2527778   1.27612         0.00     0.962607       812.39      4491.93\n",
      "MON 15 JUN 2020  0.2527778   1.31512         0.00     0.959417       905.54      5397.47\n",
      "MON 14 SEP 2020  0.2527778   1.35412         0.00     0.956145       999.66      6397.13\n",
      "MON 14 DEC 2020  0.2527778   1.39312         0.00     0.952789      1094.47      7491.60\n",
      "MON 15 MAR 2021  0.2527778   1.43213         0.00     0.949353      1189.75      8681.34\n",
      "MON 14 JUN 2021  0.2527778   1.47114         0.00     0.945835      1285.29      9966.64\n",
      "TUE 14 SEP 2021  0.2555556   1.49563         0.00     0.942234      1373.47     11340.11\n",
      "TUE 14 DEC 2021  0.2527778   1.53342         0.00     0.938596      1452.26     12792.37\n",
      "MON 14 MAR 2022  0.2500000   1.57080         0.00     0.934924      1527.77     14320.15\n",
      "TUE 14 JUN 2022  0.2555556   1.60849         0.00     0.931097      1654.84     15974.99\n",
      "WED 14 SEP 2022  0.2555556   1.64654         0.00     0.927196      1748.94     17723.93\n",
      "WED 14 DEC 2022  0.2527778   1.68434         0.00     0.923265      1822.18     19546.11\n",
      "TUE 14 MAR 2023  0.2500000   1.72172         0.00     0.919308      1891.80     21437.91\n",
      "WED 14 JUN 2023  0.2555556   1.75944         0.00     0.915193      2024.80     23462.70\n",
      "THU 14 SEP 2023  0.2555556   1.79750         0.00     0.911008      2116.37     25579.07\n",
      "THU 14 DEC 2023  0.2527778   1.83531         0.00     0.906801      2182.81     27761.88\n",
      "THU 14 MAR 2024  0.2527778   1.87295         0.00     0.902528      2270.76     30032.65\n",
      "FRI 14 JUN 2024  0.2555556   1.91086         0.00     0.898142      2384.06     32416.71\n",
      "MON 16 SEP 2024  0.2611111   1.94945         0.00     0.893593      2526.49     34943.20\n",
      "MON 16 DEC 2024  0.2527778   1.98758         0.00     0.889126      2532.82     37476.02\n",
      "FRI 14 MAR 2025  0.2444444   2.02445        52.87     0.884748      2529.70     40005.72\n",
      "MON 16 JUN 2025  0.2611111   2.06246       143.52     0.880009      2787.10     42792.82\n",
      "MON 15 SEP 2025  0.2527778   2.10057       222.54     0.875361      2781.85     45574.66\n",
      "MON 15 DEC 2025  0.2527778   2.13825       304.26     0.870655      2862.65     48437.31\n",
      "MON 16 MAR 2026  0.2527778   2.17592       385.06     0.865892      2942.30     51379.61\n",
      "SUN 14 JUN 2026  0.2500000   2.21333       459.26     0.861128      2987.26     54366.87\n"
     ]
    }
   ],
   "source": [
    "cap.printLeg()"
   ]
  },
  {
   "cell_type": "markdown",
   "metadata": {},
   "source": [
    "Copyright (c) 2020 Dominic O'Kane"
   ]
  },
  {
   "cell_type": "markdown",
   "metadata": {},
   "source": [
    "This value is within a few dollars of the Quantlib valuation."
   ]
  }
 ],
 "metadata": {
  "kernelspec": {
   "display_name": "Python 3",
   "language": "python",
   "name": "python3"
  },
  "language_info": {
   "codemirror_mode": {
    "name": "ipython",
    "version": 3
   },
   "file_extension": ".py",
   "mimetype": "text/x-python",
   "name": "python",
   "nbconvert_exporter": "python",
   "pygments_lexer": "ipython3",
   "version": "3.7.7"
  }
 },
 "nbformat": 4,
 "nbformat_minor": 4
}
