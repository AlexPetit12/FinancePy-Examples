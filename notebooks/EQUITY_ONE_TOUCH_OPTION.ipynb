{
 "cells": [
  {
   "cell_type": "markdown",
   "metadata": {},
   "source": [
    "# EQUITY ONE-TOUCH OPTION"
   ]
  },
  {
   "cell_type": "markdown",
   "metadata": {},
   "source": [
    "Analysis of equity options that trigger a payment (or non-payment) if a barrier is crossed at ANY time before expiry."
   ]
  },
  {
   "cell_type": "code",
   "execution_count": 1,
   "metadata": {},
   "outputs": [],
   "source": [
    "import numpy as np\n",
    "import matplotlib.pyplot as plt"
   ]
  },
  {
   "cell_type": "code",
   "execution_count": 2,
   "metadata": {},
   "outputs": [
    {
     "name": "stdout",
     "output_type": "stream",
     "text": [
      "###################################################################\n",
      "# FINANCEPY BETA Version 0.180 - This build: 06 Sep 2020 at 16:16 #\n",
      "#     This software is distributed FREE & WITHOUT ANY WARRANTY    #\n",
      "# For info and disclaimer - https://github.com/domokane/FinancePy #\n",
      "###################################################################\n",
      "\n"
     ]
    }
   ],
   "source": [
    "from financepy.finutils.FinDate import FinDate\n",
    "from financepy.market.curves.FinDiscountCurveFlat import FinDiscountCurveFlat\n",
    "from financepy.products.equity.FinEquityOneTouchOption import FinEquityOneTouchOption\n",
    "from financepy.products.equity.FinEquityOneTouchOption import FinTouchOptionPayoffTypes\n",
    "from financepy.products.equity.FinEquityModelTypes import FinEquityModelBlackScholes\n",
    "from financepy.finutils.FinOptionTypes import FinOptionTypes"
   ]
  },
  {
   "cell_type": "markdown",
   "metadata": {},
   "source": [
    "## Types of One Touch Option"
   ]
  },
  {
   "cell_type": "code",
   "execution_count": 3,
   "metadata": {},
   "outputs": [
    {
     "name": "stdout",
     "output_type": "stream",
     "text": [
      "FinTouchOptionPayoffTypes.DOWN_AND_IN_CASH_AT_HIT\n",
      "FinTouchOptionPayoffTypes.UP_AND_IN_CASH_AT_HIT\n",
      "FinTouchOptionPayoffTypes.DOWN_AND_IN_CASH_AT_EXPIRY\n",
      "FinTouchOptionPayoffTypes.UP_AND_IN_CASH_AT_EXPIRY\n",
      "FinTouchOptionPayoffTypes.DOWN_AND_OUT_CASH_OR_NOTHING\n",
      "FinTouchOptionPayoffTypes.UP_AND_OUT_CASH_OR_NOTHING\n",
      "FinTouchOptionPayoffTypes.DOWN_AND_IN_ASSET_AT_HIT\n",
      "FinTouchOptionPayoffTypes.UP_AND_IN_ASSET_AT_HIT\n",
      "FinTouchOptionPayoffTypes.DOWN_AND_IN_ASSET_AT_EXPIRY\n",
      "FinTouchOptionPayoffTypes.UP_AND_IN_ASSET_AT_EXPIRY\n",
      "FinTouchOptionPayoffTypes.DOWN_AND_OUT_ASSET_OR_NOTHING\n",
      "FinTouchOptionPayoffTypes.UP_AND_OUT_ASSET_OR_NOTHING\n"
     ]
    }
   ],
   "source": [
    "for type in FinTouchOptionPayoffTypes:\n",
    "    print(type)"
   ]
  },
  {
   "cell_type": "markdown",
   "metadata": {},
   "source": [
    "## Valuation Parameters"
   ]
  },
  {
   "cell_type": "code",
   "execution_count": 4,
   "metadata": {},
   "outputs": [],
   "source": [
    "valueDate = FinDate(1, 1, 2016)\n",
    "expiryDate = FinDate(2, 7, 2016)\n",
    "interestRate = 0.10\n",
    "discountCurve = FinDiscountCurveFlat(valueDate, interestRate)\n",
    "volatility = 0.20\n",
    "barrierLevel = 100.0\n",
    "model = FinEquityModelBlackScholes(volatility)\n",
    "dividendYield = 0.02"
   ]
  },
  {
   "cell_type": "markdown",
   "metadata": {},
   "source": [
    "# Cash Payoff One Touch Options"
   ]
  },
  {
   "cell_type": "markdown",
   "metadata": {},
   "source": [
    "We consider cash payout options which trigger by the stock price falling."
   ]
  },
  {
   "cell_type": "code",
   "execution_count": 5,
   "metadata": {},
   "outputs": [],
   "source": [
    "stockPrice = 105.0\n",
    "paymentSize = 15.0"
   ]
  },
  {
   "cell_type": "code",
   "execution_count": 6,
   "metadata": {},
   "outputs": [],
   "source": [
    "downTypes = [FinTouchOptionPayoffTypes.DOWN_AND_IN_CASH_AT_HIT,\n",
    "             FinTouchOptionPayoffTypes.DOWN_AND_IN_CASH_AT_EXPIRY,\n",
    "             FinTouchOptionPayoffTypes.DOWN_AND_OUT_CASH_OR_NOTHING]"
   ]
  },
  {
   "cell_type": "code",
   "execution_count": 7,
   "metadata": {},
   "outputs": [
    {
     "name": "stdout",
     "output_type": "stream",
     "text": [
      "                                                 Option Type   Analytical  Monte Carlo\n",
      "           FinTouchOptionPayoffTypes.DOWN_AND_IN_CASH_AT_HIT     10.01374      9.36308\n",
      "        FinTouchOptionPayoffTypes.DOWN_AND_IN_CASH_AT_EXPIRY      9.63723      9.02479\n",
      "      FinTouchOptionPayoffTypes.DOWN_AND_OUT_CASH_OR_NOTHING      4.63121      5.24365\n"
     ]
    }
   ],
   "source": [
    "print(\"%60s %12s %12s\" % (\"Option Type\", \"Analytical\", \"Monte Carlo\"))\n",
    "for downType in downTypes:\n",
    "    option = FinEquityOneTouchOption(expiryDate,downType,barrierLevel,paymentSize)\n",
    "    v = option.value(valueDate,stockPrice,discountCurve,dividendYield,model)\n",
    "    v_mc = option.valueMC(valueDate,stockPrice,discountCurve,dividendYield,model)\n",
    "    print(\"%60s %12.5f %12.5f\" % (downType, v, v_mc))"
   ]
  },
  {
   "cell_type": "code",
   "execution_count": 8,
   "metadata": {},
   "outputs": [],
   "source": [
    "stockPrice = 95.0\n",
    "paymentSize = 15.0"
   ]
  },
  {
   "cell_type": "code",
   "execution_count": 9,
   "metadata": {},
   "outputs": [],
   "source": [
    "upTypes = [FinTouchOptionPayoffTypes.UP_AND_IN_CASH_AT_HIT,\n",
    "           FinTouchOptionPayoffTypes.UP_AND_IN_CASH_AT_EXPIRY,\n",
    "           FinTouchOptionPayoffTypes.UP_AND_OUT_CASH_OR_NOTHING]"
   ]
  },
  {
   "cell_type": "code",
   "execution_count": 10,
   "metadata": {},
   "outputs": [
    {
     "name": "stdout",
     "output_type": "stream",
     "text": [
      "                                                 Option Type   Analytical  Monte Carlo\n",
      "      FinTouchOptionPayoffTypes.DOWN_AND_OUT_CASH_OR_NOTHING     11.41029     10.93359\n",
      "      FinTouchOptionPayoffTypes.DOWN_AND_OUT_CASH_OR_NOTHING     10.98686     10.54366\n",
      "      FinTouchOptionPayoffTypes.DOWN_AND_OUT_CASH_OR_NOTHING      3.28158      3.72478\n"
     ]
    }
   ],
   "source": [
    "print(\"%60s %12s %12s\" % (\"Option Type\", \"Analytical\", \"Monte Carlo\"))\n",
    "for upType in upTypes:\n",
    "    option = FinEquityOneTouchOption(expiryDate,upType,barrierLevel,paymentSize)\n",
    "    v = option.value(valueDate,stockPrice,discountCurve,dividendYield,model)\n",
    "    v_mc = option.valueMC(valueDate,stockPrice,discountCurve,dividendYield,model)\n",
    "    print(\"%60s %12.5f %12.5f\" % (downType, v, v_mc))"
   ]
  },
  {
   "cell_type": "markdown",
   "metadata": {},
   "source": [
    "## Asset Payoff One Touch Options"
   ]
  },
  {
   "cell_type": "code",
   "execution_count": 11,
   "metadata": {},
   "outputs": [],
   "source": [
    "downTypes = [FinTouchOptionPayoffTypes.DOWN_AND_IN_ASSET_AT_HIT,\n",
    "             FinTouchOptionPayoffTypes.DOWN_AND_IN_ASSET_AT_EXPIRY,\n",
    "             FinTouchOptionPayoffTypes.DOWN_AND_OUT_ASSET_OR_NOTHING]"
   ]
  },
  {
   "cell_type": "code",
   "execution_count": 12,
   "metadata": {},
   "outputs": [],
   "source": [
    "stockPrice = 105.0"
   ]
  },
  {
   "cell_type": "code",
   "execution_count": 13,
   "metadata": {},
   "outputs": [
    {
     "name": "stdout",
     "output_type": "stream",
     "text": [
      "          FinTouchOptionPayoffTypes.DOWN_AND_IN_ASSET_AT_HIT  66.75829  62.42053\n",
      "       FinTouchOptionPayoffTypes.DOWN_AND_IN_ASSET_AT_EXPIRY  66.24680  63.25000\n",
      "     FinTouchOptionPayoffTypes.DOWN_AND_OUT_ASSET_OR_NOTHING  37.70627  42.44246\n"
     ]
    }
   ],
   "source": [
    "for downType in downTypes:\n",
    "    option = FinEquityOneTouchOption(expiryDate, downType, barrierLevel)\n",
    "    v = option.value(valueDate, stockPrice, discountCurve, dividendYield, model)\n",
    "    v_mc = option.valueMC(valueDate, stockPrice, discountCurve, dividendYield, model)\n",
    "    print(\"%60s %9.5f %9.5f\" % (downType, v, v_mc))"
   ]
  },
  {
   "cell_type": "code",
   "execution_count": 14,
   "metadata": {},
   "outputs": [],
   "source": [
    "stockPrice = 95.0"
   ]
  },
  {
   "cell_type": "code",
   "execution_count": 15,
   "metadata": {},
   "outputs": [],
   "source": [
    "upTypes = [FinTouchOptionPayoffTypes.UP_AND_IN_ASSET_AT_HIT,\n",
    "           FinTouchOptionPayoffTypes.UP_AND_IN_ASSET_AT_EXPIRY,\n",
    "           FinTouchOptionPayoffTypes.UP_AND_OUT_ASSET_OR_NOTHING]"
   ]
  },
  {
   "cell_type": "code",
   "execution_count": 16,
   "metadata": {},
   "outputs": [
    {
     "name": "stdout",
     "output_type": "stream",
     "text": [
      "            FinTouchOptionPayoffTypes.UP_AND_IN_ASSET_AT_HIT  76.06859  72.89062\n",
      "         FinTouchOptionPayoffTypes.UP_AND_IN_ASSET_AT_EXPIRY  75.49345  73.89500\n",
      "       FinTouchOptionPayoffTypes.UP_AND_OUT_ASSET_OR_NOTHING  18.55933  21.19295\n"
     ]
    }
   ],
   "source": [
    "for upType in upTypes:\n",
    "    option = FinEquityOneTouchOption(expiryDate, upType, barrierLevel)\n",
    "    v = option.value(valueDate, stockPrice, discountCurve, dividendYield, model)\n",
    "    v_mc = option.valueMC(valueDate, stockPrice, discountCurve, dividendYield, model)\n",
    "    print(\"%60s %9.5f %9.5f\" % (upType, v, v_mc))"
   ]
  },
  {
   "cell_type": "code",
   "execution_count": 17,
   "metadata": {},
   "outputs": [
    {
     "name": "stdout",
     "output_type": "stream",
     "text": [
      "OBJECT TYPE: FinEquityOneTouchOption\n",
      "EXPIRY DATE: SAT 02 JUL 2016\n",
      "OPTION TYPE: FinTouchOptionPayoffTypes.UP_AND_OUT_ASSET_OR_NOTHING\n",
      "BARRIER LEVEL: 100.0\n",
      "PAYMENT SIZE: 1.0\n"
     ]
    }
   ],
   "source": [
    "print(option)"
   ]
  },
  {
   "cell_type": "markdown",
   "metadata": {},
   "source": [
    "## Vectorisations"
   ]
  },
  {
   "cell_type": "markdown",
   "metadata": {},
   "source": [
    "We can vectorise two things at the same time as long as they have the same length"
   ]
  },
  {
   "cell_type": "code",
   "execution_count": 18,
   "metadata": {},
   "outputs": [],
   "source": [
    "stockPrices = np.linspace(1,99,100)"
   ]
  },
  {
   "cell_type": "code",
   "execution_count": 19,
   "metadata": {},
   "outputs": [
    {
     "data": {
      "text/plain": [
       "array([ 1.        ,  1.98989899,  2.97979798,  3.96969697,  4.95959596,\n",
       "        5.94949495,  6.93939394,  7.92929293,  8.91919192,  9.90909091,\n",
       "       10.8989899 , 11.88888889, 12.87878788, 13.86868687, 14.85858586,\n",
       "       15.84848485, 16.83838384, 17.82828283, 18.81818182, 19.80808081,\n",
       "       20.7979798 , 21.78787879, 22.77777778, 23.76767677, 24.75757576,\n",
       "       25.74747475, 26.73737374, 27.72727273, 28.71717172, 29.70707071,\n",
       "       30.6969697 , 31.68686869, 32.67676768, 33.66666667, 34.65656566,\n",
       "       35.64646465, 36.63636364, 37.62626263, 38.61616162, 39.60606061,\n",
       "       40.5959596 , 41.58585859, 42.57575758, 43.56565657, 44.55555556,\n",
       "       45.54545455, 46.53535354, 47.52525253, 48.51515152, 49.50505051,\n",
       "       50.49494949, 51.48484848, 52.47474747, 53.46464646, 54.45454545,\n",
       "       55.44444444, 56.43434343, 57.42424242, 58.41414141, 59.4040404 ,\n",
       "       60.39393939, 61.38383838, 62.37373737, 63.36363636, 64.35353535,\n",
       "       65.34343434, 66.33333333, 67.32323232, 68.31313131, 69.3030303 ,\n",
       "       70.29292929, 71.28282828, 72.27272727, 73.26262626, 74.25252525,\n",
       "       75.24242424, 76.23232323, 77.22222222, 78.21212121, 79.2020202 ,\n",
       "       80.19191919, 81.18181818, 82.17171717, 83.16161616, 84.15151515,\n",
       "       85.14141414, 86.13131313, 87.12121212, 88.11111111, 89.1010101 ,\n",
       "       90.09090909, 91.08080808, 92.07070707, 93.06060606, 94.05050505,\n",
       "       95.04040404, 96.03030303, 97.02020202, 98.01010101, 99.        ])"
      ]
     },
     "execution_count": 19,
     "metadata": {},
     "output_type": "execute_result"
    }
   ],
   "source": [
    "stockPrices"
   ]
  },
  {
   "cell_type": "code",
   "execution_count": 20,
   "metadata": {},
   "outputs": [
    {
     "data": {
      "image/png": "[encoded data removed]",
      "text/plain": [
       "<Figure size 432x288 with 1 Axes>"
      ]
     },
     "metadata": {
      "needs_background": "light"
     },
     "output_type": "display_data"
    }
   ],
   "source": [
    "v = option.value(valueDate, stockPrices, discountCurve, dividendYield, model)\n",
    "plt.plot(stockPrices, v)\n",
    "plt.xlabel(\"Stock Prices\")\n",
    "plt.ylabel(\"Option Price\");"
   ]
  },
  {
   "cell_type": "markdown",
   "metadata": {},
   "source": [
    "And we can do the same to the option delta."
   ]
  },
  {
   "cell_type": "markdown",
   "metadata": {},
   "source": [
    "## Risk Analysis"
   ]
  },
  {
   "cell_type": "markdown",
   "metadata": {},
   "source": [
    "The analytical model produced the following sensitivities"
   ]
  },
  {
   "cell_type": "code",
   "execution_count": 21,
   "metadata": {},
   "outputs": [
    {
     "data": {
      "text/plain": [
       "-3.8710931871221987"
      ]
     },
     "execution_count": 21,
     "metadata": {},
     "output_type": "execute_result"
    }
   ],
   "source": [
    "option.delta(valueDate, stockPrice, discountCurve, dividendYield, model)"
   ]
  },
  {
   "cell_type": "code",
   "execution_count": 22,
   "metadata": {},
   "outputs": [
    {
     "data": {
      "text/plain": [
       "0.020460078076212085"
      ]
     },
     "execution_count": 22,
     "metadata": {},
     "output_type": "execute_result"
    }
   ],
   "source": [
    "option.gamma(valueDate, stockPrice, discountCurve, dividendYield, model)"
   ]
  },
  {
   "cell_type": "code",
   "execution_count": 23,
   "metadata": {},
   "outputs": [
    {
     "data": {
      "text/plain": [
       "27.6165601035057"
      ]
     },
     "execution_count": 23,
     "metadata": {},
     "output_type": "execute_result"
    }
   ],
   "source": [
    "option.theta(valueDate, stockPrice, discountCurve, dividendYield, model)"
   ]
  },
  {
   "cell_type": "code",
   "execution_count": 24,
   "metadata": {},
   "outputs": [
    {
     "data": {
      "text/plain": [
       "-76.95796756046036"
      ]
     },
     "execution_count": 24,
     "metadata": {},
     "output_type": "execute_result"
    }
   ],
   "source": [
    "option.vega(valueDate, stockPrice, discountCurve, dividendYield, model)"
   ]
  },
  {
   "cell_type": "code",
   "execution_count": 25,
   "metadata": {},
   "outputs": [
    {
     "data": {
      "text/plain": [
       "-73.72701358146827"
      ]
     },
     "execution_count": 25,
     "metadata": {},
     "output_type": "execute_result"
    }
   ],
   "source": [
    "option.rho(valueDate, stockPrice, discountCurve, dividendYield, model)"
   ]
  },
  {
   "cell_type": "markdown",
   "metadata": {},
   "source": [
    "Copyright (c) 2020 Dominic O'Kane"
   ]
  }
 ],
 "metadata": {
  "kernelspec": {
   "display_name": "Python 3",
   "language": "python",
   "name": "python3"
  },
  "language_info": {
   "codemirror_mode": {
    "name": "ipython",
    "version": 3
   },
   "file_extension": ".py",
   "mimetype": "text/x-python",
   "name": "python",
   "nbconvert_exporter": "python",
   "pygments_lexer": "ipython3",
   "version": "3.7.6"
  }
 },
 "nbformat": 4,
 "nbformat_minor": 2
}
