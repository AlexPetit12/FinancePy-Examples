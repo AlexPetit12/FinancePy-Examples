{
 "cells": [
  {
   "cell_type": "markdown",
   "metadata": {},
   "source": [
    "# Bond Options Black Karasinski Model"
   ]
  },
  {
   "cell_type": "markdown",
   "metadata": {},
   "source": [
    "In this notebook I create a bond option and value it using the Black-Karasinski model"
   ]
  },
  {
   "cell_type": "code",
   "execution_count": 1,
   "metadata": {},
   "outputs": [],
   "source": [
    "import numpy as np\n",
    "import matplotlib.pyplot as plt\n",
    "import time"
   ]
  },
  {
   "cell_type": "code",
   "execution_count": 3,
   "metadata": {},
   "outputs": [],
   "source": [
    "from financepy.finutils.FinDate import FinDate\n",
    "from financepy.models.FinModelRatesBK import FinModelRatesBK\n",
    "from financepy.finutils.FinHelperFunctions import printTree\n",
    "from financepy.market.curves.FinDiscountCurve import FinDiscountCurve\n",
    "from financepy.products.bonds.FinBond import FinBond\n",
    "from financepy.finutils.FinFrequency import FinFrequencyTypes\n",
    "from financepy.finutils.FinDayCount import FinDayCountTypes\n",
    "from financepy.finutils.FinGlobalVariables import gDaysInYear"
   ]
  },
  {
   "cell_type": "markdown",
   "metadata": {},
   "source": [
    "# American Bond Option Valuation"
   ]
  },
  {
   "cell_type": "markdown",
   "metadata": {},
   "source": [
    "We value an American style option on a coupon paying bond."
   ]
  },
  {
   "cell_type": "code",
   "execution_count": 4,
   "metadata": {},
   "outputs": [],
   "source": [
    "settlementDate = FinDate(1, 12, 2019)"
   ]
  },
  {
   "cell_type": "markdown",
   "metadata": {},
   "source": [
    "The bond pays 5% semi-annually for 10 years."
   ]
  },
  {
   "cell_type": "code",
   "execution_count": 5,
   "metadata": {},
   "outputs": [],
   "source": [
    "maturityDate = settlementDate.addTenor(\"10Y\")\n",
    "coupon = 0.05\n",
    "frequencyType = FinFrequencyTypes.SEMI_ANNUAL\n",
    "accrualType = FinDayCountTypes.ACT_ACT_ICMA"
   ]
  },
  {
   "cell_type": "code",
   "execution_count": 6,
   "metadata": {},
   "outputs": [],
   "source": [
    "bond = FinBond(maturityDate, coupon, frequencyType, accrualType)"
   ]
  },
  {
   "cell_type": "code",
   "execution_count": 7,
   "metadata": {},
   "outputs": [],
   "source": [
    "bond.calculateFlowDates(settlementDate)"
   ]
  },
  {
   "cell_type": "code",
   "execution_count": 8,
   "metadata": {},
   "outputs": [],
   "source": [
    "couponTimes = []\n",
    "couponFlows = []\n",
    "cpn = bond._coupon/bond._frequency\n",
    "for flowDate in bond._flowDates:\n",
    "    flowTime = (flowDate - settlementDate) / gDaysInYear\n",
    "    couponTimes.append(flowTime)\n",
    "    couponFlows.append(cpn)\n",
    "\n",
    "couponTimes = np.array(couponTimes)\n",
    "couponFlows = np.array(couponFlows)"
   ]
  },
  {
   "cell_type": "markdown",
   "metadata": {},
   "source": [
    "The option expires in 18 months with a strike of 105"
   ]
  },
  {
   "cell_type": "code",
   "execution_count": 9,
   "metadata": {},
   "outputs": [],
   "source": [
    "expiryDate = settlementDate.addTenor(\"18m\")\n",
    "texp = (expiryDate - settlementDate) / gDaysInYear\n",
    "strikePrice = 105.0\n",
    "face = 100.0"
   ]
  },
  {
   "cell_type": "markdown",
   "metadata": {},
   "source": [
    "We set the BK model to have 20% of lognormal rate volatility and 0.05 of mean-reversion"
   ]
  },
  {
   "cell_type": "code",
   "execution_count": 10,
   "metadata": {},
   "outputs": [],
   "source": [
    "sigma = 0.20\n",
    "a = 0.05"
   ]
  },
  {
   "cell_type": "markdown",
   "metadata": {},
   "source": [
    "We set up a flat discount curve at 5%"
   ]
  },
  {
   "cell_type": "code",
   "execution_count": 11,
   "metadata": {},
   "outputs": [],
   "source": [
    "tmat = (maturityDate - settlementDate) / gDaysInYear\n",
    "times = np.linspace(0, tmat, 20)\n",
    "dfs = np.exp(-0.05*times)"
   ]
  },
  {
   "cell_type": "code",
   "execution_count": 12,
   "metadata": {},
   "outputs": [],
   "source": [
    "discountCurve = FinDiscountCurve(settlementDate, times, dfs)"
   ]
  },
  {
   "cell_type": "markdown",
   "metadata": {},
   "source": [
    "We can price the basic bond without any option"
   ]
  },
  {
   "cell_type": "code",
   "execution_count": 15,
   "metadata": {},
   "outputs": [],
   "source": [
    "price = bond.valueBondUsingDiscountCurve(settlementDate, discountCurve)"
   ]
  },
  {
   "cell_type": "code",
   "execution_count": 16,
   "metadata": {},
   "outputs": [
    {
     "name": "stdout",
     "output_type": "stream",
     "text": [
      "Bond Price: 99.50391846904128\n"
     ]
    }
   ],
   "source": [
    "print(\"Bond Price:\", price)"
   ]
  },
  {
   "cell_type": "markdown",
   "metadata": {},
   "source": [
    "Now we price the option - the tree only needs to go out to the expiry date of the option"
   ]
  },
  {
   "cell_type": "markdown",
   "metadata": {},
   "source": [
    "Test convergence"
   ]
  },
  {
   "cell_type": "code",
   "execution_count": 17,
   "metadata": {},
   "outputs": [],
   "source": [
    "numStepsList = [100, 150, 200, 250, 300, 400, 500, 600, 700, 800, 900, 1000]"
   ]
  },
  {
   "cell_type": "code",
   "execution_count": 20,
   "metadata": {},
   "outputs": [
    {
     "ename": "FinError",
     "evalue": "Coupon times are the same",
     "output_type": "error",
     "traceback": [
      "\u001b[1;31m---------------------------------------------------------------------------\u001b[0m",
      "\u001b[1;31mFinError\u001b[0m                                  Traceback (most recent call last)",
      "\u001b[1;32m<ipython-input-20-179d004a9583>\u001b[0m in \u001b[0;36m<module>\u001b[1;34m\u001b[0m\n\u001b[0;32m      3\u001b[0m     \u001b[0mmodel\u001b[0m \u001b[1;33m=\u001b[0m \u001b[0mFinModelRatesBK\u001b[0m\u001b[1;33m(\u001b[0m\u001b[0ma\u001b[0m\u001b[1;33m,\u001b[0m \u001b[0msigma\u001b[0m\u001b[1;33m,\u001b[0m \u001b[0mnumTimeSteps\u001b[0m\u001b[1;33m)\u001b[0m\u001b[1;33m\u001b[0m\u001b[1;33m\u001b[0m\u001b[0m\n\u001b[0;32m      4\u001b[0m     \u001b[0mmodel\u001b[0m\u001b[1;33m.\u001b[0m\u001b[0mbuildTree\u001b[0m\u001b[1;33m(\u001b[0m\u001b[0mtmat\u001b[0m\u001b[1;33m,\u001b[0m \u001b[0mtimes\u001b[0m\u001b[1;33m,\u001b[0m \u001b[0mdfs\u001b[0m\u001b[1;33m)\u001b[0m\u001b[1;33m\u001b[0m\u001b[1;33m\u001b[0m\u001b[0m\n\u001b[1;32m----> 5\u001b[1;33m     \u001b[0mvOption\u001b[0m\u001b[1;33m,\u001b[0m \u001b[0mvBond\u001b[0m \u001b[1;33m=\u001b[0m \u001b[0mmodel\u001b[0m\u001b[1;33m.\u001b[0m\u001b[0mbondOption\u001b[0m\u001b[1;33m(\u001b[0m\u001b[0mtexp\u001b[0m\u001b[1;33m,\u001b[0m \u001b[0mstrikePrice\u001b[0m\u001b[1;33m,\u001b[0m \u001b[0mface\u001b[0m\u001b[1;33m,\u001b[0m \u001b[0mcouponTimes\u001b[0m\u001b[1;33m,\u001b[0m \u001b[0mcouponFlows\u001b[0m\u001b[1;33m,\u001b[0m \u001b[1;32mTrue\u001b[0m\u001b[1;33m)\u001b[0m\u001b[1;33m\u001b[0m\u001b[1;33m\u001b[0m\u001b[0m\n\u001b[0m\u001b[0;32m      6\u001b[0m     \u001b[0mtreeVector\u001b[0m\u001b[1;33m.\u001b[0m\u001b[0mappend\u001b[0m\u001b[1;33m(\u001b[0m\u001b[0mvOption\u001b[0m\u001b[1;33m)\u001b[0m\u001b[1;33m\u001b[0m\u001b[1;33m\u001b[0m\u001b[0m\n\u001b[0;32m      7\u001b[0m     \u001b[0mprint\u001b[0m\u001b[1;33m(\u001b[0m\u001b[0mnumTimeSteps\u001b[0m\u001b[1;33m,\u001b[0m \u001b[0mvOption\u001b[0m\u001b[1;33m,\u001b[0m \u001b[0mvBond\u001b[0m\u001b[1;33m)\u001b[0m\u001b[1;33m\u001b[0m\u001b[1;33m\u001b[0m\u001b[0m\n",
      "\u001b[1;32m~\\Anaconda3\\lib\\site-packages\\financepy\\models\\FinModelRatesBK.py\u001b[0m in \u001b[0;36mbondOption\u001b[1;34m(self, texp, strikePrice, face, couponTimes, couponFlows, americanExercise)\u001b[0m\n\u001b[0;32m    669\u001b[0m                                            \u001b[0mself\u001b[0m\u001b[1;33m.\u001b[0m\u001b[0m_pu\u001b[0m\u001b[1;33m,\u001b[0m \u001b[0mself\u001b[0m\u001b[1;33m.\u001b[0m\u001b[0m_pm\u001b[0m\u001b[1;33m,\u001b[0m \u001b[0mself\u001b[0m\u001b[1;33m.\u001b[0m\u001b[0m_pd\u001b[0m\u001b[1;33m,\u001b[0m\u001b[1;33m\u001b[0m\u001b[1;33m\u001b[0m\u001b[0m\n\u001b[0;32m    670\u001b[0m                                            \u001b[0mself\u001b[0m\u001b[1;33m.\u001b[0m\u001b[0m_rt\u001b[0m\u001b[1;33m,\u001b[0m\u001b[1;33m\u001b[0m\u001b[1;33m\u001b[0m\u001b[0m\n\u001b[1;32m--> 671\u001b[1;33m                                            self._dt, self._a)\n\u001b[0m\u001b[0;32m    672\u001b[0m \u001b[1;33m\u001b[0m\u001b[0m\n\u001b[0;32m    673\u001b[0m         \u001b[1;32mreturn\u001b[0m \u001b[1;33m{\u001b[0m\u001b[1;34m'call'\u001b[0m\u001b[1;33m:\u001b[0m \u001b[0mcallValue\u001b[0m\u001b[1;33m,\u001b[0m \u001b[1;34m'put'\u001b[0m\u001b[1;33m:\u001b[0m \u001b[0mputValue\u001b[0m\u001b[1;33m}\u001b[0m\u001b[1;33m\u001b[0m\u001b[1;33m\u001b[0m\u001b[0m\n",
      "\u001b[1;32m~\\Anaconda3\\lib\\site-packages\\financepy\\finutils\\FinMath.py\u001b[0m in \u001b[0;36maccruedInterpolator\u001b[1;34m()\u001b[0m\n\u001b[0;32m     40\u001b[0m \u001b[1;33m\u001b[0m\u001b[0m\n\u001b[0;32m     41\u001b[0m     \u001b[1;32mif\u001b[0m \u001b[0mabs\u001b[0m\u001b[1;33m(\u001b[0m\u001b[0mdenom\u001b[0m\u001b[1;33m)\u001b[0m \u001b[1;33m<\u001b[0m \u001b[1;36m1e-6\u001b[0m\u001b[1;33m:\u001b[0m\u001b[1;33m\u001b[0m\u001b[1;33m\u001b[0m\u001b[0m\n\u001b[1;32m---> 42\u001b[1;33m         \u001b[1;32mraise\u001b[0m \u001b[0mFinError\u001b[0m\u001b[1;33m(\u001b[0m\u001b[1;34m\"Coupon times are the same\"\u001b[0m\u001b[1;33m)\u001b[0m\u001b[1;33m\u001b[0m\u001b[1;33m\u001b[0m\u001b[0m\n\u001b[0m\u001b[0;32m     43\u001b[0m \u001b[1;33m\u001b[0m\u001b[0m\n\u001b[0;32m     44\u001b[0m     \u001b[0maccdFrac\u001b[0m \u001b[1;33m=\u001b[0m \u001b[1;33m(\u001b[0m\u001b[0mtset\u001b[0m\u001b[1;33m-\u001b[0m\u001b[0mt0\u001b[0m\u001b[1;33m)\u001b[0m\u001b[1;33m/\u001b[0m\u001b[0mdenom\u001b[0m\u001b[1;33m\u001b[0m\u001b[1;33m\u001b[0m\u001b[0m\n",
      "\u001b[1;31mFinError\u001b[0m: Coupon times are the same"
     ]
    }
   ],
   "source": [
    "treeVector = []\n",
    "for numTimeSteps in numStepsList:\n",
    "    model = FinModelRatesBK(a, sigma, numTimeSteps)\n",
    "    model.buildTree(tmat, times, dfs)\n",
    "    vOption, vBond = model.bondOption(texp, strikePrice, face, couponTimes, couponFlows, True)\n",
    "    treeVector.append(vOption)\n",
    "    print(numTimeSteps, vOption, vBond)\n",
    "\n",
    "plt.plot(numStepsList, treeVector);    "
   ]
  },
  {
   "cell_type": "markdown",
   "metadata": {},
   "source": [
    "The option price converges towards something close to the price of 0.699 mentioned in the book by Hull (Fig 28.11). There is a convergence issue at 300 steps with the bond price that needs to be examined. It relates to a numerical issue regarding the coupon payment and expiry date being close together."
   ]
  },
  {
   "cell_type": "code",
   "execution_count": null,
   "metadata": {},
   "outputs": [],
   "source": []
  }
 ],
 "metadata": {
  "kernelspec": {
   "display_name": "Python 3",
   "language": "python",
   "name": "python3"
  },
  "language_info": {
   "codemirror_mode": {
    "name": "ipython",
    "version": 3
   },
   "file_extension": ".py",
   "mimetype": "text/x-python",
   "name": "python",
   "nbconvert_exporter": "python",
   "pygments_lexer": "ipython3",
   "version": "3.7.7"
  }
 },
 "nbformat": 4,
 "nbformat_minor": 2
}
