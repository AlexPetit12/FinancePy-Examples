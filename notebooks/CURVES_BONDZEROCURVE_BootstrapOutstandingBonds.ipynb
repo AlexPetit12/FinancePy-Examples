{
 "cells": [
  {
   "cell_type": "markdown",
   "metadata": {},
   "source": [
    "# BOOTSTRAP BONDS TO CREATE A ZERO CURVE"
   ]
  },
  {
   "cell_type": "markdown",
   "metadata": {},
   "source": [
    "In this notebook I show how you can exactly refit the implied zero curve from bond prices using a piecewise flat curve."
   ]
  },
  {
   "cell_type": "code",
   "execution_count": 1,
   "metadata": {},
   "outputs": [],
   "source": [
    "import datetime as dt\n",
    "import pandas as pd"
   ]
  },
  {
   "cell_type": "code",
   "execution_count": 2,
   "metadata": {},
   "outputs": [
    {
     "name": "stdout",
     "output_type": "stream",
     "text": [
      "###################################################################\n",
      "# FINANCEPY BETA Version 0.180 - This build: 12 Sep 2020 at 16:53 #\n",
      "#     This software is distributed FREE & WITHOUT ANY WARRANTY    #\n",
      "# For info and disclaimer - https://github.com/domokane/FinancePy #\n",
      "###################################################################\n",
      "\n"
     ]
    }
   ],
   "source": [
    "from financepy.finutils import *\n",
    "from financepy.products.bonds import *\n",
    "from financepy.market.curves import *"
   ]
  },
  {
   "cell_type": "markdown",
   "metadata": {},
   "source": [
    "## Load Bond Data"
   ]
  },
  {
   "cell_type": "markdown",
   "metadata": {},
   "source": [
    "I have downloaded some bond price data from the UK DMO"
   ]
  },
  {
   "cell_type": "code",
   "execution_count": 3,
   "metadata": {},
   "outputs": [],
   "source": [
    "bondDataFrame = pd.read_csv('./data/giltbondprices.txt', sep='\\t')"
   ]
  },
  {
   "cell_type": "markdown",
   "metadata": {},
   "source": [
    "We'll use mid-market prices for our analysis"
   ]
  },
  {
   "cell_type": "code",
   "execution_count": 4,
   "metadata": {},
   "outputs": [],
   "source": [
    "bondDataFrame['mid'] = 0.5*(bondDataFrame['bid'] + bondDataFrame['ask'])"
   ]
  },
  {
   "cell_type": "markdown",
   "metadata": {},
   "source": [
    "We need to use UK bond conventions"
   ]
  },
  {
   "cell_type": "code",
   "execution_count": 5,
   "metadata": {},
   "outputs": [],
   "source": [
    "accrualType, frequencyType, settlementDays = getTreasuryBondMarketConventions(FinBondMarkets.UNITED_KINGDOM)"
   ]
  },
  {
   "cell_type": "code",
   "execution_count": 6,
   "metadata": {},
   "outputs": [
    {
     "data": {
      "text/plain": [
       "<FinFrequencyTypes.SEMI_ANNUAL: 2>"
      ]
     },
     "execution_count": 6,
     "metadata": {},
     "output_type": "execute_result"
    }
   ],
   "source": [
    "frequencyType"
   ]
  },
  {
   "cell_type": "code",
   "execution_count": 7,
   "metadata": {},
   "outputs": [
    {
     "name": "stdout",
     "output_type": "stream",
     "text": [
      "Settles: WED 19 SEP 2012\n"
     ]
    }
   ],
   "source": [
    "today = FinDate(18,9,2012)\n",
    "settlementDate = today.addWorkDays(settlementDays)\n",
    "print(\"Settles:\", settlementDate)"
   ]
  },
  {
   "cell_type": "code",
   "execution_count": 8,
   "metadata": {},
   "outputs": [],
   "source": [
    "bonds = []\n",
    "cleanPrices = []"
   ]
  },
  {
   "cell_type": "code",
   "execution_count": 9,
   "metadata": {},
   "outputs": [],
   "source": [
    "for index, bondRow in bondDataFrame.iterrows():\n",
    "\n",
    "    dateString = bondRow['maturity']\n",
    "    matDatetime = dt.datetime.strptime(dateString, '%d-%b-%y')\n",
    "    maturityDt = fromDatetime(matDatetime)\n",
    "    coupon = bondRow['coupon']/100.0\n",
    "    bond = FinBond(maturityDt, coupon, frequencyType, accrualType)\n",
    "    cleanPrice = bondRow['mid']\n",
    "    \n",
    "    bonds.append(bond)\n",
    "    cleanPrices.append(cleanPrice)"
   ]
  },
  {
   "cell_type": "markdown",
   "metadata": {},
   "source": [
    "## Bootstrapping the Bond Prices"
   ]
  },
  {
   "cell_type": "markdown",
   "metadata": {},
   "source": [
    "We pass the bond prices and bonds and the bootstrap is done automatically"
   ]
  },
  {
   "cell_type": "code",
   "execution_count": 10,
   "metadata": {},
   "outputs": [],
   "source": [
    "bondCurve = FinBondZeroCurve(settlementDate, bonds, cleanPrices)"
   ]
  },
  {
   "cell_type": "markdown",
   "metadata": {},
   "source": [
    "Let's just check that this curve reprices the bond"
   ]
  },
  {
   "cell_type": "code",
   "execution_count": 12,
   "metadata": {},
   "outputs": [
    {
     "name": "stdout",
     "output_type": "stream",
     "text": [
      "Market: 101.995000   Fitted: 101.995000   Diff:  0.0000000\n",
      "Market: 107.920000   Fitted: 107.920000   Diff:  0.0000000\n",
      "Market: 102.975000   Fitted: 102.975000   Diff:  0.0000000\n",
      "Market: 109.355000   Fitted: 109.355000   Diff:  0.0000000\n",
      "Market: 105.625000   Fitted: 105.625000   Diff: -0.0000000\n",
      "Market: 112.980000   Fitted: 112.980000   Diff:  0.0000000\n",
      "Market: 124.470000   Fitted: 124.470000   Diff: -0.0000000\n",
      "Market: 104.980000   Fitted: 104.980000   Diff:  0.0000000\n",
      "Market: 113.495000   Fitted: 113.495000   Diff:  0.0000000\n",
      "Market: 138.570000   Fitted: 138.570000   Diff:  0.0000002\n",
      "Market: 121.790000   Fitted: 121.790000   Diff:  0.0000000\n",
      "Market: 121.345000   Fitted: 121.345000   Diff:  0.0000003\n",
      "Market: 116.815000   Fitted: 116.815000   Diff:  0.0000000\n",
      "Market: 124.300000   Fitted: 124.300000   Diff:  0.0000000\n",
      "Market: 117.375000   Fitted: 117.375000   Diff: -0.0000000\n",
      "Market: 152.930000   Fitted: 152.930000   Diff:  0.0000000\n",
      "Market: 117.695000   Fitted: 117.695000   Diff: -0.0000000\n",
      "Market: 120.020000   Fitted: 120.020000   Diff: -0.0000000\n",
      "Market: 132.040000   Fitted: 132.040000   Diff:  0.0000000\n",
      "Market: 124.055000   Fitted: 124.055000   Diff:  0.0000000\n",
      "Market: 148.235000   Fitted: 148.235000   Diff:  0.0000000\n",
      "Market: 131.050000   Fitted: 131.050000   Diff:  0.0000000\n",
      "Market: 123.005000   Fitted: 123.005000   Diff:  0.0000000\n",
      "Market: 126.135000   Fitted: 126.135000   Diff:  0.0000000\n",
      "Market: 121.585000   Fitted: 121.585000   Diff:  0.0000000\n",
      "Market: 130.750000   Fitted: 130.750000   Diff:  0.0000004\n",
      "Market: 121.025000   Fitted: 121.025000   Diff:  0.0000000\n",
      "Market: 120.740000   Fitted: 120.740000   Diff:  0.0000000\n",
      "Market: 125.920000   Fitted: 125.920000   Diff:  0.0000001\n",
      "Market: 121.150000   Fitted: 121.150000   Diff: -0.0000000\n",
      "Market: 121.165000   Fitted: 121.165000   Diff: -0.0000000\n",
      "Market: 122.695000   Fitted: 122.695000   Diff: -0.0000000\n",
      "Market: 117.830000   Fitted: 117.830000   Diff: -0.0000000\n"
     ]
    }
   ],
   "source": [
    "for cleanPrice, bond in zip(cleanPrices,bonds):\n",
    "    fittedPrice = bond.cleanPriceFromDiscountCurve(settlementDate, bondCurve)\n",
    "    diff = fittedPrice - cleanPrice\n",
    "    print(\"Market: %10.6f   Fitted: %10.6f   Diff: %10.7f\"% (cleanPrice,fittedPrice,diff))"
   ]
  },
  {
   "cell_type": "markdown",
   "metadata": {},
   "source": [
    "What does the zero rate curve look like"
   ]
  },
  {
   "cell_type": "code",
   "execution_count": 13,
   "metadata": {},
   "outputs": [
    {
     "data": {
      "image/png": "[encoded data removed]",
      "text/plain": [
       "<Figure size 864x432 with 1 Axes>"
      ]
     },
     "metadata": {
      "needs_background": "light"
     },
     "output_type": "display_data"
    }
   ],
   "source": [
    "bondCurve.plot(\"GBP Zero Rate Curve\")"
   ]
  },
  {
   "cell_type": "markdown",
   "metadata": {},
   "source": [
    "## Forward Curve"
   ]
  },
  {
   "cell_type": "markdown",
   "metadata": {},
   "source": [
    "How about the continuously compounded forwards. This gives us a detailed view on the term structure implied by the bond prices."
   ]
  },
  {
   "cell_type": "code",
   "execution_count": 14,
   "metadata": {},
   "outputs": [],
   "source": [
    "import numpy as np\n",
    "import matplotlib.pyplot as plt"
   ]
  },
  {
   "cell_type": "code",
   "execution_count": 15,
   "metadata": {},
   "outputs": [],
   "source": [
    "times = np.linspace(0,10,2000)"
   ]
  },
  {
   "cell_type": "code",
   "execution_count": 16,
   "metadata": {},
   "outputs": [],
   "source": [
    "fwds = bondCurve.fwd(times)"
   ]
  },
  {
   "cell_type": "code",
   "execution_count": 17,
   "metadata": {},
   "outputs": [
    {
     "data": {
      "image/png": "[encoded data removed]",
      "text/plain": [
       "<Figure size 720x432 with 1 Axes>"
      ]
     },
     "metadata": {
      "needs_background": "light"
     },
     "output_type": "display_data"
    }
   ],
   "source": [
    "plt.figure(figsize=(10,6))\n",
    "plt.plot(times,fwds*100, label=\"Instantaneous Forwards\")\n",
    "plt.xlabel(\"Time\")\n",
    "plt.ylabel(\"Forwards (%)\")\n",
    "plt.legend()\n",
    "plt.grid()"
   ]
  },
  {
   "cell_type": "markdown",
   "metadata": {},
   "source": [
    "Looks like there is some anomaly or mispricing around 3 years. As it does not last for long, it is probably not significant. "
   ]
  },
  {
   "cell_type": "markdown",
   "metadata": {},
   "source": [
    "Copyright (c) 2019, Dominic O'Kane "
   ]
  }
 ],
 "metadata": {
  "kernelspec": {
   "display_name": "Python 3",
   "language": "python",
   "name": "python3"
  },
  "language_info": {
   "codemirror_mode": {
    "name": "ipython",
    "version": 3
   },
   "file_extension": ".py",
   "mimetype": "text/x-python",
   "name": "python",
   "nbconvert_exporter": "python",
   "pygments_lexer": "ipython3",
   "version": "3.7.6"
  }
 },
 "nbformat": 4,
 "nbformat_minor": 2
}
