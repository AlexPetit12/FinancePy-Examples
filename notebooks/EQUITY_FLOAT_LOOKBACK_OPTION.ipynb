{
 "cells": [
  {
   "cell_type": "markdown",
   "metadata": {},
   "source": [
    "# EQUITY FLOAT LOOKBACK"
   ]
  },
  {
   "cell_type": "markdown",
   "metadata": {},
   "source": [
    "Valuation and Risk of Equity Float Lookback Options"
   ]
  },
  {
   "cell_type": "code",
   "execution_count": 1,
   "metadata": {},
   "outputs": [],
   "source": [
    "import numpy as np\n",
    "import matplotlib.pyplot as plt"
   ]
  },
  {
   "cell_type": "code",
   "execution_count": 2,
   "metadata": {},
   "outputs": [
    {
     "name": "stdout",
     "output_type": "stream",
     "text": [
      "###################################################################\n",
      "#   WELCOME TO FINANCEPY BETA VERSION 0.171 UNDER DEVELOPMENT     #\n",
      "# FinancePy it is distributed FREE & WITHOUT ANY WARRANTY AND     #\n",
      "# MERCHANTABILITY or FITNESS FOR A PARTICULAR PURPOSE. For more   #\n",
      "# details see the repo at https://github.com/domokane/FinancePy   #\n",
      "###################################################################\n",
      "\n"
     ]
    }
   ],
   "source": [
    "from financepy.finutils import FinDate\n",
    "from financepy.finutils.FinOptionTypes import FinOptionTypes\n",
    "from financepy.market.curves.FinDiscountCurveFlat import FinDiscountCurveFlat\n",
    "from financepy.products.equity.FinEquityFloatLookbackOption import FinEquityFloatLookbackOption\n",
    "from financepy.products.equity.FinEquityModelTypes import FinEquityModelBlackScholes"
   ]
  },
  {
   "cell_type": "markdown",
   "metadata": {},
   "source": [
    "# Fixed Lookback Option"
   ]
  },
  {
   "cell_type": "markdown",
   "metadata": {},
   "source": [
    "I create a fixed lookback call and put option"
   ]
  },
  {
   "cell_type": "code",
   "execution_count": 3,
   "metadata": {},
   "outputs": [],
   "source": [
    "expiryDate = FinDate(1, 1, 2021)"
   ]
  },
  {
   "cell_type": "code",
   "execution_count": 4,
   "metadata": {},
   "outputs": [],
   "source": [
    "strikePrice = 105.0"
   ]
  },
  {
   "cell_type": "code",
   "execution_count": 5,
   "metadata": {},
   "outputs": [],
   "source": [
    "optionTypeCall = FinOptionTypes.EUROPEAN_CALL\n",
    "optionTypePut = FinOptionTypes.EUROPEAN_PUT"
   ]
  },
  {
   "cell_type": "code",
   "execution_count": 7,
   "metadata": {},
   "outputs": [],
   "source": [
    "lookbackCall = FinEquityFloatLookbackOption(expiryDate, optionTypeCall)\n",
    "lookbackPut = FinEquityFloatLookbackOption(expiryDate, optionTypePut)"
   ]
  },
  {
   "cell_type": "code",
   "execution_count": 8,
   "metadata": {},
   "outputs": [
    {
     "name": "stdout",
     "output_type": "stream",
     "text": [
      "EXPIRY DATE: FRI 1 JAN 2021\n",
      "OPTION TYPE: FinOptionTypes.EUROPEAN_CALL\n"
     ]
    }
   ],
   "source": [
    "print(lookbackCall)"
   ]
  },
  {
   "cell_type": "code",
   "execution_count": 9,
   "metadata": {},
   "outputs": [
    {
     "name": "stdout",
     "output_type": "stream",
     "text": [
      "EXPIRY DATE: FRI 1 JAN 2021\n",
      "OPTION TYPE: FinOptionTypes.EUROPEAN_PUT\n"
     ]
    }
   ],
   "source": [
    "print(lookbackPut)"
   ]
  },
  {
   "cell_type": "markdown",
   "metadata": {},
   "source": [
    "## Valuation"
   ]
  },
  {
   "cell_type": "code",
   "execution_count": 10,
   "metadata": {},
   "outputs": [],
   "source": [
    "valueDate = FinDate(1, 1, 2020)"
   ]
  },
  {
   "cell_type": "code",
   "execution_count": 11,
   "metadata": {},
   "outputs": [],
   "source": [
    "interestRate = 0.10"
   ]
  },
  {
   "cell_type": "code",
   "execution_count": 12,
   "metadata": {},
   "outputs": [],
   "source": [
    "discountCurve = FinDiscountCurveFlat(valueDate, interestRate)"
   ]
  },
  {
   "cell_type": "code",
   "execution_count": 13,
   "metadata": {},
   "outputs": [],
   "source": [
    "dividendYield = 0.0"
   ]
  },
  {
   "cell_type": "code",
   "execution_count": 14,
   "metadata": {},
   "outputs": [],
   "source": [
    "volatility = 0.10"
   ]
  },
  {
   "cell_type": "code",
   "execution_count": 39,
   "metadata": {},
   "outputs": [],
   "source": [
    "numPaths = 2000\n",
    "numStepsPerYear = 1000"
   ]
  },
  {
   "cell_type": "code",
   "execution_count": 40,
   "metadata": {},
   "outputs": [],
   "source": [
    "stockPrices = np.linspace(50, 150, 20)"
   ]
  },
  {
   "cell_type": "code",
   "execution_count": 41,
   "metadata": {},
   "outputs": [],
   "source": [
    "values = []\n",
    "valuesMC = []\n",
    "\n",
    "for stockPrice in stockPrices:\n",
    "    stockMinMax = stockPrice\n",
    "    v = lookbackCall.value(valueDate, stockPrice, discountCurve, dividendYield,\n",
    "                           volatility, stockMinMax)\n",
    "    v_mc = lookbackCall.valueMC(valueDate, stockPrice, discountCurve, dividendYield, \n",
    "                                volatility, stockMinMax, numPaths, numStepsPerYear)\n",
    "    values.append(v)\n",
    "    valuesMC.append(v_mc)"
   ]
  },
  {
   "cell_type": "code",
   "execution_count": 42,
   "metadata": {},
   "outputs": [
    {
     "data": {
      "image/png": "[encoded data removed]",
      "text/plain": [
       "<Figure size 432x288 with 1 Axes>"
      ]
     },
     "metadata": {
      "needs_background": "light"
     },
     "output_type": "display_data"
    }
   ],
   "source": [
    "plt.plot(stockPrices, values)\n",
    "plt.plot(stockPrices, valuesMC, '.')\n",
    "plt.xlabel(\"Stock Price\")\n",
    "plt.ylabel(\"Value\");"
   ]
  },
  {
   "cell_type": "code",
   "execution_count": 43,
   "metadata": {},
   "outputs": [],
   "source": [
    "values = []\n",
    "valuesMC = []\n",
    "\n",
    "for stockPrice in stockPrices:\n",
    "    stockMinMax = stockPrice\n",
    "    v = lookbackPut.value(valueDate, stockPrice, discountCurve, dividendYield,\n",
    "                           volatility, stockMinMax)\n",
    "    v_mc = lookbackPut.valueMC(valueDate, stockPrice, discountCurve, dividendYield, \n",
    "                                volatility, stockMinMax, numPaths, numStepsPerYear)\n",
    "    values.append(v)\n",
    "    valuesMC.append(v_mc)"
   ]
  },
  {
   "cell_type": "code",
   "execution_count": 44,
   "metadata": {},
   "outputs": [
    {
     "data": {
      "image/png": "[encoded data removed]",
      "text/plain": [
       "<Figure size 432x288 with 1 Axes>"
      ]
     },
     "metadata": {
      "needs_background": "light"
     },
     "output_type": "display_data"
    }
   ],
   "source": [
    "plt.plot(stockPrices, values)\n",
    "plt.plot(stockPrices, valuesMC, '.')\n",
    "plt.xlabel(\"Stock Price\")\n",
    "plt.ylabel(\"Value\");"
   ]
  },
  {
   "cell_type": "markdown",
   "metadata": {},
   "source": [
    "Copyright (c) 2020 Dominic O'Kane"
   ]
  }
 ],
 "metadata": {
  "kernelspec": {
   "display_name": "Python 3",
   "language": "python",
   "name": "python3"
  },
  "language_info": {
   "codemirror_mode": {
    "name": "ipython",
    "version": 3
   },
   "file_extension": ".py",
   "mimetype": "text/x-python",
   "name": "python",
   "nbconvert_exporter": "python",
   "pygments_lexer": "ipython3",
   "version": "3.7.6"
  }
 },
 "nbformat": 4,
 "nbformat_minor": 2
}
