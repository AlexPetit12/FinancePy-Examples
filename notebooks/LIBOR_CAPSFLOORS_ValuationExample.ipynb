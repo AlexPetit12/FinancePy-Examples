{
 "cells": [
  {
   "cell_type": "markdown",
   "metadata": {},
   "source": [
    "# Valuing Caps and Floors"
   ]
  },
  {
   "cell_type": "code",
   "execution_count": 32,
   "metadata": {},
   "outputs": [],
   "source": [
    "# This program is distributed in the hope that it will be useful, but WITHOUT\n",
    "# ANY WARRANTY; without even the implied warranty of MERCHANTABILITY or FITNESS\n",
    "# FOR A PARTICULAR PURPOSE.  See the FinancePy license for more details."
   ]
  },
  {
   "cell_type": "markdown",
   "metadata": {},
   "source": [
    "We value caps and floors using Black's model"
   ]
  },
  {
   "cell_type": "code",
   "execution_count": 33,
   "metadata": {},
   "outputs": [],
   "source": [
    "import numpy as np\n",
    "import matplotlib.pyplot as plt"
   ]
  },
  {
   "cell_type": "code",
   "execution_count": 34,
   "metadata": {},
   "outputs": [],
   "source": [
    "from financepy.finutils import *\n",
    "from financepy.products.libor import *\n",
    "from financepy.market.curves import *"
   ]
  },
  {
   "cell_type": "markdown",
   "metadata": {},
   "source": [
    "## Building a Libor Curve"
   ]
  },
  {
   "cell_type": "code",
   "execution_count": 35,
   "metadata": {},
   "outputs": [],
   "source": [
    "valuationDate = FinDate(6, 6, 2018)"
   ]
  },
  {
   "cell_type": "code",
   "execution_count": 36,
   "metadata": {},
   "outputs": [],
   "source": [
    "spotDays = 0\n",
    "settlementDate = valuationDate.addWorkDays(spotDays)\n",
    "depoDCCType = FinDayCountTypes.THIRTY_E_360_ISDA\n",
    "\n",
    "depos = []\n",
    "depo = FinLiborDeposit(settlementDate, \"1M\", 0.0230, depoDCCType); depos.append(depo)\n",
    "depo = FinLiborDeposit(settlementDate, \"2M\", 0.0230, depoDCCType); depos.append(depo)\n",
    "depo = FinLiborDeposit(settlementDate, \"3M\", 0.0230, depoDCCType); depos.append(depo)\n",
    "depo = FinLiborDeposit(settlementDate, \"6M\", 0.0230, depoDCCType); depos.append(depo)\n",
    "depo = FinLiborDeposit(settlementDate, \"9M\", 0.0230, depoDCCType); depos.append(depo)"
   ]
  },
  {
   "cell_type": "code",
   "execution_count": 37,
   "metadata": {},
   "outputs": [],
   "source": [
    "accrual = FinDayCountTypes.THIRTY_360\n",
    "freq = FinFrequencyTypes.SEMI_ANNUAL\n",
    "longEnd = FinDateGenRuleTypes.BACKWARD\n",
    "\n",
    "spotDays = 2\n",
    "settlementDate = valuationDate.addWorkDays(spotDays)\n",
    "\n",
    "swaps = []\n",
    "swap = FinLiborSwap(settlementDate, \"1Y\", 0.0250, freq, accrual); swaps.append(swap)\n",
    "swap = FinLiborSwap(settlementDate, \"2Y\", 0.0255, freq, accrual); swaps.append(swap)\n",
    "swap = FinLiborSwap(settlementDate, \"3Y\", 0.0260, freq, accrual); swaps.append(swap)\n",
    "swap = FinLiborSwap(settlementDate, \"4Y\", 0.0265, freq, accrual); swaps.append(swap)\n",
    "swap = FinLiborSwap(settlementDate, \"5Y\", 0.0270, freq, accrual); swaps.append(swap)"
   ]
  },
  {
   "cell_type": "code",
   "execution_count": 10,
   "metadata": {},
   "outputs": [],
   "source": [
    "liborCurve = FinLiborCurve(\"USD_LIBOR\", settlementDate, depos, [], swaps)"
   ]
  },
  {
   "cell_type": "markdown",
   "metadata": {},
   "source": [
    "## Creating a Cap and Floor"
   ]
  },
  {
   "cell_type": "code",
   "execution_count": 11,
   "metadata": {},
   "outputs": [],
   "source": [
    "capType = FinLiborCapFloorType.CAP\n",
    "floorType = FinLiborCapFloorType.FLOOR"
   ]
  },
  {
   "cell_type": "code",
   "execution_count": 12,
   "metadata": {},
   "outputs": [],
   "source": [
    "strikeRate = 0.02"
   ]
  },
  {
   "cell_type": "code",
   "execution_count": 13,
   "metadata": {},
   "outputs": [],
   "source": [
    "cap = FinLiborCapFloor(settlementDate, \"2Y\", capType, strikeRate)\n",
    "flr = FinLiborCapFloor(settlementDate, \"2Y\", floorType, strikeRate)"
   ]
  },
  {
   "cell_type": "code",
   "execution_count": 14,
   "metadata": {},
   "outputs": [
    {
     "name": "stdout",
     "output_type": "stream",
     "text": [
      "START DATE: FRI 8 JUN 2018\n",
      "MATURITY DATE: MON 8 JUN 2020\n",
      "STRIKE COUPON: 2.0\n",
      "OPTION TYPE: FinLiborCapFloorType.CAP\n",
      "FREQUENCY: FinFrequencyTypes.QUARTERLY\n",
      "DAY COUNT: FinDayCountTypes.THIRTY_E_360_ISDA\n"
     ]
    }
   ],
   "source": [
    "print(cap)"
   ]
  },
  {
   "cell_type": "code",
   "execution_count": 15,
   "metadata": {},
   "outputs": [
    {
     "name": "stdout",
     "output_type": "stream",
     "text": [
      "START DATE: FRI 8 JUN 2018\n",
      "MATURITY DATE: MON 8 JUN 2020\n",
      "STRIKE COUPON: 2.0\n",
      "OPTION TYPE: FinLiborCapFloorType.FLOOR\n",
      "FREQUENCY: FinFrequencyTypes.QUARTERLY\n",
      "DAY COUNT: FinDayCountTypes.THIRTY_E_360_ISDA\n"
     ]
    }
   ],
   "source": [
    "print(flr)"
   ]
  },
  {
   "cell_type": "markdown",
   "metadata": {},
   "source": [
    "## Valuation"
   ]
  },
  {
   "cell_type": "markdown",
   "metadata": {},
   "source": [
    "### Black's Model"
   ]
  },
  {
   "cell_type": "markdown",
   "metadata": {},
   "source": [
    "We start with Black's model with 25% volatility"
   ]
  },
  {
   "cell_type": "code",
   "execution_count": 16,
   "metadata": {},
   "outputs": [],
   "source": [
    "model = FinLiborModelBlack(0.25)"
   ]
  },
  {
   "cell_type": "code",
   "execution_count": 17,
   "metadata": {},
   "outputs": [
    {
     "data": {
      "text/plain": [
       "11374.986044088717"
      ]
     },
     "execution_count": 17,
     "metadata": {},
     "output_type": "execute_result"
    }
   ],
   "source": [
    "cap.value(valuationDate, liborCurve, model)"
   ]
  },
  {
   "cell_type": "code",
   "execution_count": 18,
   "metadata": {},
   "outputs": [
    {
     "data": {
      "text/plain": [
       "839.149738252386"
      ]
     },
     "execution_count": 18,
     "metadata": {},
     "output_type": "execute_result"
    }
   ],
   "source": [
    "flr.value(valuationDate, liborCurve, model)"
   ]
  },
  {
   "cell_type": "code",
   "execution_count": 19,
   "metadata": {},
   "outputs": [
    {
     "name": "stdout",
     "output_type": "stream",
     "text": [
      "START DATE: FRI 8 JUN 2018\n",
      "MATURITY DATE: MON 8 JUN 2020\n",
      "STRIKE COUPON: 2.0\n",
      "OPTION TYPE: FinLiborCapFloorType.CAP\n",
      "FREQUENCY: FinFrequencyTypes.QUARTERLY\n",
      "DAY COUNT: FinDayCountTypes.THIRTY_E_360_ISDA\n"
     ]
    }
   ],
   "source": [
    "cap.print()"
   ]
  },
  {
   "cell_type": "code",
   "execution_count": 20,
   "metadata": {},
   "outputs": [
    {
     "name": "stdout",
     "output_type": "stream",
     "text": [
      "START DATE: FRI 8 JUN 2018\n",
      "MATURITY DATE: MON 8 JUN 2020\n",
      "OPTION TYPE FinLiborCapFloorType.CAP\n",
      "STRIKE (%): 2.0\n",
      "FREQUENCY: FinFrequencyTypes.QUARTERLY\n",
      "DAY COUNT: FinDayCountTypes.THIRTY_E_360_ISDA\n",
      "VALUATION DATE WED 6 JUN 2018\n",
      "PAYMENT_DATE     YEAR_FRAC   FWD_RATE    INTRINSIC           DF    CAPLET_PV       CUM_PV\n",
      " FRI 8 JUN 2018  0.0000000    0.00000         0.00     1.000000         0.00         0.00\n",
      "MON 10 SEP 2018  0.2555556    2.34863       885.63     0.994034       885.63       885.63\n",
      "MON 10 DEC 2018  0.2500000    2.28739       710.13     0.988382       761.57      1647.21\n",
      " FRI 8 MAR 2019  0.2444444    2.28951       695.58     0.982881       814.74      2461.94\n",
      "MON 10 JUN 2019  0.2555556    3.03491      2579.49     0.975316      2593.31      5055.26\n",
      " MON 9 SEP 2019  0.2472222    2.60810      1456.85     0.969068      1559.08      6614.34\n",
      " MON 9 DEC 2019  0.2500000    2.57912      1394.03     0.962860      1545.36      8159.70\n",
      " MON 9 MAR 2020  0.2500000    2.57912      1385.10     0.956691      1574.50      9734.19\n",
      " MON 8 JUN 2020  0.2472222    2.60810      1429.03     0.950562      1640.79     11374.99\n"
     ]
    }
   ],
   "source": [
    "cap.printLeg()"
   ]
  },
  {
   "cell_type": "markdown",
   "metadata": {},
   "source": [
    "## SABR Model"
   ]
  },
  {
   "cell_type": "code",
   "execution_count": 24,
   "metadata": {},
   "outputs": [],
   "source": [
    "alpha = 0.037; beta = 0.5; rho  = 0.1; nu = 0.573"
   ]
  },
  {
   "cell_type": "code",
   "execution_count": 25,
   "metadata": {},
   "outputs": [],
   "source": [
    "model = FinLiborModelSABR(alpha, beta, rho, nu)"
   ]
  },
  {
   "cell_type": "code",
   "execution_count": 26,
   "metadata": {},
   "outputs": [
    {
     "data": {
      "text/plain": [
       "11477.597613794864"
      ]
     },
     "execution_count": 26,
     "metadata": {},
     "output_type": "execute_result"
    }
   ],
   "source": [
    "cap.value(valuationDate, liborCurve, model)"
   ]
  },
  {
   "cell_type": "code",
   "execution_count": 29,
   "metadata": {},
   "outputs": [
    {
     "data": {
      "text/plain": [
       "941.7613079585357"
      ]
     },
     "execution_count": 29,
     "metadata": {},
     "output_type": "execute_result"
    }
   ],
   "source": [
    "flr.value(valuationDate, liborCurve, model)"
   ]
  },
  {
   "cell_type": "code",
   "execution_count": 30,
   "metadata": {},
   "outputs": [
    {
     "name": "stdout",
     "output_type": "stream",
     "text": [
      "START DATE: FRI 8 JUN 2018\n",
      "MATURITY DATE: MON 8 JUN 2020\n",
      "OPTION TYPE FinLiborCapFloorType.FLOOR\n",
      "STRIKE (%): 2.0\n",
      "FREQUENCY: FinFrequencyTypes.QUARTERLY\n",
      "DAY COUNT: FinDayCountTypes.THIRTY_E_360_ISDA\n",
      "VALUATION DATE WED 6 JUN 2018\n",
      "PAYMENT_DATE     YEAR_FRAC   FWD_RATE    INTRINSIC           DF    FLRLET_PV       CUM_PV\n",
      " FRI 8 JUN 2018  0.0000000    0.00000         0.00     1.000000         0.00         0.00\n",
      "MON 10 SEP 2018  0.2555556    2.34863         0.00     0.994034         0.00         0.00\n",
      "MON 10 DEC 2018  0.2500000    2.28739         0.00     0.988382        54.55        54.55\n",
      " FRI 8 MAR 2019  0.2444444    2.28951         0.00     0.982881       126.65       181.20\n",
      "MON 10 JUN 2019  0.2555556    3.03491         0.00     0.975316        19.05       200.25\n",
      " MON 9 SEP 2019  0.2472222    2.60810         0.00     0.969068       114.45       314.70\n",
      " MON 9 DEC 2019  0.2500000    2.57912         0.00     0.962860       169.74       484.44\n",
      " MON 9 MAR 2020  0.2500000    2.57912         0.00     0.956691       214.26       698.70\n",
      " MON 8 JUN 2020  0.2472222    2.60810         0.00     0.950562       243.06       941.76\n"
     ]
    }
   ],
   "source": [
    "flr.printLeg()"
   ]
  },
  {
   "cell_type": "markdown",
   "metadata": {},
   "source": [
    "Copyright (c) 2020 Dominic O'Kane"
   ]
  },
  {
   "cell_type": "code",
   "execution_count": null,
   "metadata": {},
   "outputs": [],
   "source": []
  }
 ],
 "metadata": {
  "kernelspec": {
   "display_name": "Python 3",
   "language": "python",
   "name": "python3"
  },
  "language_info": {
   "codemirror_mode": {
    "name": "ipython",
    "version": 3
   },
   "file_extension": ".py",
   "mimetype": "text/x-python",
   "name": "python",
   "nbconvert_exporter": "python",
   "pygments_lexer": "ipython3",
   "version": "3.7.7"
  }
 },
 "nbformat": 4,
 "nbformat_minor": 4
}
