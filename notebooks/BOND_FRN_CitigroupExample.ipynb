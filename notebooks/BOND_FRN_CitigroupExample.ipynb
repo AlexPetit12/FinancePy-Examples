{
 "cells": [
  {
   "cell_type": "markdown",
   "metadata": {},
   "source": [
    "# CITIGROUP FLOATING RATE NOTE ANALYSIS"
   ]
  },
  {
   "cell_type": "markdown",
   "metadata": {},
   "source": [
    "This is an analysis of floating rate notes. "
   ]
  },
  {
   "cell_type": "markdown",
   "metadata": {},
   "source": [
    "Based on an example of a Citigroup FRN from https://data.bloomberglp.com/bat/sites/3/2017/07/SF-2017_Paul-Fjeldsted.pdf"
   ]
  },
  {
   "cell_type": "code",
   "execution_count": 1,
   "metadata": {},
   "outputs": [],
   "source": [
    "import numpy as np\n",
    "import matplotlib.pyplot as plt"
   ]
  },
  {
   "cell_type": "code",
   "execution_count": 2,
   "metadata": {},
   "outputs": [
    {
     "name": "stdout",
     "output_type": "stream",
     "text": [
      "###################################################################\n",
      "# FINANCEPY BETA Version 0.180 - This build: 22 Sep 2020 at 19:38 #\n",
      "#     This software is distributed FREE & WITHOUT ANY WARRANTY    #\n",
      "# For info and disclaimer - https://github.com/domokane/FinancePy #\n",
      "###################################################################\n",
      "\n"
     ]
    }
   ],
   "source": [
    "from financepy.products.libor import *\n",
    "from financepy.products.bonds import *\n",
    "from financepy.finutils import *"
   ]
  },
  {
   "cell_type": "markdown",
   "metadata": {},
   "source": [
    "## Define the Details of the FRN"
   ]
  },
  {
   "cell_type": "code",
   "execution_count": 3,
   "metadata": {},
   "outputs": [],
   "source": [
    "maturityDate = FinDate(10, 11, 2021)\n",
    "quotedMargin = 0.0025\n",
    "freqType = FinFrequencyTypes.QUARTERLY\n",
    "accrualType = FinDayCountTypes.THIRTY_360_BOND\n",
    "face = ONE_MILLION"
   ]
  },
  {
   "cell_type": "code",
   "execution_count": 4,
   "metadata": {},
   "outputs": [],
   "source": [
    "bond = FinBondFRN(maturityDate, quotedMargin, freqType, accrualType, face)"
   ]
  },
  {
   "cell_type": "code",
   "execution_count": 5,
   "metadata": {},
   "outputs": [
    {
     "name": "stdout",
     "output_type": "stream",
     "text": [
      "OBJECT TYPE: FinBondFRN\n",
      "MATURITY DATE: WED 10 NOV 2021\n",
      "QUOTED MARGIN (bp): 25.0\n",
      "FREQUENCY: FinFrequencyTypes.QUARTERLY\n",
      "ACCRUAL TYPE: FinDayCountTypes.THIRTY_360_BOND\n",
      "FACE AMOUNT: 1000000\n",
      "\n"
     ]
    }
   ],
   "source": [
    "print(bond)"
   ]
  },
  {
   "cell_type": "code",
   "execution_count": 5,
   "metadata": {},
   "outputs": [],
   "source": [
    "settlementDate = FinDate(21, 7, 2017)"
   ]
  },
  {
   "cell_type": "code",
   "execution_count": 6,
   "metadata": {},
   "outputs": [
    {
     "name": "stdout",
     "output_type": "stream",
     "text": [
      "THU 10 AUG 2017\n",
      "FRI 10 NOV 2017\n",
      "SAT 10 FEB 2018\n",
      "THU 10 MAY 2018\n",
      "FRI 10 AUG 2018\n",
      "SAT 10 NOV 2018\n",
      "SUN 10 FEB 2019\n",
      "FRI 10 MAY 2019\n",
      "SAT 10 AUG 2019\n",
      "SUN 10 NOV 2019\n",
      "MON 10 FEB 2020\n",
      "SUN 10 MAY 2020\n",
      "MON 10 AUG 2020\n",
      "TUE 10 NOV 2020\n",
      "WED 10 FEB 2021\n",
      "MON 10 MAY 2021\n",
      "TUE 10 AUG 2021\n",
      "WED 10 NOV 2021\n"
     ]
    }
   ],
   "source": [
    "bond.printFlows(settlementDate)"
   ]
  },
  {
   "cell_type": "markdown",
   "metadata": {},
   "source": [
    "## Analysis"
   ]
  },
  {
   "cell_type": "markdown",
   "metadata": {},
   "source": [
    "The simplest analysis of an FRN considers 3 Libor rates"
   ]
  },
  {
   "cell_type": "code",
   "execution_count": 7,
   "metadata": {},
   "outputs": [],
   "source": [
    "resetLibor = 0.0143456 - quotedMargin\n",
    "currentLibor = 0.0120534\n",
    "futureLibors = 0.0130522"
   ]
  },
  {
   "cell_type": "code",
   "execution_count": 8,
   "metadata": {},
   "outputs": [],
   "source": [
    "cleanPrice = 96.793"
   ]
  },
  {
   "cell_type": "code",
   "execution_count": 9,
   "metadata": {},
   "outputs": [
    {
     "name": "stdout",
     "output_type": "stream",
     "text": [
      "DISCOUNT MARGIN:  103.5319 bps\n"
     ]
    }
   ],
   "source": [
    "dm = bond.discountMargin(settlementDate, resetLibor, currentLibor, futureLibors, cleanPrice)\n",
    "print(\"DISCOUNT MARGIN: %9.4f bps\"% (dm*10000))"
   ]
  },
  {
   "cell_type": "code",
   "execution_count": 10,
   "metadata": {},
   "outputs": [
    {
     "name": "stdout",
     "output_type": "stream",
     "text": [
      "FULL PRICE FROM DM:    97.075927 \n"
     ]
    }
   ],
   "source": [
    "fullPrice = bond.fullPriceFromDM(settlementDate, resetLibor, currentLibor, futureLibors, dm)\n",
    "print(\"FULL PRICE FROM DM: %12.6f \"% fullPrice)"
   ]
  },
  {
   "cell_type": "code",
   "execution_count": 12,
   "metadata": {},
   "outputs": [
    {
     "name": "stdout",
     "output_type": "stream",
     "text": [
      "Previous Coupon Date: WED 10 MAY 2017\n"
     ]
    }
   ],
   "source": [
    "prevCouponDt = bond._pcd\n",
    "print(\"Previous Coupon Date: %s\"% str(prevCouponDt))"
   ]
  },
  {
   "cell_type": "code",
   "execution_count": 13,
   "metadata": {},
   "outputs": [
    {
     "name": "stdout",
     "output_type": "stream",
     "text": [
      "Accrued Days:  71.00000\n"
     ]
    }
   ],
   "source": [
    "accddays = bond._accruedDays\n",
    "print(\"Accrued Days: %9.5f\"% accddays)"
   ]
  },
  {
   "cell_type": "code",
   "execution_count": 14,
   "metadata": {},
   "outputs": [
    {
     "name": "stdout",
     "output_type": "stream",
     "text": [
      "PRINCIPAL FROM DM: 967930.000000 \n"
     ]
    }
   ],
   "source": [
    "principal = bond.principal(settlementDate, resetLibor, currentLibor, futureLibors, dm)\n",
    "print(\"PRINCIPAL FROM DM: %12.6f \"% principal)"
   ]
  },
  {
   "cell_type": "code",
   "execution_count": 15,
   "metadata": {},
   "outputs": [
    {
     "name": "stdout",
     "output_type": "stream",
     "text": [
      "Accrued Amount:   2829.27\n"
     ]
    }
   ],
   "source": [
    "accdAmount = bond._accruedInterest\n",
    "print(\"Accrued Amount: %9.2f\"% accdAmount)"
   ]
  },
  {
   "cell_type": "code",
   "execution_count": 16,
   "metadata": {},
   "outputs": [
    {
     "data": {
      "text/plain": [
       "2829.271111111111"
      ]
     },
     "execution_count": 16,
     "metadata": {},
     "output_type": "execute_result"
    }
   ],
   "source": [
    "bond._accruedInterest"
   ]
  },
  {
   "cell_type": "markdown",
   "metadata": {},
   "source": [
    "## Determine the Rate Duration and Convexity"
   ]
  },
  {
   "cell_type": "code",
   "execution_count": 17,
   "metadata": {},
   "outputs": [
    {
     "name": "stdout",
     "output_type": "stream",
     "text": [
      "Dollar Duration:   5.09484\n"
     ]
    }
   ],
   "source": [
    "duration = bond.dollarRateDuration(settlementDate, resetLibor, currentLibor, futureLibors, dm)\n",
    "print(\"Dollar Duration: %9.5f\" % duration)"
   ]
  },
  {
   "cell_type": "code",
   "execution_count": 18,
   "metadata": {},
   "outputs": [
    {
     "name": "stdout",
     "output_type": "stream",
     "text": [
      "Modified Duration:   0.05248\n"
     ]
    }
   ],
   "source": [
    "modifiedDuration = bond.modifiedRateDuration(settlementDate, resetLibor, currentLibor, futureLibors, dm)\n",
    "print(\"Modified Duration: %9.5f\" % modifiedDuration)"
   ]
  },
  {
   "cell_type": "code",
   "execution_count": 19,
   "metadata": {},
   "outputs": [
    {
     "name": "stdout",
     "output_type": "stream",
     "text": [
      "Macauley Duration:   0.05277\n"
     ]
    }
   ],
   "source": [
    "macauleyDuration = bond.macauleyRateDuration(settlementDate, resetLibor, currentLibor, futureLibors, dm)\n",
    "print(\"Macauley Duration: %9.5f\" % macauleyDuration)"
   ]
  },
  {
   "cell_type": "code",
   "execution_count": 21,
   "metadata": {},
   "outputs": [
    {
     "name": "stdout",
     "output_type": "stream",
     "text": [
      "The Value output has not been confirmed\n",
      "Convexity:   0.00016\n"
     ]
    }
   ],
   "source": [
    "convexity = bond.convexityFromDM(settlementDate, resetLibor, currentLibor, futureLibors, dm)\n",
    "print(\"Convexity: %9.5f\" % convexity)"
   ]
  },
  {
   "cell_type": "markdown",
   "metadata": {},
   "source": [
    "## Determine the Credit Duration and Convexity"
   ]
  },
  {
   "cell_type": "code",
   "execution_count": null,
   "metadata": {},
   "outputs": [],
   "source": [
    "duration = bond.dollarCreditDuration(settlementDate, resetLibor, currentLibor, futureLibors, dm)\n",
    "print(\"Dollar Credit Duration: %9.5f\" % duration)"
   ]
  },
  {
   "cell_type": "code",
   "execution_count": null,
   "metadata": {},
   "outputs": [],
   "source": [
    "modifiedDuration = bond.modifiedCreditDuration(settlementDate, resetLibor, currentLibor, futureLibors, dm)\n",
    "print(\"Modified Credit Duration: %9.5f\" % modifiedDuration)"
   ]
  },
  {
   "cell_type": "markdown",
   "metadata": {},
   "source": [
    "Copyright (c) 2020 Dominic O'Kane"
   ]
  }
 ],
 "metadata": {
  "kernelspec": {
   "display_name": "Python 3",
   "language": "python",
   "name": "python3"
  },
  "language_info": {
   "codemirror_mode": {
    "name": "ipython",
    "version": 3
   },
   "file_extension": ".py",
   "mimetype": "text/x-python",
   "name": "python",
   "nbconvert_exporter": "python",
   "pygments_lexer": "ipython3",
   "version": "3.7.6"
  }
 },
 "nbformat": 4,
 "nbformat_minor": 2
}
