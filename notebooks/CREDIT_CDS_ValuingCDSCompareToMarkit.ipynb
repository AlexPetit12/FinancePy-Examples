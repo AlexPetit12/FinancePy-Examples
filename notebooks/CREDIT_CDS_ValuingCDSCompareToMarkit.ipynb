{
 "cells": [
  {
   "cell_type": "markdown",
   "metadata": {},
   "source": [
    "# Creating and Valuing a CDS Contract vs Markit"
   ]
  },
  {
   "cell_type": "markdown",
   "metadata": {},
   "source": [
    "Example CDS Valuation and comparison with market standard ISDA model on Markit website"
   ]
  },
  {
   "cell_type": "code",
   "execution_count": 1,
   "metadata": {},
   "outputs": [],
   "source": [
    "import numpy as np\n",
    "import matplotlib.pyplot as plt"
   ]
  },
  {
   "cell_type": "code",
   "execution_count": 5,
   "metadata": {},
   "outputs": [],
   "source": [
    "from financepy.finutils.FinDate import FinDate\n",
    "from financepy.finutils.FinDayCount import FinDayCountTypes\n",
    "from financepy.finutils.FinFrequency import FinFrequencyTypes\n",
    "from financepy.finutils.FinMath import ONE_MILLION\n",
    "from financepy.products.libor.FinLiborDeposit import FinLiborDeposit\n",
    "from financepy.products.libor.FinLiborSwap import FinLiborSwap\n",
    "from financepy.products.libor.FinLiborCurve import FinLiborCurve\n",
    "from financepy.products.credit.FinCDS import FinCDS\n",
    "from financepy.products.credit.FinCDSCurve import FinCDSCurve"
   ]
  },
  {
   "cell_type": "markdown",
   "metadata": {},
   "source": [
    "## Creating a CDS Contract"
   ]
  },
  {
   "cell_type": "markdown",
   "metadata": {},
   "source": [
    "This based on an example from Markit's CDS calculator website https://www.markit.com/markit.jsp?jsppage=pv.jsp"
   ]
  },
  {
   "cell_type": "code",
   "execution_count": 6,
   "metadata": {},
   "outputs": [],
   "source": [
    "tradeDate = FinDate(21, 11, 2019)\n",
    "settlementDate = tradeDate.addDays(1)\n",
    "maturityDate = FinDate(20, 12, 2024)\n",
    "cdsCoupon = 0.050\n",
    "notional = ONE_MILLION\n",
    "longProtection = True\n",
    "tradeDate = FinDate(2019, 8, 9)"
   ]
  },
  {
   "cell_type": "code",
   "execution_count": 7,
   "metadata": {},
   "outputs": [],
   "source": [
    "cdsContract = FinCDS(settlementDate, maturityDate, cdsCoupon, notional, longProtection)"
   ]
  },
  {
   "cell_type": "code",
   "execution_count": 9,
   "metadata": {},
   "outputs": [
    {
     "name": "stdout",
     "output_type": "stream",
     "text": [
      "OBJECT TYPE: FinCDS\n",
      "STEP-IN DATE: FRI 22 NOV 2019\n",
      "MATURITY: FRI 20 DEC 2024\n",
      "NOTIONAL: 1000000\n",
      "RUNNING COUPON: 500.0bp\n",
      "DAYCOUNT: FinDayCountTypes.ACT_360\n",
      "FREQUENCY: FinFrequencyTypes.QUARTERLY\n",
      "CALENDAR: FinCalendarTypes.WEEKEND\n",
      "BUSDAYRULE: FinBusDayAdjustTypes.FOLLOWING\n",
      "DATEGENRULE: FinDateGenRuleTypes.BACKWARD\n",
      "ACCRUED DAYS: 63\n",
      "PAYMENT_DATE, YEAR_FRAC, FLOW\n",
      "FRI 20 SEP 2019,     0.000000,     0.000000\n",
      "FRI 20 DEC 2019,     0.252778, 12638.888889\n",
      "FRI 20 MAR 2020,     0.252778, 12638.888889\n",
      "MON 22 JUN 2020,     0.261111, 13055.555556\n",
      "MON 21 SEP 2020,     0.252778, 12638.888889\n",
      "MON 21 DEC 2020,     0.252778, 12638.888889\n",
      "MON 22 MAR 2021,     0.252778, 12638.888889\n",
      "MON 21 JUN 2021,     0.252778, 12638.888889\n",
      "MON 20 SEP 2021,     0.252778, 12638.888889\n",
      "MON 20 DEC 2021,     0.252778, 12638.888889\n",
      "MON 21 MAR 2022,     0.252778, 12638.888889\n",
      "MON 20 JUN 2022,     0.252778, 12638.888889\n",
      "TUE 20 SEP 2022,     0.255556, 12777.777778\n",
      "TUE 20 DEC 2022,     0.252778, 12638.888889\n",
      "MON 20 MAR 2023,     0.250000, 12500.000000\n",
      "TUE 20 JUN 2023,     0.255556, 12777.777778\n",
      "WED 20 SEP 2023,     0.255556, 12777.777778\n",
      "WED 20 DEC 2023,     0.252778, 12638.888889\n",
      "WED 20 MAR 2024,     0.252778, 12638.888889\n",
      "THU 20 JUN 2024,     0.255556, 12777.777778\n",
      "FRI 20 SEP 2024,     0.255556, 12777.777778\n",
      "SAT 21 DEC 2024,     0.255556, 12777.777778\n"
     ]
    }
   ],
   "source": [
    "print(cdsContract)"
   ]
  },
  {
   "cell_type": "markdown",
   "metadata": {},
   "source": [
    "## Build Libor Curve"
   ]
  },
  {
   "cell_type": "code",
   "execution_count": 11,
   "metadata": {},
   "outputs": [],
   "source": [
    "dcType = FinDayCountTypes.ACT_360\n",
    "depo1 = FinLiborDeposit(settlementDate, \"1M\", 0.017156, dcType)\n",
    "depo2 = FinLiborDeposit(settlementDate, \"2M\", 0.018335, dcType)\n",
    "depo3 = FinLiborDeposit(settlementDate, \"3M\", 0.018988, dcType)\n",
    "depo4 = FinLiborDeposit(settlementDate, \"6M\", 0.018911, dcType)\n",
    "depo5 = FinLiborDeposit(settlementDate, \"12M\", 0.019093, dcType)\n",
    "depos = [depo1,depo2,depo3,depo4,depo5]\n",
    "\n",
    "dcType = FinDayCountTypes.THIRTY_E_360_ISDA\n",
    "fixedFreq = FinFrequencyTypes.SEMI_ANNUAL\n",
    "swap1 = FinLiborSwap(settlementDate,\"2Y\",0.015630,fixedFreq,dcType)\n",
    "swap2 = FinLiborSwap(settlementDate,\"3Y\",0.015140,fixedFreq,dcType)\n",
    "swap3 = FinLiborSwap(settlementDate,\"4Y\",0.015065,fixedFreq,dcType)\n",
    "swap4 = FinLiborSwap(settlementDate,\"5Y\",0.015140,fixedFreq,dcType)\n",
    "swap5 = FinLiborSwap(settlementDate,\"6Y\",0.015270,fixedFreq,dcType)\n",
    "swap6 = FinLiborSwap(settlementDate,\"7Y\",0.015470,fixedFreq,dcType)\n",
    "swap7 = FinLiborSwap(settlementDate,\"8Y\",0.015720,fixedFreq,dcType)\n",
    "swap8 = FinLiborSwap(settlementDate,\"9Y\",0.016000,fixedFreq,dcType)\n",
    "swap9 = FinLiborSwap(settlementDate,\"10Y\",0.016285,fixedFreq,dcType)\n",
    "swap10 = FinLiborSwap(settlementDate,\"12Y\",0.01670,fixedFreq,dcType)\n",
    "swaps = [swap1,swap2,swap3,swap4,swap5,swap6,swap7,swap8,swap9,swap10]\n",
    "\n",
    "liborCurve = FinLiborCurve(settlementDate, depos, [], swaps)"
   ]
  },
  {
   "cell_type": "markdown",
   "metadata": {},
   "source": [
    "# Build a CDS Curve"
   ]
  },
  {
   "cell_type": "code",
   "execution_count": 12,
   "metadata": {},
   "outputs": [],
   "source": [
    "cdsFlatSpread = 0.0100"
   ]
  },
  {
   "cell_type": "code",
   "execution_count": 13,
   "metadata": {},
   "outputs": [],
   "source": [
    "cds1 = FinCDS(settlementDate, \"1Y\", cdsFlatSpread)\n",
    "cds2 = FinCDS(settlementDate, \"2Y\", cdsFlatSpread)\n",
    "cds3 = FinCDS(settlementDate, \"3Y\", cdsFlatSpread)\n",
    "cds4 = FinCDS(settlementDate, \"4Y\", cdsFlatSpread)\n",
    "cds5 = FinCDS(settlementDate, \"5Y\", cdsFlatSpread)\n",
    "cds6 = FinCDS(settlementDate, \"7Y\", cdsFlatSpread)\n",
    "cds7 = FinCDS(settlementDate, \"10Y\", cdsFlatSpread)\n",
    "cds8 = FinCDS(settlementDate, \"15Y\", cdsFlatSpread)"
   ]
  },
  {
   "cell_type": "code",
   "execution_count": 14,
   "metadata": {},
   "outputs": [],
   "source": [
    "cdss = [cds1, cds2, cds3, cds4, cds5, cds6, cds7, cds8]"
   ]
  },
  {
   "cell_type": "code",
   "execution_count": 15,
   "metadata": {},
   "outputs": [],
   "source": [
    "recoveryRate = 0.40"
   ]
  },
  {
   "cell_type": "code",
   "execution_count": 16,
   "metadata": {},
   "outputs": [],
   "source": [
    "issuerCurve = FinCDSCurve(settlementDate, cdss, liborCurve, recoveryRate)"
   ]
  },
  {
   "cell_type": "markdown",
   "metadata": {},
   "source": [
    "# Valuation Results"
   ]
  },
  {
   "cell_type": "code",
   "execution_count": 17,
   "metadata": {},
   "outputs": [
    {
     "name": "stdout",
     "output_type": "stream",
     "text": [
      "FAIR CDS SPREAD  100.00000 bp\n"
     ]
    }
   ],
   "source": [
    "spd = cdsContract.parSpread(settlementDate, issuerCurve, recoveryRate) * 10000.0\n",
    "print(\"FAIR CDS SPREAD %10.5f bp\"% spd)"
   ]
  },
  {
   "cell_type": "code",
   "execution_count": 18,
   "metadata": {},
   "outputs": [
    {
     "name": "stdout",
     "output_type": "stream",
     "text": [
      "FULL VALUE    -198583.98\n",
      "CLEAN VALUE   -189833.98\n"
     ]
    }
   ],
   "source": [
    "v = cdsContract.value(settlementDate, issuerCurve, recoveryRate)\n",
    "full_pv = v['full_pv']\n",
    "clean_pv = v['clean_pv']\n",
    "\n",
    "print(\"FULL VALUE  %12.2f\"% full_pv)\n",
    "print(\"CLEAN VALUE %12.2f\"% clean_pv)"
   ]
  },
  {
   "cell_type": "markdown",
   "metadata": {},
   "source": [
    "MARKIT CALCULATE -198,551 for the FULL VALUE"
   ]
  },
  {
   "cell_type": "code",
   "execution_count": 19,
   "metadata": {},
   "outputs": [
    {
     "name": "stdout",
     "output_type": "stream",
     "text": [
      "CLEAN PRICE   118.983359\n"
     ]
    }
   ],
   "source": [
    "cleanp = cdsContract.cleanPrice(settlementDate, issuerCurve, recoveryRate)\n",
    "print(\"CLEAN PRICE %12.6f\"% cleanp)"
   ]
  },
  {
   "cell_type": "markdown",
   "metadata": {},
   "source": [
    "MARKIT CALCULATE 118.98%"
   ]
  },
  {
   "cell_type": "code",
   "execution_count": 20,
   "metadata": {},
   "outputs": [
    {
     "name": "stdout",
     "output_type": "stream",
     "text": [
      "ACCRUED_DAYS 63\n"
     ]
    }
   ],
   "source": [
    "accruedDays = cdsContract.accruedDays()\n",
    "print(\"ACCRUED_DAYS\", accruedDays)"
   ]
  },
  {
   "cell_type": "markdown",
   "metadata": {},
   "source": [
    "MARKIT CALCULATE 63"
   ]
  },
  {
   "cell_type": "code",
   "execution_count": 21,
   "metadata": {},
   "outputs": [
    {
     "name": "stdout",
     "output_type": "stream",
     "text": [
      "ACCRUED_COUPON -8750.0\n"
     ]
    }
   ],
   "source": [
    "accruedInterest = cdsContract.accruedInterest()\n",
    "print(\"ACCRUED_COUPON\", accruedInterest)"
   ]
  },
  {
   "cell_type": "markdown",
   "metadata": {},
   "source": [
    "MARKIT CALCULATE 8750"
   ]
  },
  {
   "cell_type": "code",
   "execution_count": 22,
   "metadata": {},
   "outputs": [
    {
     "name": "stdout",
     "output_type": "stream",
     "text": [
      "PROTECTION_PV 47458.49444861145\n"
     ]
    }
   ],
   "source": [
    "protPV = cdsContract.protectionLegPV(settlementDate, issuerCurve, recoveryRate)\n",
    "print(\"PROTECTION_PV\", protPV)"
   ]
  },
  {
   "cell_type": "code",
   "execution_count": 23,
   "metadata": {},
   "outputs": [
    {
     "name": "stdout",
     "output_type": "stream",
     "text": [
      "PREMIUM_PV 246042.4723781413\n"
     ]
    }
   ],
   "source": [
    "premPV = cdsContract.premiumLegPV(settlementDate, issuerCurve, recoveryRate)\n",
    "print(\"PREMIUM_PV\", premPV)"
   ]
  },
  {
   "cell_type": "markdown",
   "metadata": {},
   "source": [
    "## Risk Measures"
   ]
  },
  {
   "cell_type": "code",
   "execution_count": 24,
   "metadata": {},
   "outputs": [
    {
     "name": "stdout",
     "output_type": "stream",
     "text": [
      "Credit DV01        553.63\n"
     ]
    }
   ],
   "source": [
    "creditDV01 = cdsContract.creditDV01(settlementDate, issuerCurve, recoveryRate)\n",
    "print(\"Credit DV01  %12.2f\"% creditDV01)"
   ]
  },
  {
   "cell_type": "markdown",
   "metadata": {},
   "source": [
    "MARKIT FOUND 554"
   ]
  },
  {
   "cell_type": "code",
   "execution_count": 25,
   "metadata": {},
   "outputs": [
    {
     "name": "stdout",
     "output_type": "stream",
     "text": [
      "Interest DV01         48.82\n"
     ]
    }
   ],
   "source": [
    "interestDV01 = cdsContract.interestDV01(settlementDate, issuerCurve, recoveryRate)\n",
    "print(\"Interest DV01  %12.2f\"% interestDV01)"
   ]
  },
  {
   "cell_type": "markdown",
   "metadata": {},
   "source": [
    "MARKIT FOUND 49"
   ]
  },
  {
   "cell_type": "markdown",
   "metadata": {},
   "source": [
    "## Full Analysis "
   ]
  },
  {
   "cell_type": "code",
   "execution_count": 26,
   "metadata": {},
   "outputs": [
    {
     "name": "stdout",
     "output_type": "stream",
     "text": [
      "PAYMENT_DATE      YEAR_FRAC      FLOW           DF       SURV_PROB      NPV\n",
      "FRI 20 DEC 2019   0.252778     12638.89     0.998668     0.998704     12605.69\n",
      "FRI 20 MAR 2020   0.252778     12638.89     0.993776     0.994505     12491.20\n",
      "MON 22 JUN 2020   0.261111     13055.56     0.988911     0.990186     12784.08\n",
      "MON 21 SEP 2020   0.252778     12638.89     0.984174     0.986023     12265.00\n",
      "MON 21 DEC 2020   0.252778     12638.89     0.980286     0.981877     12165.18\n",
      "MON 22 MAR 2021   0.252778     12638.89     0.978268     0.977756     12089.19\n",
      "MON 21 JUN 2021   0.252778     12638.89     0.975718     0.973652     12007.06\n",
      "MON 20 SEP 2021   0.252778     12638.89     0.971969     0.969565     11910.73\n",
      "MON 20 DEC 2021   0.252778     12638.89     0.968307     0.965496     11816.05\n",
      "MON 21 MAR 2022   0.252778     12638.89     0.964822     0.961444     11724.11\n",
      "MON 20 JUN 2022   0.252778     12638.89     0.961404     0.957409     11633.56\n",
      "TUE 20 SEP 2022   0.255556     12777.78     0.958086     0.953348     11671.09\n",
      "TUE 20 DEC 2022   0.252778     12638.89     0.954726     0.949347     11455.46\n",
      "MON 20 MAR 2023   0.250000     12500.00     0.951215     0.945407     11241.07\n",
      "TUE 20 JUN 2023   0.255556     12777.78     0.947664     0.941397     11399.40\n",
      "WED 20 SEP 2023   0.255556     12777.78     0.944178     0.937403     11309.30\n",
      "WED 20 DEC 2023   0.252778     12638.89     0.940688     0.933470     11098.25\n",
      "WED 20 MAR 2024   0.252778     12638.89     0.937084     0.929553     11009.35\n",
      "THU 20 JUN 2024   0.255556     12777.78     0.933462     0.925610     11040.27\n",
      "FRI 20 SEP 2024   0.255556     12777.78     0.929867     0.921683     10951.11\n",
      "SAT 21 DEC 2024   0.255556     12777.78     0.926240     0.917773     10862.11\n"
     ]
    }
   ],
   "source": [
    "cdsContract.printFlows(issuerCurve)"
   ]
  }
 ],
 "metadata": {
  "kernelspec": {
   "display_name": "Python 3",
   "language": "python",
   "name": "python3"
  },
  "language_info": {
   "codemirror_mode": {
    "name": "ipython",
    "version": 3
   },
   "file_extension": ".py",
   "mimetype": "text/x-python",
   "name": "python",
   "nbconvert_exporter": "python",
   "pygments_lexer": "ipython3",
   "version": "3.7.6"
  }
 },
 "nbformat": 4,
 "nbformat_minor": 2
}
