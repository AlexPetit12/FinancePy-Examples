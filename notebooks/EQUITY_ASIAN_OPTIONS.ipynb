{
 "cells": [
  {
   "cell_type": "markdown",
   "metadata": {},
   "source": [
    "# EQUITY ASIAN OPTIONS - VALUATION ANALYSIS"
   ]
  },
  {
   "cell_type": "markdown",
   "metadata": {},
   "source": [
    "Valuation and Risk of Asian-style options. Detailed analysis of different valuation models."
   ]
  },
  {
   "cell_type": "code",
   "execution_count": 1,
   "metadata": {},
   "outputs": [],
   "source": [
    "import numpy as np\n",
    "import matplotlib.pyplot as plt"
   ]
  },
  {
   "cell_type": "code",
   "execution_count": 24,
   "metadata": {},
   "outputs": [],
   "source": [
    "from financepy.finutils import *\n",
    "from financepy.market.curves.FinDiscountCurveFlat import *\n",
    "from financepy.products.equity.FinEquityAsianOption import *\n",
    "from financepy.market.curves.FinDiscountCurveFlat import *\n",
    "from financepy.products.equity.FinEquityModelTypes import FinEquityModelBlackScholes"
   ]
  },
  {
   "cell_type": "markdown",
   "metadata": {},
   "source": [
    "# Define the Call and Put Options"
   ]
  },
  {
   "cell_type": "code",
   "execution_count": 25,
   "metadata": {},
   "outputs": [],
   "source": [
    "startAveragingDate = FinDate(1, 1, 2020)"
   ]
  },
  {
   "cell_type": "code",
   "execution_count": 26,
   "metadata": {},
   "outputs": [],
   "source": [
    "expiryDate = FinDate(1, 1, 2021)"
   ]
  },
  {
   "cell_type": "code",
   "execution_count": 27,
   "metadata": {},
   "outputs": [],
   "source": [
    "strikePrice = 100.0"
   ]
  },
  {
   "cell_type": "markdown",
   "metadata": {},
   "source": [
    "Assume daily observations"
   ]
  },
  {
   "cell_type": "code",
   "execution_count": 28,
   "metadata": {},
   "outputs": [],
   "source": [
    "numObservations = (expiryDate - startAveragingDate)"
   ]
  },
  {
   "cell_type": "code",
   "execution_count": 29,
   "metadata": {},
   "outputs": [],
   "source": [
    "asianOption = FinEquityAsianOption(startAveragingDate, \n",
    "                                   expiryDate, \n",
    "                                   strikePrice, \n",
    "                                   FinOptionTypes.EUROPEAN_CALL, \n",
    "                                   numObservations)"
   ]
  },
  {
   "cell_type": "code",
   "execution_count": 30,
   "metadata": {},
   "outputs": [
    {
     "name": "stdout",
     "output_type": "stream",
     "text": [
      "START AVERAGING DATE: WED 1 JAN 2020\n",
      "EXPIRY DATE: FRI 1 JAN 2021\n",
      "STRIKE PRICE: 100.0\n",
      "OPTION TYPE: FinOptionTypes.EUROPEAN_CALL\n",
      "NUM OBSERVATIONS: 366\n"
     ]
    }
   ],
   "source": [
    "print(asianOption)"
   ]
  },
  {
   "cell_type": "markdown",
   "metadata": {},
   "source": [
    "## Valuation - Before Averaging Period"
   ]
  },
  {
   "cell_type": "code",
   "execution_count": 31,
   "metadata": {},
   "outputs": [],
   "source": [
    "valueDate = FinDate(1,1,2019)"
   ]
  },
  {
   "cell_type": "code",
   "execution_count": 32,
   "metadata": {},
   "outputs": [],
   "source": [
    "stockPrice = 100.0\n",
    "volatility = 0.20\n",
    "interestRate = 0.05\n",
    "dividendYield = 0.01"
   ]
  },
  {
   "cell_type": "code",
   "execution_count": 33,
   "metadata": {},
   "outputs": [],
   "source": [
    "discountCurve = FinDiscountCurveFlat(valueDate, interestRate)"
   ]
  },
  {
   "cell_type": "code",
   "execution_count": 34,
   "metadata": {},
   "outputs": [
    {
     "data": {
      "text/plain": [
       "366"
      ]
     },
     "execution_count": 34,
     "metadata": {},
     "output_type": "execute_result"
    }
   ],
   "source": [
    "numObservations"
   ]
  },
  {
   "cell_type": "code",
   "execution_count": 35,
   "metadata": {},
   "outputs": [],
   "source": [
    "model = FinEquityModelBlackScholes(volatility)\n",
    "seed = 42\n",
    "accruedAverage = None"
   ]
  },
  {
   "cell_type": "markdown",
   "metadata": {},
   "source": [
    "There are a number of valuation approximations to the arithmetic average (AA) option (which does not have an analytical solution)"
   ]
  },
  {
   "cell_type": "markdown",
   "metadata": {},
   "source": [
    "First we have the Geometric Average (GA) price. This is not the same product of course but the GA is a good approximation for the AA."
   ]
  },
  {
   "cell_type": "code",
   "execution_count": 36,
   "metadata": {},
   "outputs": [],
   "source": [
    "v_g = asianOption.value(valueDate, stockPrice, discountCurve, dividendYield, model, \n",
    "                  FinAsianOptionValuationMethods.GEOMETRIC, accruedAverage)"
   ]
  },
  {
   "cell_type": "markdown",
   "metadata": {},
   "source": [
    "Then we have Curran's approximation"
   ]
  },
  {
   "cell_type": "code",
   "execution_count": 37,
   "metadata": {},
   "outputs": [],
   "source": [
    "v_c = asianOption.value(valueDate, stockPrice, discountCurve, dividendYield, model, \n",
    "                  FinAsianOptionValuationMethods.CURRAN, accruedAverage)"
   ]
  },
  {
   "cell_type": "markdown",
   "metadata": {},
   "source": [
    "There is also Turnbull and Wakeman's approximation"
   ]
  },
  {
   "cell_type": "code",
   "execution_count": 38,
   "metadata": {},
   "outputs": [],
   "source": [
    "v_tw = asianOption.value(valueDate, stockPrice, discountCurve, dividendYield, model, \n",
    "                  FinAsianOptionValuationMethods.TURNBULL_WAKEMAN, accruedAverage)"
   ]
  },
  {
   "cell_type": "markdown",
   "metadata": {},
   "source": [
    "Or we can do it using Monte Carlo"
   ]
  },
  {
   "cell_type": "code",
   "execution_count": 39,
   "metadata": {},
   "outputs": [],
   "source": [
    "numPath = 100000"
   ]
  },
  {
   "cell_type": "code",
   "execution_count": 40,
   "metadata": {},
   "outputs": [
    {
     "data": {
      "text/plain": [
       "11.66767725776428"
      ]
     },
     "execution_count": 40,
     "metadata": {},
     "output_type": "execute_result"
    }
   ],
   "source": [
    "asianOption.valueMC(valueDate, stockPrice, discountCurve, dividendYield, model, \n",
    "                    numPath, seed, accruedAverage)"
   ]
  },
  {
   "cell_type": "markdown",
   "metadata": {},
   "source": [
    "## Convergence Test Before the Averaging Period"
   ]
  },
  {
   "cell_type": "code",
   "execution_count": 41,
   "metadata": {},
   "outputs": [],
   "source": [
    "numPaths = np.linspace(10000,20000,20)\n",
    "seed = 1219"
   ]
  },
  {
   "cell_type": "code",
   "execution_count": 42,
   "metadata": {},
   "outputs": [],
   "source": [
    "values = []\n",
    "for numPath in numPaths:\n",
    "    numPath = int(numPath)\n",
    "    v = asianOption.valueMC(valueDate, stockPrice, discountCurve, dividendYield, model, numPath, seed, accruedAverage)\n",
    "    values.append(v)"
   ]
  },
  {
   "cell_type": "code",
   "execution_count": 36,
   "metadata": {},
   "outputs": [
    {
     "data": {
      "text/plain": [
       "<matplotlib.legend.Legend at 0x17da212b488>"
      ]
     },
     "execution_count": 36,
     "metadata": {},
     "output_type": "execute_result"
    },
    {
     "data": {
      "image/png": "[encoded data removed]",
      "text/plain": [
       "<Figure size 432x288 with 1 Axes>"
      ]
     },
     "metadata": {
      "needs_background": "light"
     },
     "output_type": "display_data"
    }
   ],
   "source": [
    "plt.plot(numPaths, values, label=\"Monte Carlo with Control Variate\")\n",
    "plt.xlabel(\"Num Steps\")\n",
    "plt.ylabel(\"Asian option price\")\n",
    "plt.plot(numPaths, [v_tw] * len(numPaths), label = \"Turnbull-Wakeman\")\n",
    "plt.plot(numPaths, [v_c] * len(numPaths), label = \"Curran\")\n",
    "plt.legend()"
   ]
  },
  {
   "cell_type": "markdown",
   "metadata": {},
   "source": [
    "Recall that the source of the difference is that the analytical models are unable to exactly match the true arithmetic average distribution. In addition, a smaller effect is that they assume continuous monitoring of the barrier."
   ]
  },
  {
   "cell_type": "markdown",
   "metadata": {},
   "source": [
    "## Valuation - In the Averaging Period"
   ]
  },
  {
   "cell_type": "markdown",
   "metadata": {},
   "source": [
    "Once we are in the averaging period we need to track the average from the start of the averaging period to the value date"
   ]
  },
  {
   "cell_type": "code",
   "execution_count": 37,
   "metadata": {},
   "outputs": [],
   "source": [
    "valueDate = FinDate(1, 6, 2020)"
   ]
  },
  {
   "cell_type": "markdown",
   "metadata": {},
   "source": [
    "The stock price has increased to 105 and the average stock price has been 103.0"
   ]
  },
  {
   "cell_type": "code",
   "execution_count": 38,
   "metadata": {},
   "outputs": [],
   "source": [
    "stockPrice = 105.0\n",
    "volatility = 0.20\n",
    "interestRate = 0.05\n",
    "dividendYield = 0.01\n",
    "accruedAverage = 101.0"
   ]
  },
  {
   "cell_type": "code",
   "execution_count": 39,
   "metadata": {},
   "outputs": [],
   "source": [
    "v_g = asianOption.value(valueDate, stockPrice, discountCurve, dividendYield, model, \n",
    "                  FinAsianOptionValuationMethods.GEOMETRIC, accruedAverage)"
   ]
  },
  {
   "cell_type": "code",
   "execution_count": 40,
   "metadata": {},
   "outputs": [],
   "source": [
    "v_c = asianOption.value(valueDate, stockPrice, discountCurve, dividendYield, model, \n",
    "                  FinAsianOptionValuationMethods.CURRAN, accruedAverage)"
   ]
  },
  {
   "cell_type": "code",
   "execution_count": 41,
   "metadata": {},
   "outputs": [],
   "source": [
    "v_tw = asianOption.value(valueDate, stockPrice, discountCurve, dividendYield, model, \n",
    "                  FinAsianOptionValuationMethods.TURNBULL_WAKEMAN, accruedAverage)"
   ]
  },
  {
   "cell_type": "code",
   "execution_count": 42,
   "metadata": {},
   "outputs": [],
   "source": [
    "v_mc = asianOption.valueMC(valueDate, stockPrice, discountCurve, dividendYield, model, numPath, seed, accruedAverage)"
   ]
  },
  {
   "cell_type": "code",
   "execution_count": 43,
   "metadata": {},
   "outputs": [
    {
     "name": "stdout",
     "output_type": "stream",
     "text": [
      "4.508315936669205 4.608650975271209 4.6103643097104685 4.596271508248338\n"
     ]
    }
   ],
   "source": [
    "print(v_g, v_c, v_tw, v_mc)"
   ]
  },
  {
   "cell_type": "markdown",
   "metadata": {},
   "source": [
    "The Geometric value is quite far away from the others so we discard it."
   ]
  },
  {
   "cell_type": "markdown",
   "metadata": {},
   "source": [
    "## Convergence Test In the Averaging Period"
   ]
  },
  {
   "cell_type": "code",
   "execution_count": 44,
   "metadata": {},
   "outputs": [],
   "source": [
    "numPaths = np.linspace(10000,20000,20)\n",
    "seed = 1219"
   ]
  },
  {
   "cell_type": "code",
   "execution_count": 45,
   "metadata": {},
   "outputs": [],
   "source": [
    "values = []\n",
    "for numPath in numPaths:\n",
    "    numPath = int(numPath)\n",
    "    v = asianOption.valueMC(valueDate, stockPrice, discountCurve, dividendYield, model, numPath, seed, accruedAverage)\n",
    "    values.append(v)"
   ]
  },
  {
   "cell_type": "code",
   "execution_count": 46,
   "metadata": {},
   "outputs": [
    {
     "data": {
      "text/plain": [
       "<matplotlib.legend.Legend at 0x17d9e732608>"
      ]
     },
     "execution_count": 46,
     "metadata": {},
     "output_type": "execute_result"
    },
    {
     "data": {
      "image/png": "[encoded data removed]",
      "text/plain": [
       "<Figure size 432x288 with 1 Axes>"
      ]
     },
     "metadata": {
      "needs_background": "light"
     },
     "output_type": "display_data"
    }
   ],
   "source": [
    "plt.plot(numPaths, values, label=\"Monte Carlo with Control Variate\")\n",
    "plt.xlabel(\"Num Steps\")\n",
    "plt.ylabel(\"Asian option price\")\n",
    "plt.plot(numPaths, [v_tw] * len(numPaths), label = \"Turnbull-Wakeman\")\n",
    "plt.plot(numPaths, [v_c] * len(numPaths), label = \"Curran\")\n",
    "plt.legend()"
   ]
  },
  {
   "cell_type": "markdown",
   "metadata": {},
   "source": [
    "Recall that the source of the difference is that the analytical models are unable to exactly match the true arithmetic average distribution. In addition, a smaller effect is that they assume continuous monitoring of the barrier. "
   ]
  },
  {
   "cell_type": "markdown",
   "metadata": {},
   "source": [
    "Copyright (c) 2020 Dominic O'Kane"
   ]
  }
 ],
 "metadata": {
  "kernelspec": {
   "display_name": "Python 3",
   "language": "python",
   "name": "python3"
  },
  "language_info": {
   "codemirror_mode": {
    "name": "ipython",
    "version": 3
   },
   "file_extension": ".py",
   "mimetype": "text/x-python",
   "name": "python",
   "nbconvert_exporter": "python",
   "pygments_lexer": "ipython3",
   "version": "3.7.6"
  }
 },
 "nbformat": 4,
 "nbformat_minor": 2
}
