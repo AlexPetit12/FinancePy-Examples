{
 "cells": [
  {
   "cell_type": "markdown",
   "metadata": {},
   "source": [
    "# MORTGAGE CALCULATOR"
   ]
  },
  {
   "cell_type": "code",
   "execution_count": 1,
   "metadata": {},
   "outputs": [],
   "source": [
    "# This program is distributed in the hope that it will be useful, but WITHOUT ANY WARRANTY; \n",
    "# without even the implied warranty of MERCHANTABILITY or FITNESS FOR A PARTICULAR PURPOSE.  \n",
    "# See the license for more details."
   ]
  },
  {
   "cell_type": "markdown",
   "metadata": {},
   "source": [
    "In this notebook I use the simple mortgage calculator to generate mortgage cashflows."
   ]
  },
  {
   "cell_type": "code",
   "execution_count": 2,
   "metadata": {
    "scrolled": true
   },
   "outputs": [],
   "source": [
    "import datetime as dt"
   ]
  },
  {
   "cell_type": "code",
   "execution_count": 3,
   "metadata": {
    "scrolled": true
   },
   "outputs": [],
   "source": [
    "from financepy.finutils.FinDate import FinDate\n",
    "from financepy.products.bonds.FinBondMortgage import FinBondMortgage, FinBondMortgageType"
   ]
  },
  {
   "cell_type": "markdown",
   "metadata": {},
   "source": [
    "## REPAYMENT MORTGAGE"
   ]
  },
  {
   "cell_type": "markdown",
   "metadata": {},
   "source": [
    "Calculate the cashflows on a repayment mortgage"
   ]
  },
  {
   "cell_type": "code",
   "execution_count": 4,
   "metadata": {
    "scrolled": true
   },
   "outputs": [],
   "source": [
    "principal = 130000\n",
    "startDate = FinDate(1, 2, 2018)\n",
    "endDate = startDate.addTenor(\"10Y\")"
   ]
  },
  {
   "cell_type": "markdown",
   "metadata": {},
   "source": [
    "Create the mortgage - this is the minimum number of inputs. You can also specify the frequency (which defaults to monthly)."
   ]
  },
  {
   "cell_type": "code",
   "execution_count": 5,
   "metadata": {
    "scrolled": true
   },
   "outputs": [],
   "source": [
    "mortgage = FinBondMortgage(startDate, endDate, principal)"
   ]
  },
  {
   "cell_type": "markdown",
   "metadata": {},
   "source": [
    "To calculate the flows we need the term zero rate"
   ]
  },
  {
   "cell_type": "code",
   "execution_count": 6,
   "metadata": {
    "scrolled": true
   },
   "outputs": [],
   "source": [
    "rate = 0.035"
   ]
  },
  {
   "cell_type": "code",
   "execution_count": 7,
   "metadata": {
    "scrolled": true
   },
   "outputs": [],
   "source": [
    "mortgage.generateFlows(rate, FinBondMortgageType.REPAYMENT)"
   ]
  },
  {
   "cell_type": "code",
   "execution_count": 8,
   "metadata": {
    "scrolled": false
   },
   "outputs": [
    {
     "name": "stdout",
     "output_type": "stream",
     "text": [
      "START DATE:: THU 1 FEB 2018\n",
      "MATURITY DATE:: TUE 1 FEB 2028\n",
      "MORTGAGE TYPE:: FinBondMortgageType.REPAYMENT\n",
      "FREQUENCY:: FinFrequencyTypes.MONTHLY\n",
      "CALENDAR:: FinCalendarTypes.WEEKEND\n",
      "BUSDAYRULE:: FinBusDayAdjustTypes.FOLLOWING\n",
      "DATEGENRULE:: FinDateGenRuleTypes.BACKWARD\n",
      "\n"
     ]
    }
   ],
   "source": [
    "mortgage.print()"
   ]
  },
  {
   "cell_type": "markdown",
   "metadata": {},
   "source": [
    "## INTEREST ONLY MORTGAGE"
   ]
  },
  {
   "cell_type": "code",
   "execution_count": 9,
   "metadata": {
    "scrolled": true
   },
   "outputs": [],
   "source": [
    "mortgage.generateFlows(rate, FinBondMortgageType.INTEREST_ONLY)"
   ]
  },
  {
   "cell_type": "markdown",
   "metadata": {},
   "source": [
    "Show the cash flows"
   ]
  },
  {
   "cell_type": "code",
   "execution_count": 11,
   "metadata": {
    "scrolled": false
   },
   "outputs": [
    {
     "name": "stdout",
     "output_type": "stream",
     "text": [
      "START DATE: THU 1 FEB 2018\n",
      "MATURITY DATE: TUE 1 FEB 2028\n",
      "MORTGAGE TYPE: FinBondMortgageType.INTEREST_ONLY\n",
      "FREQUENCY: FinFrequencyTypes.MONTHLY\n",
      "CALENDAR: FinCalendarTypes.WEEKEND\n",
      "BUSDAYRULE: FinBusDayAdjustTypes.FOLLOWING\n",
      "DATEGENRULE: FinDateGenRuleTypes.BACKWARD\n",
      "   PAYMENT DATE     INTEREST    PRINCIPAL  OUTSTANDING        TOTAL\n",
      "\n",
      " THU 1 FEB 2018         0.00         0.00    130000.00         0.00\n",
      " THU 1 MAR 2018       379.17         0.00    130000.00       379.17\n",
      " MON 2 APR 2018       379.17         0.00    130000.00       379.17\n",
      " TUE 1 MAY 2018       379.17         0.00    130000.00       379.17\n",
      " FRI 1 JUN 2018       379.17         0.00    130000.00       379.17\n",
      " MON 2 JUL 2018       379.17         0.00    130000.00       379.17\n",
      " WED 1 AUG 2018       379.17         0.00    130000.00       379.17\n",
      " MON 3 SEP 2018       379.17         0.00    130000.00       379.17\n",
      " MON 1 OCT 2018       379.17         0.00    130000.00       379.17\n",
      " THU 1 NOV 2018       379.17         0.00    130000.00       379.17\n",
      " MON 3 DEC 2018       379.17         0.00    130000.00       379.17\n",
      " TUE 1 JAN 2019       379.17         0.00    130000.00       379.17\n",
      " FRI 1 FEB 2019       379.17         0.00    130000.00       379.17\n",
      " FRI 1 MAR 2019       379.17         0.00    130000.00       379.17\n",
      " MON 1 APR 2019       379.17         0.00    130000.00       379.17\n",
      " WED 1 MAY 2019       379.17         0.00    130000.00       379.17\n",
      " MON 3 JUN 2019       379.17         0.00    130000.00       379.17\n",
      " MON 1 JUL 2019       379.17         0.00    130000.00       379.17\n",
      " THU 1 AUG 2019       379.17         0.00    130000.00       379.17\n",
      " MON 2 SEP 2019       379.17         0.00    130000.00       379.17\n",
      " TUE 1 OCT 2019       379.17         0.00    130000.00       379.17\n",
      " FRI 1 NOV 2019       379.17         0.00    130000.00       379.17\n",
      " MON 2 DEC 2019       379.17         0.00    130000.00       379.17\n",
      " WED 1 JAN 2020       379.17         0.00    130000.00       379.17\n",
      " MON 3 FEB 2020       379.17         0.00    130000.00       379.17\n",
      " MON 2 MAR 2020       379.17         0.00    130000.00       379.17\n",
      " WED 1 APR 2020       379.17         0.00    130000.00       379.17\n",
      " FRI 1 MAY 2020       379.17         0.00    130000.00       379.17\n",
      " MON 1 JUN 2020       379.17         0.00    130000.00       379.17\n",
      " WED 1 JUL 2020       379.17         0.00    130000.00       379.17\n",
      " MON 3 AUG 2020       379.17         0.00    130000.00       379.17\n",
      " TUE 1 SEP 2020       379.17         0.00    130000.00       379.17\n",
      " THU 1 OCT 2020       379.17         0.00    130000.00       379.17\n",
      " MON 2 NOV 2020       379.17         0.00    130000.00       379.17\n",
      " TUE 1 DEC 2020       379.17         0.00    130000.00       379.17\n",
      " FRI 1 JAN 2021       379.17         0.00    130000.00       379.17\n",
      " MON 1 FEB 2021       379.17         0.00    130000.00       379.17\n",
      " MON 1 MAR 2021       379.17         0.00    130000.00       379.17\n",
      " THU 1 APR 2021       379.17         0.00    130000.00       379.17\n",
      " MON 3 MAY 2021       379.17         0.00    130000.00       379.17\n",
      " TUE 1 JUN 2021       379.17         0.00    130000.00       379.17\n",
      " THU 1 JUL 2021       379.17         0.00    130000.00       379.17\n",
      " MON 2 AUG 2021       379.17         0.00    130000.00       379.17\n",
      " WED 1 SEP 2021       379.17         0.00    130000.00       379.17\n",
      " FRI 1 OCT 2021       379.17         0.00    130000.00       379.17\n",
      " MON 1 NOV 2021       379.17         0.00    130000.00       379.17\n",
      " WED 1 DEC 2021       379.17         0.00    130000.00       379.17\n",
      " MON 3 JAN 2022       379.17         0.00    130000.00       379.17\n",
      " TUE 1 FEB 2022       379.17         0.00    130000.00       379.17\n",
      " TUE 1 MAR 2022       379.17         0.00    130000.00       379.17\n",
      " FRI 1 APR 2022       379.17         0.00    130000.00       379.17\n",
      " MON 2 MAY 2022       379.17         0.00    130000.00       379.17\n",
      " WED 1 JUN 2022       379.17         0.00    130000.00       379.17\n",
      " FRI 1 JUL 2022       379.17         0.00    130000.00       379.17\n",
      " MON 1 AUG 2022       379.17         0.00    130000.00       379.17\n",
      " THU 1 SEP 2022       379.17         0.00    130000.00       379.17\n",
      " MON 3 OCT 2022       379.17         0.00    130000.00       379.17\n",
      " TUE 1 NOV 2022       379.17         0.00    130000.00       379.17\n",
      " THU 1 DEC 2022       379.17         0.00    130000.00       379.17\n",
      " MON 2 JAN 2023       379.17         0.00    130000.00       379.17\n",
      " WED 1 FEB 2023       379.17         0.00    130000.00       379.17\n",
      " WED 1 MAR 2023       379.17         0.00    130000.00       379.17\n",
      " MON 3 APR 2023       379.17         0.00    130000.00       379.17\n",
      " MON 1 MAY 2023       379.17         0.00    130000.00       379.17\n",
      " THU 1 JUN 2023       379.17         0.00    130000.00       379.17\n",
      " MON 3 JUL 2023       379.17         0.00    130000.00       379.17\n",
      " TUE 1 AUG 2023       379.17         0.00    130000.00       379.17\n",
      " FRI 1 SEP 2023       379.17         0.00    130000.00       379.17\n",
      " MON 2 OCT 2023       379.17         0.00    130000.00       379.17\n",
      " WED 1 NOV 2023       379.17         0.00    130000.00       379.17\n",
      " FRI 1 DEC 2023       379.17         0.00    130000.00       379.17\n",
      " MON 1 JAN 2024       379.17         0.00    130000.00       379.17\n",
      " THU 1 FEB 2024       379.17         0.00    130000.00       379.17\n",
      " FRI 1 MAR 2024       379.17         0.00    130000.00       379.17\n",
      " MON 1 APR 2024       379.17         0.00    130000.00       379.17\n",
      " WED 1 MAY 2024       379.17         0.00    130000.00       379.17\n",
      " MON 3 JUN 2024       379.17         0.00    130000.00       379.17\n",
      " MON 1 JUL 2024       379.17         0.00    130000.00       379.17\n",
      " THU 1 AUG 2024       379.17         0.00    130000.00       379.17\n",
      " MON 2 SEP 2024       379.17         0.00    130000.00       379.17\n",
      " TUE 1 OCT 2024       379.17         0.00    130000.00       379.17\n",
      " FRI 1 NOV 2024       379.17         0.00    130000.00       379.17\n",
      " MON 2 DEC 2024       379.17         0.00    130000.00       379.17\n",
      " WED 1 JAN 2025       379.17         0.00    130000.00       379.17\n",
      " MON 3 FEB 2025       379.17         0.00    130000.00       379.17\n",
      " MON 3 MAR 2025       379.17         0.00    130000.00       379.17\n",
      " TUE 1 APR 2025       379.17         0.00    130000.00       379.17\n",
      " THU 1 MAY 2025       379.17         0.00    130000.00       379.17\n",
      " MON 2 JUN 2025       379.17         0.00    130000.00       379.17\n",
      " TUE 1 JUL 2025       379.17         0.00    130000.00       379.17\n",
      " FRI 1 AUG 2025       379.17         0.00    130000.00       379.17\n",
      " MON 1 SEP 2025       379.17         0.00    130000.00       379.17\n",
      " WED 1 OCT 2025       379.17         0.00    130000.00       379.17\n",
      " MON 3 NOV 2025       379.17         0.00    130000.00       379.17\n",
      " MON 1 DEC 2025       379.17         0.00    130000.00       379.17\n",
      " THU 1 JAN 2026       379.17         0.00    130000.00       379.17\n",
      " MON 2 FEB 2026       379.17         0.00    130000.00       379.17\n",
      " MON 2 MAR 2026       379.17         0.00    130000.00       379.17\n",
      " WED 1 APR 2026       379.17         0.00    130000.00       379.17\n",
      " FRI 1 MAY 2026       379.17         0.00    130000.00       379.17\n",
      " MON 1 JUN 2026       379.17         0.00    130000.00       379.17\n",
      " WED 1 JUL 2026       379.17         0.00    130000.00       379.17\n",
      " MON 3 AUG 2026       379.17         0.00    130000.00       379.17\n",
      " TUE 1 SEP 2026       379.17         0.00    130000.00       379.17\n",
      " THU 1 OCT 2026       379.17         0.00    130000.00       379.17\n",
      " MON 2 NOV 2026       379.17         0.00    130000.00       379.17\n",
      " TUE 1 DEC 2026       379.17         0.00    130000.00       379.17\n",
      " FRI 1 JAN 2027       379.17         0.00    130000.00       379.17\n",
      " MON 1 FEB 2027       379.17         0.00    130000.00       379.17\n",
      " MON 1 MAR 2027       379.17         0.00    130000.00       379.17\n",
      " THU 1 APR 2027       379.17         0.00    130000.00       379.17\n",
      " MON 3 MAY 2027       379.17         0.00    130000.00       379.17\n",
      " TUE 1 JUN 2027       379.17         0.00    130000.00       379.17\n",
      " THU 1 JUL 2027       379.17         0.00    130000.00       379.17\n",
      " MON 2 AUG 2027       379.17         0.00    130000.00       379.17\n",
      " WED 1 SEP 2027       379.17         0.00    130000.00       379.17\n",
      " FRI 1 OCT 2027       379.17         0.00    130000.00       379.17\n",
      " MON 1 NOV 2027       379.17         0.00    130000.00       379.17\n",
      " WED 1 DEC 2027       379.17         0.00    130000.00       379.17\n",
      " MON 3 JAN 2028       379.17         0.00    130000.00       379.17\n",
      " TUE 1 FEB 2028       379.17         0.00    130000.00       379.17\n"
     ]
    }
   ],
   "source": [
    "mortgage.printLeg()"
   ]
  },
  {
   "cell_type": "markdown",
   "metadata": {},
   "source": [
    "Copyright (c) 2019, Dominic O'Kane "
   ]
  },
  {
   "cell_type": "code",
   "execution_count": null,
   "metadata": {},
   "outputs": [],
   "source": []
  }
 ],
 "metadata": {
  "kernelspec": {
   "display_name": "Python 3",
   "language": "python",
   "name": "python3"
  },
  "language_info": {
   "codemirror_mode": {
    "name": "ipython",
    "version": 3
   },
   "file_extension": ".py",
   "mimetype": "text/x-python",
   "name": "python",
   "nbconvert_exporter": "python",
   "pygments_lexer": "ipython3",
   "version": "3.7.7"
  }
 },
 "nbformat": 4,
 "nbformat_minor": 2
}
