{
 "cells": [
  {
   "cell_type": "markdown",
   "metadata": {},
   "source": [
    "# Valuing Bermudan Swaptions with QL Example"
   ]
  },
  {
   "cell_type": "code",
   "execution_count": 95,
   "metadata": {},
   "outputs": [],
   "source": [
    "# This program is distributed in the hope that it will be useful, but WITHOUT\n",
    "# ANY WARRANTY; without even the implied warranty of MERCHANTABILITY or FITNESS\n",
    "# FOR A PARTICULAR PURPOSE.  See the FinancePy license for more details."
   ]
  },
  {
   "cell_type": "markdown",
   "metadata": {},
   "source": [
    "We value a European swaption using Black's model and try to replicate a QL example at http://khandrikacm.blogspot.com/2014/03/european-style-interest-rate-swaption.html"
   ]
  },
  {
   "cell_type": "code",
   "execution_count": 96,
   "metadata": {},
   "outputs": [],
   "source": [
    "import numpy as np\n",
    "import matplotlib.pyplot as plt"
   ]
  },
  {
   "cell_type": "code",
   "execution_count": 97,
   "metadata": {},
   "outputs": [],
   "source": [
    "from financepy.products.libor import *\n",
    "from financepy.finutils import *\n",
    "from financepy.market.curves.FinLiborCurve import FinLiborCurve\n",
    "from financepy.market.curves.FinInterpolate import FinInterpMethods"
   ]
  },
  {
   "cell_type": "markdown",
   "metadata": {},
   "source": [
    "## Building a Libor Discount Curve"
   ]
  },
  {
   "cell_type": "code",
   "execution_count": 98,
   "metadata": {},
   "outputs": [],
   "source": [
    "valuationDate = FinDate(28, 2, 2014)\n",
    "settlementDate = FinDate(4, 3, 2014)"
   ]
  },
  {
   "cell_type": "markdown",
   "metadata": {},
   "source": [
    "We have a vector of dates and zero rates"
   ]
  },
  {
   "cell_type": "code",
   "execution_count": 99,
   "metadata": {},
   "outputs": [],
   "source": [
    "depoDCCType = FinDayCountTypes.THIRTY_E_360_ISDA\n",
    "depos = []\n",
    "\n",
    "depo = FinLiborDeposit(settlementDate, \"1W\", 0.0023, depoDCCType); depos.append(depo)\n",
    "depo = FinLiborDeposit(settlementDate, \"1M\", 0.0023, depoDCCType); depos.append(depo)\n",
    "depo = FinLiborDeposit(settlementDate, \"3M\", 0.0023, depoDCCType); depos.append(depo)\n",
    "depo = FinLiborDeposit(settlementDate, \"6M\", 0.0023, depoDCCType); depos.append(depo)\n",
    "\n",
    "# No convexity correction provided so I omit interest rate futures\n",
    "\n",
    "swaps = []\n",
    "fixedDCCType = FinDayCountTypes.ACT_365_ISDA\n",
    "fixedFreqType = FinFrequencyTypes.SEMI_ANNUAL\n",
    "\n",
    "swap = FinLiborSwap(settlementDate, \"3Y\", 0.00790, fixedFreqType, fixedDCCType); swaps.append(swap)\n",
    "swap = FinLiborSwap(settlementDate, \"4Y\", 0.01200, fixedFreqType, fixedDCCType); swaps.append(swap)\n",
    "swap = FinLiborSwap(settlementDate, \"5Y\", 0.01570, fixedFreqType, fixedDCCType); swaps.append(swap)\n",
    "swap = FinLiborSwap(settlementDate, \"6Y\", 0.01865, fixedFreqType, fixedDCCType); swaps.append(swap)\n",
    "swap = FinLiborSwap(settlementDate, \"7Y\", 0.02160, fixedFreqType, fixedDCCType); swaps.append(swap)\n",
    "swap = FinLiborSwap(settlementDate, \"8Y\", 0.02350, fixedFreqType, fixedDCCType); swaps.append(swap)\n",
    "swap = FinLiborSwap(settlementDate, \"9Y\", 0.02540, fixedFreqType, fixedDCCType); swaps.append(swap)\n",
    "swap = FinLiborSwap(settlementDate, \"10Y\", 0.0273, fixedFreqType, fixedDCCType); swaps.append(swap)\n",
    "swap = FinLiborSwap(settlementDate, \"15Y\", 0.0297, fixedFreqType, fixedDCCType); swaps.append(swap)\n",
    "swap = FinLiborSwap(settlementDate, \"20Y\", 0.0316, fixedFreqType, fixedDCCType); swaps.append(swap)\n",
    "swap = FinLiborSwap(settlementDate, \"25Y\", 0.0335, fixedFreqType, fixedDCCType); swaps.append(swap)\n",
    "swap = FinLiborSwap(settlementDate, \"30Y\", 0.0354, fixedFreqType, fixedDCCType); swaps.append(swap)\n",
    "\n",
    "liborCurve = FinLiborCurve(\"USD_LIBOR\", valuationDate, depos, [], swaps, FinInterpMethods.FLAT_FORWARDS)"
   ]
  },
  {
   "cell_type": "code",
   "execution_count": 100,
   "metadata": {},
   "outputs": [
    {
     "name": "stdout",
     "output_type": "stream",
     "text": [
      "TIME: DISCOUNT FACTOR\n",
      "0.0: 1.0\n",
      "0.030117018305671307: 0.9999552797777655\n",
      "0.09582687642713597: 0.9998083700624047\n",
      "0.26283943248585867: 0.9994253304349999\n",
      "0.5147272219514732: 0.998851320980872\n",
      "3.017177652077253: 0.9765490993012332\n",
      "4.013777166919467: 0.952904546594766\n",
      "5.010376681761681: 0.9238064180671846\n",
      "6.0124520181140175: 0.8926595681653329\n",
      "7.011789443711293: 0.8570211783146512\n",
      "8.011126869308567: 0.8248728623117386\n",
      "9.015940116415965: 0.7903114691475575\n",
      "10.012539631258178: 0.7538665138498148\n",
      "15.014702580754676: 0.6306063482407415\n",
      "20.016865530251174: 0.5174165672827589\n",
      "25.01081474748249: 0.4118731405338343\n",
      "30.01297769697899: 0.31535955474364513\n",
      "\n"
     ]
    }
   ],
   "source": [
    "print(liborCurve)"
   ]
  },
  {
   "cell_type": "code",
   "execution_count": 101,
   "metadata": {},
   "outputs": [],
   "source": [
    "exerciseDate = settlementDate.addTenor(\"5Y\")\n",
    "swapMaturityDate = exerciseDate.addTenor(\"5Y\")\n",
    "swapFixedCoupon = 0.040852\n",
    "swapFixedFrequencyType = FinFrequencyTypes.SEMI_ANNUAL\n",
    "swapFixedDayCountType = FinDayCountTypes.THIRTY_E_360_ISDA\n",
    "swapFloatFrequencyType = FinFrequencyTypes.QUARTERLY\n",
    "swapFloatDayCountType = FinDayCountTypes.ACT_360\n",
    "swapNotional = ONE_MILLION\n",
    "swaptionType = FinLiborSwaptionType.PAYER  \n",
    "calendarType = FinCalendarTypes.WEEKEND\n",
    "busDayAdjustType = FinBusDayAdjustTypes.NONE\n",
    "dateGenRuleType = FinDateGenRuleTypes.BACKWARD"
   ]
  },
  {
   "cell_type": "code",
   "execution_count": 102,
   "metadata": {},
   "outputs": [],
   "source": [
    "swaption = FinLiborSwaption(exerciseDate,\n",
    "                            swapMaturityDate,\n",
    "                            swaptionType,\n",
    "                            swapFixedCoupon,\n",
    "                            swapFixedFrequencyType,\n",
    "                            swapFixedDayCountType, \n",
    "                            swapNotional, \n",
    "                            swapFloatFrequencyType,\n",
    "                            swapFloatDayCountType,\n",
    "                            calendarType, \n",
    "                            busDayAdjustType,\n",
    "                            dateGenRuleType)"
   ]
  },
  {
   "cell_type": "code",
   "execution_count": 103,
   "metadata": {},
   "outputs": [
    {
     "name": "stdout",
     "output_type": "stream",
     "text": [
      "EXERCISE DATE: MON 4 MAR 2019\n",
      "SWAPTION TYPE: FinLiborSwaptionType.PAYER\n",
      "MATURITY DATE: MON 4 MAR 2024\n",
      "SWAP NOTIONAL: 1000000\n",
      "FIXED COUPON: 4.0852\n",
      "FIXED FREQUENCY: FinFrequencyTypes.SEMI_ANNUAL\n",
      "FIXED DAY COUNT: FinDayCountTypes.THIRTY_E_360_ISDA\n",
      "FLOAT FREQUENCY: FinFrequencyTypes.SEMI_ANNUAL\n",
      "FLOAT DAY COUNT: FinDayCountTypes.ACT_360\n",
      "\n"
     ]
    }
   ],
   "source": [
    "print(swaption)"
   ]
  },
  {
   "cell_type": "code",
   "execution_count": 104,
   "metadata": {},
   "outputs": [],
   "source": [
    "model = FinLiborModelBlack(0.1533)"
   ]
  },
  {
   "cell_type": "code",
   "execution_count": 105,
   "metadata": {},
   "outputs": [
    {
     "data": {
      "text/plain": [
       "23135.37762019705"
      ]
     },
     "execution_count": 105,
     "metadata": {},
     "output_type": "execute_result"
    }
   ],
   "source": [
    "swaption.value(settlementDate, liborCurve, model)"
   ]
  },
  {
   "cell_type": "markdown",
   "metadata": {},
   "source": [
    "This is close to a value of 23134.40637208518 using QL"
   ]
  },
  {
   "cell_type": "markdown",
   "metadata": {},
   "source": [
    "## Internals"
   ]
  },
  {
   "cell_type": "code",
   "execution_count": 106,
   "metadata": {},
   "outputs": [
    {
     "name": "stdout",
     "output_type": "stream",
     "text": [
      "EXERCISE DATE: MON 4 MAR 2019\n",
      "SWAPTION TYPE: FinLiborSwaptionType.PAYER\n",
      "MATURITY DATE: MON 4 MAR 2024\n",
      "SWAP NOTIONAL: 1000000\n",
      "FIXED COUPON: 4.0852\n",
      "FIXED FREQUENCY: FinFrequencyTypes.SEMI_ANNUAL\n",
      "FIXED DAY COUNT: FinDayCountTypes.THIRTY_E_360_ISDA\n",
      "FLOAT FREQUENCY: FinFrequencyTypes.SEMI_ANNUAL\n",
      "FLOAT DAY COUNT: FinDayCountTypes.ACT_360\n",
      "PV01: 4.160736741175373\n",
      "FWD SWAP RATE: 4.0843705042814875\n",
      "FWD DF TO EXPIRY: 0.9238064180671846\n"
     ]
    }
   ],
   "source": [
    "print(swaption)"
   ]
  },
  {
   "cell_type": "markdown",
   "metadata": {},
   "source": [
    "We can see that the forward swap rate almost equals the fixed coupon. The underlying swap is close to being ATM forward."
   ]
  },
  {
   "cell_type": "code",
   "execution_count": 107,
   "metadata": {},
   "outputs": [
    {
     "name": "stdout",
     "output_type": "stream",
     "text": [
      "START DATE: MON 4 MAR 2019\n",
      "MATURITY DATE: MON 4 MAR 2024\n",
      "COUPON (%): 4.0852\n",
      "FIXED LEG FREQUENCY: FinFrequencyTypes.SEMI_ANNUAL\n",
      "FIXED LEG DAY COUNT: FinDayCountTypes.THIRTY_E_360_ISDA\n",
      "VALUATION DATE TUE 4 MAR 2014\n",
      "PAYMENT_DATE     YEAR_FRAC        FLOW         DF         DF*FLOW       CUM_PV\n",
      " WED 4 SEP 2019  0.5000000     20426.00   0.90801437     18547.10     18547.10\n",
      " WED 4 MAR 2020  0.5000000     20426.00   0.89265957     18233.46     36780.57\n",
      " FRI 4 SEP 2020  0.5000000     20426.00   0.87451244     17862.79     54643.36\n",
      " THU 4 MAR 2021  0.5000000     20426.00   0.85702118     17505.51     72148.87\n",
      " SAT 4 SEP 2021  0.5000000     20426.00   0.84066128     17171.35     89320.22\n",
      " FRI 4 MAR 2022  0.5000000     20426.00   0.82487286     16848.85    106169.07\n",
      " SUN 4 SEP 2022  0.5000000     20426.00   0.80736018     16491.14    122660.21\n",
      " SAT 4 MAR 2023  0.5000000     20426.00   0.79049583     16146.67    138806.88\n",
      " MON 4 SEP 2023  0.5000000     20426.00   0.77187392     15766.30    154573.18\n",
      " MON 4 MAR 2024  0.5000000     20426.00   0.75386651     15398.48    169971.65\n"
     ]
    }
   ],
   "source": [
    "swaption.printFixedLeg()"
   ]
  },
  {
   "cell_type": "markdown",
   "metadata": {},
   "source": [
    "Copyright (c) 2020 Dominic O'Kane"
   ]
  }
 ],
 "metadata": {
  "kernelspec": {
   "display_name": "Python 3",
   "language": "python",
   "name": "python3"
  },
  "language_info": {
   "codemirror_mode": {
    "name": "ipython",
    "version": 3
   },
   "file_extension": ".py",
   "mimetype": "text/x-python",
   "name": "python",
   "nbconvert_exporter": "python",
   "pygments_lexer": "ipython3",
   "version": "3.7.7"
  }
 },
 "nbformat": 4,
 "nbformat_minor": 4
}
