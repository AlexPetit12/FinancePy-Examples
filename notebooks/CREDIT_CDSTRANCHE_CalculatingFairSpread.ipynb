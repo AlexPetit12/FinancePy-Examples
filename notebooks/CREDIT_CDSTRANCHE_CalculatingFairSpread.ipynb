{
 "cells": [
  {
   "cell_type": "markdown",
   "metadata": {},
   "source": [
    "# Determining the Fair Spread of a CDS Tranche"
   ]
  },
  {
   "cell_type": "markdown",
   "metadata": {},
   "source": [
    "An analysis of pricing a CDS Index using its intrinsic value"
   ]
  },
  {
   "cell_type": "code",
   "execution_count": 1,
   "metadata": {},
   "outputs": [],
   "source": [
    "import numpy as np\n",
    "import matplotlib.pyplot as plt"
   ]
  },
  {
   "cell_type": "code",
   "execution_count": 2,
   "metadata": {},
   "outputs": [
    {
     "name": "stdout",
     "output_type": "stream",
     "text": [
      "####################################################################\n",
      "# FINANCEPY BETA Version 0.180 - This build:  22 Sep 2020 at 22:40 #\n",
      "#      This software is distributed FREE & WITHOUT ANY WARRANTY    #\n",
      "# For info and disclaimer - https://github.com/domokane/FinancePy  #\n",
      "#    For bug reports and comments - allmypythonprojects@gmail.com  #\n",
      "####################################################################\n",
      "\n"
     ]
    }
   ],
   "source": [
    "from financepy.finutils import *\n",
    "from financepy.products.libor import *\n",
    "from financepy.products.credit import *"
   ]
  },
  {
   "cell_type": "code",
   "execution_count": 3,
   "metadata": {},
   "outputs": [],
   "source": [
    "tradeDate = FinDate(1, 8, 2007)\n",
    "settlementDate = tradeDate.addWorkDays(1)"
   ]
  },
  {
   "cell_type": "markdown",
   "metadata": {},
   "source": [
    "## Build Libor Curve"
   ]
  },
  {
   "cell_type": "code",
   "execution_count": 4,
   "metadata": {},
   "outputs": [],
   "source": [
    "depos = []\n",
    "dcType = FinDayCountTypes.THIRTY_E_360_ISDA\n",
    "fixedFreq = FinFrequencyTypes.SEMI_ANNUAL\n",
    "swapType = FinLiborSwapTypes.PAYER\n",
    "swap1 = FinLiborSwap(settlementDate,\"1Y\",swapType,0.0502,fixedFreq,dcType)\n",
    "swap2 = FinLiborSwap(settlementDate,\"2Y\",swapType,0.0502,fixedFreq,dcType)\n",
    "swap3 = FinLiborSwap(settlementDate,\"3Y\",swapType,0.0501,fixedFreq,dcType)\n",
    "swap4 = FinLiborSwap(settlementDate,\"4Y\",swapType,0.0502,fixedFreq,dcType)\n",
    "swap5 = FinLiborSwap(settlementDate,\"5Y\",swapType,0.0501,fixedFreq,dcType)\n",
    "swaps = [swap1,swap2,swap3,swap4,swap5]\n",
    "\n",
    "liborCurve = FinLiborCurve(settlementDate, depos, [], swaps)"
   ]
  },
  {
   "cell_type": "markdown",
   "metadata": {},
   "source": [
    "We treat an index as a CDS contract with a flat CDS curve at the CDS index spread for the same maturity"
   ]
  },
  {
   "cell_type": "markdown",
   "metadata": {},
   "source": [
    "## Create the Underlying CDS Index Portfolio"
   ]
  },
  {
   "cell_type": "code",
   "execution_count": 5,
   "metadata": {},
   "outputs": [],
   "source": [
    "stepInDate = tradeDate.addWorkDays(1)\n",
    "valuationDate = stepInDate"
   ]
  },
  {
   "cell_type": "code",
   "execution_count": 6,
   "metadata": {},
   "outputs": [],
   "source": [
    "maturity3Y = tradeDate.nextCDSDate(36)\n",
    "maturity5Y = tradeDate.nextCDSDate(60)\n",
    "maturity7Y = tradeDate.nextCDSDate(84)\n",
    "maturity10Y = tradeDate.nextCDSDate(120)"
   ]
  },
  {
   "cell_type": "markdown",
   "metadata": {},
   "source": [
    "### Heterogeneous Curves"
   ]
  },
  {
   "cell_type": "code",
   "execution_count": 7,
   "metadata": {},
   "outputs": [],
   "source": [
    "f = open('.//data//CDX_NA_IG_S7_SPREADS.csv', 'r')\n",
    "data = f.readlines()\n",
    "heteroIssuerCurves = []\n",
    "\n",
    "numCredits = len(data) - 1  # The file has a header\n",
    "\n",
    "for row in data[1:]:\n",
    "    splitRow = row.split(\",\")\n",
    "    spd3Y = float(splitRow[1]) / 10000.0\n",
    "    spd5Y = float(splitRow[2]) / 10000.0\n",
    "    spd7Y = float(splitRow[3]) / 10000.0\n",
    "    spd10Y = float(splitRow[4]) / 10000.0\n",
    "    recoveryRate = float(splitRow[5])\n",
    "    cds3Y = FinCDS(stepInDate, maturity3Y, spd3Y)\n",
    "    cds5Y = FinCDS(stepInDate, maturity5Y, spd5Y)\n",
    "    cds7Y = FinCDS(stepInDate, maturity7Y, spd7Y)\n",
    "    cds10Y = FinCDS(stepInDate, maturity10Y, spd10Y)\n",
    "    cdsContracts = [cds3Y, cds5Y, cds7Y, cds10Y]\n",
    "    issuerCurve = FinCDSCurve(valuationDate, cdsContracts, liborCurve, recoveryRate)\n",
    "    heteroIssuerCurves.append(issuerCurve)"
   ]
  },
  {
   "cell_type": "markdown",
   "metadata": {},
   "source": [
    "### Homogeneous Curves "
   ]
  },
  {
   "cell_type": "markdown",
   "metadata": {},
   "source": [
    "Calculate the average spread of the heterogeneous portfolio"
   ]
  },
  {
   "cell_type": "code",
   "execution_count": 8,
   "metadata": {},
   "outputs": [],
   "source": [
    "homoIssuerCurves = []\n",
    "numCredits = 125\n",
    "recoveryRate = 0.40 "
   ]
  },
  {
   "cell_type": "code",
   "execution_count": 9,
   "metadata": {},
   "outputs": [],
   "source": [
    "cdsIndex = FinCDSIndexPortfolio()"
   ]
  },
  {
   "cell_type": "code",
   "execution_count": 10,
   "metadata": {},
   "outputs": [],
   "source": [
    "spd3Y = cdsIndex.intrinsicSpread(valuationDate, stepInDate, maturity3Y, heteroIssuerCurves)\n",
    "spd5Y = cdsIndex.intrinsicSpread(valuationDate, stepInDate, maturity5Y, heteroIssuerCurves)\n",
    "spd7Y = cdsIndex.intrinsicSpread(valuationDate, stepInDate, maturity7Y, heteroIssuerCurves)\n",
    "spd10Y = cdsIndex.intrinsicSpread(valuationDate, stepInDate, maturity10Y, heteroIssuerCurves)"
   ]
  },
  {
   "cell_type": "code",
   "execution_count": 11,
   "metadata": {},
   "outputs": [
    {
     "name": "stdout",
     "output_type": "stream",
     "text": [
      "Homogeneous curve 3Y: 19.678938015074632\n",
      "Homogeneous curve 5Y: 35.53929671797469\n",
      "Homogeneous curve 7Y: 49.012038203742264\n",
      "Homogeneous curve 10Y: 61.41424224609254\n"
     ]
    }
   ],
   "source": [
    "print(\"Homogeneous curve 3Y:\", spd3Y*10000)\n",
    "print(\"Homogeneous curve 5Y:\", spd5Y*10000)\n",
    "print(\"Homogeneous curve 7Y:\", spd7Y*10000)\n",
    "print(\"Homogeneous curve 10Y:\", spd10Y*10000)"
   ]
  },
  {
   "cell_type": "code",
   "execution_count": 12,
   "metadata": {},
   "outputs": [],
   "source": [
    "for row in range(0,numCredits):\n",
    "    cds3Y = FinCDS(stepInDate, maturity3Y, spd3Y)\n",
    "    cds5Y = FinCDS(stepInDate, maturity5Y, spd5Y)\n",
    "    cds7Y = FinCDS(stepInDate, maturity7Y, spd7Y)\n",
    "    cds10Y = FinCDS(stepInDate, maturity10Y, spd10Y)\n",
    "    cdsContracts = [cds3Y, cds5Y, cds7Y, cds10Y]\n",
    "    issuerCurve = FinCDSCurve(valuationDate, cdsContracts, liborCurve, recoveryRate)\n",
    "    homoIssuerCurves.append(issuerCurve)"
   ]
  },
  {
   "cell_type": "markdown",
   "metadata": {},
   "source": [
    "## Define the Tranches"
   ]
  },
  {
   "cell_type": "code",
   "execution_count": 13,
   "metadata": {},
   "outputs": [],
   "source": [
    "trancheMaturity = maturity5Y\n",
    "tranche1 = FinCDSTranche(valuationDate, trancheMaturity, 0.00, 0.03)\n",
    "tranche2 = FinCDSTranche(valuationDate, trancheMaturity, 0.03, 0.06)\n",
    "tranche3 = FinCDSTranche(valuationDate, trancheMaturity, 0.06, 0.09)\n",
    "tranche4 = FinCDSTranche(valuationDate, trancheMaturity, 0.09, 0.12)\n",
    "tranche5 = FinCDSTranche(valuationDate, trancheMaturity, 0.12, 0.22)\n",
    "tranche6 = FinCDSTranche(valuationDate, trancheMaturity, 0.22, 0.60)\n",
    "tranche7 = FinCDSTranche(valuationDate, trancheMaturity, 0.00, 0.60)\n",
    "tranche8 = FinCDSTranche(valuationDate, trancheMaturity, 0.00, 1.00)"
   ]
  },
  {
   "cell_type": "code",
   "execution_count": 14,
   "metadata": {},
   "outputs": [],
   "source": [
    "tranches = [tranche1, tranche2, tranche3, tranche4, tranche5, tranche6, tranche7, tranche8]"
   ]
  },
  {
   "cell_type": "code",
   "execution_count": 15,
   "metadata": {},
   "outputs": [],
   "source": [
    "corr1 = 0.30\n",
    "corr2 = 0.30\n",
    "upfront = 0.0\n",
    "spd = 0.0"
   ]
  },
  {
   "cell_type": "markdown",
   "metadata": {},
   "source": [
    "## Homogeneous Portfolio Results"
   ]
  },
  {
   "cell_type": "code",
   "execution_count": 23,
   "metadata": {},
   "outputs": [
    {
     "name": "stdout",
     "output_type": "stream",
     "text": [
      "                                            Method NumPts        K1        K2     SPD(BPS)\n",
      "              FinLossDistributionBuilder.RECURSION    50   0.00000   3.00000   875.325604\n",
      "      FinLossDistributionBuilder.ADJUSTED_BINOMIAL    50   0.00000   3.00000   875.325604\n",
      "               FinLossDistributionBuilder.GAUSSIAN    50   0.00000   3.00000   904.330891\n",
      "                    FinLossDistributionBuilder.LHP    50   0.00000   3.00000   914.620727\n",
      "=============================================================================================\n",
      "              FinLossDistributionBuilder.RECURSION    50   3.00000   6.00000   239.832446\n",
      "      FinLossDistributionBuilder.ADJUSTED_BINOMIAL    50   3.00000   6.00000   239.832446\n",
      "               FinLossDistributionBuilder.GAUSSIAN    50   3.00000   6.00000   215.984201\n",
      "                    FinLossDistributionBuilder.LHP    50   3.00000   6.00000   227.066383\n",
      "=============================================================================================\n",
      "              FinLossDistributionBuilder.RECURSION    50   6.00000   9.00000   102.272545\n",
      "      FinLossDistributionBuilder.ADJUSTED_BINOMIAL    50   6.00000   9.00000   102.272545\n",
      "               FinLossDistributionBuilder.GAUSSIAN    50   6.00000   9.00000    88.634162\n",
      "                    FinLossDistributionBuilder.LHP    50   6.00000   9.00000    95.063966\n",
      "=============================================================================================\n",
      "              FinLossDistributionBuilder.RECURSION    50   9.00000  12.00000    49.297216\n",
      "      FinLossDistributionBuilder.ADJUSTED_BINOMIAL    50   9.00000  12.00000    49.297216\n",
      "               FinLossDistributionBuilder.GAUSSIAN    50   9.00000  12.00000    41.454068\n",
      "                    FinLossDistributionBuilder.LHP    50   9.00000  12.00000    45.216424\n",
      "=============================================================================================\n",
      "              FinLossDistributionBuilder.RECURSION    50  12.00000  22.00000    14.049520\n",
      "      FinLossDistributionBuilder.ADJUSTED_BINOMIAL    50  12.00000  22.00000    14.049520\n",
      "               FinLossDistributionBuilder.GAUSSIAN    50  12.00000  22.00000    11.285060\n",
      "                    FinLossDistributionBuilder.LHP    50  12.00000  22.00000    12.658820\n",
      "=============================================================================================\n",
      "              FinLossDistributionBuilder.RECURSION    50  22.00000  60.00000     0.490834\n",
      "      FinLossDistributionBuilder.ADJUSTED_BINOMIAL    50  22.00000  60.00000     0.490834\n",
      "               FinLossDistributionBuilder.GAUSSIAN    50  22.00000  60.00000     0.343542\n",
      "                    FinLossDistributionBuilder.LHP    50  22.00000  60.00000     0.419488\n",
      "=============================================================================================\n",
      "              FinLossDistributionBuilder.RECURSION    50   0.00000  60.00000    59.253276\n",
      "      FinLossDistributionBuilder.ADJUSTED_BINOMIAL    50   0.00000  60.00000    59.253276\n",
      "               FinLossDistributionBuilder.GAUSSIAN    50   0.00000  60.00000    57.754299\n",
      "                    FinLossDistributionBuilder.LHP    50   0.00000  60.00000    59.253261\n",
      "=============================================================================================\n",
      "              FinLossDistributionBuilder.RECURSION    50   0.00000 100.00000    35.399268\n",
      "      FinLossDistributionBuilder.ADJUSTED_BINOMIAL    50   0.00000 100.00000    35.399268\n",
      "               FinLossDistributionBuilder.GAUSSIAN    50   0.00000 100.00000    34.511226\n",
      "                    FinLossDistributionBuilder.LHP    50   0.00000 100.00000    35.399260\n",
      "=============================================================================================\n"
     ]
    }
   ],
   "source": [
    "print(\"%50s %5s %9s %9s %12s\"% (\"Method\", \"NumPts\", \"K1\", \"K2\", \"SPD(BPS)\"))\n",
    "for tranche in tranches:\n",
    "    for method in FinLossDistributionBuilder:\n",
    "        for numPoints in [50]:\n",
    "            v = tranche.valueBC(valuationDate,homoIssuerCurves,upfront,spd,corr1,corr2,numPoints,method)\n",
    "            print(\"%50s %5d %9.5f %9.5f %12.6f\"% (method, numPoints, tranche._k1*100, tranche._k2*100, v[3] * 10000))\n",
    "    print(\"=============================================================================================\")"
   ]
  },
  {
   "cell_type": "markdown",
   "metadata": {},
   "source": [
    "## Heterogeneous Portfolio Results"
   ]
  },
  {
   "cell_type": "code",
   "execution_count": 24,
   "metadata": {
    "scrolled": false
   },
   "outputs": [
    {
     "name": "stdout",
     "output_type": "stream",
     "text": [
      "                                            Method NumPts        K1        K2     SPD(BPS)\n",
      "              FinLossDistributionBuilder.RECURSION    50    0.00000   3.00000   949.850066\n",
      "      FinLossDistributionBuilder.ADJUSTED_BINOMIAL    50    0.00000   3.00000   949.784856\n",
      "               FinLossDistributionBuilder.GAUSSIAN    50    0.00000   3.00000   981.250094\n",
      "                    FinLossDistributionBuilder.LHP    50    0.00000   3.00000   915.005898\n",
      "=============================================================================================\n",
      "              FinLossDistributionBuilder.RECURSION    50    3.00000   6.00000   231.169571\n",
      "      FinLossDistributionBuilder.ADJUSTED_BINOMIAL    50    3.00000   6.00000   231.257011\n",
      "               FinLossDistributionBuilder.GAUSSIAN    50    3.00000   6.00000   202.506649\n",
      "                    FinLossDistributionBuilder.LHP    50    3.00000   6.00000   227.073497\n",
      "=============================================================================================\n",
      "              FinLossDistributionBuilder.RECURSION    50    6.00000   9.00000    87.342857\n",
      "      FinLossDistributionBuilder.ADJUSTED_BINOMIAL    50    6.00000   9.00000    87.397408\n",
      "               FinLossDistributionBuilder.GAUSSIAN    50    6.00000   9.00000    72.645330\n",
      "                    FinLossDistributionBuilder.LHP    50    6.00000   9.00000    95.055389\n",
      "=============================================================================================\n",
      "              FinLossDistributionBuilder.RECURSION    50    9.00000  12.00000    37.553910\n",
      "      FinLossDistributionBuilder.ADJUSTED_BINOMIAL    50    9.00000  12.00000    37.409896\n",
      "               FinLossDistributionBuilder.GAUSSIAN    50    9.00000  12.00000    30.035418\n",
      "                    FinLossDistributionBuilder.LHP    50    9.00000  12.00000    45.209085\n",
      "=============================================================================================\n",
      "              FinLossDistributionBuilder.RECURSION    50   12.00000  22.00000     8.961127\n",
      "      FinLossDistributionBuilder.ADJUSTED_BINOMIAL    50   12.00000  22.00000     8.976749\n",
      "               FinLossDistributionBuilder.GAUSSIAN    50   12.00000  22.00000     6.777253\n",
      "                    FinLossDistributionBuilder.LHP    50   12.00000  22.00000    12.655720\n",
      "=============================================================================================\n",
      "              FinLossDistributionBuilder.RECURSION    50   22.00000  60.00000     0.213219\n",
      "      FinLossDistributionBuilder.ADJUSTED_BINOMIAL    50   22.00000  60.00000     0.213319\n",
      "               FinLossDistributionBuilder.GAUSSIAN    50   22.00000  60.00000     0.136207\n",
      "                    FinLossDistributionBuilder.LHP    50   22.00000  60.00000     0.419326\n",
      "=============================================================================================\n",
      "              FinLossDistributionBuilder.RECURSION    50    0.00000  60.00000    59.254744\n",
      "      FinLossDistributionBuilder.ADJUSTED_BINOMIAL    50    0.00000  60.00000    59.254744\n",
      "               FinLossDistributionBuilder.GAUSSIAN    50    0.00000  60.00000    57.736936\n",
      "                    FinLossDistributionBuilder.LHP    50    0.00000  60.00000    59.254711\n",
      "=============================================================================================\n",
      "              FinLossDistributionBuilder.RECURSION    50    0.00000 100.00000    35.399807\n",
      "      FinLossDistributionBuilder.ADJUSTED_BINOMIAL    50    0.00000 100.00000    35.399807\n",
      "               FinLossDistributionBuilder.GAUSSIAN    50    0.00000 100.00000    34.500961\n",
      "                    FinLossDistributionBuilder.LHP    50    0.00000 100.00000    35.399790\n",
      "=============================================================================================\n"
     ]
    }
   ],
   "source": [
    "print(\"%50s %5s %9s %9s %12s\"% (\"Method\", \"NumPts\", \"K1\", \"K2\", \"SPD(BPS)\"))\n",
    "\n",
    "for tranche in tranches:\n",
    "    for method in FinLossDistributionBuilder:\n",
    "        for numPoints in [50]:\n",
    "            v = tranche.valueBC(valuationDate,heteroIssuerCurves,upfront,spd,corr1,corr2,numPoints,method)\n",
    "            print(\"%50s %5d  %9.5f %9.5f %12.6f\"% (method, numPoints, tranche._k1*100, tranche._k2*100, v[3] * 10000))\n",
    "    print(\"=============================================================================================\")"
   ]
  },
  {
   "cell_type": "markdown",
   "metadata": {},
   "source": [
    "Copyright (c) 2020 Dominic O'Kane"
   ]
  }
 ],
 "metadata": {
  "kernelspec": {
   "display_name": "Python 3",
   "language": "python",
   "name": "python3"
  },
  "language_info": {
   "codemirror_mode": {
    "name": "ipython",
    "version": 3
   },
   "file_extension": ".py",
   "mimetype": "text/x-python",
   "name": "python",
   "nbconvert_exporter": "python",
   "pygments_lexer": "ipython3",
   "version": "3.7.6"
  }
 },
 "nbformat": 4,
 "nbformat_minor": 2
}
