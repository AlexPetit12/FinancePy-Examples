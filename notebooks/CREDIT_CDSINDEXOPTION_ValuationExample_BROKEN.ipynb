{
 "cells": [
  {
   "cell_type": "markdown",
   "metadata": {},
   "source": [
    "# Creating and Valuing a CDS Index Option"
   ]
  },
  {
   "cell_type": "code",
   "execution_count": 1,
   "metadata": {},
   "outputs": [],
   "source": [
    "# This program is distributed in the hope that it will be useful, but WITHOUT ANY WARRANTY; \n",
    "# without even the implied warranty of MERCHANTABILITY or FITNESS FOR A PARTICULAR PURPOSE.  \n",
    "# See the license for more details."
   ]
  },
  {
   "cell_type": "markdown",
   "metadata": {},
   "source": [
    "This notebook does the valuation of an option on a CDS index using Anderson's method and an Adjusted Black Method. For details see Modelling Singlename and Multiname Credit Derivatives by D.O'Kane."
   ]
  },
  {
   "cell_type": "code",
   "execution_count": 2,
   "metadata": {},
   "outputs": [],
   "source": [
    "import numpy as np\n",
    "import matplotlib.pyplot as plt"
   ]
  },
  {
   "cell_type": "code",
   "execution_count": 3,
   "metadata": {},
   "outputs": [],
   "source": [
    "from financepy.finutils.FinDate import FinDate\n",
    "from financepy.finutils.FinDayCount import FinDayCountTypes\n",
    "from financepy.finutils.FinFrequency import FinFrequencyTypes\n",
    "from financepy.finutils.FinMath import ONE_MILLION\n",
    "from financepy.products.libor.FinLiborDeposit import FinLiborDeposit\n",
    "from financepy.products.libor.FinLiborSwap import FinLiborSwap\n",
    "from financepy.market.curves.FinLiborCurve import FinLiborCurve\n",
    "from financepy.products.credit.FinCDS import FinCDS\n",
    "from financepy.market.curves.FinCDSCurve import FinCDSCurve\n",
    "from financepy.products.credit.FinCDSIndexOption import FinCDSIndexOption\n",
    "from financepy.products.credit.FinCDSIndexPortfolio import FinCDSIndexPortfolio"
   ]
  },
  {
   "cell_type": "code",
   "execution_count": 4,
   "metadata": {},
   "outputs": [],
   "source": [
    "tradeDate = FinDate(1, 8, 2007)\n",
    "stepInDate = tradeDate.addDays(1)\n",
    "valuationDate = stepInDate\n",
    "settlementDate = stepInDate"
   ]
  },
  {
   "cell_type": "markdown",
   "metadata": {},
   "source": [
    "## Build Libor Curve"
   ]
  },
  {
   "cell_type": "code",
   "execution_count": 5,
   "metadata": {},
   "outputs": [],
   "source": [
    "depos = []\n",
    "dcType = FinDayCountTypes.THIRTY_E_360_ISDA\n",
    "fixedFreq = FinFrequencyTypes.SEMI_ANNUAL\n",
    "swap1 = FinLiborSwap(settlementDate,\"1Y\",0.0502,fixedFreq,dcType)\n",
    "swap2 = FinLiborSwap(settlementDate,\"2Y\",0.0502,fixedFreq,dcType)\n",
    "swap3 = FinLiborSwap(settlementDate,\"3Y\",0.0501,fixedFreq,dcType)\n",
    "swap4 = FinLiborSwap(settlementDate,\"4Y\",0.0502,fixedFreq,dcType)\n",
    "swap5 = FinLiborSwap(settlementDate,\"5Y\",0.0501,fixedFreq,dcType)\n",
    "swaps = [swap1,swap2,swap3,swap4,swap5]\n",
    "\n",
    "liborCurve = FinLiborCurve(\"USD_LIBOR\", settlementDate, depos, [], swaps)"
   ]
  },
  {
   "cell_type": "code",
   "execution_count": 6,
   "metadata": {},
   "outputs": [],
   "source": [
    "cdsMaturity3Y = tradeDate.nextCDSDate(36)\n",
    "cdsMaturity5Y = tradeDate.nextCDSDate(60)\n",
    "cdsMaturity7Y = tradeDate.nextCDSDate(84)\n",
    "cdsMaturity10Y = tradeDate.nextCDSDate(120)"
   ]
  },
  {
   "cell_type": "markdown",
   "metadata": {},
   "source": [
    "## Load the Underlying CDS Index Portfolio"
   ]
  },
  {
   "cell_type": "code",
   "execution_count": 7,
   "metadata": {},
   "outputs": [],
   "source": [
    "f = open('.//data//CDX_NA_IG_S7_SPREADS.csv', 'r')\n",
    "data = f.readlines()\n",
    "issuerCurves = []\n",
    "\n",
    "numCredits = len(data) - 1  # The file has a header\n",
    "\n",
    "for row in data[1:]:\n",
    "    splitRow = row.split(\",\")\n",
    "    creditName = splitRow[0]\n",
    "    spd3Y = float(splitRow[1]) / 10000.0\n",
    "    spd5Y = float(splitRow[2]) / 10000.0\n",
    "    spd7Y = float(splitRow[3]) / 10000.0\n",
    "    spd10Y = float(splitRow[4]) / 10000.0\n",
    "    recoveryRate = float(splitRow[5])\n",
    "    cds3Y = FinCDS(stepInDate, cdsMaturity3Y, spd3Y)\n",
    "    cds5Y = FinCDS(stepInDate, cdsMaturity5Y, spd5Y)\n",
    "    cds7Y = FinCDS(stepInDate, cdsMaturity7Y, spd7Y)\n",
    "    cds10Y = FinCDS(stepInDate, cdsMaturity10Y, spd10Y)\n",
    "    cdsContracts = [cds3Y, cds5Y, cds7Y, cds10Y]\n",
    "    issuerCurve = FinCDSCurve(valuationDate, cdsContracts, liborCurve, recoveryRate)\n",
    "    issuerCurves.append(issuerCurve)"
   ]
  },
  {
   "cell_type": "markdown",
   "metadata": {},
   "source": [
    "## Term Structure of CDS Index Market"
   ]
  },
  {
   "cell_type": "markdown",
   "metadata": {},
   "source": [
    "We now set up the term structure of CDS Index trades and start by setting up the maturity dates of the index"
   ]
  },
  {
   "cell_type": "code",
   "execution_count": 8,
   "metadata": {},
   "outputs": [],
   "source": [
    "indexMaturity3Y = FinDate(20,12,2009)\n",
    "indexMaturity5Y = FinDate(20,12,2011)\n",
    "indexMaturity7Y = FinDate(20,12,2013)\n",
    "indexMaturity10Y = FinDate(20,12,2016)"
   ]
  },
  {
   "cell_type": "markdown",
   "metadata": {},
   "source": [
    "Now we set their upfronts and coupons"
   ]
  },
  {
   "cell_type": "code",
   "execution_count": 9,
   "metadata": {},
   "outputs": [],
   "source": [
    "indexCoupons = [0.002, 0.0037, 0.0050, 0.0063]\n",
    "indexUpfronts = [0.0, 0.0, 0.0, 0.0]\n",
    "indexMaturityDates = [indexMaturity3Y, indexMaturity5Y, indexMaturity7Y, indexMaturity10Y]\n",
    "indexRecovery = 0.40"
   ]
  },
  {
   "cell_type": "markdown",
   "metadata": {},
   "source": [
    "## CDS Index Adjustment"
   ]
  },
  {
   "cell_type": "markdown",
   "metadata": {},
   "source": [
    "Ensure that the underlying CDS are adjusted to agree with index spreads"
   ]
  },
  {
   "cell_type": "code",
   "execution_count": 11,
   "metadata": {},
   "outputs": [],
   "source": [
    " adjustedIssuerCurves = FinCDSIndexPortfolio.hazardRateAdjustIntrinsic(valuationDate, issuerCurves, \n",
    "                                                                       indexCoupons, indexUpfronts,\n",
    "                                                                       indexMaturityDates, indexRecovery, 1e-6)"
   ]
  },
  {
   "cell_type": "markdown",
   "metadata": {},
   "source": [
    "## Setting up the Index Option"
   ]
  },
  {
   "cell_type": "code",
   "execution_count": 12,
   "metadata": {},
   "outputs": [],
   "source": [
    "expiryDate = FinDate(1,2,2008)\n",
    "maturityDate = indexMaturity5Y\n",
    "notional = ONE_MILLION\n",
    "volatility = 0.50\n",
    "strike = 0.005"
   ]
  },
  {
   "cell_type": "code",
   "execution_count": 19,
   "metadata": {},
   "outputs": [],
   "source": [
    "indexCoupon = 0.005"
   ]
  },
  {
   "cell_type": "code",
   "execution_count": 20,
   "metadata": {},
   "outputs": [],
   "source": [
    "option = FinCDSIndexOption(expiryDate, maturityDate, indexCoupon, strike, notional)"
   ]
  },
  {
   "cell_type": "markdown",
   "metadata": {},
   "source": [
    "## Anderson Method"
   ]
  },
  {
   "cell_type": "markdown",
   "metadata": {},
   "source": [
    "This is the full method that takes in the entire vector of adjusted issuer curves"
   ]
  },
  {
   "cell_type": "code",
   "execution_count": 21,
   "metadata": {},
   "outputs": [
    {
     "name": "stdout",
     "output_type": "stream",
     "text": [
      "Wall time: 19.9 ms\n"
     ]
    }
   ],
   "source": [
    "%time v_pay_1, v_rec_1, strikeValue, mu, expH \\\n",
    "        = option.valueAnderson(valuationDate, adjustedIssuerCurves, indexRecovery, volatility)"
   ]
  },
  {
   "cell_type": "code",
   "execution_count": 22,
   "metadata": {},
   "outputs": [
    {
     "name": "stdout",
     "output_type": "stream",
     "text": [
      "Payer Value:  1139.62\n"
     ]
    }
   ],
   "source": [
    "print(\"Payer Value: %8.2f\"% v_pay_1)"
   ]
  },
  {
   "cell_type": "code",
   "execution_count": 23,
   "metadata": {},
   "outputs": [
    {
     "name": "stdout",
     "output_type": "stream",
     "text": [
      "Receiver Value:  3780.83\n"
     ]
    }
   ],
   "source": [
    "print(\"Receiver Value: %8.2f\"% v_rec_1)"
   ]
  },
  {
   "cell_type": "markdown",
   "metadata": {},
   "source": [
    "## Adjusted Black Method"
   ]
  },
  {
   "cell_type": "markdown",
   "metadata": {},
   "source": [
    "This is a faster method that gives a similar result"
   ]
  },
  {
   "cell_type": "code",
   "execution_count": 24,
   "metadata": {},
   "outputs": [
    {
     "ename": "NameError",
     "evalue": "name 'indexCurve' is not defined",
     "output_type": "error",
     "traceback": [
      "\u001b[1;31m---------------------------------------------------------------------------\u001b[0m",
      "\u001b[1;31mNameError\u001b[0m                                 Traceback (most recent call last)",
      "\u001b[1;32m<ipython-input-24-34df10d67f68>\u001b[0m in \u001b[0;36m<module>\u001b[1;34m\u001b[0m\n\u001b[1;32m----> 1\u001b[1;33m \u001b[0mv_pay_2\u001b[0m\u001b[1;33m,\u001b[0m \u001b[0mv_rec_2\u001b[0m \u001b[1;33m=\u001b[0m \u001b[0moption\u001b[0m\u001b[1;33m.\u001b[0m\u001b[0mvalueAdjustedBlack\u001b[0m\u001b[1;33m(\u001b[0m\u001b[0mvaluationDate\u001b[0m\u001b[1;33m,\u001b[0m \u001b[0mindexCurve\u001b[0m\u001b[1;33m,\u001b[0m \u001b[0mindexRecovery\u001b[0m\u001b[1;33m,\u001b[0m \u001b[0mliborCurve\u001b[0m\u001b[1;33m,\u001b[0m \u001b[0mvolatility\u001b[0m\u001b[1;33m)\u001b[0m\u001b[1;33m\u001b[0m\u001b[1;33m\u001b[0m\u001b[0m\n\u001b[0m",
      "\u001b[1;31mNameError\u001b[0m: name 'indexCurve' is not defined"
     ]
    }
   ],
   "source": [
    "v_pay_2, v_rec_2 = option.valueAdjustedBlack(valuationDate, indexCurve, indexRecovery, liborCurve, volatility)"
   ]
  },
  {
   "cell_type": "code",
   "execution_count": 184,
   "metadata": {},
   "outputs": [
    {
     "name": "stdout",
     "output_type": "stream",
     "text": [
      "Payer Value:  7036.58\n"
     ]
    }
   ],
   "source": [
    "print(\"Payer Value: %8.2f\"% v_pay_2)"
   ]
  },
  {
   "cell_type": "code",
   "execution_count": 185,
   "metadata": {},
   "outputs": [
    {
     "name": "stdout",
     "output_type": "stream",
     "text": [
      "Receiver Value:   706.69\n"
     ]
    }
   ],
   "source": [
    "print(\"Receiver Value: %8.2f\"% v_rec_2)"
   ]
  },
  {
   "cell_type": "markdown",
   "metadata": {},
   "source": [
    "## Comparison of Anderson versus Adjusted Black Model"
   ]
  },
  {
   "cell_type": "code",
   "execution_count": 186,
   "metadata": {},
   "outputs": [
    {
     "name": "stdout",
     "output_type": "stream",
     "text": [
      "Strike   Coupon    V_PAY_AND    V_PAY_BLK    DIFF(%)     V_REC_AND   V_REC_BLK     DIFF(%)\n",
      "  20.0      20.0     1610.14     1612.67      -0.16         619.03      609.98        1.46\n",
      "  30.0      20.0      402.96      402.48       0.12        2879.47     2864.51        0.52\n",
      "  40.0      20.0       87.74       89.08      -1.52        6010.00     5988.11        0.36\n",
      "  50.0      20.0       18.48       19.69      -6.53        9364.75     9328.23        0.39\n",
      "  60.0      20.0        4.23        4.55      -7.47       12752.91    12695.31        0.45\n",
      "  20.0      30.0     5038.79     5045.39      -0.13          87.82       82.80        5.71\n",
      "  30.0      30.0     2404.91     2408.26      -0.14         918.65      913.31        0.58\n",
      "  40.0      30.0      973.29      981.04      -0.80        2929.86     2925.99        0.13\n",
      "  50.0      30.0      363.76      370.08      -1.74        5741.43     5727.42        0.24\n",
      "  60.0      30.0      131.34      136.14      -3.66        8908.49     8878.55        0.34\n",
      "  20.0      40.0     8894.30     8905.21      -0.12          11.70       10.58        9.58\n",
      "  30.0      40.0     5671.76     5671.49       0.00         250.99      247.41        1.42\n",
      "  40.0      40.0     3193.12     3196.79      -0.12        1212.28     1215.52       -0.27\n",
      "  50.0      40.0     1640.48     1651.45      -0.67        3077.85     3085.45       -0.25\n",
      "  60.0      40.0      800.28      810.98      -1.34        5634.23     5632.90        0.02\n",
      "  20.0      50.0    12796.25    12800.44      -0.03           1.63        1.42       12.61\n",
      "  30.0      50.0     9401.54     9389.25       0.13          65.87       63.72        3.26\n",
      "  40.0      50.0     6359.90     6342.65       0.27         461.30      462.83       -0.33\n",
      "  50.0      50.0     3980.94     3978.31       0.07        1497.65     1516.63       -1.27\n",
      "  60.0      50.0     2359.84     2362.92      -0.13        3270.26     3292.02       -0.67\n",
      "  20.0      60.0    16712.71    16676.15       0.22           0.27        0.21       22.54\n",
      "  30.0      60.0    13273.19    13215.99       0.43          16.82       16.45        2.18\n",
      "  40.0      60.0     9988.76     9920.82       0.68         166.58      169.90       -2.00\n",
      "  50.0      60.0     7099.47     7036.58       0.89         689.72      706.69       -2.46\n",
      "  60.0      60.0     4787.35     4752.89       0.72        1768.43     1816.63       -2.73\n"
     ]
    }
   ],
   "source": [
    "print(\"Strike   Coupon    V_PAY_AND    V_PAY_BLK    DIFF(%)     V_REC_AND   V_REC_BLK     DIFF(%)\")\n",
    "\n",
    "for index in np.linspace(20, 60, 5):\n",
    "    \n",
    "    # Create a flat CDS index curve\n",
    "    cdsContracts = []\n",
    "    for dt in indexMaturityDates:\n",
    "        cds = FinCDS(valuationDate, dt, index / 10000.0)\n",
    "        cdsContracts.append(cds)\n",
    "\n",
    "    # Build the flat CDS index curve\n",
    "    indexCurve = FinCDSCurve(valuationDate, cdsContracts, liborCurve, indexRecovery)\n",
    "\n",
    "    # Now we need to set up the underlying curves\n",
    "    if 1 == 1:\n",
    "        \n",
    "        indexSpreads = [index / 10000.0] * 4\n",
    "        adjustedIssuerCurves = FinCDSIndexPortfolio.hazardRateAdjustIntrinsic(valuationDate, issuerCurves, \n",
    "                                                                              indexSpreads, indexUpfronts,\n",
    "                                                                              indexMaturityDates, indexRecovery, \n",
    "                                                                              1e-5)\n",
    "    for strike in np.linspace(20,60,5):    \n",
    "\n",
    "        option = FinCDSIndexOption(expiryDate, maturityDate, indexCoupon, strike / 10000.0, notional)\n",
    "        v_pay_1, v_rec_1, strikeValue, mu, expH = option.valueAnderson(valuationDate, adjustedIssuerCurves, indexRecovery, volatility)\n",
    "        v_pay_2, v_rec_2 = option.valueAdjustedBlack(valuationDate, indexCurve, indexRecovery, liborCurve, volatility)\n",
    "            \n",
    "        diff1 = 100.0 * (v_pay_1 - v_pay_2)/v_pay_1\n",
    "        diff2 = 100.0 * (v_rec_1 - v_rec_2)/v_rec_1\n",
    "        \n",
    "        print(\"%6.1f    %6.1f    %8.2f    %8.2f   %8.2f       %8.2f    %8.2f    %8.2f\" % \n",
    "              (strike, index, v_pay_1, v_pay_2, diff1, v_rec_1, v_rec_2, diff2 ))"
   ]
  },
  {
   "cell_type": "code",
   "execution_count": null,
   "metadata": {},
   "outputs": [],
   "source": []
  },
  {
   "cell_type": "code",
   "execution_count": 34,
   "metadata": {},
   "outputs": [],
   "source": [
    "\n"
   ]
  },
  {
   "cell_type": "code",
   "execution_count": null,
   "metadata": {},
   "outputs": [],
   "source": []
  }
 ],
 "metadata": {
  "kernelspec": {
   "display_name": "Python 3",
   "language": "python",
   "name": "python3"
  },
  "language_info": {
   "codemirror_mode": {
    "name": "ipython",
    "version": 3
   },
   "file_extension": ".py",
   "mimetype": "text/x-python",
   "name": "python",
   "nbconvert_exporter": "python",
   "pygments_lexer": "ipython3",
   "version": "3.7.7"
  }
 },
 "nbformat": 4,
 "nbformat_minor": 2
}
