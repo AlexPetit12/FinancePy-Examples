{
 "cells": [
  {
   "cell_type": "markdown",
   "metadata": {},
   "source": [
    "# Building a CDS Survival Curve"
   ]
  },
  {
   "cell_type": "markdown",
   "metadata": {},
   "source": [
    "Understand what a CDS survival curve is"
   ]
  },
  {
   "cell_type": "code",
   "execution_count": 1,
   "metadata": {},
   "outputs": [],
   "source": [
    "import numpy as np\n",
    "import matplotlib.pyplot as plt"
   ]
  },
  {
   "cell_type": "code",
   "execution_count": 2,
   "metadata": {},
   "outputs": [],
   "source": [
    "from financepy.products.credit.FinCDS import FinCDS\n",
    "from financepy.products.libor.FinLiborDeposit import FinLiborDeposit\n",
    "from financepy.products.libor.FinLiborSwap import FinLiborSwap\n",
    "from financepy.market.curves.FinCDSCurve import FinCDSCurve\n",
    "from financepy.market.curves.FinLiborCurve import FinLiborCurve\n",
    "from financepy.finutils.FinFrequency import FinFrequencyTypes\n",
    "from financepy.finutils.FinDayCount import FinDayCountTypes\n",
    "from financepy.finutils.FinDate import FinDate"
   ]
  },
  {
   "cell_type": "markdown",
   "metadata": {},
   "source": [
    "## Build Libor Curve"
   ]
  },
  {
   "cell_type": "code",
   "execution_count": 3,
   "metadata": {},
   "outputs": [],
   "source": [
    "settlementDate = FinDate(2018, 12, 20)"
   ]
  },
  {
   "cell_type": "code",
   "execution_count": 4,
   "metadata": {},
   "outputs": [],
   "source": [
    "dcType = FinDayCountTypes.ACT_360\n",
    "depo1 = FinLiborDeposit(settlementDate, \"1M\", 0.022009, dcType)\n",
    "depo2 = FinLiborDeposit(settlementDate, \"2M\", 0.022138, dcType)\n",
    "depo3 = FinLiborDeposit(settlementDate, \"3M\", 0.021810, dcType)\n",
    "depo4 = FinLiborDeposit(settlementDate, \"6M\", 0.020503, dcType)\n",
    "depo5 = FinLiborDeposit(settlementDate, \"12M\", 0.019930, dcType)\n",
    "depos = [depo1,depo2,depo3,depo4,depo5]\n",
    "\n",
    "dcType = FinDayCountTypes.THIRTY_E_360_ISDA\n",
    "fixedFreq = FinFrequencyTypes.SEMI_ANNUAL\n",
    "swap1 = FinLiborSwap(settlementDate,\"2Y\",0.015910,fixedFreq,dcType)\n",
    "swap2 = FinLiborSwap(settlementDate,\"3Y\",0.014990,fixedFreq,dcType)\n",
    "swap3 = FinLiborSwap(settlementDate,\"4Y\",0.014725,fixedFreq,dcType)\n",
    "swap4 = FinLiborSwap(settlementDate,\"5Y\",0.014640,fixedFreq,dcType)\n",
    "swap5 = FinLiborSwap(settlementDate,\"6Y\",0.014800,fixedFreq,dcType)\n",
    "swap6 = FinLiborSwap(settlementDate,\"7Y\",0.014995,fixedFreq,dcType)\n",
    "swap7 = FinLiborSwap(settlementDate,\"8Y\",0.015180,fixedFreq,dcType)\n",
    "swap8 = FinLiborSwap(settlementDate,\"9Y\",0.015610,fixedFreq,dcType)\n",
    "swap9 = FinLiborSwap(settlementDate,\"10Y\",0.0159880,fixedFreq,dcType)\n",
    "swap10 = FinLiborSwap(settlementDate,\"12Y\",0.016430,fixedFreq,dcType)\n",
    "swaps = [swap1,swap2,swap3,swap4,swap5,swap6,swap7,swap8,swap9,swap10]\n",
    "\n",
    "liborCurve = FinLiborCurve(\"USD_LIBOR\", settlementDate, depos, [], swaps)"
   ]
  },
  {
   "cell_type": "markdown",
   "metadata": {},
   "source": [
    "# Build a CDS Curve"
   ]
  },
  {
   "cell_type": "code",
   "execution_count": 5,
   "metadata": {},
   "outputs": [],
   "source": [
    "cds1 = FinCDS(settlementDate, \"1Y\", 0.0200)\n",
    "cds2 = FinCDS(settlementDate, \"2Y\", 0.0220)\n",
    "cds3 = FinCDS(settlementDate, \"3Y\", 0.0250)\n",
    "cds4 = FinCDS(settlementDate, \"4Y\", 0.0275)\n",
    "cds5 = FinCDS(settlementDate, \"5Y\", 0.0290)\n",
    "cds6 = FinCDS(settlementDate, \"7Y\", 0.0300)\n",
    "cds7 = FinCDS(settlementDate, \"10Y\", 0.0310)\n",
    "cds8 = FinCDS(settlementDate, \"15Y\", 0.0315)"
   ]
  },
  {
   "cell_type": "code",
   "execution_count": 6,
   "metadata": {},
   "outputs": [],
   "source": [
    "cdss = [cds1, cds2, cds3, cds4, cds5, cds6, cds7, cds8]"
   ]
  },
  {
   "cell_type": "code",
   "execution_count": 7,
   "metadata": {},
   "outputs": [],
   "source": [
    "recoveryRate = 0.40"
   ]
  },
  {
   "cell_type": "code",
   "execution_count": 8,
   "metadata": {},
   "outputs": [],
   "source": [
    "issuerCurve = FinCDSCurve(settlementDate, cdss, liborCurve, recoveryRate)"
   ]
  },
  {
   "cell_type": "markdown",
   "metadata": {},
   "source": [
    "## Examine the Survival Curve"
   ]
  },
  {
   "cell_type": "code",
   "execution_count": 9,
   "metadata": {},
   "outputs": [
    {
     "name": "stdout",
     "output_type": "stream",
     "text": [
      "[ 0.          0.99933743  2.00141276  3.00075019  4.00008761  4.99942504\n",
      "  7.0008378  10.00158799 15.00101303]\n"
     ]
    }
   ],
   "source": [
    "print(issuerCurve._times)"
   ]
  },
  {
   "cell_type": "code",
   "execution_count": 10,
   "metadata": {},
   "outputs": [
    {
     "name": "stdout",
     "output_type": "stream",
     "text": [
      "[1.         0.9667627  0.92812846 0.88001739 0.82810946 0.77913327\n",
      " 0.69647118 0.5852224  0.44200531]\n"
     ]
    }
   ],
   "source": [
    "print(issuerCurve._values)"
   ]
  },
  {
   "cell_type": "code",
   "execution_count": 11,
   "metadata": {},
   "outputs": [],
   "source": [
    "times = np.linspace(0.0,20.0,10)"
   ]
  },
  {
   "cell_type": "code",
   "execution_count": 12,
   "metadata": {},
   "outputs": [
    {
     "data": {
      "text/plain": [
       "array([ 0.        ,  2.22222222,  4.44444444,  6.66666667,  8.88888889,\n",
       "       11.11111111, 13.33333333, 15.55555556, 17.77777778, 20.        ])"
      ]
     },
     "execution_count": 12,
     "metadata": {},
     "output_type": "execute_result"
    }
   ],
   "source": [
    "times"
   ]
  },
  {
   "cell_type": "code",
   "execution_count": 13,
   "metadata": {},
   "outputs": [],
   "source": [
    "survProbs = issuerCurve.survProb(times)"
   ]
  },
  {
   "cell_type": "code",
   "execution_count": 14,
   "metadata": {},
   "outputs": [
    {
     "data": {
      "text/plain": [
       "array([1.        , 0.91727655, 0.80596309, 0.70963644, 0.6242339 ,\n",
       "       0.5498815 , 0.48538685, 0.42845667, 0.37820373, 0.33384487])"
      ]
     },
     "execution_count": 14,
     "metadata": {},
     "output_type": "execute_result"
    }
   ],
   "source": [
    "survProbs"
   ]
  },
  {
   "cell_type": "code",
   "execution_count": 15,
   "metadata": {},
   "outputs": [
    {
     "data": {
      "text/plain": [
       "Text(0, 0.5, 'Survival Probability')"
      ]
     },
     "execution_count": 15,
     "metadata": {},
     "output_type": "execute_result"
    },
    {
     "data": {
      "image/png": "[encoded data removed]",
      "text/plain": [
       "<Figure size 432x288 with 1 Axes>"
      ]
     },
     "metadata": {
      "needs_background": "light"
     },
     "output_type": "display_data"
    }
   ],
   "source": [
    "plt.plot(times, survProbs)\n",
    "plt.xlabel(\"Years\")\n",
    "plt.ylabel(\"Survival Probability\")"
   ]
  },
  {
   "cell_type": "markdown",
   "metadata": {},
   "source": [
    "Copyright (c) 2020 Dominic O'Kane"
   ]
  },
  {
   "cell_type": "code",
   "execution_count": null,
   "metadata": {},
   "outputs": [],
   "source": []
  }
 ],
 "metadata": {
  "kernelspec": {
   "display_name": "Python 3",
   "language": "python",
   "name": "python3"
  },
  "language_info": {
   "codemirror_mode": {
    "name": "ipython",
    "version": 3
   },
   "file_extension": ".py",
   "mimetype": "text/x-python",
   "name": "python",
   "nbconvert_exporter": "python",
   "pygments_lexer": "ipython3",
   "version": "3.7.7"
  }
 },
 "nbformat": 4,
 "nbformat_minor": 2
}
