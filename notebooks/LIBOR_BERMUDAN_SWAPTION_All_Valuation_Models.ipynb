{
 "cells": [
  {
   "cell_type": "markdown",
   "metadata": {},
   "source": [
    "# Bermudan Swaption Pricing"
   ]
  },
  {
   "cell_type": "markdown",
   "metadata": {},
   "source": [
    "Value a European Swaption using the Hull-White, Black-Derman-Toy and Black-Karasinski models. I analyse relationships to test the model pricing."
   ]
  },
  {
   "cell_type": "code",
   "execution_count": 140,
   "metadata": {},
   "outputs": [],
   "source": [
    "import numpy as np\n",
    "import matplotlib.pyplot as plt"
   ]
  },
  {
   "cell_type": "code",
   "execution_count": 141,
   "metadata": {
    "tags": []
   },
   "outputs": [],
   "source": [
    "from financepy.finutils import *\n",
    "from financepy.products.libor import *\n",
    "from financepy.market.curves import *\n",
    "from financepy.models.FinModelRatesHW import FinModelRatesHW\n",
    "from financepy.models.FinModelRatesBK import FinModelRatesBK\n",
    "from financepy.models.FinModelRatesBDT import FinModelRatesBDT"
   ]
  },
  {
   "cell_type": "markdown",
   "metadata": {},
   "source": [
    "## Discount Curve"
   ]
  },
  {
   "cell_type": "code",
   "execution_count": 142,
   "metadata": {},
   "outputs": [],
   "source": [
    "valuationDate = FinDate(1, 1, 2011)\n",
    "settlementDate = valuationDate"
   ]
  },
  {
   "cell_type": "markdown",
   "metadata": {},
   "source": [
    "Set up flat discount curve"
   ]
  },
  {
   "cell_type": "code",
   "execution_count": 143,
   "metadata": {},
   "outputs": [],
   "source": [
    "rate = 0.0625\n",
    "liborCurve = FinDiscountCurveFlat(valuationDate, rate, FinFrequencyTypes.SEMI_ANNUAL)"
   ]
  },
  {
   "cell_type": "markdown",
   "metadata": {},
   "source": [
    "# The Underlying Swap"
   ]
  },
  {
   "cell_type": "markdown",
   "metadata": {},
   "source": [
    "We begin with the underlying swap."
   ]
  },
  {
   "cell_type": "code",
   "execution_count": 144,
   "metadata": {},
   "outputs": [],
   "source": [
    "exerciseDate = settlementDate.addTenor(\"1Y\")\n",
    "swapMaturityDate = settlementDate.addTenor(\"4Y\")\n",
    "swapFixedCoupon = 0.060\n",
    "swapFixedFrequencyType = FinFrequencyTypes.SEMI_ANNUAL\n",
    "swapFixedDayCountType = FinDayCountTypes.ACT_365F\n",
    "swapType = FinLiborSwapTypes.PAYER "
   ]
  },
  {
   "cell_type": "markdown",
   "metadata": {},
   "source": [
    "We can value the forward starting swap."
   ]
  },
  {
   "cell_type": "code",
   "execution_count": 145,
   "metadata": {},
   "outputs": [],
   "source": [
    "swap = FinLiborSwap(exerciseDate,\n",
    "                    swapMaturityDate,\n",
    "                    swapType,\n",
    "                    swapFixedCoupon,\n",
    "                    swapFixedFrequencyType,\n",
    "                    swapFixedDayCountType)"
   ]
  },
  {
   "cell_type": "code",
   "execution_count": 146,
   "metadata": {},
   "outputs": [
    {
     "name": "stdout",
     "output_type": "stream",
     "text": [
      "Swap Value: 6193.31147\n"
     ]
    }
   ],
   "source": [
    "swapValue = swap.value(valuationDate, liborCurve, liborCurve)\n",
    "print(\"Swap Value: %9.5f\"% swapValue)"
   ]
  },
  {
   "cell_type": "markdown",
   "metadata": {},
   "source": [
    "# Bermudan Swaption Framework"
   ]
  },
  {
   "cell_type": "markdown",
   "metadata": {},
   "source": [
    "I now examine FinBermudanSwaption and use the tree models to value it. But first let me price it on the tree models as a European option."
   ]
  },
  {
   "cell_type": "code",
   "execution_count": 147,
   "metadata": {},
   "outputs": [],
   "source": [
    "blackVol = 0.0000020"
   ]
  },
  {
   "cell_type": "markdown",
   "metadata": {},
   "source": [
    "## Start By Only Allowing European Exercise"
   ]
  },
  {
   "cell_type": "code",
   "execution_count": 148,
   "metadata": {},
   "outputs": [],
   "source": [
    "europeanSwaptionPay = FinLiborBermudanSwaption(settlementDate,\n",
    "                                               exerciseDate,\n",
    "                                               swapMaturityDate,\n",
    "                                               FinLiborSwapTypes.PAYER,\n",
    "                                               FinOptionExerciseTypes.EUROPEAN,\n",
    "                                               swapFixedCoupon,\n",
    "                                               swapFixedFrequencyType,\n",
    "                                               swapFixedDayCountType)"
   ]
  },
  {
   "cell_type": "code",
   "execution_count": 149,
   "metadata": {},
   "outputs": [],
   "source": [
    "europeanSwaptionRec = FinLiborBermudanSwaption(settlementDate,\n",
    "                                               exerciseDate,\n",
    "                                               swapMaturityDate,\n",
    "                                               FinLiborSwapTypes.RECEIVER,\n",
    "                                               FinOptionExerciseTypes.EUROPEAN,\n",
    "                                               swapFixedCoupon,\n",
    "                                               swapFixedFrequencyType,\n",
    "                                               swapFixedDayCountType)"
   ]
  },
  {
   "cell_type": "markdown",
   "metadata": {},
   "source": [
    "### Black Karasinski Model"
   ]
  },
  {
   "cell_type": "code",
   "execution_count": 150,
   "metadata": {},
   "outputs": [],
   "source": [
    "sigma = blackVol\n",
    "a = 0.01\n",
    "numTimeSteps = 101\n",
    "model = FinModelRatesBK(sigma, a, numTimeSteps)"
   ]
  },
  {
   "cell_type": "code",
   "execution_count": 151,
   "metadata": {},
   "outputs": [
    {
     "name": "stdout",
     "output_type": "stream",
     "text": [
      "Payer Value: 6193.31120\n",
      "Recvr Value:   0.00000\n",
      "PayV - RecV: 6193.31120\n"
     ]
    }
   ],
   "source": [
    "valuePay = europeanSwaptionPay.value(valuationDate, liborCurve, model)\n",
    "valueRec = europeanSwaptionRec.value(valuationDate, liborCurve, model)\n",
    "valuePayRec = valuePay - valueRec\n",
    "print(\"Payer Value: %9.5f\"% valuePay)\n",
    "print(\"Recvr Value: %9.5f\"% valueRec)\n",
    "print(\"PayV - RecV: %9.5f\"% valuePayRec)"
   ]
  },
  {
   "cell_type": "markdown",
   "metadata": {},
   "source": [
    "### Black Derman Toy Model"
   ]
  },
  {
   "cell_type": "code",
   "execution_count": 152,
   "metadata": {},
   "outputs": [],
   "source": [
    "sigma = blackVol\n",
    "numTimeSteps = 101\n",
    "model = FinModelRatesBDT(sigma, numTimeSteps)"
   ]
  },
  {
   "cell_type": "code",
   "execution_count": 153,
   "metadata": {},
   "outputs": [
    {
     "name": "stdout",
     "output_type": "stream",
     "text": [
      "Payer Value: 6192.84909\n",
      "Recvr Value:   0.00000\n",
      "PayV - RecV: 6192.84909\n"
     ]
    }
   ],
   "source": [
    "valuePay = europeanSwaptionPay.value(valuationDate, liborCurve, model)\n",
    "valueRec = europeanSwaptionRec.value(valuationDate, liborCurve, model)\n",
    "valuePayRec = valuePay - valueRec\n",
    "print(\"Payer Value: %9.5f\"% valuePay)\n",
    "print(\"Recvr Value: %9.5f\"% valueRec)\n",
    "print(\"PayV - RecV: %9.5f\"% valuePayRec)"
   ]
  },
  {
   "cell_type": "markdown",
   "metadata": {},
   "source": [
    "### Hull White Model"
   ]
  },
  {
   "cell_type": "code",
   "execution_count": 154,
   "metadata": {},
   "outputs": [],
   "source": [
    "sigma = blackVol * rate\n",
    "a = 0.01\n",
    "numTimeSteps = 101\n",
    "model = FinModelRatesHW(sigma, a, numTimeSteps)"
   ]
  },
  {
   "cell_type": "code",
   "execution_count": 155,
   "metadata": {},
   "outputs": [
    {
     "name": "stdout",
     "output_type": "stream",
     "text": [
      "Payer Value: 6193.31147\n",
      "Recvr Value:   0.00000\n",
      "PayV - RecV: 6193.31147\n"
     ]
    }
   ],
   "source": [
    "valuePay = europeanSwaptionPay.value(valuationDate, liborCurve, model)\n",
    "valueRec = europeanSwaptionRec.value(valuationDate, liborCurve, model)\n",
    "valuePayRec = valuePay - valueRec\n",
    "print(\"Payer Value: %9.5f\"% valuePay)\n",
    "print(\"Recvr Value: %9.5f\"% valueRec)\n",
    "print(\"PayV - RecV: %9.5f\"% valuePayRec)"
   ]
  },
  {
   "cell_type": "markdown",
   "metadata": {},
   "source": [
    "# Now allow Multiple Exercise Dates - Bermudan"
   ]
  },
  {
   "cell_type": "markdown",
   "metadata": {},
   "source": [
    "Now allow exercise on coupon dates after expiry."
   ]
  },
  {
   "cell_type": "code",
   "execution_count": 156,
   "metadata": {},
   "outputs": [],
   "source": [
    "bermudanSwaptionPay = FinLiborBermudanSwaption(settlementDate,\n",
    "                                               exerciseDate,\n",
    "                                               swapMaturityDate,\n",
    "                                               FinLiborSwapTypes.PAYER,\n",
    "                                               FinOptionExerciseTypes.BERMUDAN,\n",
    "                                               swapFixedCoupon,\n",
    "                                               swapFixedFrequencyType,\n",
    "                                               swapFixedDayCountType)"
   ]
  },
  {
   "cell_type": "code",
   "execution_count": 157,
   "metadata": {},
   "outputs": [],
   "source": [
    "bermudanSwaptionRec = FinLiborBermudanSwaption(settlementDate,\n",
    "                                               exerciseDate,\n",
    "                                               swapMaturityDate,\n",
    "                                               FinLiborSwapTypes.RECEIVER,\n",
    "                                               FinOptionExerciseTypes.BERMUDAN,\n",
    "                                               swapFixedCoupon,\n",
    "                                               swapFixedFrequencyType,\n",
    "                                               swapFixedDayCountType)"
   ]
  },
  {
   "cell_type": "markdown",
   "metadata": {},
   "source": [
    "### Black Karasinski Model"
   ]
  },
  {
   "cell_type": "code",
   "execution_count": 158,
   "metadata": {},
   "outputs": [],
   "source": [
    "sigma = 0.20\n",
    "a = 0.01\n",
    "numTimeSteps = 201\n",
    "model = FinModelRatesBK(sigma, a, numTimeSteps)"
   ]
  },
  {
   "cell_type": "code",
   "execution_count": 159,
   "metadata": {},
   "outputs": [
    {
     "name": "stdout",
     "output_type": "stream",
     "text": [
      "Payer Value: 19079.53200\n",
      "Recvr Value: 13065.67271\n",
      "PayV - RecV: 6013.85930\n"
     ]
    }
   ],
   "source": [
    "valuePay = bermudanSwaptionPay.value(valuationDate, liborCurve, model)\n",
    "valueRec = bermudanSwaptionRec.value(valuationDate, liborCurve, model)\n",
    "valuePayRec = valuePay - valueRec\n",
    "print(\"Payer Value: %9.5f\"% valuePay)\n",
    "print(\"Recvr Value: %9.5f\"% valueRec)\n",
    "print(\"PayV - RecV: %9.5f\"% valuePayRec)"
   ]
  },
  {
   "cell_type": "markdown",
   "metadata": {},
   "source": [
    "### Black-Derman-Toy Model"
   ]
  },
  {
   "cell_type": "code",
   "execution_count": 160,
   "metadata": {},
   "outputs": [],
   "source": [
    "sigma = 0.20\n",
    "numTimeSteps = 201\n",
    "model = FinModelRatesBDT(sigma, numTimeSteps)"
   ]
  },
  {
   "cell_type": "code",
   "execution_count": 161,
   "metadata": {},
   "outputs": [
    {
     "name": "stdout",
     "output_type": "stream",
     "text": [
      "Payer Value: 19337.67907\n",
      "Recvr Value: 13356.33735\n",
      "PayV - RecV: 5981.34172\n"
     ]
    }
   ],
   "source": [
    "valuePay = bermudanSwaptionPay.value(settlementDate, liborCurve, model)\n",
    "valueRec = bermudanSwaptionRec.value(settlementDate, liborCurve, model)\n",
    "valuePayRec = valuePay - valueRec\n",
    "print(\"Payer Value: %9.5f\"% valuePay)\n",
    "print(\"Recvr Value: %9.5f\"% valueRec)\n",
    "print(\"PayV - RecV: %9.5f\"% valuePayRec)"
   ]
  },
  {
   "cell_type": "markdown",
   "metadata": {},
   "source": [
    "### Hull-White Model"
   ]
  },
  {
   "cell_type": "code",
   "execution_count": 162,
   "metadata": {},
   "outputs": [],
   "source": [
    "sigma = 0.01\n",
    "a = 0.01\n",
    "numTimeSteps = 201\n",
    "model = FinModelRatesHW(sigma, a)"
   ]
  },
  {
   "cell_type": "code",
   "execution_count": 163,
   "metadata": {},
   "outputs": [
    {
     "name": "stdout",
     "output_type": "stream",
     "text": [
      "Payer Value: 16468.31966\n",
      "Recvr Value: 10517.20803\n",
      "PayV - RecV: 5951.11163\n"
     ]
    }
   ],
   "source": [
    "valuePay = bermudanSwaptionPay.value(settlementDate, liborCurve, model)\n",
    "valueRec = bermudanSwaptionRec.value(settlementDate, liborCurve, model)\n",
    "valuePayRec = valuePay - valueRec\n",
    "print(\"Payer Value: %9.5f\"% valuePay)\n",
    "print(\"Recvr Value: %9.5f\"% valueRec)\n",
    "print(\"PayV - RecV: %9.5f\"% valuePayRec)"
   ]
  },
  {
   "cell_type": "markdown",
   "metadata": {},
   "source": [
    "The swaption is Bermudan so it can only be exercised on coupon payment dates"
   ]
  },
  {
   "cell_type": "markdown",
   "metadata": {},
   "source": [
    "Copyright (c) 2020 Dominic O'Kane"
   ]
  }
 ],
 "metadata": {
  "kernelspec": {
   "display_name": "Python 3",
   "language": "python",
   "name": "python3"
  },
  "language_info": {
   "codemirror_mode": {
    "name": "ipython",
    "version": 3
   },
   "file_extension": ".py",
   "mimetype": "text/x-python",
   "name": "python",
   "nbconvert_exporter": "python",
   "pygments_lexer": "ipython3",
   "version": "3.7.6"
  }
 },
 "nbformat": 4,
 "nbformat_minor": 2
}
