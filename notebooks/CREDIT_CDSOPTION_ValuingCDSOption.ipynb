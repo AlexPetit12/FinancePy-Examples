{
 "cells": [
  {
   "cell_type": "markdown",
   "metadata": {},
   "source": [
    "# Creating and Valuing a CDS Option"
   ]
  },
  {
   "cell_type": "markdown",
   "metadata": {},
   "source": [
    "Example CDS Valuation and comparison with market standard ISDA model on Markit website"
   ]
  },
  {
   "cell_type": "code",
   "execution_count": 1,
   "metadata": {},
   "outputs": [],
   "source": [
    "import numpy as np\n",
    "import matplotlib.pyplot as plt"
   ]
  },
  {
   "cell_type": "code",
   "execution_count": 1,
   "metadata": {},
   "outputs": [
    {
     "name": "stdout",
     "output_type": "stream",
     "text": [
      "####################################################################\n",
      "# FINANCEPY BETA Version 0.180 - This build:  22 Sep 2020 at 22:29 #\n",
      "#      This software is distributed FREE & WITHOUT ANY WARRANTY    #\n",
      "# For info and disclaimer - https://github.com/domokane/FinancePy  #\n",
      "#    For bug reports and comments - allmypythonprojects@gmail.com  #\n",
      "####################################################################\n",
      "\n"
     ]
    }
   ],
   "source": [
    "from financepy.finutils import *\n",
    "from financepy.products.libor import *\n",
    "from financepy.products.credit import *"
   ]
  },
  {
   "cell_type": "markdown",
   "metadata": {},
   "source": [
    "Set the trade date and settlement date one day later"
   ]
  },
  {
   "cell_type": "code",
   "execution_count": 2,
   "metadata": {},
   "outputs": [],
   "source": [
    "tradeDate = FinDate(5, 2, 2014)\n",
    "settlementDate = tradeDate.addDays(1)"
   ]
  },
  {
   "cell_type": "markdown",
   "metadata": {},
   "source": [
    "## Build Libor Curve"
   ]
  },
  {
   "cell_type": "code",
   "execution_count": 3,
   "metadata": {},
   "outputs": [],
   "source": [
    "depos = []\n",
    "dcType = FinDayCountTypes.THIRTY_E_360\n",
    "fixedFreq = FinFrequencyTypes.SEMI_ANNUAL\n",
    "swapType = FinLiborSwapTypes.PAYER\n",
    "swap1 = FinLiborSwap(settlementDate,\"1Y\",swapType,0.0502,fixedFreq,dcType)\n",
    "swap2 = FinLiborSwap(settlementDate,\"2Y\",swapType,0.0502,fixedFreq,dcType)\n",
    "swap3 = FinLiborSwap(settlementDate,\"3Y\",swapType,0.0501,fixedFreq,dcType)\n",
    "swap4 = FinLiborSwap(settlementDate,\"4Y\",swapType,0.0502,fixedFreq,dcType)\n",
    "swap5 = FinLiborSwap(settlementDate,\"5Y\",swapType,0.0501,fixedFreq,dcType)\n",
    "swaps = [swap1,swap2,swap3,swap4,swap5]\n",
    "\n",
    "liborCurve = FinLiborCurve(settlementDate, depos, [], swaps)"
   ]
  },
  {
   "cell_type": "markdown",
   "metadata": {},
   "source": [
    "## Build a CDS Curve"
   ]
  },
  {
   "cell_type": "code",
   "execution_count": 4,
   "metadata": {},
   "outputs": [],
   "source": [
    "cdsFlatSpread = 0.0100"
   ]
  },
  {
   "cell_type": "code",
   "execution_count": 6,
   "metadata": {},
   "outputs": [],
   "source": [
    "cds1 = FinCDS(settlementDate, \"1Y\", cdsFlatSpread)\n",
    "cds2 = FinCDS(settlementDate, \"2Y\", cdsFlatSpread)\n",
    "cds3 = FinCDS(settlementDate, \"3Y\", cdsFlatSpread)\n",
    "cds4 = FinCDS(settlementDate, \"4Y\", cdsFlatSpread)\n",
    "cds5 = FinCDS(settlementDate, \"5Y\", cdsFlatSpread)\n",
    "cds6 = FinCDS(settlementDate, \"7Y\", cdsFlatSpread)\n",
    "cds7 = FinCDS(settlementDate, \"10Y\", cdsFlatSpread)\n",
    "cds8 = FinCDS(settlementDate, \"15Y\", cdsFlatSpread)"
   ]
  },
  {
   "cell_type": "code",
   "execution_count": 7,
   "metadata": {},
   "outputs": [],
   "source": [
    "cdss = [cds1, cds2, cds3, cds4, cds5, cds6, cds7, cds8]"
   ]
  },
  {
   "cell_type": "code",
   "execution_count": 8,
   "metadata": {},
   "outputs": [],
   "source": [
    "recoveryRate = 0.40"
   ]
  },
  {
   "cell_type": "code",
   "execution_count": 9,
   "metadata": {},
   "outputs": [],
   "source": [
    "issuerCurve = FinCDSCurve(settlementDate, cdss, liborCurve, recoveryRate)"
   ]
  },
  {
   "cell_type": "markdown",
   "metadata": {},
   "source": [
    "## CDS Option"
   ]
  },
  {
   "cell_type": "code",
   "execution_count": 10,
   "metadata": {},
   "outputs": [],
   "source": [
    "stepInDate = tradeDate.addDays(1)\n",
    "valuationDate = stepInDate\n",
    "expiryDate = FinDate(20, 3, 2014)\n",
    "maturityDate = FinDate(20, 6, 2019)    "
   ]
  },
  {
   "cell_type": "code",
   "execution_count": 11,
   "metadata": {},
   "outputs": [],
   "source": [
    "cdsCoupon = 0.01\n",
    "volatility = 0.3    \n",
    "notional = ONE_MILLION\n",
    "longProtection = True"
   ]
  },
  {
   "cell_type": "code",
   "execution_count": 12,
   "metadata": {},
   "outputs": [],
   "source": [
    "strikes = np.linspace(80,120,21)/10000\n",
    "longValues = []\n",
    "shortValues = []\n",
    "\n",
    "# Long Protection\n",
    "for strike in strikes:\n",
    "    cdsOption = FinCDSOption(expiryDate, maturityDate, strike, notional, True)\n",
    "    v = cdsOption.value(valuationDate, issuerCurve, volatility)\n",
    "    longValues.append(v)\n",
    "    \n",
    "# Short Protection\n",
    "for strike in strikes:\n",
    "    cdsOption = FinCDSOption(expiryDate, maturityDate, strike, notional, False)\n",
    "    v = cdsOption.value(valuationDate, issuerCurve, volatility)\n",
    "    shortValues.append(v)\n",
    "    "
   ]
  },
  {
   "cell_type": "code",
   "execution_count": 14,
   "metadata": {},
   "outputs": [
    {
     "data": {
      "image/png": "[encoded data removed]",
      "text/plain": [
       "<Figure size 432x288 with 1 Axes>"
      ]
     },
     "metadata": {
      "needs_background": "light"
     },
     "output_type": "display_data"
    }
   ],
   "source": [
    "plt.plot(strikes*10000, longValues, label=\"Long Protection\")\n",
    "plt.plot(strikes*10000, shortValues, label=\"Short Protection\")\n",
    "plt.xlabel(\"Strike (bp)\")\n",
    "plt.ylabel(\"Value (USD)\")\n",
    "plt.legend();"
   ]
  },
  {
   "cell_type": "markdown",
   "metadata": {},
   "source": [
    "## Put Call Parity"
   ]
  },
  {
   "cell_type": "markdown",
   "metadata": {},
   "source": [
    "Check that put-call parity holds by comparing a long protection minus a short protection option to a forward starting long protection CDS"
   ]
  },
  {
   "cell_type": "code",
   "execution_count": 15,
   "metadata": {},
   "outputs": [],
   "source": [
    "fwdValues = []\n",
    "\n",
    "for strike in strikes:\n",
    "    fwdCDSContract = FinCDS(expiryDate, maturityDate, strike, notional, True)\n",
    "    v = fwdCDSContract.value(valuationDate, issuerCurve, recoveryRate)\n",
    "    fwdValues.append(v['full_pv'])"
   ]
  },
  {
   "cell_type": "code",
   "execution_count": 16,
   "metadata": {},
   "outputs": [],
   "source": [
    "callMinusPut = np.array(longValues) - np.array(shortValues)"
   ]
  },
  {
   "cell_type": "code",
   "execution_count": 17,
   "metadata": {},
   "outputs": [
    {
     "data": {
      "text/plain": [
       "<matplotlib.legend.Legend at 0x17c7c5aac88>"
      ]
     },
     "execution_count": 17,
     "metadata": {},
     "output_type": "execute_result"
    },
    {
     "data": {
      "image/png": "[encoded data removed]",
      "text/plain": [
       "<Figure size 432x288 with 1 Axes>"
      ]
     },
     "metadata": {
      "needs_background": "light"
     },
     "output_type": "display_data"
    }
   ],
   "source": [
    "plt.plot(strikes*10000, fwdValues, label=\"Forward Values\")\n",
    "plt.plot(strikes*10000, callMinusPut, label=\"Long minus short\")\n",
    "plt.xlabel(\"Strike (bp)\")\n",
    "plt.ylabel(\"Value (USD)\")\n",
    "plt.legend()"
   ]
  },
  {
   "cell_type": "markdown",
   "metadata": {},
   "source": [
    "## Implied Volatility"
   ]
  },
  {
   "cell_type": "markdown",
   "metadata": {},
   "source": [
    "Let us just check that we can recover the input volatility"
   ]
  },
  {
   "cell_type": "code",
   "execution_count": 25,
   "metadata": {},
   "outputs": [
    {
     "name": "stdout",
     "output_type": "stream",
     "text": [
      "       100   1803.97332  30.00000000%\n",
      "       105   3167.72741  30.00000000%\n",
      "       110   4887.68461  30.00000000%\n",
      "       115   6851.33951  30.00000000%\n",
      "       120   8954.96897  30.00000000%\n",
      "       125  11127.58625  30.00000000%\n",
      "       130  13329.93441  30.00000000%\n",
      "       135  15543.66858  30.00000000%\n",
      "       140  17761.33222  30.00000000%\n",
      "       145  19980.23291  30.00000000%\n",
      "       150  22199.49266  30.00000000%\n",
      "       155  24418.84940  30.00000000%\n",
      "       160  26638.23073  30.00000000%\n",
      "       165  28857.61795  30.00000000%\n",
      "       170  31077.00651  30.00000000%\n",
      "       175  33296.39537  30.00000000%\n",
      "       180  35515.78428  30.00000000%\n",
      "       185  37735.17321  30.00000000%\n",
      "       190  39954.56214  30.00000000%\n",
      "       195  42173.95108  30.00000000%\n",
      "       200  44393.34001  30.00000000%\n"
     ]
    }
   ],
   "source": [
    "for strike in np.linspace(100, 200, 21):\n",
    "    cdsOption = FinCDSOption(expiryDate, maturityDate, strike / 10000.0,  notional, False)\n",
    "    v = cdsOption.value(valuationDate, issuerCurve, volatility)\n",
    "    vol = cdsOption.impliedVolatility(valuationDate, issuerCurve, v)\n",
    "    print(\"%10d %12.5f %12.8f%%\" %(strike, v, vol*100))"
   ]
  },
  {
   "cell_type": "markdown",
   "metadata": {},
   "source": [
    "We recovery the used volatility as required."
   ]
  },
  {
   "cell_type": "markdown",
   "metadata": {},
   "source": [
    "Copyright (c) 2020 Dominic O'Kane"
   ]
  }
 ],
 "metadata": {
  "kernelspec": {
   "display_name": "Python 3",
   "language": "python",
   "name": "python3"
  },
  "language_info": {
   "codemirror_mode": {
    "name": "ipython",
    "version": 3
   },
   "file_extension": ".py",
   "mimetype": "text/x-python",
   "name": "python",
   "nbconvert_exporter": "python",
   "pygments_lexer": "ipython3",
   "version": "3.7.6"
  }
 },
 "nbformat": 4,
 "nbformat_minor": 2
}
