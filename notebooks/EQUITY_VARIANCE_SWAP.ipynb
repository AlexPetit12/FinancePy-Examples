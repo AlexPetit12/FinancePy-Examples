{
 "cells": [
  {
   "cell_type": "markdown",
   "metadata": {},
   "source": [
    "# EQUITY VARIANCE SWAP - VALUATION AND RISK ANALYSIS"
   ]
  },
  {
   "cell_type": "markdown",
   "metadata": {},
   "source": [
    "Valuation and Risk of Equity Chooser Options in which the option is on a basket of stocks."
   ]
  },
  {
   "cell_type": "code",
   "execution_count": 1,
   "metadata": {},
   "outputs": [],
   "source": [
    "import numpy as np\n",
    "import matplotlib.pyplot as plt"
   ]
  },
  {
   "cell_type": "code",
   "execution_count": 2,
   "metadata": {},
   "outputs": [
    {
     "name": "stdout",
     "output_type": "stream",
     "text": [
      "###################################################################\n",
      "#   WELCOME TO FINANCEPY BETA VERSION 0.171 UNDER DEVELOPMENT     #\n",
      "# FinancePy it is distributed FREE & WITHOUT ANY WARRANTY AND     #\n",
      "# MERCHANTABILITY or FITNESS FOR A PARTICULAR PURPOSE. For more   #\n",
      "# details see the repo at https://github.com/domokane/FinancePy   #\n",
      "###################################################################\n",
      "\n"
     ]
    }
   ],
   "source": [
    "from financepy.finutils import FinDate\n",
    "from financepy.market.curves.FinDiscountCurveFlat import FinDiscountCurveFlat\n",
    "from financepy.products.equity.FinEquityVarianceSwap import FinEquityVarianceSwap\n",
    "from financepy.market.volatility.FinEquityVolCurve import FinEquityVolCurve"
   ]
  },
  {
   "cell_type": "markdown",
   "metadata": {},
   "source": [
    "# Variance Swap"
   ]
  },
  {
   "cell_type": "markdown",
   "metadata": {},
   "source": [
    "All the assets in the basket have the same characteristicsm"
   ]
  },
  {
   "cell_type": "code",
   "execution_count": 3,
   "metadata": {},
   "outputs": [],
   "source": [
    "startDate = FinDate(2018, 3, 20)\n",
    "tenor = \"3M\"\n",
    "strike = 0.3*0.3"
   ]
  },
  {
   "cell_type": "code",
   "execution_count": 4,
   "metadata": {},
   "outputs": [
    {
     "name": "stdout",
     "output_type": "stream",
     "text": [
      "Strike Variance: 0.09\n"
     ]
    }
   ],
   "source": [
    "print(\"Strike Variance:\", strike)"
   ]
  },
  {
   "cell_type": "markdown",
   "metadata": {},
   "source": [
    "The strike of the variance swap is at 9%"
   ]
  },
  {
   "cell_type": "code",
   "execution_count": 5,
   "metadata": {},
   "outputs": [],
   "source": [
    "volSwap = FinEquityVarianceSwap(startDate, tenor, strike)"
   ]
  },
  {
   "cell_type": "markdown",
   "metadata": {},
   "source": [
    "## Valuation"
   ]
  },
  {
   "cell_type": "code",
   "execution_count": 6,
   "metadata": {},
   "outputs": [],
   "source": [
    "valueDate = FinDate(2018, 3, 20)"
   ]
  },
  {
   "cell_type": "code",
   "execution_count": 7,
   "metadata": {},
   "outputs": [],
   "source": [
    "r = 0.05\n",
    "discountCurve = FinDiscountCurveFlat(valueDate, r)"
   ]
  },
  {
   "cell_type": "code",
   "execution_count": 8,
   "metadata": {},
   "outputs": [],
   "source": [
    "stockPrice = 100.0\n",
    "dividendYield = 0.0\n",
    "maturityDate = startDate.addMonths(3)"
   ]
  },
  {
   "cell_type": "code",
   "execution_count": 9,
   "metadata": {},
   "outputs": [],
   "source": [
    "def volSkew(K, atmVol, atmK, skew):\n",
    "    v = atmVol + skew * (K-atmK)\n",
    "    return v"
   ]
  },
  {
   "cell_type": "markdown",
   "metadata": {},
   "source": [
    "We now define the volatility curve"
   ]
  },
  {
   "cell_type": "code",
   "execution_count": 10,
   "metadata": {},
   "outputs": [],
   "source": [
    "atmVol = 0.20\n",
    "atmK = 100.0#\n",
    "skew = 0\n",
    "strikes = np.linspace(50.0, 135.0, 18)\n",
    "vols = volSkew(strikes, atmVol, atmK, skew)\n",
    "volCurve = FinEquityVolCurve(valueDate, maturityDate, strikes, vols)"
   ]
  },
  {
   "cell_type": "code",
   "execution_count": 11,
   "metadata": {},
   "outputs": [
    {
     "data": {
      "text/plain": [
       "Text(0, 0.5, 'Volatility')"
      ]
     },
     "execution_count": 11,
     "metadata": {},
     "output_type": "execute_result"
    },
    {
     "data": {
      "image/png": "[encoded data removed]",
      "text/plain": [
       "<Figure size 432x288 with 1 Axes>"
      ]
     },
     "metadata": {
      "needs_background": "light"
     },
     "output_type": "display_data"
    }
   ],
   "source": [
    "plt.plot(strikes, vols)\n",
    "plt.xlabel(\"Strike\")\n",
    "plt.ylabel(\"Volatility\")"
   ]
  },
  {
   "cell_type": "code",
   "execution_count": 12,
   "metadata": {},
   "outputs": [],
   "source": [
    "strikeSpacing = 5.0\n",
    "numCallOptions = 10\n",
    "numPutOptions = 10"
   ]
  },
  {
   "cell_type": "code",
   "execution_count": 13,
   "metadata": {},
   "outputs": [
    {
     "name": "stdout",
     "output_type": "stream",
     "text": [
      "Fair strike: 0.04166311057138125\n"
     ]
    }
   ],
   "source": [
    "k1 = volSwap.fairStrike(valueDate, stockPrice, dividendYield,\n",
    "                        volCurve, numCallOptions, numPutOptions,\n",
    "                        strikeSpacing, discountCurve, False)\n",
    "print(\"Fair strike:\", k1)"
   ]
  },
  {
   "cell_type": "code",
   "execution_count": 14,
   "metadata": {},
   "outputs": [
    {
     "name": "stdout",
     "output_type": "stream",
     "text": [
      "DERMAN SKEW APPROX for K: 0.04000000000000001\n"
     ]
    }
   ],
   "source": [
    "k2 = volSwap.fairStrikeApprox(valueDate, stockPrice, strikes, vols)\n",
    "print(\"DERMAN SKEW APPROX for K:\", k2)"
   ]
  },
  {
   "cell_type": "code",
   "execution_count": 15,
   "metadata": {},
   "outputs": [
    {
     "name": "stdout",
     "output_type": "stream",
     "text": [
      "TYPE STRIKE WEIGHT\n",
      "PUT   55.00  13178.571\n",
      "PUT   60.00  11066.307\n",
      "PUT   65.00   9424.412\n",
      "PUT   70.00   8122.824\n",
      "PUT   75.00   7073.547\n",
      "PUT   80.00   6215.306\n",
      "PUT   85.00   5504.368\n",
      "PUT   90.00   4908.841\n",
      "PUT   95.00   4405.020\n",
      "CALL  100.00   1921.230\n",
      "CALL  105.00   3605.016\n",
      "CALL  110.00   3284.404\n",
      "CALL  115.00   3004.748\n",
      "CALL  120.00   2759.356\n",
      "CALL  125.00   2542.849\n",
      "CALL  130.00   2350.865\n",
      "CALL  135.00   2179.834\n",
      "CALL  140.00   2026.814\n",
      "CALL  145.00   1889.362\n"
     ]
    }
   ],
   "source": [
    "volSwap.printWeights()"
   ]
  },
  {
   "cell_type": "markdown",
   "metadata": {},
   "source": [
    "Copyright (c) 2020 Dominic O'Kane"
   ]
  }
 ],
 "metadata": {
  "kernelspec": {
   "display_name": "Python 3",
   "language": "python",
   "name": "python3"
  },
  "language_info": {
   "codemirror_mode": {
    "name": "ipython",
    "version": 3
   },
   "file_extension": ".py",
   "mimetype": "text/x-python",
   "name": "python",
   "nbconvert_exporter": "python",
   "pygments_lexer": "ipython3",
   "version": "3.7.6"
  }
 },
 "nbformat": 4,
 "nbformat_minor": 2
}
