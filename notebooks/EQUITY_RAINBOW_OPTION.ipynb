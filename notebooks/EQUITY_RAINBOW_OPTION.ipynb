{
 "cells": [
  {
   "cell_type": "markdown",
   "metadata": {},
   "source": [
    "# EQUITY RAINBOW OPTION"
   ]
  },
  {
   "cell_type": "markdown",
   "metadata": {},
   "source": [
    "Valuation and Risk of Equity Rainbow Options - options on the best, worst and n-th best or worst performance in a basket of equities."
   ]
  },
  {
   "cell_type": "code",
   "execution_count": 1,
   "metadata": {},
   "outputs": [],
   "source": [
    "import numpy as np\n",
    "import matplotlib.pyplot as plt"
   ]
  },
  {
   "cell_type": "code",
   "execution_count": 2,
   "metadata": {},
   "outputs": [
    {
     "name": "stdout",
     "output_type": "stream",
     "text": [
      "###################################################################\n",
      "#   WELCOME TO FINANCEPY BETA VERSION 0.171 UNDER DEVELOPMENT     #\n",
      "# FinancePy it is distributed FREE & WITHOUT ANY WARRANTY AND     #\n",
      "# MERCHANTABILITY or FITNESS FOR A PARTICULAR PURPOSE. For more   #\n",
      "# details see the repo at https://github.com/domokane/FinancePy   #\n",
      "###################################################################\n",
      "\n"
     ]
    }
   ],
   "source": [
    "from financepy.finutils import FinDate\n",
    "from financepy.finutils.FinOptionTypes import FinOptionTypes\n",
    "from financepy.market.curves.FinDiscountCurveFlat import FinDiscountCurveFlat\n",
    "from financepy.products.equity.FinEquityRainbowOption import FinEquityRainbowOption\n",
    "from financepy.products.equity.FinEquityRainbowOption import FinEquityRainbowOptionTypes\n",
    "from financepy.products.equity.FinEquityModelTypes import FinEquityModelBlackScholes\n",
    "from financepy.finutils.FinHelperFunctions import betaVectorToCorrMatrix"
   ]
  },
  {
   "cell_type": "markdown",
   "metadata": {},
   "source": [
    "# Rainbow Options"
   ]
  },
  {
   "cell_type": "markdown",
   "metadata": {},
   "source": [
    "We can handle a range of payoff types"
   ]
  },
  {
   "cell_type": "code",
   "execution_count": 3,
   "metadata": {},
   "outputs": [
    {
     "name": "stdout",
     "output_type": "stream",
     "text": [
      "FinEquityRainbowOptionTypes.CALL_ON_MAXIMUM\n",
      "FinEquityRainbowOptionTypes.PUT_ON_MAXIMUM\n",
      "FinEquityRainbowOptionTypes.CALL_ON_MINIMUM\n",
      "FinEquityRainbowOptionTypes.PUT_ON_MINIMUM\n",
      "FinEquityRainbowOptionTypes.CALL_ON_NTH\n",
      "FinEquityRainbowOptionTypes.PUT_ON_NTH\n"
     ]
    }
   ],
   "source": [
    "for payoff in FinEquityRainbowOptionTypes:\n",
    "    print(payoff)"
   ]
  },
  {
   "cell_type": "markdown",
   "metadata": {},
   "source": [
    "Each type has a different set of parameters which are entered as a vector"
   ]
  },
  {
   "cell_type": "markdown",
   "metadata": {},
   "source": [
    "## CALL ON MAXIMUM"
   ]
  },
  {
   "cell_type": "code",
   "execution_count": 97,
   "metadata": {},
   "outputs": [],
   "source": [
    "expiryDate = FinDate(1, 1, 2016)"
   ]
  },
  {
   "cell_type": "code",
   "execution_count": 98,
   "metadata": {},
   "outputs": [],
   "source": [
    "strikePrice = 105.0"
   ]
  },
  {
   "cell_type": "code",
   "execution_count": 99,
   "metadata": {},
   "outputs": [],
   "source": [
    "callPayoffType = FinEquityRainbowOptionTypes.CALL_ON_MAXIMUM\n",
    "putPayoffType = FinEquityRainbowOptionTypes.PUT_ON_MAXIMUM"
   ]
  },
  {
   "cell_type": "code",
   "execution_count": 100,
   "metadata": {},
   "outputs": [],
   "source": [
    "payoffParams = [strikePrice]"
   ]
  },
  {
   "cell_type": "code",
   "execution_count": 101,
   "metadata": {},
   "outputs": [],
   "source": [
    "callRainbowOption = FinEquityRainbowOption(expiryDate, callPayoffType, payoffParams, numAssets)\n",
    "putRainbowOption = FinEquityRainbowOption(expiryDate, putPayoffType, payoffParams, numAssets)"
   ]
  },
  {
   "cell_type": "code",
   "execution_count": 102,
   "metadata": {},
   "outputs": [
    {
     "name": "stdout",
     "output_type": "stream",
     "text": [
      "EXPIRY DATE: FRI 1 JAN 2016\n",
      "PAYOFF TYPE: FinEquityRainbowOptionTypes.CALL_ON_MAXIMUM\n",
      "PAYOFF PARAMS: [105.0]\n",
      "NUM ASSETS TYPE: 2\n"
     ]
    }
   ],
   "source": [
    "print(callRainbowOption)"
   ]
  },
  {
   "cell_type": "code",
   "execution_count": 103,
   "metadata": {},
   "outputs": [
    {
     "name": "stdout",
     "output_type": "stream",
     "text": [
      "EXPIRY DATE: FRI 1 JAN 2016\n",
      "PAYOFF TYPE: FinEquityRainbowOptionTypes.PUT_ON_MAXIMUM\n",
      "PAYOFF PARAMS: [105.0]\n",
      "NUM ASSETS TYPE: 2\n"
     ]
    }
   ],
   "source": [
    "print(putRainbowOption)"
   ]
  },
  {
   "cell_type": "markdown",
   "metadata": {},
   "source": [
    "## Valuation"
   ]
  },
  {
   "cell_type": "code",
   "execution_count": 104,
   "metadata": {},
   "outputs": [],
   "source": [
    "valueDate = FinDate(1, 1, 2015)"
   ]
  },
  {
   "cell_type": "code",
   "execution_count": 105,
   "metadata": {},
   "outputs": [],
   "source": [
    "interestRate = 0.10"
   ]
  },
  {
   "cell_type": "code",
   "execution_count": 146,
   "metadata": {},
   "outputs": [],
   "source": [
    "discountCurve = FinDiscountCurveFlat(valueDate, interestRate)"
   ]
  },
  {
   "cell_type": "code",
   "execution_count": 147,
   "metadata": {},
   "outputs": [],
   "source": [
    "numAssets = 2"
   ]
  },
  {
   "cell_type": "code",
   "execution_count": 148,
   "metadata": {},
   "outputs": [],
   "source": [
    "stockPrices = np.ones(numAssets) * 100\n",
    "dividendYields = np.ones(numAssets) * 0.01\n",
    "volatilities = np.ones(numAssets) * 0.3    "
   ]
  },
  {
   "cell_type": "code",
   "execution_count": 149,
   "metadata": {},
   "outputs": [],
   "source": [
    "correlation = 0.50\n",
    "betas = np.ones(numAssets) * np.sqrt(correlation)\n",
    "corrMatrix = betaVectorToCorrMatrix(betas)"
   ]
  },
  {
   "cell_type": "code",
   "execution_count": 150,
   "metadata": {},
   "outputs": [
    {
     "data": {
      "text/plain": [
       "6.494148777244245"
      ]
     },
     "execution_count": 150,
     "metadata": {},
     "output_type": "execute_result"
    }
   ],
   "source": [
    "callRainbowOption.value(valueDate, stockPrices, discountCurve, dividendYields, volatilities, corrMatrix)"
   ]
  },
  {
   "cell_type": "code",
   "execution_count": 151,
   "metadata": {},
   "outputs": [
    {
     "data": {
      "text/plain": [
       "14.30383067558915"
      ]
     },
     "execution_count": 151,
     "metadata": {},
     "output_type": "execute_result"
    }
   ],
   "source": [
    "putRainbowOption.value(valueDate, stockPrices, discountCurve, dividendYields, volatilities, corrMatrix)"
   ]
  },
  {
   "cell_type": "code",
   "execution_count": 152,
   "metadata": {},
   "outputs": [
    {
     "data": {
      "text/plain": [
       "6.5909796286055"
      ]
     },
     "execution_count": 152,
     "metadata": {},
     "output_type": "execute_result"
    }
   ],
   "source": [
    "callRainbowOption.valueMC(valueDate, stockPrices, discountCurve, dividendYields, volatilities, corrMatrix)"
   ]
  },
  {
   "cell_type": "code",
   "execution_count": 153,
   "metadata": {},
   "outputs": [
    {
     "data": {
      "text/plain": [
       "14.347675256273032"
      ]
     },
     "execution_count": 153,
     "metadata": {},
     "output_type": "execute_result"
    }
   ],
   "source": [
    "putRainbowOption.valueMC(valueDate, stockPrices, discountCurve, dividendYields, volatilities, corrMatrix)"
   ]
  },
  {
   "cell_type": "markdown",
   "metadata": {},
   "source": [
    "## CALL ON MINIMUM"
   ]
  },
  {
   "cell_type": "code",
   "execution_count": 154,
   "metadata": {},
   "outputs": [],
   "source": [
    "strikePrice = 105.0"
   ]
  },
  {
   "cell_type": "code",
   "execution_count": 155,
   "metadata": {},
   "outputs": [],
   "source": [
    "callPayoffType = FinEquityRainbowOptionTypes.CALL_ON_MINIMUM\n",
    "putPayoffType = FinEquityRainbowOptionTypes.PUT_ON_MINIMUM"
   ]
  },
  {
   "cell_type": "code",
   "execution_count": 156,
   "metadata": {},
   "outputs": [],
   "source": [
    "payoffParams = [strikePrice]"
   ]
  },
  {
   "cell_type": "code",
   "execution_count": 157,
   "metadata": {},
   "outputs": [],
   "source": [
    "callRainbowOption = FinEquityRainbowOption(expiryDate, callPayoffType, payoffParams, numAssets)\n",
    "putRainbowOption = FinEquityRainbowOption(expiryDate, putPayoffType, payoffParams, numAssets)"
   ]
  },
  {
   "cell_type": "code",
   "execution_count": 158,
   "metadata": {},
   "outputs": [
    {
     "name": "stdout",
     "output_type": "stream",
     "text": [
      "EXPIRY DATE: FRI 1 JAN 2016\n",
      "PAYOFF TYPE: FinEquityRainbowOptionTypes.CALL_ON_MINIMUM\n",
      "PAYOFF PARAMS: [105.0]\n",
      "NUM ASSETS TYPE: 2\n"
     ]
    }
   ],
   "source": [
    "print(callRainbowOption)"
   ]
  },
  {
   "cell_type": "code",
   "execution_count": 159,
   "metadata": {},
   "outputs": [
    {
     "name": "stdout",
     "output_type": "stream",
     "text": [
      "EXPIRY DATE: FRI 1 JAN 2016\n",
      "PAYOFF TYPE: FinEquityRainbowOptionTypes.PUT_ON_MINIMUM\n",
      "PAYOFF PARAMS: [105.0]\n",
      "NUM ASSETS TYPE: 2\n"
     ]
    }
   ],
   "source": [
    "print(putRainbowOption)"
   ]
  },
  {
   "cell_type": "markdown",
   "metadata": {},
   "source": [
    "## Valuation"
   ]
  },
  {
   "cell_type": "code",
   "execution_count": 160,
   "metadata": {},
   "outputs": [
    {
     "data": {
      "text/plain": [
       "6.494148777244245"
      ]
     },
     "execution_count": 160,
     "metadata": {},
     "output_type": "execute_result"
    }
   ],
   "source": [
    "callRainbowOption.value(valueDate, stockPrices, discountCurve, dividendYields, volatilities, corrMatrix)"
   ]
  },
  {
   "cell_type": "code",
   "execution_count": 161,
   "metadata": {},
   "outputs": [
    {
     "data": {
      "text/plain": [
       "14.30383067558915"
      ]
     },
     "execution_count": 161,
     "metadata": {},
     "output_type": "execute_result"
    }
   ],
   "source": [
    "putRainbowOption.value(valueDate, stockPrices, discountCurve, dividendYields, volatilities, corrMatrix)"
   ]
  },
  {
   "cell_type": "code",
   "execution_count": 162,
   "metadata": {},
   "outputs": [
    {
     "data": {
      "text/plain": [
       "6.5909796286055"
      ]
     },
     "execution_count": 162,
     "metadata": {},
     "output_type": "execute_result"
    }
   ],
   "source": [
    "callRainbowOption.valueMC(valueDate, stockPrices, discountCurve, dividendYields, volatilities, corrMatrix)"
   ]
  },
  {
   "cell_type": "code",
   "execution_count": 163,
   "metadata": {},
   "outputs": [
    {
     "data": {
      "text/plain": [
       "14.347675256273032"
      ]
     },
     "execution_count": 163,
     "metadata": {},
     "output_type": "execute_result"
    }
   ],
   "source": [
    "putRainbowOption.valueMC(valueDate, stockPrices, discountCurve, dividendYields, volatilities, corrMatrix)"
   ]
  },
  {
   "cell_type": "markdown",
   "metadata": {},
   "source": [
    "## CALL ON Nth"
   ]
  },
  {
   "cell_type": "code",
   "execution_count": 164,
   "metadata": {},
   "outputs": [],
   "source": [
    "payoffType = FinEquityRainbowOptionTypes.CALL_ON_NTH"
   ]
  },
  {
   "cell_type": "code",
   "execution_count": 165,
   "metadata": {},
   "outputs": [],
   "source": [
    "numAssets = 5"
   ]
  },
  {
   "cell_type": "code",
   "execution_count": 166,
   "metadata": {},
   "outputs": [],
   "source": [
    "stockPrices = np.ones(numAssets) * 100\n",
    "dividendYields = np.ones(numAssets) * 0.01\n",
    "volatilities = np.ones(numAssets) * 0.3    "
   ]
  },
  {
   "cell_type": "code",
   "execution_count": 167,
   "metadata": {},
   "outputs": [],
   "source": [
    "correlation = 0.50\n",
    "betas = np.ones(numAssets) * np.sqrt(correlation)\n",
    "corrMatrix = betaVectorToCorrMatrix(betas)"
   ]
  },
  {
   "cell_type": "code",
   "execution_count": 168,
   "metadata": {},
   "outputs": [
    {
     "name": "stdout",
     "output_type": "stream",
     "text": [
      "1 32.09348350364503\n",
      "2 17.83298960993905\n",
      "3 10.411222895492953\n",
      "4 5.64186569767554\n",
      "5 2.2865706438052387\n"
     ]
    }
   ],
   "source": [
    "for n in range(0, numAssets):\n",
    "    payoffParams = [n+1, strikePrice]\n",
    "    nthRainbowOption = FinEquityRainbowOption(expiryDate, payoffType, payoffParams, numAssets)\n",
    "    v_mc = nthRainbowOption.valueMC(valueDate, stockPrices, discountCurve, dividendYields, volatilities, corrMatrix)\n",
    "    print(n+1, v_mc)"
   ]
  },
  {
   "cell_type": "markdown",
   "metadata": {},
   "source": [
    "## PUT ON Nth\n"
   ]
  },
  {
   "cell_type": "code",
   "execution_count": 169,
   "metadata": {},
   "outputs": [],
   "source": [
    "payoffType = FinEquityRainbowOptionTypes.PUT_ON_NTH"
   ]
  },
  {
   "cell_type": "code",
   "execution_count": 170,
   "metadata": {},
   "outputs": [
    {
     "name": "stdout",
     "output_type": "stream",
     "text": [
      "1 1.9257071708762472\n",
      "2 4.549559611463472\n",
      "3 8.015671490066737\n",
      "4 12.92045954722808\n",
      "5 20.928565569609408\n"
     ]
    }
   ],
   "source": [
    "for n in range(0, numAssets):\n",
    "    payoffType = FinEquityRainbowOptionTypes.PUT_ON_NTH\n",
    "    payoffParams = [n+1, strikePrice]\n",
    "    nthRainbowOption = FinEquityRainbowOption(expiryDate, payoffType, payoffParams, numAssets)\n",
    "    v_mc = nthRainbowOption.valueMC(valueDate, stockPrices, discountCurve, dividendYields, volatilities, corrMatrix)\n",
    "    print(n+1, v_mc)"
   ]
  },
  {
   "cell_type": "markdown",
   "metadata": {},
   "source": [
    "Copyright (c) 2020 Dominic O'Kane"
   ]
  }
 ],
 "metadata": {
  "kernelspec": {
   "display_name": "Python 3",
   "language": "python",
   "name": "python3"
  },
  "language_info": {
   "codemirror_mode": {
    "name": "ipython",
    "version": 3
   },
   "file_extension": ".py",
   "mimetype": "text/x-python",
   "name": "python",
   "nbconvert_exporter": "python",
   "pygments_lexer": "ipython3",
   "version": "3.7.6"
  }
 },
 "nbformat": 4,
 "nbformat_minor": 2
}
