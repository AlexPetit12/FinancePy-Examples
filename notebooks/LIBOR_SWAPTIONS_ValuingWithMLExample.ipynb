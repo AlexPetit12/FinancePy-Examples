{
 "cells": [
  {
   "cell_type": "markdown",
   "metadata": {},
   "source": [
    "# Valuing European-Style Swaptions with Matlab Example"
   ]
  },
  {
   "cell_type": "markdown",
   "metadata": {},
   "source": [
    "We value a European swaption using Black's model and try to replicate a ML example at https://fr.mathworks.com/help/fininst/swaptionbyblk.html"
   ]
  },
  {
   "cell_type": "code",
   "execution_count": 2,
   "metadata": {},
   "outputs": [],
   "source": [
    "import numpy as np\n",
    "import matplotlib.pyplot as plt"
   ]
  },
  {
   "cell_type": "code",
   "execution_count": 3,
   "metadata": {},
   "outputs": [
    {
     "name": "stdout",
     "output_type": "stream",
     "text": [
      "###################################################################\n",
      "#   WELCOME TO FINANCEPY BETA VERSION 0.168 - UNDER DEVELOPMENT   #\n",
      "# FinancePy it is distributed FREE & WITHOUT ANY WARRANTY AND     #\n",
      "# MERCHANTABILITY or FITNESS FOR A PARTICULAR PURPOSE. For more   #\n",
      "# details see the repo at https://github.com/domokane/FinancePy   #\n",
      "###################################################################\n",
      "\n"
     ]
    }
   ],
   "source": [
    "from financepy.products.libor import *\n",
    "from financepy.finutils import *\n",
    "from financepy.market.curves.FinFlatCurve import FinFlatCurve\n",
    "from financepy.market.curves.FinInterpolate import FinInterpMethods"
   ]
  },
  {
   "cell_type": "code",
   "execution_count": 4,
   "metadata": {},
   "outputs": [],
   "source": [
    "valuationDate = FinDate(1, 1, 2010)"
   ]
  },
  {
   "cell_type": "code",
   "execution_count": 5,
   "metadata": {},
   "outputs": [],
   "source": [
    "liborCurve = FinFlatCurve(valuationDate, 0.06, -1)"
   ]
  },
  {
   "cell_type": "markdown",
   "metadata": {},
   "source": [
    "### Defining the swaption"
   ]
  },
  {
   "cell_type": "code",
   "execution_count": 6,
   "metadata": {},
   "outputs": [],
   "source": [
    "settlementDate = FinDate(1, 1, 2011)\n",
    "exerciseDate = FinDate(1, 1, 2016)\n",
    "maturityDate = FinDate(1, 1, 2019)\n",
    "fixedCoupon = 0.062\n",
    "fixedFrequencyType = FinFrequencyTypes.SEMI_ANNUAL\n",
    "fixedDayCountType = FinDayCountTypes.THIRTY_E_360_ISDA\n",
    "floatFrequencyType = FinFrequencyTypes.SEMI_ANNUAL\n",
    "floatDayCountType = FinDayCountTypes.THIRTY_E_360_ISDA\n",
    "notional = 100.0\n",
    "swaptionType = FinLiborSwaptionTypes.PAYER  \n",
    "calendarType = FinCalendarTypes.NONE\n",
    "busDayAdjustType = FinBusDayAdjustTypes.NONE\n",
    "dateGenRuleType = FinDateGenRuleTypes.BACKWARD"
   ]
  },
  {
   "cell_type": "code",
   "execution_count": 7,
   "metadata": {},
   "outputs": [],
   "source": [
    "swaption = FinLiborSwaption(settlementDate, \n",
    "                            exerciseDate,\n",
    "                            maturityDate,\n",
    "                            swaptionType,\n",
    "                            fixedCoupon,\n",
    "                            fixedFrequencyType,\n",
    "                            fixedDayCountType, \n",
    "                            notional, \n",
    "                            floatFrequencyType,\n",
    "                            floatDayCountType,\n",
    "                            calendarType, \n",
    "                            busDayAdjustType,\n",
    "                            dateGenRuleType)"
   ]
  },
  {
   "cell_type": "code",
   "execution_count": 8,
   "metadata": {},
   "outputs": [
    {
     "name": "stdout",
     "output_type": "stream",
     "text": [
      "SETTLEMENT DATE: SAT 1 JAN 2011\n",
      "EXERCISE DATE: FRI 1 JAN 2016\n",
      "SWAPTION TYPE: FinLiborSwaptionTypes.PAYER\n",
      "MATURITY DATE: TUE 1 JAN 2019\n",
      "SWAP NOTIONAL: 100.0\n",
      "FIXED COUPON: 6.2\n",
      "FIXED FREQUENCY: FinFrequencyTypes.SEMI_ANNUAL\n",
      "FIXED DAY COUNT: FinDayCountTypes.THIRTY_E_360_ISDA\n",
      "FLOAT FREQUENCY: FinFrequencyTypes.SEMI_ANNUAL\n",
      "FLOAT DAY COUNT: FinDayCountTypes.THIRTY_E_360_ISDA\n",
      "\n"
     ]
    }
   ],
   "source": [
    "print(swaption)"
   ]
  },
  {
   "cell_type": "markdown",
   "metadata": {},
   "source": [
    "## Valuation using Black's Model"
   ]
  },
  {
   "cell_type": "code",
   "execution_count": 9,
   "metadata": {},
   "outputs": [],
   "source": [
    "model = FinModelBlack(0.20)"
   ]
  },
  {
   "cell_type": "code",
   "execution_count": 10,
   "metadata": {},
   "outputs": [],
   "source": [
    "df = liborCurve.df(settlementDate)"
   ]
  },
  {
   "cell_type": "code",
   "execution_count": 11,
   "metadata": {},
   "outputs": [
    {
     "data": {
      "text/plain": [
       "2.072384544922418"
      ]
     },
     "execution_count": 11,
     "metadata": {},
     "output_type": "execute_result"
    }
   ],
   "source": [
    "swaption.value(valuationDate, liborCurve, model)"
   ]
  },
  {
   "cell_type": "markdown",
   "metadata": {},
   "source": [
    "The MATLAB price is 2.071. "
   ]
  },
  {
   "cell_type": "code",
   "execution_count": 12,
   "metadata": {},
   "outputs": [
    {
     "name": "stdout",
     "output_type": "stream",
     "text": [
      "SETTLEMENT DATE: SAT 1 JAN 2011\n",
      "EXERCISE DATE: FRI 1 JAN 2016\n",
      "SWAPTION TYPE: FinLiborSwaptionTypes.PAYER\n",
      "MATURITY DATE: TUE 1 JAN 2019\n",
      "SWAP NOTIONAL: 100.0\n",
      "FIXED COUPON: 6.2\n",
      "FIXED FREQUENCY: FinFrequencyTypes.SEMI_ANNUAL\n",
      "FIXED DAY COUNT: FinDayCountTypes.THIRTY_E_360_ISDA\n",
      "FLOAT FREQUENCY: FinFrequencyTypes.SEMI_ANNUAL\n",
      "FLOAT DAY COUNT: FinDayCountTypes.THIRTY_E_360_ISDA\n",
      "PV01: 1.8870736496093072\n",
      "FWD SWAP RATE: 6.092122545366844\n",
      "FWD DF TO EXPIRY: 0.697728131954369\n"
     ]
    }
   ],
   "source": [
    "print(swaption)"
   ]
  },
  {
   "cell_type": "markdown",
   "metadata": {},
   "source": [
    "We can see that the forward swap rate almost equals the fixed coupon. The underlying swap is close to being ATM forward."
   ]
  },
  {
   "cell_type": "code",
   "execution_count": 13,
   "metadata": {},
   "outputs": [
    {
     "name": "stdout",
     "output_type": "stream",
     "text": [
      "START DATE: FRI 1 JAN 2016\n",
      "MATURITY DATE: TUE 1 JAN 2019\n",
      "COUPON (%): 6.2\n",
      "FIXED LEG FREQUENCY: FinFrequencyTypes.SEMI_ANNUAL\n",
      "FIXED LEG DAY COUNT: FinDayCountTypes.THIRTY_E_360_ISDA\n",
      "VALUATION DATE FRI 1 JAN 2010\n",
      "PAYMENT_DATE     YEAR_FRAC        FLOW         DF         DF*FLOW       CUM_PV\n",
      " FRI 1 JUL 2016  0.5000000         3.10   0.67717623         2.10         2.10\n",
      " SUN 1 JAN 2017  0.5000000         3.10   0.65701379         2.04         4.14\n",
      " SAT 1 JUL 2017  0.5000000         3.10   0.63776591         1.98         6.11\n",
      " MON 1 JAN 2018  0.5000000         3.10   0.61877689         1.92         8.03\n",
      " SUN 1 JUL 2018  0.5000000         3.10   0.60064919         1.86         9.89\n",
      " TUE 1 JAN 2019  0.5000000         3.10   0.58276529         1.81        11.70\n"
     ]
    }
   ],
   "source": [
    "swaption.printSwapFixedLeg()"
   ]
  },
  {
   "cell_type": "markdown",
   "metadata": {},
   "source": [
    "Copyright (c) 2020 Dominic O'Kane"
   ]
  },
  {
   "cell_type": "code",
   "execution_count": null,
   "metadata": {},
   "outputs": [],
   "source": []
  }
 ],
 "metadata": {
  "kernelspec": {
   "display_name": "Python 3",
   "language": "python",
   "name": "python3"
  },
  "language_info": {
   "codemirror_mode": {
    "name": "ipython",
    "version": 3
   },
   "file_extension": ".py",
   "mimetype": "text/x-python",
   "name": "python",
   "nbconvert_exporter": "python",
   "pygments_lexer": "ipython3",
   "version": "3.7.7"
  }
 },
 "nbformat": 4,
 "nbformat_minor": 4
}
