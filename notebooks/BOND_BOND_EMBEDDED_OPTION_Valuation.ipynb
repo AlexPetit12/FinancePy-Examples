{
 "cells": [
  {
   "cell_type": "markdown",
   "metadata": {},
   "source": [
    "# Bond with Embedded Calls and Put Options"
   ]
  },
  {
   "cell_type": "markdown",
   "metadata": {},
   "source": [
    "Value a bond with embedded optionality using the Hull-White and Black-Karasinski model"
   ]
  },
  {
   "cell_type": "code",
   "execution_count": 1,
   "metadata": {},
   "outputs": [],
   "source": [
    "import numpy as np\n",
    "import matplotlib.pyplot as plt\n",
    "import time"
   ]
  },
  {
   "cell_type": "code",
   "execution_count": 3,
   "metadata": {},
   "outputs": [],
   "source": [
    "from financepy.finutils import *\n",
    "from financepy.products.bonds import *\n",
    "from financepy.products.bonds.FinBond import FinBond\n",
    "from financepy.products.bonds.FinBondEmbeddedOption import FinBondEmbeddedOption\n",
    "\n",
    "from financepy.market.curves.FinDiscountCurve import FinDiscountCurve\n",
    "from financepy.products.libor.FinLiborSwap import FinLiborSwap\n",
    "from financepy.products.libor.FinLiborCurve import FinLiborCurve\n",
    "\n",
    "from financepy.models.FinModelRatesHW import FinModelRatesHW\n",
    "from financepy.models.FinModelRatesBK import FinModelRatesBK"
   ]
  },
  {
   "cell_type": "markdown",
   "metadata": {},
   "source": [
    "## Example from Matlab"
   ]
  },
  {
   "cell_type": "markdown",
   "metadata": {},
   "source": [
    "https://fr.mathworks.com/help/fininst/optembndbyhw.html#bviuizn-1_sep_optembndbyhw_example1"
   ]
  },
  {
   "cell_type": "code",
   "execution_count": 4,
   "metadata": {},
   "outputs": [],
   "source": [
    "settlementDate = FinDate(1, 1, 2007)"
   ]
  },
  {
   "cell_type": "markdown",
   "metadata": {},
   "source": [
    "### Set up discount curve"
   ]
  },
  {
   "cell_type": "code",
   "execution_count": 6,
   "metadata": {},
   "outputs": [],
   "source": [
    "dcType = FinDayCountTypes.ACT_360\n",
    "fixedFreq = FinFrequencyTypes.SEMI_ANNUAL\n",
    "swap1 = FinLiborSwap(settlementDate, FinDate(1,1,2008), 0.05, fixedFreq, dcType)\n",
    "swap2 = FinLiborSwap(settlementDate, FinDate(1,1,2009), 0.05, fixedFreq, dcType)\n",
    "swap3 = FinLiborSwap(settlementDate, FinDate(1,1,2010), 0.05, fixedFreq, dcType)\n",
    "swaps = [swap1, swap2, swap3]\n",
    "discountCurve = FinLiborCurve(settlementDate, [], [], swaps)"
   ]
  },
  {
   "cell_type": "code",
   "execution_count": 7,
   "metadata": {},
   "outputs": [
    {
     "name": "stdout",
     "output_type": "stream",
     "text": [
      "OBJECT TYPE: FinLiborCurve\n",
      "VALUATION DATE: MON 01 JAN 2007\n",
      "SWAP: \n",
      "OBJECT TYPE: FinLiborSwap\n",
      "START DATE: MON 01 JAN 2007\n",
      "TERMINATION DATE: TUE 01 JAN 2008\n",
      "MATURITY DATE: TUE 01 JAN 2008\n",
      "NOTIONAL: 100.0\n",
      "PAY FIXED FLAG: True\n",
      "FIXED COUPON: 0.05\n",
      "FLOAT SPREAD: 0.0\n",
      "FIXED FREQUENCY: FinFrequencyTypes.SEMI_ANNUAL\n",
      "FLOAT FREQUENCY: FinFrequencyTypes.QUARTERLY\n",
      "FIXED DAY COUNT: FinDayCountTypes.ACT_360\n",
      "FLOAT DAY COUNT: FinDayCountTypes.THIRTY_E_360\n",
      "CALENDAR: FinCalendarTypes.WEEKEND\n",
      "BUS DAY ADJUST: FinBusDayAdjustTypes.FOLLOWING\n",
      "DATE GEN TYPE: FinDateGenRuleTypes.BACKWARD\n",
      "SWAP: \n",
      "OBJECT TYPE: FinLiborSwap\n",
      "START DATE: MON 01 JAN 2007\n",
      "TERMINATION DATE: THU 01 JAN 2009\n",
      "MATURITY DATE: THU 01 JAN 2009\n",
      "NOTIONAL: 100.0\n",
      "PAY FIXED FLAG: True\n",
      "FIXED COUPON: 0.05\n",
      "FLOAT SPREAD: 0.0\n",
      "FIXED FREQUENCY: FinFrequencyTypes.SEMI_ANNUAL\n",
      "FLOAT FREQUENCY: FinFrequencyTypes.QUARTERLY\n",
      "FIXED DAY COUNT: FinDayCountTypes.ACT_360\n",
      "FLOAT DAY COUNT: FinDayCountTypes.THIRTY_E_360\n",
      "CALENDAR: FinCalendarTypes.WEEKEND\n",
      "BUS DAY ADJUST: FinBusDayAdjustTypes.FOLLOWING\n",
      "DATE GEN TYPE: FinDateGenRuleTypes.BACKWARD\n",
      "SWAP: \n",
      "OBJECT TYPE: FinLiborSwap\n",
      "START DATE: MON 01 JAN 2007\n",
      "TERMINATION DATE: FRI 01 JAN 2010\n",
      "MATURITY DATE: FRI 01 JAN 2010\n",
      "NOTIONAL: 100.0\n",
      "PAY FIXED FLAG: True\n",
      "FIXED COUPON: 0.05\n",
      "FLOAT SPREAD: 0.0\n",
      "FIXED FREQUENCY: FinFrequencyTypes.SEMI_ANNUAL\n",
      "FLOAT FREQUENCY: FinFrequencyTypes.QUARTERLY\n",
      "FIXED DAY COUNT: FinDayCountTypes.ACT_360\n",
      "FLOAT DAY COUNT: FinDayCountTypes.THIRTY_E_360\n",
      "CALENDAR: FinCalendarTypes.WEEKEND\n",
      "BUS DAY ADJUST: FinBusDayAdjustTypes.FOLLOWING\n",
      "DATE GEN TYPE: FinDateGenRuleTypes.BACKWARD\n",
      "INTERP TYPE: FinInterpTypes.LINEAR_SWAP_RATES\n",
      "GRID TIMES: GRID DFS\n",
      "0.0: 1.0\n",
      "0.4982997574211071: 0.9753454348415064\n",
      "0.9993374255972752: 0.9511698673789579\n",
      "1.4976371830183823: 0.9277191879068676\n",
      "2.0014127619496116: 0.9046015916751688\n",
      "2.4969746086156572: 0.8824185693078467\n",
      "3.0007501875468865: 0.8604298075591137\n",
      "\n"
     ]
    }
   ],
   "source": [
    "print(discountCurve)"
   ]
  },
  {
   "cell_type": "markdown",
   "metadata": {},
   "source": [
    "### Set up the Puttable Bond"
   ]
  },
  {
   "cell_type": "markdown",
   "metadata": {},
   "source": [
    "First create a bond that we will use as a reference"
   ]
  },
  {
   "cell_type": "code",
   "execution_count": 8,
   "metadata": {},
   "outputs": [],
   "source": [
    "maturityDate = FinDate(1, 1, 2010)\n",
    "coupon = 0.05\n",
    "frequencyType = FinFrequencyTypes.ANNUAL\n",
    "accrualType = FinDayCountTypes.ACT_ACT_ICMA"
   ]
  },
  {
   "cell_type": "code",
   "execution_count": 9,
   "metadata": {},
   "outputs": [],
   "source": [
    "bond = FinBond(maturityDate, coupon, frequencyType, accrualType)"
   ]
  },
  {
   "cell_type": "code",
   "execution_count": 10,
   "metadata": {},
   "outputs": [],
   "source": [
    "v = bond.valueBondUsingDiscountCurve(settlementDate, discountCurve)"
   ]
  },
  {
   "cell_type": "code",
   "execution_count": 11,
   "metadata": {},
   "outputs": [
    {
     "name": "stdout",
     "output_type": "stream",
     "text": [
      "Pure Bond Price: 99.62398708897757\n"
     ]
    }
   ],
   "source": [
    "print(\"Pure Bond Price:\", v)"
   ]
  },
  {
   "cell_type": "markdown",
   "metadata": {},
   "source": [
    "Now specify the put and call dates"
   ]
  },
  {
   "cell_type": "code",
   "execution_count": 12,
   "metadata": {},
   "outputs": [],
   "source": [
    "callDates = []\n",
    "callPrices = []\n",
    "putDates = [FinDate(1, 1, 2008), FinDate(1, 1, 2009), FinDate(1, 1, 2010)]\n",
    "putPrices = [100.0, 100.0, 100.0]"
   ]
  },
  {
   "cell_type": "markdown",
   "metadata": {},
   "source": [
    "Now create the FinBondEmbeddedOption"
   ]
  },
  {
   "cell_type": "code",
   "execution_count": 13,
   "metadata": {},
   "outputs": [],
   "source": [
    "puttableBond = FinBondEmbeddedOption(maturityDate, coupon, frequencyType, accrualType,\n",
    "                                     callDates, callPrices, putDates, putPrices)"
   ]
  },
  {
   "cell_type": "markdown",
   "metadata": {},
   "source": [
    "### The Hull-White Model"
   ]
  },
  {
   "cell_type": "code",
   "execution_count": 14,
   "metadata": {},
   "outputs": [],
   "source": [
    "sigma = 0.01  # basis point volatility\n",
    "a = 0.1\n",
    "numTimeSteps = 200"
   ]
  },
  {
   "cell_type": "code",
   "execution_count": 15,
   "metadata": {},
   "outputs": [],
   "source": [
    "model = FinModelRatesHW(sigma, a, numTimeSteps)"
   ]
  },
  {
   "cell_type": "code",
   "execution_count": 16,
   "metadata": {},
   "outputs": [],
   "source": [
    "v = puttableBond.value(settlementDate, discountCurve, model)"
   ]
  },
  {
   "cell_type": "code",
   "execution_count": 17,
   "metadata": {},
   "outputs": [
    {
     "name": "stdout",
     "output_type": "stream",
     "text": [
      "{'bondwithoption': 100.47797346960338, 'bondpure': 99.62398708897757}\n"
     ]
    }
   ],
   "source": [
    "print(v)"
   ]
  },
  {
   "cell_type": "markdown",
   "metadata": {},
   "source": [
    "### Convergence Testing"
   ]
  },
  {
   "cell_type": "code",
   "execution_count": 18,
   "metadata": {},
   "outputs": [],
   "source": [
    "timeSteps = range(20,220,1)\n",
    "values = []\n",
    "for numTimeSteps in timeSteps:\n",
    "    model = FinModelRatesHW(sigma, a, numTimeSteps)\n",
    "    v = puttableBond.value(settlementDate, discountCurve, model)\n",
    "    values.append(v['bondwithoption'])"
   ]
  },
  {
   "cell_type": "code",
   "execution_count": 19,
   "metadata": {},
   "outputs": [
    {
     "data": {
      "text/plain": [
       "[<matplotlib.lines.Line2D at 0x2247eed7e48>]"
      ]
     },
     "execution_count": 19,
     "metadata": {},
     "output_type": "execute_result"
    },
    {
     "data": {
      "image/png": "[encoded data removed]",
      "text/plain": [
       "<Figure size 432x288 with 1 Axes>"
      ]
     },
     "metadata": {
      "needs_background": "light"
     },
     "output_type": "display_data"
    }
   ],
   "source": [
    "plt.plot(timeSteps, values)"
   ]
  },
  {
   "cell_type": "markdown",
   "metadata": {},
   "source": [
    "Copyright (c) 2020 Dominic O'Kane"
   ]
  }
 ],
 "metadata": {
  "kernelspec": {
   "display_name": "Python 3",
   "language": "python",
   "name": "python3"
  },
  "language_info": {
   "codemirror_mode": {
    "name": "ipython",
    "version": 3
   },
   "file_extension": ".py",
   "mimetype": "text/x-python",
   "name": "python",
   "nbconvert_exporter": "python",
   "pygments_lexer": "ipython3",
   "version": "3.7.6"
  }
 },
 "nbformat": 4,
 "nbformat_minor": 2
}
