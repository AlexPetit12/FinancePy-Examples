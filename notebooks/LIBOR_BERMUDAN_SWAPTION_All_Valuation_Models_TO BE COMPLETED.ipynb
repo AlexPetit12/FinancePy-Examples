{
 "cells": [
  {
   "cell_type": "markdown",
   "metadata": {},
   "source": [
    "# Bermudan Swaption Pricing"
   ]
  },
  {
   "cell_type": "markdown",
   "metadata": {},
   "source": [
    "Value a European Swaption using the Hull-White, Black-Derman-Toy and Black-Karasinski models. I analyse relationships to test the model pricing."
   ]
  },
  {
   "cell_type": "code",
   "execution_count": 1,
   "metadata": {},
   "outputs": [],
   "source": [
    "import numpy as np\n",
    "import matplotlib.pyplot as plt"
   ]
  },
  {
   "cell_type": "code",
   "execution_count": 2,
   "metadata": {},
   "outputs": [
    {
     "name": "stdout",
     "output_type": "stream",
     "text": [
      "###################################################################\n",
      "# FINANCEPY BETA Version 0.180 - This build: 15 Sep 2020 at 23:22 #\n",
      "#     This software is distributed FREE & WITHOUT ANY WARRANTY    #\n",
      "# For info and disclaimer - https://github.com/domokane/FinancePy #\n",
      "###################################################################\n",
      "\n"
     ]
    }
   ],
   "source": [
    "from financepy.finutils import *\n",
    "from financepy.products.libor import *\n",
    "from financepy.market.curves import *\n",
    "from financepy.models.FinModelRatesHW import FinModelRatesHW\n",
    "from financepy.models.FinModelRatesBK import FinModelRatesBK\n",
    "from financepy.models.FinModelRatesBDT import FinModelRatesBDT"
   ]
  },
  {
   "cell_type": "markdown",
   "metadata": {},
   "source": [
    "## Discount Curve"
   ]
  },
  {
   "cell_type": "code",
   "execution_count": 75,
   "metadata": {},
   "outputs": [],
   "source": [
    "valuationDate = FinDate(1, 1, 2011)\n",
    "settlementDate = valuationDate"
   ]
  },
  {
   "cell_type": "markdown",
   "metadata": {},
   "source": [
    "Set up flat discount curve at 6% (semi-annual compounding)"
   ]
  },
  {
   "cell_type": "code",
   "execution_count": 76,
   "metadata": {},
   "outputs": [],
   "source": [
    "liborCurve = FinDiscountCurveFlat(valuationDate, 0.0625, FinFrequencyTypes.SEMI_ANNUAL)"
   ]
  },
  {
   "cell_type": "markdown",
   "metadata": {},
   "source": [
    "# European Swaptions"
   ]
  },
  {
   "cell_type": "markdown",
   "metadata": {},
   "source": [
    "We begin with European swaptions. European swaptions can be set up directly as European Swaptions or as Bermudan swaptions with an exercise type of EUROPEAN"
   ]
  },
  {
   "cell_type": "code",
   "execution_count": 77,
   "metadata": {},
   "outputs": [],
   "source": [
    "exerciseDate = settlementDate.addTenor(\"1Y\")\n",
    "swapMaturityDate = settlementDate.addTenor(\"4Y\")\n",
    "\n",
    "swapFixedCoupon = 0.060\n",
    "swapFixedFrequencyType = FinFrequencyTypes.SEMI_ANNUAL\n",
    "swapFixedDayCountType = FinDayCountTypes.ACT_365F\n",
    "swaptionType = FinLiborSwapTypes.PAYER "
   ]
  },
  {
   "cell_type": "code",
   "execution_count": 78,
   "metadata": {},
   "outputs": [
    {
     "data": {
      "text/plain": [
       "SUN 01 JAN 2012"
      ]
     },
     "execution_count": 78,
     "metadata": {},
     "output_type": "execute_result"
    }
   ],
   "source": [
    "exerciseDate"
   ]
  },
  {
   "cell_type": "code",
   "execution_count": 79,
   "metadata": {},
   "outputs": [
    {
     "data": {
      "text/plain": [
       "THU 01 JAN 2015"
      ]
     },
     "execution_count": 79,
     "metadata": {},
     "output_type": "execute_result"
    }
   ],
   "source": [
    "swapMaturityDate"
   ]
  },
  {
   "cell_type": "code",
   "execution_count": 80,
   "metadata": {},
   "outputs": [],
   "source": [
    "swaptionPay = FinLiborSwaption(settlementDate,\n",
    "                               exerciseDate,\n",
    "                               swapMaturityDate,\n",
    "                               FinLiborSwapTypes.PAYER ,\n",
    "                               swapFixedCoupon,\n",
    "                               swapFixedFrequencyType,\n",
    "                               swapFixedDayCountType)"
   ]
  },
  {
   "cell_type": "code",
   "execution_count": 81,
   "metadata": {},
   "outputs": [],
   "source": [
    "swaptionRec = FinLiborSwaption(settlementDate,\n",
    "                               exerciseDate,\n",
    "                               swapMaturityDate,\n",
    "                               FinLiborSwapTypes.RECEIVER,\n",
    "                               swapFixedCoupon,\n",
    "                               swapFixedFrequencyType,\n",
    "                               swapFixedDayCountType)"
   ]
  },
  {
   "cell_type": "markdown",
   "metadata": {},
   "source": [
    "## Valuation using Black's Model"
   ]
  },
  {
   "cell_type": "markdown",
   "metadata": {},
   "source": [
    "Let's try the zero volatility limit first"
   ]
  },
  {
   "cell_type": "code",
   "execution_count": 107,
   "metadata": {},
   "outputs": [],
   "source": [
    "model = FinModelBlack(0.00001)"
   ]
  },
  {
   "cell_type": "code",
   "execution_count": 108,
   "metadata": {},
   "outputs": [
    {
     "name": "stdout",
     "output_type": "stream",
     "text": [
      "Payer Value: 6193.31147\n",
      "Recvr Value:   0.00000\n",
      "PayV - RecV: 6193.31147\n"
     ]
    }
   ],
   "source": [
    "valuePay = swaptionPay.value(settlementDate, liborCurve, model)\n",
    "valueRec = swaptionRec.value(settlementDate, liborCurve, model)\n",
    "valuePayRec = valuePay - valueRec\n",
    "print(\"Payer Value: %9.5f\"% valuePay)\n",
    "print(\"Recvr Value: %9.5f\"% valueRec)\n",
    "print(\"PayV - RecV: %9.5f\"% valuePayRec)"
   ]
  },
  {
   "cell_type": "markdown",
   "metadata": {},
   "source": [
    "We can value the forward starting swap."
   ]
  },
  {
   "cell_type": "code",
   "execution_count": 109,
   "metadata": {},
   "outputs": [],
   "source": [
    "swap = FinLiborSwap(exerciseDate,\n",
    "                    swapMaturityDate,\n",
    "                    swapType,\n",
    "                    swapFixedCoupon,\n",
    "                    swapFixedFrequencyType,\n",
    "                    swapFixedDayCountType)"
   ]
  },
  {
   "cell_type": "code",
   "execution_count": 110,
   "metadata": {},
   "outputs": [
    {
     "data": {
      "text/plain": [
       "6193.311465714156"
      ]
     },
     "execution_count": 110,
     "metadata": {},
     "output_type": "execute_result"
    }
   ],
   "source": [
    "swap.value(settlementDate, liborCurve, liborCurve)"
   ]
  },
  {
   "cell_type": "markdown",
   "metadata": {},
   "source": [
    "At zero volatility the payer swaption is in the money and is just a forward starting swap so this makes sense."
   ]
  },
  {
   "cell_type": "markdown",
   "metadata": {},
   "source": [
    "Let's repeat with a non-zero volatility"
   ]
  },
  {
   "cell_type": "code",
   "execution_count": 111,
   "metadata": {},
   "outputs": [],
   "source": [
    "model = FinModelBlack(0.20)"
   ]
  },
  {
   "cell_type": "code",
   "execution_count": 112,
   "metadata": {},
   "outputs": [
    {
     "name": "stdout",
     "output_type": "stream",
     "text": [
      "Payer Value: 15721.54222\n",
      "Recvr Value: 9528.23076\n",
      "PayV - RecV: 6193.31147\n"
     ]
    }
   ],
   "source": [
    "valuePay = swaptionPay.value(settlementDate, liborCurve, model)\n",
    "valueRec = swaptionRec.value(settlementDate, liborCurve, model)\n",
    "valuePayRec = valuePay - valueRec\n",
    "print(\"Payer Value: %9.5f\"% valuePay)\n",
    "print(\"Recvr Value: %9.5f\"% valueRec)\n",
    "print(\"PayV - RecV: %9.5f\"% valuePayRec)"
   ]
  },
  {
   "cell_type": "markdown",
   "metadata": {},
   "source": [
    "The swaption values have changed. Put call parity keeps the difference equal to the value of the forward starting swap."
   ]
  },
  {
   "cell_type": "markdown",
   "metadata": {},
   "source": [
    "We can also value the European option using other models. Let's try Black-Karasinski."
   ]
  },
  {
   "cell_type": "markdown",
   "metadata": {},
   "source": [
    "## Valuation using Black-Karasinski"
   ]
  },
  {
   "cell_type": "markdown",
   "metadata": {},
   "source": [
    "Start with the zero volatility limit"
   ]
  },
  {
   "cell_type": "code",
   "execution_count": 124,
   "metadata": {},
   "outputs": [],
   "source": [
    "sigma = 0.00001\n",
    "numTimeSteps = 200\n",
    "model = FinModelRatesBK(sigma, a, numTimeSteps)"
   ]
  },
  {
   "cell_type": "code",
   "execution_count": 125,
   "metadata": {},
   "outputs": [
    {
     "name": "stdout",
     "output_type": "stream",
     "text": [
      "Payer Value: 6193.30557\n",
      "Recvr Value:   0.00000\n",
      "PayV - RecV: 6193.30557\n"
     ]
    }
   ],
   "source": [
    "valuePay = swaptionPay.value(settlementDate, liborCurve, model)\n",
    "valueRec = swaptionRec.value(settlementDate, liborCurve, model)\n",
    "valuePayRec = valuePay - valueRec\n",
    "print(\"Payer Value: %9.5f\"% valuePay)\n",
    "print(\"Recvr Value: %9.5f\"% valueRec)\n",
    "print(\"PayV - RecV: %9.5f\"% valuePayRec)"
   ]
  },
  {
   "cell_type": "markdown",
   "metadata": {},
   "source": [
    "Only the payer swaption is in the money and is worth the forward starting swap."
   ]
  },
  {
   "cell_type": "code",
   "execution_count": 126,
   "metadata": {},
   "outputs": [],
   "source": [
    "sigma = 0.20\n",
    "numTimeSteps = 200\n",
    "model = FinModelRatesBK(sigma, a, numTimeSteps)"
   ]
  },
  {
   "cell_type": "code",
   "execution_count": 127,
   "metadata": {},
   "outputs": [
    {
     "name": "stdout",
     "output_type": "stream",
     "text": [
      "Payer Value: 15633.19291\n",
      "Recvr Value: 9439.88154\n",
      "PayV - RecV: 6193.31138\n"
     ]
    }
   ],
   "source": [
    "valuePay = swaptionPay.value(settlementDate, liborCurve, model)\n",
    "valueRec = swaptionRec.value(settlementDate, liborCurve, model)\n",
    "valuePayRec = valuePay - valueRec\n",
    "print(\"Payer Value: %9.5f\"% valuePay)\n",
    "print(\"Recvr Value: %9.5f\"% valueRec)\n",
    "print(\"PayV - RecV: %9.5f\"% valuePayRec)"
   ]
  },
  {
   "cell_type": "markdown",
   "metadata": {},
   "source": [
    "At 20% volatility the values are higher but put-call parity is obeyed."
   ]
  },
  {
   "cell_type": "markdown",
   "metadata": {},
   "source": [
    "## Valuation using Black-Derman-Toy"
   ]
  },
  {
   "cell_type": "markdown",
   "metadata": {},
   "source": [
    "Check the zero volatility limit"
   ]
  },
  {
   "cell_type": "code",
   "execution_count": 136,
   "metadata": {},
   "outputs": [],
   "source": [
    "sigma = 0.00001\n",
    "numTimeSteps = 200\n",
    "model = FinModelRatesBDT(sigma, numTimeSteps)"
   ]
  },
  {
   "cell_type": "code",
   "execution_count": 137,
   "metadata": {},
   "outputs": [
    {
     "name": "stdout",
     "output_type": "stream",
     "text": [
      "Payer Value: 6193.08206\n",
      "Recvr Value:   0.00000\n",
      "PayV - RecV: 6193.08206\n"
     ]
    }
   ],
   "source": [
    "valuePay = swaptionPay.value(settlementDate, liborCurve, model)\n",
    "valueRec = swaptionRec.value(settlementDate, liborCurve, model)\n",
    "valuePayRec = valuePay - valueRec\n",
    "print(\"Payer Value: %9.5f\"% valuePay)\n",
    "print(\"Recvr Value: %9.5f\"% valueRec)\n",
    "print(\"PayV - RecV: %9.5f\"% valuePayRec)"
   ]
  },
  {
   "cell_type": "markdown",
   "metadata": {},
   "source": [
    "Same result as before."
   ]
  },
  {
   "cell_type": "code",
   "execution_count": 138,
   "metadata": {},
   "outputs": [],
   "source": [
    "sigma = 0.20\n",
    "numTimeSteps = 200\n",
    "model = FinModelRatesBDT(sigma, numTimeSteps)"
   ]
  },
  {
   "cell_type": "code",
   "execution_count": 139,
   "metadata": {},
   "outputs": [
    {
     "name": "stdout",
     "output_type": "stream",
     "text": [
      "Payer Value: 15895.53194\n",
      "Recvr Value: 9698.75866\n",
      "PayV - RecV: 6196.77328\n"
     ]
    }
   ],
   "source": [
    "valuePay = swaptionPay.value(settlementDate, liborCurve, model)\n",
    "valueRec = swaptionRec.value(settlementDate, liborCurve, model)\n",
    "valuePayRec = valuePay - valueRec\n",
    "print(\"Payer Value: %9.5f\"% valuePay)\n",
    "print(\"Recvr Value: %9.5f\"% valueRec)\n",
    "print(\"PayV - RecV: %9.5f\"% valuePayRec)"
   ]
  },
  {
   "cell_type": "markdown",
   "metadata": {},
   "source": [
    "At 20% volatility the values are higher but put-call parity is obeyed."
   ]
  },
  {
   "cell_type": "markdown",
   "metadata": {},
   "source": [
    "# Bermudan Swaption Framework"
   ]
  },
  {
   "cell_type": "markdown",
   "metadata": {},
   "source": [
    "I now examine the same swaption but I allow it to be Bermudan and use the tree models to value it. But first let me price it on the tree models as a European option."
   ]
  },
  {
   "cell_type": "code",
   "execution_count": 18,
   "metadata": {},
   "outputs": [],
   "source": [
    "europeanSwaptionPay = FinLiborBermudanSwaption(settlementDate,\n",
    "                                               exerciseDate,\n",
    "                                               swapMaturityDate,\n",
    "                                               FinLiborSwapTypes.PAYER,\n",
    "                                               FinOptionExerciseTypes.EUROPEAN,\n",
    "                                               swapFixedCoupon,\n",
    "                                               swapFixedFrequencyType,\n",
    "                                               swapFixedDayCountType)"
   ]
  },
  {
   "cell_type": "code",
   "execution_count": 19,
   "metadata": {},
   "outputs": [],
   "source": [
    "europeanSwaptionRec = FinLiborBermudanSwaption(settlementDate,\n",
    "                                               exerciseDate,\n",
    "                                               swapMaturityDate,\n",
    "                                               FinLiborSwapTypes.RECEIVER,\n",
    "                                               FinOptionExerciseTypes.EUROPEAN,\n",
    "                                               swapFixedCoupon,\n",
    "                                               swapFixedFrequencyType,\n",
    "                                               swapFixedDayCountType)"
   ]
  },
  {
   "cell_type": "markdown",
   "metadata": {},
   "source": [
    "### Valuation using BDT Model"
   ]
  },
  {
   "cell_type": "markdown",
   "metadata": {},
   "source": [
    "The BDT model is a short rate model where $dln(r) = ... + \\sigma dW$. It is therefore lognormal in the short rate with a time-varying volatility and is arbitrage-free. It is not equivalent to Black's model but is approximately close."
   ]
  },
  {
   "cell_type": "code",
   "execution_count": 20,
   "metadata": {},
   "outputs": [],
   "source": [
    "sigma = 0.20\n",
    "numTimeSteps = 200\n",
    "modelBDT = FinModelRatesBDT(sigma, numTimeSteps)"
   ]
  },
  {
   "cell_type": "code",
   "execution_count": 22,
   "metadata": {},
   "outputs": [
    {
     "name": "stdout",
     "output_type": "stream",
     "text": [
      "EUROPEAN BK PAY Value: 41297.849350963894\n"
     ]
    }
   ],
   "source": [
    "valuePay = europeanSwaptionPay.value(valuationDate, liborCurve, modelBDT)\n",
    "print(\"EUROPEAN BK PAY Value:\", valuePay)"
   ]
  },
  {
   "cell_type": "code",
   "execution_count": 23,
   "metadata": {},
   "outputs": [
    {
     "name": "stdout",
     "output_type": "stream",
     "text": [
      "EUROPEAN BK PAY Value: 16866.479934995\n"
     ]
    }
   ],
   "source": [
    "valueRec = europeanSwaptionRec.value(valuationDate, liborCurve, modelBDT)\n",
    "print(\"EUROPEAN BK PAY Value:\", valueRec)"
   ]
  },
  {
   "cell_type": "code",
   "execution_count": 24,
   "metadata": {},
   "outputs": [],
   "source": [
    "valueParRec = valuePay - valueRec"
   ]
  },
  {
   "cell_type": "code",
   "execution_count": 25,
   "metadata": {},
   "outputs": [
    {
     "name": "stdout",
     "output_type": "stream",
     "text": [
      "41297.849350963894 16866.479934995 24431.369415968893\n"
     ]
    }
   ],
   "source": [
    "print(valuePay, valueRec, valueParRec)"
   ]
  },
  {
   "cell_type": "markdown",
   "metadata": {},
   "source": [
    "The put-call parity number is not exactly equal to the above number."
   ]
  },
  {
   "cell_type": "code",
   "execution_count": 26,
   "metadata": {},
   "outputs": [
    {
     "name": "stdout",
     "output_type": "stream",
     "text": [
      "OBJECT TYPE: FinLiborBermudanSwaption\n",
      "EXERCISE DATE: MON 04 MAR 2019\n",
      "MATURITY DATE: MON 04 MAR 2024\n",
      "SWAP TYPE: FinLiborSwapTypes.PAYER\n",
      "EXERCISE TYPE: FinOptionExerciseTypes.EUROPEAN\n",
      "FIXED COUPON: 0.035\n",
      "FIXED FREQUENCY: FinFrequencyTypes.SEMI_ANNUAL\n",
      "FIXED DAYCOUNT TYPE: FinDayCountTypes.THIRTY_E_360_ISDA\n",
      "FLOAT FREQUENCY: FinFrequencyTypes.QUARTERLY\n",
      "FLOAT DAYCOUNT TYPE: FinDayCountTypes.THIRTY_E_360\n",
      "NOTIONAL: 1000000\n",
      "\n"
     ]
    }
   ],
   "source": [
    "print(europeanSwaptionPay)"
   ]
  },
  {
   "cell_type": "markdown",
   "metadata": {},
   "source": [
    "# Bermudan Swaptions"
   ]
  },
  {
   "cell_type": "markdown",
   "metadata": {},
   "source": [
    "This swaption can be exercised starting in one year and the underlying swap matures in 4 years"
   ]
  },
  {
   "cell_type": "code",
   "execution_count": 27,
   "metadata": {},
   "outputs": [],
   "source": [
    "swapFixedFrequencyType = FinFrequencyTypes.SEMI_ANNUAL\n",
    "swapFixedDayCountType = FinDayCountTypes.THIRTY_E_360_ISDA"
   ]
  },
  {
   "cell_type": "markdown",
   "metadata": {},
   "source": [
    "The swaption is Bermudan so it can only be exercised on coupon payment dates"
   ]
  },
  {
   "cell_type": "markdown",
   "metadata": {},
   "source": [
    "Create a payer swaption first"
   ]
  },
  {
   "cell_type": "code",
   "execution_count": 28,
   "metadata": {},
   "outputs": [],
   "source": [
    "exerciseDate = settlementDate.addYears(1)\n",
    "swapMaturityDate = settlementDate.addYears(4)\n",
    "swapFixedCoupon = 0.060"
   ]
  },
  {
   "cell_type": "code",
   "execution_count": 29,
   "metadata": {},
   "outputs": [],
   "source": [
    "bermudanSwaptionPay = FinLiborBermudanSwaption(settlementDate,\n",
    "                                               exerciseDate,\n",
    "                                               swapMaturityDate,\n",
    "                                               FinLiborSwapTypes.PAYER,\n",
    "                                               FinOptionExerciseTypes.BERMUDAN,\n",
    "                                               swapFixedCoupon,\n",
    "                                               swapFixedFrequencyType,\n",
    "                                               swapFixedDayCountType)"
   ]
  },
  {
   "cell_type": "markdown",
   "metadata": {},
   "source": [
    "Create a receiver swaption"
   ]
  },
  {
   "cell_type": "code",
   "execution_count": 30,
   "metadata": {},
   "outputs": [],
   "source": [
    "bermudanSwaptionRec = FinLiborBermudanSwaption(settlementDate,\n",
    "                                               exerciseDate,\n",
    "                                               swapMaturityDate,\n",
    "                                               FinLiborSwapTypes.RECEIVER,\n",
    "                                               FinOptionExerciseTypes.BERMUDAN,\n",
    "                                               swapFixedCoupon,\n",
    "                                               swapFixedFrequencyType,\n",
    "                                               swapFixedDayCountType)"
   ]
  },
  {
   "cell_type": "markdown",
   "metadata": {},
   "source": [
    "## Valuation using the BK Model"
   ]
  },
  {
   "cell_type": "code",
   "execution_count": 31,
   "metadata": {},
   "outputs": [],
   "source": [
    "sigma = 0.2012\n",
    "a = 0.02\n",
    "numTimeSteps = 200"
   ]
  },
  {
   "cell_type": "code",
   "execution_count": 32,
   "metadata": {},
   "outputs": [],
   "source": [
    "modelBK = FinModelRatesBK(sigma, a, numTimeSteps)"
   ]
  },
  {
   "cell_type": "markdown",
   "metadata": {},
   "source": [
    "Now specify the put and call dates"
   ]
  },
  {
   "cell_type": "code",
   "execution_count": 33,
   "metadata": {},
   "outputs": [
    {
     "name": "stdout",
     "output_type": "stream",
     "text": [
      "Bermudan BK PAY Value: 36.98932215027288\n"
     ]
    }
   ],
   "source": [
    "value = bermudanSwaptionPay.value(valuationDate, liborCurve, modelBK)\n",
    "print(\"Bermudan BK PAY Value:\", value)"
   ]
  },
  {
   "cell_type": "code",
   "execution_count": 34,
   "metadata": {},
   "outputs": [
    {
     "name": "stdout",
     "output_type": "stream",
     "text": [
      "Bermudan BK REC Value: 136193.87579359458\n"
     ]
    }
   ],
   "source": [
    "value = bermudanSwaptionRec.value(valuationDate, liborCurve, modelBK)\n",
    "print(\"Bermudan BK REC Value:\", value)"
   ]
  },
  {
   "cell_type": "markdown",
   "metadata": {},
   "source": [
    "## Valuation using the BDT Model"
   ]
  },
  {
   "cell_type": "code",
   "execution_count": 35,
   "metadata": {},
   "outputs": [],
   "source": [
    "sigma = 0.2012\n",
    "numTimeSteps = 500"
   ]
  },
  {
   "cell_type": "code",
   "execution_count": 36,
   "metadata": {},
   "outputs": [],
   "source": [
    "modelBDT = FinModelRatesBDT(sigma, numTimeSteps)"
   ]
  },
  {
   "cell_type": "code",
   "execution_count": 38,
   "metadata": {},
   "outputs": [
    {
     "name": "stdout",
     "output_type": "stream",
     "text": [
      "Bermudan BDT PAY Value: 46.9917920839301\n"
     ]
    }
   ],
   "source": [
    "value = bermudanSwaptionPay.value(valuationDate, liborCurve, modelBDT)\n",
    "print(\"Bermudan BDT PAY Value:\", value)"
   ]
  },
  {
   "cell_type": "code",
   "execution_count": 39,
   "metadata": {},
   "outputs": [
    {
     "name": "stdout",
     "output_type": "stream",
     "text": [
      "Bermudan BDT REC Value: 136190.09233441114\n"
     ]
    }
   ],
   "source": [
    "value = bermudanSwaptionRec.value(valuationDate, liborCurve, modelBDT)\n",
    "print(\"Bermudan BDT REC Value:\", value)"
   ]
  },
  {
   "cell_type": "code",
   "execution_count": 40,
   "metadata": {},
   "outputs": [
    {
     "name": "stdout",
     "output_type": "stream",
     "text": [
      "OBJECT TYPE: FinLiborBermudanSwaption\n",
      "EXERCISE DATE: WED 04 MAR 2015\n",
      "MATURITY DATE: SUN 04 MAR 2018\n",
      "SWAP TYPE: FinLiborSwapTypes.PAYER\n",
      "EXERCISE TYPE: FinOptionExerciseTypes.BERMUDAN\n",
      "FIXED COUPON: 0.06\n",
      "FIXED FREQUENCY: FinFrequencyTypes.SEMI_ANNUAL\n",
      "FIXED DAYCOUNT TYPE: FinDayCountTypes.THIRTY_E_360_ISDA\n",
      "FLOAT FREQUENCY: FinFrequencyTypes.QUARTERLY\n",
      "FLOAT DAYCOUNT TYPE: FinDayCountTypes.THIRTY_E_360\n",
      "NOTIONAL: 1000000\n",
      "\n"
     ]
    }
   ],
   "source": [
    "print(bermudanSwaptionPay)"
   ]
  },
  {
   "cell_type": "markdown",
   "metadata": {},
   "source": [
    "## Valuation using the HW Model"
   ]
  },
  {
   "cell_type": "code",
   "execution_count": 41,
   "metadata": {},
   "outputs": [],
   "source": [
    "sigma = 0.01  # basis point volatility\n",
    "a = 0.01\n",
    "numTimeSteps = 100"
   ]
  },
  {
   "cell_type": "code",
   "execution_count": 42,
   "metadata": {},
   "outputs": [],
   "source": [
    "modelHW = FinModelRatesHW(a, sigma, numTimeSteps)"
   ]
  },
  {
   "cell_type": "code",
   "execution_count": 44,
   "metadata": {},
   "outputs": [
    {
     "name": "stdout",
     "output_type": "stream",
     "text": [
      "Bermudan HW PAY Value: 171.52038738392568\n"
     ]
    }
   ],
   "source": [
    "value = bermudanSwaptionPay.value(valuationDate, liborCurve, modelHW)\n",
    "print(\"Bermudan HW PAY Value:\", value)"
   ]
  },
  {
   "cell_type": "code",
   "execution_count": 45,
   "metadata": {},
   "outputs": [
    {
     "name": "stdout",
     "output_type": "stream",
     "text": [
      "Bermudan HW REC Value: 136193.91237041343\n"
     ]
    }
   ],
   "source": [
    "value = bermudanSwaptionRec.value(valuationDate, liborCurve, modelHW)\n",
    "print(\"Bermudan HW REC Value:\", value)"
   ]
  },
  {
   "cell_type": "markdown",
   "metadata": {},
   "source": [
    "# Convergence Testing"
   ]
  },
  {
   "cell_type": "markdown",
   "metadata": {},
   "source": [
    "## BK Model"
   ]
  },
  {
   "cell_type": "code",
   "execution_count": 47,
   "metadata": {},
   "outputs": [
    {
     "data": {
      "image/png": "[encoded data removed]",
      "text/plain": [
       "<Figure size 432x288 with 1 Axes>"
      ]
     },
     "metadata": {
      "needs_background": "light"
     },
     "output_type": "display_data"
    }
   ],
   "source": [
    "sigma = 0.2012\n",
    "a = 0.04\n",
    "\n",
    "timeSteps = range(100,500,1)\n",
    "values = []\n",
    "for numTimeSteps in timeSteps:\n",
    "    modelBK = FinModelRatesBK(sigma, a, numTimeSteps)\n",
    "    v = bermudanSwaptionPay.value(valuationDate, liborCurve, modelBK)\n",
    "    values.append(v)\n",
    "\n",
    "plt.plot(timeSteps, values);"
   ]
  },
  {
   "cell_type": "markdown",
   "metadata": {},
   "source": [
    "## BDT Model"
   ]
  },
  {
   "cell_type": "code",
   "execution_count": 48,
   "metadata": {},
   "outputs": [
    {
     "data": {
      "image/png": "[encoded data removed]",
      "text/plain": [
       "<Figure size 432x288 with 1 Axes>"
      ]
     },
     "metadata": {
      "needs_background": "light"
     },
     "output_type": "display_data"
    }
   ],
   "source": [
    "sigma = 0.2012\n",
    "\n",
    "timeSteps = range(100,500,1)\n",
    "values = []\n",
    "for numTimeSteps in timeSteps:\n",
    "    modelBDT = FinModelRatesBDT(sigma, numTimeSteps)\n",
    "    v = bermudanSwaptionPay.value(settlementDate, liborCurve, modelBDT)\n",
    "    values.append(v)\n",
    "    \n",
    "plt.plot(timeSteps, values);"
   ]
  },
  {
   "cell_type": "markdown",
   "metadata": {},
   "source": [
    "## HW Model"
   ]
  },
  {
   "cell_type": "code",
   "execution_count": 49,
   "metadata": {},
   "outputs": [
    {
     "data": {
      "image/png": "[encoded data removed]",
      "text/plain": [
       "<Figure size 432x288 with 1 Axes>"
      ]
     },
     "metadata": {
      "needs_background": "light"
     },
     "output_type": "display_data"
    }
   ],
   "source": [
    "sigma = 0.01  # basis point volatility\n",
    "a = 0.01\n",
    "timeSteps = range(100,500,1)\n",
    "values = []\n",
    "\n",
    "for numTimeSteps in timeSteps:\n",
    "    modelHW = FinModelRatesHW(a, sigma, numTimeSteps)\n",
    "    v = bermudanSwaptionPay.value(settlementDate, liborCurve, modelHW)\n",
    "    values.append(v)\n",
    "    \n",
    "plt.plot(timeSteps, values);"
   ]
  },
  {
   "cell_type": "markdown",
   "metadata": {},
   "source": [
    "In all 3 cases there is something happening at 300 time steps that needs investigation"
   ]
  },
  {
   "cell_type": "markdown",
   "metadata": {},
   "source": [
    "Copyright (c) 2020 Dominic O'Kane"
   ]
  }
 ],
 "metadata": {
  "kernelspec": {
   "display_name": "Python 3",
   "language": "python",
   "name": "python3"
  },
  "language_info": {
   "codemirror_mode": {
    "name": "ipython",
    "version": 3
   },
   "file_extension": ".py",
   "mimetype": "text/x-python",
   "name": "python",
   "nbconvert_exporter": "python",
   "pygments_lexer": "ipython3",
   "version": "3.7.6"
  }
 },
 "nbformat": 4,
 "nbformat_minor": 2
}
