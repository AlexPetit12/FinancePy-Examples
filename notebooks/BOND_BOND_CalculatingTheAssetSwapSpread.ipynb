{
 "cells": [
  {
   "cell_type": "markdown",
   "metadata": {},
   "source": [
    "# Calculating the Asset Swap Spread"
   ]
  },
  {
   "cell_type": "markdown",
   "metadata": {},
   "source": [
    "The asset swap spread is widely used as measures of pure credit risk. In this notebook I calculate these quantities."
   ]
  },
  {
   "cell_type": "code",
   "execution_count": 1,
   "metadata": {},
   "outputs": [],
   "source": [
    "import numpy as np\n",
    "import matplotlib.pyplot as plt"
   ]
  },
  {
   "cell_type": "code",
   "execution_count": 2,
   "metadata": {},
   "outputs": [
    {
     "name": "stdout",
     "output_type": "stream",
     "text": [
      "####################################################################\n",
      "TEMPORARY MESSAGE: Welcome to FinancePy!\n",
      "This program is distributed in the hope that it will be useful, but\n",
      "WITHOUT ANY WARRANTY and without even the implied warranty of \n",
      "MERCHANTABILITY or FITNESS FOR A PARTICULAR PURPOSE. Furthermore,\n",
      "this is an alpha version of FinancePy & so is in early development.\n",
      "Users are requested to verify outputs and if any doubt is found \n",
      "users are requested to contact the author of FinancePy. \n",
      "###################################################################\n",
      "\n"
     ]
    }
   ],
   "source": [
    "from financepy.finutils.FinError import FinError\n",
    "from financepy.finutils.FinFrequency import FinFrequencyTypes\n",
    "from financepy.finutils.FinDayCount import FinDayCountTypes\n",
    "from financepy.finutils.FinDate import FinDate\n",
    "from financepy.products.bonds.FinBond import FinBond, FinYieldConventions"
   ]
  },
  {
   "cell_type": "code",
   "execution_count": 3,
   "metadata": {},
   "outputs": [],
   "source": [
    "maturityDate = FinDate(2027, 5, 15)\n",
    "coupon = 0.02375\n",
    "freqType = FinFrequencyTypes.SEMI_ANNUAL\n",
    "accrualType = FinDayCountTypes.ACT_ACT_ICMA\n",
    "face = 100.0 # By setting the face to 100 we expect a price of par to be 100.0"
   ]
  },
  {
   "cell_type": "code",
   "execution_count": 4,
   "metadata": {},
   "outputs": [],
   "source": [
    "bond = FinBond(maturityDate, coupon, freqType, accrualType, face)"
   ]
  },
  {
   "cell_type": "code",
   "execution_count": 5,
   "metadata": {},
   "outputs": [
    {
     "name": "stdout",
     "output_type": "stream",
     "text": [
      "MATURITY DATE: SAT 15 MAY 2027\n",
      "COUPON: 0.02375\n",
      "FREQUENCY: FinFrequencyTypes.SEMI_ANNUAL\n",
      "ACCRUAL TYPE: FinDayCountTypes.ACT_ACT_ICMA\n",
      "FACE: 100.0\n"
     ]
    }
   ],
   "source": [
    "bond.print()"
   ]
  },
  {
   "cell_type": "markdown",
   "metadata": {},
   "source": [
    "## Asset Swap Spread"
   ]
  },
  {
   "cell_type": "markdown",
   "metadata": {},
   "source": [
    "To calculate the asset swap spread we need a Libor reference curve. I just create a simple flat curve."
   ]
  },
  {
   "cell_type": "code",
   "execution_count": 6,
   "metadata": {},
   "outputs": [],
   "source": [
    "from financepy.market.curves.FinFlatCurve import FinFlatCurve"
   ]
  },
  {
   "cell_type": "code",
   "execution_count": 7,
   "metadata": {},
   "outputs": [],
   "source": [
    "liborFlatRate = 0.0275"
   ]
  },
  {
   "cell_type": "code",
   "execution_count": 8,
   "metadata": {},
   "outputs": [],
   "source": [
    "settlementDate = FinDate(2017, 7, 21)"
   ]
  },
  {
   "cell_type": "code",
   "execution_count": 9,
   "metadata": {},
   "outputs": [],
   "source": [
    "liborFlatCurve = FinFlatCurve(settlementDate, liborFlatRate, 2)"
   ]
  },
  {
   "cell_type": "code",
   "execution_count": 10,
   "metadata": {},
   "outputs": [
    {
     "name": "stdout",
     "output_type": "stream",
     "text": [
      "TIMES: DISCOUNT FACTORS\n",
      "0.0: 0.9999999997268735\n",
      "0.2564102564102564: 0.9930212212374406\n",
      "0.5128205128205128: 0.9860911458278981\n",
      "0.7692307692307692: 0.9792094338814465\n",
      "1.0256410256410255: 0.972375747880177\n",
      "1.282051282051282: 0.965589752661643\n",
      "1.5384615384615383: 0.9588511154024231\n",
      "1.7948717948717947: 0.9521595056017963\n",
      "2.051282051282051: 0.9455145950655335\n",
      "2.3076923076923075: 0.9389160578898003\n",
      "2.564102564102564: 0.932363570445173\n",
      "2.8205128205128203: 0.9258568113607663\n",
      "3.0769230769230766: 0.9193954615084708\n",
      "3.333333333333333: 0.9129792039873021\n",
      "3.5897435897435894: 0.9066077241078573\n",
      "3.846153846153846: 0.9002807093768811\n",
      "4.102564102564102: 0.8939978494819398\n",
      "4.358974358974359: 0.8877588362762016\n",
      "4.615384615384615: 0.8815633637633229\n",
      "4.871794871794871: 0.875411128082441\n",
      "5.128205128205128: 0.8693018274932711\n",
      "5.384615384615384: 0.8632351623613072\n",
      "5.6410256410256405: 0.8572108351431256\n",
      "5.897435897435897: 0.851228550371793\n",
      "6.153846153846153: 0.8452880146423741\n",
      "6.41025641025641: 0.839388936597542\n",
      "6.666666666666666: 0.8335310269132878\n",
      "6.9230769230769225: 0.8277139982847311\n",
      "7.179487179487179: 0.8219375654120286\n",
      "7.435897435897435: 0.8162014449863814\n",
      "7.692307692307692: 0.8105053556761402\n",
      "7.948717948717948: 0.804849018113007\n",
      "8.205128205128204: 0.7992321548783332\n",
      "8.46153846153846: 0.7936544904895138\n",
      "8.717948717948717: 0.7881157513864757\n",
      "8.974358974358974: 0.7826156659182613\n",
      "9.23076923076923: 0.7771539643297047\n",
      "9.487179487179485: 0.7717303787482017\n",
      "9.743589743589743: 0.7663446431705719\n",
      "10.0: 0.7609964934500121\n",
      "\n"
     ]
    }
   ],
   "source": [
    "print(liborFlatCurve)"
   ]
  },
  {
   "cell_type": "markdown",
   "metadata": {},
   "source": [
    "To caluclate the ASW I need to know the clean price of the bond"
   ]
  },
  {
   "cell_type": "code",
   "execution_count": 11,
   "metadata": {},
   "outputs": [],
   "source": [
    "cleanPrice = 99.780842  # I specified face to be 100 - if face is 1 then this must be 0.99780842"
   ]
  },
  {
   "cell_type": "markdown",
   "metadata": {},
   "source": [
    "I then call a function passing in the date, price and curve"
   ]
  },
  {
   "cell_type": "code",
   "execution_count": 12,
   "metadata": {},
   "outputs": [
    {
     "data": {
      "text/plain": [
       "-33.67080535984256"
      ]
     },
     "execution_count": 12,
     "metadata": {},
     "output_type": "execute_result"
    }
   ],
   "source": [
    "bond.assetSwapSpread(settlementDate, cleanPrice, liborFlatCurve) * 10000"
   ]
  },
  {
   "cell_type": "markdown",
   "metadata": {},
   "source": [
    "The bond ASW is negative so it is trading tighter than the Libor curve. I need to cheapen the bond to make the ASW positive."
   ]
  },
  {
   "cell_type": "code",
   "execution_count": 13,
   "metadata": {},
   "outputs": [],
   "source": [
    "cleanPrice = 93.382  # I specified face to be 100 "
   ]
  },
  {
   "cell_type": "code",
   "execution_count": 14,
   "metadata": {},
   "outputs": [
    {
     "data": {
      "text/plain": [
       "38.508703367514684"
      ]
     },
     "execution_count": 14,
     "metadata": {},
     "output_type": "execute_result"
    }
   ],
   "source": [
    "bond.assetSwapSpread(settlementDate, cleanPrice, liborFlatCurve) * 10000"
   ]
  },
  {
   "cell_type": "markdown",
   "metadata": {},
   "source": [
    "To get date functionality you import FinDate"
   ]
  },
  {
   "cell_type": "markdown",
   "metadata": {},
   "source": [
    "## Analysis of the Asset Swap Spread"
   ]
  },
  {
   "cell_type": "markdown",
   "metadata": {},
   "source": [
    "We can use the vectorisations to do some basic analysis. First generate a vector of prices from 90 to 110 with 20 steps."
   ]
  },
  {
   "cell_type": "code",
   "execution_count": 15,
   "metadata": {},
   "outputs": [],
   "source": [
    "cleanPrices = np.linspace(75,125,20)"
   ]
  },
  {
   "cell_type": "code",
   "execution_count": 16,
   "metadata": {},
   "outputs": [],
   "source": [
    "asws = bond.assetSwapSpread(settlementDate, cleanPrices, liborFlatCurve)"
   ]
  },
  {
   "cell_type": "markdown",
   "metadata": {},
   "source": [
    "We can now plot the relationship."
   ]
  },
  {
   "cell_type": "code",
   "execution_count": 17,
   "metadata": {},
   "outputs": [
    {
     "data": {
      "text/plain": [
       "Text(0, 0.5, 'Asset Swap Spread (bp)')"
      ]
     },
     "execution_count": 17,
     "metadata": {},
     "output_type": "execute_result"
    },
    {
     "data": {
      "image/png": "[encoded data removed]",
      "text/plain": [
       "<Figure size 432x288 with 1 Axes>"
      ]
     },
     "metadata": {
      "needs_background": "light"
     },
     "output_type": "display_data"
    }
   ],
   "source": [
    "plt.plot(cleanPrices,asws*10000)\n",
    "plt.xlabel(\"Bond Clean Price\")\n",
    "plt.ylabel(\"Asset Swap Spread (bp)\")"
   ]
  },
  {
   "cell_type": "markdown",
   "metadata": {},
   "source": [
    "This is nicely linear and decreasing - the higher the bond price the better its implied credit risk versus Libor discounting so the lower its asset swap spread."
   ]
  },
  {
   "cell_type": "markdown",
   "metadata": {},
   "source": [
    "## Asset Swap Spread Versus Discount Rate"
   ]
  },
  {
   "cell_type": "code",
   "execution_count": 18,
   "metadata": {},
   "outputs": [],
   "source": [
    "liborFlatRates = np.linspace(0.01,0.04,20)"
   ]
  },
  {
   "cell_type": "code",
   "execution_count": 19,
   "metadata": {},
   "outputs": [],
   "source": [
    "liborFlatCurves = FinFlatCurve(settlementDate, liborFlatRates, 1)"
   ]
  },
  {
   "cell_type": "code",
   "execution_count": 20,
   "metadata": {},
   "outputs": [],
   "source": [
    "asws = bond.assetSwapSpread(settlementDate, cleanPrice, liborFlatCurves)"
   ]
  },
  {
   "cell_type": "code",
   "execution_count": 21,
   "metadata": {},
   "outputs": [
    {
     "data": {
      "text/plain": [
       "Text(0, 0.5, 'Asset Swap Spread (bp)')"
      ]
     },
     "execution_count": 21,
     "metadata": {},
     "output_type": "execute_result"
    },
    {
     "data": {
      "image/png": "[encoded data removed]",
      "text/plain": [
       "<Figure size 432x288 with 1 Axes>"
      ]
     },
     "metadata": {
      "needs_background": "light"
     },
     "output_type": "display_data"
    }
   ],
   "source": [
    "plt.plot(liborFlatRates*100,asws*10000)\n",
    "plt.xlabel(\"Libor Flat Rate\")\n",
    "plt.ylabel(\"Asset Swap Spread (bp)\")"
   ]
  },
  {
   "cell_type": "markdown",
   "metadata": {},
   "source": [
    "Once again we see that the asset swap spread which measures the risk of the bond versus the Libor rate falls linearly with the increasing Libor rate."
   ]
  }
 ],
 "metadata": {
  "kernelspec": {
   "display_name": "Python 3",
   "language": "python",
   "name": "python3"
  },
  "language_info": {
   "codemirror_mode": {
    "name": "ipython",
    "version": 3
   },
   "file_extension": ".py",
   "mimetype": "text/x-python",
   "name": "python",
   "nbconvert_exporter": "python",
   "pygments_lexer": "ipython3",
   "version": "3.7.7"
  }
 },
 "nbformat": 4,
 "nbformat_minor": 2
}
