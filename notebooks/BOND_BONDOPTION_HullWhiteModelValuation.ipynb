{
 "cells": [
  {
   "cell_type": "markdown",
   "metadata": {},
   "source": [
    "# Bond Option Pricing using Hull-White Model"
   ]
  },
  {
   "cell_type": "markdown",
   "metadata": {},
   "source": [
    "Value an option on a coupon paying bond using the Hull-White and Black-Karasinski model"
   ]
  },
  {
   "cell_type": "code",
   "execution_count": 4,
   "metadata": {},
   "outputs": [],
   "source": [
    "import numpy as np\n",
    "import matplotlib.pyplot as plt\n",
    "import time"
   ]
  },
  {
   "cell_type": "code",
   "execution_count": 1,
   "metadata": {},
   "outputs": [],
   "source": [
    "from financepy.finutils.FinDate import FinDate\n",
    "from financepy.market.curves.FinDiscountCurve import FinDiscountCurve\n",
    "from financepy.finutils.FinFrequency import FinFrequencyTypes\n",
    "from financepy.finutils.FinDayCount import FinDayCountTypes\n",
    "from financepy.products.libor.FinLiborSwap import FinLiborSwap\n",
    "from financepy.market.curves.FinLiborCurve import FinLiborCurve\n",
    "\n",
    "from financepy.models.FinModelRatesHW import FinModelRatesHW\n",
    "from financepy.models.FinModelRatesBK import FinModelRatesBK\n",
    "from financepy.products.bonds.FinBond import FinBond\n",
    "from financepy.products.bonds.FinBondOption import *"
   ]
  },
  {
   "cell_type": "markdown",
   "metadata": {},
   "source": [
    "## Bond Option Valuation"
   ]
  },
  {
   "cell_type": "code",
   "execution_count": 2,
   "metadata": {},
   "outputs": [],
   "source": [
    "settlementDate = FinDate(1, 12, 2019)"
   ]
  },
  {
   "cell_type": "markdown",
   "metadata": {},
   "source": [
    "Set up discount curve"
   ]
  },
  {
   "cell_type": "code",
   "execution_count": 6,
   "metadata": {},
   "outputs": [],
   "source": [
    "dcType = FinDayCountTypes.ACT_360\n",
    "fixedFreq = FinFrequencyTypes.SEMI_ANNUAL\n",
    "swap1 = FinLiborSwap(settlementDate,\"1Y\",0.0500,fixedFreq,dcType)\n",
    "swap2 = FinLiborSwap(settlementDate,\"3Y\",0.0500,fixedFreq,dcType)\n",
    "swap3 = FinLiborSwap(settlementDate,\"5Y\",0.0500,fixedFreq,dcType)\n",
    "swap4 = FinLiborSwap(settlementDate,\"7Y\",0.0500,fixedFreq,dcType)\n",
    "swap5 = FinLiborSwap(settlementDate,\"10Y\",0.0500,fixedFreq,dcType)\n",
    "swaps = [swap1, swap2, swap3, swap4, swap5]\n",
    "\n",
    "discountCurve = FinLiborCurve(\"USD_LIBOR\", settlementDate, [], [], swaps)"
   ]
  },
  {
   "cell_type": "code",
   "execution_count": 5,
   "metadata": {},
   "outputs": [
    {
     "ename": "AttributeError",
     "evalue": "'FinLiborCurve' object has no attribute 'print'",
     "output_type": "error",
     "traceback": [
      "\u001b[1;31m---------------------------------------------------------------------------\u001b[0m",
      "\u001b[1;31mAttributeError\u001b[0m                            Traceback (most recent call last)",
      "\u001b[1;32m<ipython-input-5-e380846d7d23>\u001b[0m in \u001b[0;36m<module>\u001b[1;34m\u001b[0m\n\u001b[1;32m----> 1\u001b[1;33m \u001b[0mdiscountCurve\u001b[0m\u001b[1;33m.\u001b[0m\u001b[0mprint\u001b[0m\u001b[1;33m(\u001b[0m\u001b[1;33m)\u001b[0m\u001b[1;33m\u001b[0m\u001b[1;33m\u001b[0m\u001b[0m\n\u001b[0m",
      "\u001b[1;31mAttributeError\u001b[0m: 'FinLiborCurve' object has no attribute 'print'"
     ]
    }
   ],
   "source": [
    "discountCurve.print()"
   ]
  },
  {
   "cell_type": "markdown",
   "metadata": {},
   "source": [
    "## Set up the Bond Option"
   ]
  },
  {
   "cell_type": "markdown",
   "metadata": {},
   "source": [
    "First create the bond"
   ]
  },
  {
   "cell_type": "code",
   "execution_count": 73,
   "metadata": {},
   "outputs": [],
   "source": [
    "maturityDate = settlementDate.addTenor(\"10Y\")\n",
    "coupon = 0.05\n",
    "frequencyType = FinFrequencyTypes.SEMI_ANNUAL\n",
    "accrualType = FinDayCountTypes.ACT_ACT_ICMA\n",
    "bond = FinBond(maturityDate, coupon, frequencyType, accrualType)"
   ]
  },
  {
   "cell_type": "markdown",
   "metadata": {},
   "source": [
    "Let's first price the bond on the libor curve"
   ]
  },
  {
   "cell_type": "code",
   "execution_count": 74,
   "metadata": {},
   "outputs": [
    {
     "name": "stdout",
     "output_type": "stream",
     "text": [
      "Fixed Income Price: 99.44194023445222\n"
     ]
    }
   ],
   "source": [
    "price = bond.valueBondUsingDiscountCurve(settlementDate, discountCurve, False)\n",
    "print(\"Fixed Income Price:\", price)"
   ]
  },
  {
   "cell_type": "markdown",
   "metadata": {},
   "source": [
    "Then define and create the option"
   ]
  },
  {
   "cell_type": "code",
   "execution_count": 75,
   "metadata": {},
   "outputs": [],
   "source": [
    "expiryDate = settlementDate.addTenor(\"18m\")\n",
    "strikePrice = 90.0\n",
    "face = 100.0\n",
    "optionType = FinBondOptionTypes.AMERICAN_CALL"
   ]
  },
  {
   "cell_type": "markdown",
   "metadata": {},
   "source": [
    "### Hull White Model"
   ]
  },
  {
   "cell_type": "markdown",
   "metadata": {},
   "source": [
    "Set the model parameters"
   ]
  },
  {
   "cell_type": "code",
   "execution_count": 76,
   "metadata": {},
   "outputs": [],
   "source": [
    "sigma = 0.01\n",
    "a = 0.1\n",
    "hwModel = FinModelRatesHW(sigma, a)"
   ]
  },
  {
   "cell_type": "code",
   "execution_count": 77,
   "metadata": {},
   "outputs": [],
   "source": [
    "strikes = [80, 85, 90, 95, 100, 105, 110, 115, 120]"
   ]
  },
  {
   "cell_type": "code",
   "execution_count": 78,
   "metadata": {},
   "outputs": [
    {
     "name": "stdout",
     "output_type": "stream",
     "text": [
      "K:  80.00000 EUR_CALL:  18.08882  AMER_CALL:  19.44239  EUR_PUT:   0.00004  AMER_PUT:   0.00004\n",
      "K:  85.00000 EUR_CALL:  13.45306  AMER_CALL:  14.44239  EUR_PUT:   0.00289  AMER_PUT:   0.00336\n",
      "K:  90.00000 EUR_CALL:   8.87757  AMER_CALL:   9.51004  EUR_PUT:   0.06600  AMER_PUT:   0.07672\n",
      "K:  95.00000 EUR_CALL:   4.73536  AMER_CALL:   5.10452  EUR_PUT:   0.56240  AMER_PUT:   0.63959\n",
      "K: 100.00000 EUR_CALL:   1.82292  AMER_CALL:   1.99234  EUR_PUT:   2.28856  AMER_PUT:   2.55435\n",
      "K: 105.00000 EUR_CALL:   0.46637  AMER_CALL:   0.51878  EUR_PUT:   5.57062  AMER_PUT:   6.11573\n",
      "K: 110.00000 EUR_CALL:   0.07696  AMER_CALL:   0.08641  EUR_PUT:   9.81983  AMER_PUT:  10.66669\n",
      "K: 115.00000 EUR_CALL:   0.00827  AMER_CALL:   0.00937  EUR_PUT:  14.38974  AMER_PUT:  15.56016\n",
      "K: 120.00000 EUR_CALL:   0.00060  AMER_CALL:   0.00068  EUR_PUT:  19.02067  AMER_PUT:  20.55761\n"
     ]
    }
   ],
   "source": [
    "for K in strikes:\n",
    "    europeanCallBondOption = FinBondOption(bond, expiryDate, K, face, FinBondOptionTypes.EUROPEAN_CALL)\n",
    "    v_ec = europeanCallBondOption.value(settlementDate, discountCurve, hwModel)\n",
    "    americanCallBondOption = FinBondOption(bond, expiryDate, K, face, FinBondOptionTypes.AMERICAN_CALL)\n",
    "    v_ac = americanCallBondOption.value(settlementDate, discountCurve, hwModel)\n",
    "    europeanPutBondOption = FinBondOption(bond, expiryDate, K, face, FinBondOptionTypes.EUROPEAN_PUT)\n",
    "    v_ep = europeanPutBondOption.value(settlementDate, discountCurve, hwModel)\n",
    "    americanPutBondOption = FinBondOption(bond, expiryDate, K, face, FinBondOptionTypes.AMERICAN_PUT)\n",
    "    v_ap = americanPutBondOption.value(settlementDate, discountCurve, hwModel)\n",
    "    \n",
    "    print(\"K: %9.5f EUR_CALL: %9.5f  AMER_CALL: %9.5f  EUR_PUT: %9.5f  AMER_PUT: %9.5f\" %(K, v_ec, v_ac, v_ep, v_ap))"
   ]
  },
  {
   "cell_type": "markdown",
   "metadata": {},
   "source": [
    "## Convergence Testing - Hull White"
   ]
  },
  {
   "cell_type": "markdown",
   "metadata": {},
   "source": [
    "It is important that the tree price is stable to the number of tree steps. This can be a challenge when pricing American optionality on bonds due to the payment of coupons and the effect of accrued interest on the clean bond price."
   ]
  },
  {
   "cell_type": "code",
   "execution_count": 79,
   "metadata": {},
   "outputs": [],
   "source": [
    "from financepy.market.curves.FinFlatCurve import FinFlatCurve"
   ]
  },
  {
   "cell_type": "code",
   "execution_count": 80,
   "metadata": {},
   "outputs": [
    {
     "name": "stdout",
     "output_type": "stream",
     "text": [
      "SUN 1 DEC 2019\n"
     ]
    }
   ],
   "source": [
    "print(settlementDate)"
   ]
  },
  {
   "cell_type": "code",
   "execution_count": 81,
   "metadata": {},
   "outputs": [],
   "source": [
    "discountCurve = FinFlatCurve(settlementDate, 0.05)"
   ]
  },
  {
   "cell_type": "code",
   "execution_count": 82,
   "metadata": {},
   "outputs": [],
   "source": [
    "maturityDate = settlementDate.addTenor(\"10Y\")\n",
    "coupon = 0.05\n",
    "frequencyType = FinFrequencyTypes.SEMI_ANNUAL\n",
    "accrualType = FinDayCountTypes.ACT_ACT_ICMA\n",
    "bond = FinBond(maturityDate, coupon, frequencyType, accrualType)\n",
    "expiryDate = settlementDate.addTenor(\"18m\")\n",
    "face = 100.0"
   ]
  },
  {
   "cell_type": "code",
   "execution_count": 91,
   "metadata": {},
   "outputs": [],
   "source": [
    "numStepsVector = range(50,1000,10)"
   ]
  },
  {
   "cell_type": "code",
   "execution_count": 92,
   "metadata": {},
   "outputs": [],
   "source": [
    "sigma = 0.01\n",
    "a = 0.1"
   ]
  },
  {
   "cell_type": "code",
   "execution_count": 93,
   "metadata": {},
   "outputs": [],
   "source": [
    "K = 102.0"
   ]
  },
  {
   "cell_type": "code",
   "execution_count": 94,
   "metadata": {
    "scrolled": false
   },
   "outputs": [],
   "source": [
    "vec_ec = []\n",
    "vec_ac = []\n",
    "vec_ep = []\n",
    "vec_ap = []\n",
    "\n",
    "for numSteps in numStepsVector:\n",
    "    \n",
    "    hwModel = FinModelRatesHW(sigma, a, numSteps)\n",
    "    \n",
    "    europeanCallBondOption = FinBondOption(bond, expiryDate, K, face, FinBondOptionTypes.EUROPEAN_CALL)\n",
    "    v_ec = europeanCallBondOption.value(settlementDate, discountCurve, hwModel)\n",
    "\n",
    "    americanCallBondOption = FinBondOption(bond, expiryDate, K, face, FinBondOptionTypes.AMERICAN_CALL)\n",
    "    v_ac = americanCallBondOption.value(settlementDate, discountCurve, hwModel)\n",
    "    \n",
    "    europeanPutBondOption = FinBondOption(bond, expiryDate, K, face, FinBondOptionTypes.EUROPEAN_PUT)\n",
    "    v_ep = europeanPutBondOption.value(settlementDate, discountCurve, hwModel)\n",
    "    \n",
    "    americanPutBondOption = FinBondOption(bond, expiryDate, K, face, FinBondOptionTypes.AMERICAN_PUT)\n",
    "    v_ap = americanPutBondOption.value(settlementDate, discountCurve, hwModel)\n",
    "    \n",
    "#    print(\"%d %9.5f %9.5f %9.5f %9.5f\"%(numSteps, v_ec, v_ac, v_ep, v_ap))\n",
    "    vec_ec.append(v_ec)\n",
    "    vec_ac.append(v_ac)\n",
    "    vec_ep.append(v_ep)\n",
    "    vec_ap.append(v_ap)"
   ]
  },
  {
   "cell_type": "code",
   "execution_count": 95,
   "metadata": {},
   "outputs": [
    {
     "data": {
      "text/plain": [
       "<matplotlib.legend.Legend at 0x24f972ede08>"
      ]
     },
     "execution_count": 95,
     "metadata": {},
     "output_type": "execute_result"
    },
    {
     "data": {
      "image/png": "[encoded data removed]",
      "text/plain": [
       "<Figure size 432x288 with 1 Axes>"
      ]
     },
     "metadata": {
      "needs_background": "light"
     },
     "output_type": "display_data"
    }
   ],
   "source": [
    "plt.plot(numStepsVector,vec_ec, label=\"European Call\")\n",
    "plt.legend()"
   ]
  },
  {
   "cell_type": "code",
   "execution_count": 96,
   "metadata": {},
   "outputs": [
    {
     "data": {
      "text/plain": [
       "<matplotlib.legend.Legend at 0x24f97250e08>"
      ]
     },
     "execution_count": 96,
     "metadata": {},
     "output_type": "execute_result"
    },
    {
     "data": {
      "image/png": "[encoded data removed]",
      "text/plain": [
       "<Figure size 432x288 with 1 Axes>"
      ]
     },
     "metadata": {
      "needs_background": "light"
     },
     "output_type": "display_data"
    }
   ],
   "source": [
    "plt.plot(numStepsVector,vec_ep, label=\"European Put\")\n",
    "plt.legend()"
   ]
  },
  {
   "cell_type": "code",
   "execution_count": 97,
   "metadata": {},
   "outputs": [
    {
     "data": {
      "text/plain": [
       "<matplotlib.legend.Legend at 0x24f97623688>"
      ]
     },
     "execution_count": 97,
     "metadata": {},
     "output_type": "execute_result"
    },
    {
     "data": {
      "image/png": "[encoded data removed]",
      "text/plain": [
       "<Figure size 432x288 with 1 Axes>"
      ]
     },
     "metadata": {
      "needs_background": "light"
     },
     "output_type": "display_data"
    }
   ],
   "source": [
    "plt.plot(numStepsVector,vec_ac, label=\"American Call\")\n",
    "plt.legend()"
   ]
  },
  {
   "cell_type": "code",
   "execution_count": 98,
   "metadata": {},
   "outputs": [
    {
     "data": {
      "text/plain": [
       "<matplotlib.legend.Legend at 0x24f97ccb248>"
      ]
     },
     "execution_count": 98,
     "metadata": {},
     "output_type": "execute_result"
    },
    {
     "data": {
      "image/png": "[encoded data removed]",
      "text/plain": [
       "<Figure size 432x288 with 1 Axes>"
      ]
     },
     "metadata": {
      "needs_background": "light"
     },
     "output_type": "display_data"
    }
   ],
   "source": [
    "plt.plot(numStepsVector,vec_ap, label=\"American Put\")\n",
    "plt.legend()"
   ]
  }
 ],
 "metadata": {
  "kernelspec": {
   "display_name": "Python 3",
   "language": "python",
   "name": "python3"
  },
  "language_info": {
   "codemirror_mode": {
    "name": "ipython",
    "version": 3
   },
   "file_extension": ".py",
   "mimetype": "text/x-python",
   "name": "python",
   "nbconvert_exporter": "python",
   "pygments_lexer": "ipython3",
   "version": "3.7.7"
  }
 },
 "nbformat": 4,
 "nbformat_minor": 2
}
