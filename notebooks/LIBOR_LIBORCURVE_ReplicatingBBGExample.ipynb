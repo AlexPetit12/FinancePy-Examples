{
 "cells": [
  {
   "cell_type": "markdown",
   "metadata": {},
   "source": [
    "# Building a Libor Curve"
   ]
  },
  {
   "cell_type": "markdown",
   "metadata": {},
   "source": [
    "This is an example of a replication of a BBG example from\n",
    "\n",
    "https://github.com/vilen22/curve-building/blob/master/Bloomberg%20Curve%20Building%20Replication.xlsx\n",
    "\n",
    "Agreement is very good however some issues about date generation need to be checked."
   ]
  },
  {
   "cell_type": "code",
   "execution_count": 1,
   "metadata": {},
   "outputs": [],
   "source": [
    "import numpy as np\n",
    "import matplotlib.pyplot as plt"
   ]
  },
  {
   "cell_type": "code",
   "execution_count": 2,
   "metadata": {},
   "outputs": [
    {
     "name": "stdout",
     "output_type": "stream",
     "text": [
      "###################################################################\n",
      "# FINANCEPY BETA Version 0.180 - This build: 06 Sep 2020 at 12:06 #\n",
      "#     This software is distributed FREE & WITHOUT ANY WARRANTY    #\n",
      "# For info and disclaimer - https://github.com/domokane/FinancePy #\n",
      "###################################################################\n",
      "\n"
     ]
    }
   ],
   "source": [
    "from financepy.finutils.FinDate import FinDate\n",
    "from financepy.finutils.FinDayCount import FinDayCountTypes\n",
    "from financepy.finutils.FinFrequency import FinFrequencyTypes\n",
    "from financepy.finutils.FinCalendar import *\n",
    "from financepy.products.libor.FinLiborCurve import FinLiborCurve\n",
    "from financepy.products.libor.FinLiborFRA import FinLiborFRA\n",
    "from financepy.products.libor.FinLiborDeposit import FinLiborDeposit\n",
    "from financepy.products.libor.FinLiborSwap import FinLiborSwap\n",
    "from financepy.products.libor.FinLiborFuture import FinLiborFuture\n",
    "from financepy.finutils.FinMath import ONE_MILLION"
   ]
  },
  {
   "cell_type": "markdown",
   "metadata": {},
   "source": [
    "## Creating the Libor Instruments"
   ]
  },
  {
   "cell_type": "code",
   "execution_count": 3,
   "metadata": {},
   "outputs": [],
   "source": [
    "valuationDate = FinDate(6, 6, 2018)"
   ]
  },
  {
   "cell_type": "markdown",
   "metadata": {},
   "source": [
    "### Load up the deposits first"
   ]
  },
  {
   "cell_type": "code",
   "execution_count": 4,
   "metadata": {},
   "outputs": [],
   "source": [
    "spotDays = 0\n",
    "settlementDate = valuationDate.addWorkDays(spotDays)"
   ]
  },
  {
   "cell_type": "code",
   "execution_count": 5,
   "metadata": {},
   "outputs": [],
   "source": [
    "depoDCCType = FinDayCountTypes.THIRTY_E_360_ISDA\n",
    "depos = []\n",
    "depositRate = 0.0231381\n",
    "maturityDate = settlementDate.addMonths(3)\n",
    "depo = FinLiborDeposit(settlementDate, maturityDate, depositRate, depoDCCType)\n",
    "depos.append(depo)"
   ]
  },
  {
   "cell_type": "markdown",
   "metadata": {},
   "source": [
    "### Create Strips of Interest Rate Futures "
   ]
  },
  {
   "cell_type": "code",
   "execution_count": 6,
   "metadata": {},
   "outputs": [],
   "source": [
    "futs = []\n",
    "fut = FinLiborFuture(valuationDate, 1) ; futs.append(fut)\n",
    "fut = FinLiborFuture(valuationDate, 2) ; futs.append(fut)\n",
    "fut = FinLiborFuture(valuationDate, 3) ; futs.append(fut)\n",
    "fut = FinLiborFuture(valuationDate, 4) ; futs.append(fut)\n",
    "fut = FinLiborFuture(valuationDate, 5) ; futs.append(fut)\n",
    "fut = FinLiborFuture(valuationDate, 6) ; futs.append(fut)"
   ]
  },
  {
   "cell_type": "markdown",
   "metadata": {},
   "source": [
    "### Convert Interest Rate Futures to FRAs"
   ]
  },
  {
   "cell_type": "markdown",
   "metadata": {},
   "source": [
    "Need to supply futures price and the convexity (in percent)"
   ]
  },
  {
   "cell_type": "code",
   "execution_count": 7,
   "metadata": {},
   "outputs": [],
   "source": [
    "fras = [None]*6\n",
    "fras[0] = futs[0].toFRA(97.6675,-0.00005)\n",
    "fras[1] = futs[1].toFRA(97.5200,-0.00060)\n",
    "fras[2] = futs[2].toFRA(97.3550,-0.00146)\n",
    "fras[3] = futs[3].toFRA(97.2450,-0.00263)\n",
    "fras[4] = futs[4].toFRA(97.1450,-0.00411)\n",
    "fras[5] = futs[5].toFRA(97.0750,-0.00589)"
   ]
  },
  {
   "cell_type": "markdown",
   "metadata": {},
   "source": [
    "### Then we load up swap rates"
   ]
  },
  {
   "cell_type": "code",
   "execution_count": 11,
   "metadata": {},
   "outputs": [],
   "source": [
    "accrual = FinDayCountTypes.THIRTY_E_360\n",
    "freq = FinFrequencyTypes.SEMI_ANNUAL\n",
    "longEnd = FinDateGenRuleTypes.BACKWARD"
   ]
  },
  {
   "cell_type": "code",
   "execution_count": 12,
   "metadata": {},
   "outputs": [],
   "source": [
    "spotDays = 2\n",
    "settlementDate = valuationDate.addWorkDays(spotDays)\n",
    "notional = ONE_MILLION"
   ]
  },
  {
   "cell_type": "code",
   "execution_count": 13,
   "metadata": {},
   "outputs": [],
   "source": [
    "swaps = []\n",
    "swap = FinLiborSwap(settlementDate, \"2Y\", (2.77417+2.77844)/200, freq, accrual, notional); swaps.append(swap)\n",
    "swap = FinLiborSwap(settlementDate, \"3Y\", (2.86098+2.86582)/200, freq, accrual); swaps.append(swap)\n",
    "swap = FinLiborSwap(settlementDate, \"4Y\", (2.90240+2.90620)/200, freq, accrual); swaps.append(swap)\n",
    "swap = FinLiborSwap(settlementDate, \"5Y\", (2.92944+2.92906)/200, freq, accrual); swaps.append(swap)\n",
    "swap = FinLiborSwap(settlementDate, \"6Y\", (2.94001+2.94499)/200, freq, accrual); swaps.append(swap)\n",
    "swap = FinLiborSwap(settlementDate, \"7Y\", (2.95352+2.95998)/200, freq, accrual); swaps.append(swap)\n",
    "swap = FinLiborSwap(settlementDate, \"8Y\", (2.96830+2.97400)/200, freq, accrual); swaps.append(swap)\n",
    "swap = FinLiborSwap(settlementDate, \"9Y\", (2.98403+2.98817)/200, freq, accrual); swaps.append(swap)\n",
    "swap = FinLiborSwap(settlementDate, \"10Y\", (2.99716+3.00394)/200, freq, accrual); swaps.append(swap)\n",
    "swap = FinLiborSwap(settlementDate, \"11Y\", (3.01344+3.01596)/200, freq, accrual); swaps.append(swap)\n",
    "swap = FinLiborSwap(settlementDate, \"12Y\", (3.02276+3.02684)/200, freq, accrual); swaps.append(swap)\n",
    "swap = FinLiborSwap(settlementDate, \"15Y\", (3.04092+3.04508)/200, freq, accrual); swaps.append(swap)\n",
    "swap = FinLiborSwap(settlementDate, \"20Y\", (3.04417+3.05183)/200, freq, accrual); swaps.append(swap)\n",
    "swap = FinLiborSwap(settlementDate, \"25Y\", (3.03219+3.03621)/200, freq, accrual); swaps.append(swap)\n",
    "swap = FinLiborSwap(settlementDate, \"30Y\", (3.01030+3.01370)/200, freq, accrual); swaps.append(swap)\n",
    "swap = FinLiborSwap(settlementDate, \"40Y\", (2.96946+2.97354)/200, freq, accrual); swaps.append(swap)\n",
    "swap = FinLiborSwap(settlementDate, \"50Y\", (2.91552+2.93748)/200, freq, accrual); swaps.append(swap)"
   ]
  },
  {
   "cell_type": "markdown",
   "metadata": {},
   "source": [
    "## Build the Curve"
   ]
  },
  {
   "cell_type": "code",
   "execution_count": 14,
   "metadata": {},
   "outputs": [
    {
     "data": {
      "text/plain": [
       "[OBJECT TYPE: FinLiborDeposit\n",
       " START DATE: WED 06 JUN 2018\n",
       " MATURITY DATE: THU 06 SEP 2018\n",
       " NOTIONAL: 100.0\n",
       " DEPOSIT RATE: 0.0231381\n",
       " DAY COUNT TYPE: FinDayCountTypes.THIRTY_E_360_ISDA\n",
       " CALENDAR: FinCalendarTypes.WEEKEND\n",
       " BUS DAY ADJUST TYPE: FinBusDayAdjustTypes.MODIFIED_FOLLOWING]"
      ]
     },
     "execution_count": 14,
     "metadata": {},
     "output_type": "execute_result"
    }
   ],
   "source": [
    "depos"
   ]
  },
  {
   "cell_type": "code",
   "execution_count": 15,
   "metadata": {},
   "outputs": [
    {
     "data": {
      "text/plain": [
       "FRI 08 JUN 2018"
      ]
     },
     "execution_count": 15,
     "metadata": {},
     "output_type": "execute_result"
    }
   ],
   "source": [
    "settlementDate"
   ]
  },
  {
   "cell_type": "code",
   "execution_count": 16,
   "metadata": {},
   "outputs": [],
   "source": [
    "liborCurve = FinLiborCurve(valuationDate, depos, fras, swaps)"
   ]
  },
  {
   "cell_type": "markdown",
   "metadata": {},
   "source": [
    "## Curve Examination"
   ]
  },
  {
   "cell_type": "markdown",
   "metadata": {},
   "source": [
    "Generate a vector of time points and then generate zero rates and forward rates"
   ]
  },
  {
   "cell_type": "code",
   "execution_count": 17,
   "metadata": {},
   "outputs": [],
   "source": [
    "years = np.linspace(0.01,50,1000)\n",
    "dates = settlementDate.addYears(years)\n",
    "zeroRates = liborCurve.zeroRate(dates)\n",
    "fwdRates = liborCurve.fwd(dates)"
   ]
  },
  {
   "cell_type": "code",
   "execution_count": 18,
   "metadata": {},
   "outputs": [
    {
     "data": {
      "image/png": "[encoded data removed]",
      "text/plain": [
       "<Figure size 576x432 with 1 Axes>"
      ]
     },
     "metadata": {
      "needs_background": "light"
     },
     "output_type": "display_data"
    }
   ],
   "source": [
    "plt.figure(figsize=(8,6))\n",
    "plt.plot(years, zeroRates*100, label=\"zero rates\")\n",
    "plt.plot(years, fwdRates*100, label = \"fwd rates\")\n",
    "plt.xlabel(\"Times\")\n",
    "plt.ylabel(\"CC forward rates\")\n",
    "plt.legend();"
   ]
  },
  {
   "cell_type": "markdown",
   "metadata": {},
   "source": [
    "We see that the forward rates are piecewise flat"
   ]
  },
  {
   "cell_type": "markdown",
   "metadata": {},
   "source": [
    "## Detailed Valuation"
   ]
  },
  {
   "cell_type": "code",
   "execution_count": 19,
   "metadata": {},
   "outputs": [
    {
     "data": {
      "text/plain": [
       "-1.6007106751203537e-10"
      ]
     },
     "execution_count": 19,
     "metadata": {},
     "output_type": "execute_result"
    }
   ],
   "source": [
    "swaps[0].value(settlementDate, liborCurve, liborCurve)"
   ]
  },
  {
   "cell_type": "code",
   "execution_count": 20,
   "metadata": {},
   "outputs": [
    {
     "data": {
      "text/plain": [
       "53715.219093617416"
      ]
     },
     "execution_count": 20,
     "metadata": {},
     "output_type": "execute_result"
    }
   ],
   "source": [
    "swaps[0].fixedLegValue(settlementDate, liborCurve)"
   ]
  },
  {
   "cell_type": "code",
   "execution_count": 21,
   "metadata": {},
   "outputs": [
    {
     "data": {
      "text/plain": [
       "53715.219093617256"
      ]
     },
     "execution_count": 21,
     "metadata": {},
     "output_type": "execute_result"
    }
   ],
   "source": [
    "swaps[0].floatLegValue(settlementDate, liborCurve, liborCurve)"
   ]
  },
  {
   "cell_type": "code",
   "execution_count": 22,
   "metadata": {},
   "outputs": [
    {
     "name": "stdout",
     "output_type": "stream",
     "text": [
      "START DATE: FRI 08 JUN 2018\n",
      "MATURITY DATE: MON 08 JUN 2020\n",
      "COUPON (%): 2.776305\n",
      "FIXED LEG FREQUENCY: FinFrequencyTypes.SEMI_ANNUAL\n",
      "FIXED LEG DAY COUNT: FinDayCountTypes.THIRTY_E_360\n",
      "VALUATION DATE FRI 08 JUN 2018\n",
      "PAYMENT_DATE     YEAR_FRAC        FLOW         DF         DF*FLOW       CUM_PV\n",
      "FRI 08 JUN 2018          -            -   1.00000000            -            -\n",
      "MON 10 DEC 2018  0.5055556     14035.76   0.98781403     13864.72     13864.72\n",
      "MON 10 JUN 2019  0.5000000     13881.52   0.97454325     13528.15     27392.87\n",
      "MON 09 DEC 2019  0.4972222     13804.41   0.96052302     13259.45     40652.32\n",
      "MON 08 JUN 2020  0.4972222     13804.41   0.94628478     13062.90     53715.22\n"
     ]
    }
   ],
   "source": [
    "swaps[0].printFixedLegPV()"
   ]
  },
  {
   "cell_type": "code",
   "execution_count": 23,
   "metadata": {},
   "outputs": [
    {
     "name": "stdout",
     "output_type": "stream",
     "text": [
      "START DATE: FRI 08 JUN 2018\n",
      "MATURITY DATE: MON 08 JUN 2020\n",
      "SPREAD COUPON (%): 0.0\n",
      "FLOAT LEG FREQUENCY: FinFrequencyTypes.QUARTERLY\n",
      "FLOAT LEG DAY COUNT: FinDayCountTypes.THIRTY_E_360\n",
      "VALUATION DATE FRI 08 JUN 2018\n",
      "         *** FIRST FLOATING RATE PAYMENT IS IMPLIED ***\n",
      "PAYMENT_DATE     YEAR_FRAC    RATE(%)       FLOW         DF         DF*FLOW       CUM_PV\n",
      "FRI 08 JUN 2018          -          -            -   1.00000000            -            -\n",
      "MON 10 SEP 2018  0.2555556    2.33387      5964.33   0.99407103      5928.97      5928.97\n",
      "MON 10 DEC 2018  0.2500000    2.53368      6334.19   0.98781403      6257.01     12185.97\n",
      "FRI 08 MAR 2019  0.2444444    2.62646      6420.24   0.98151248      6301.55     18487.52\n",
      "MON 10 JUN 2019  0.2555556    2.79833      7151.28   0.97454325      6969.23     25456.75\n",
      "MON 09 SEP 2019  0.2472222    2.90499      7181.78   0.96759420      6949.05     32405.80\n",
      "MON 09 DEC 2019  0.2500000    2.94472      7361.81   0.96052302      7071.18     39476.98\n",
      "MON 09 MAR 2020  0.2500000    2.99564      7489.09   0.95338304      7139.97     46616.96\n",
      "MON 08 JUN 2020  0.2472222    3.03419      7501.19   0.94628478      7098.26     53715.22\n"
     ]
    }
   ],
   "source": [
    "swaps[0].printFloatLegPV()"
   ]
  },
  {
   "cell_type": "markdown",
   "metadata": {},
   "source": [
    "Copyright (c) 2020 Dominic O'Kane"
   ]
  }
 ],
 "metadata": {
  "kernelspec": {
   "display_name": "Python 3",
   "language": "python",
   "name": "python3"
  },
  "language_info": {
   "codemirror_mode": {
    "name": "ipython",
    "version": 3
   },
   "file_extension": ".py",
   "mimetype": "text/x-python",
   "name": "python",
   "nbconvert_exporter": "python",
   "pygments_lexer": "ipython3",
   "version": "3.7.6"
  }
 },
 "nbformat": 4,
 "nbformat_minor": 4
}
