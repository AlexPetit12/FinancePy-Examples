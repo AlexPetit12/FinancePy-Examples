{
 "cells": [
  {
   "cell_type": "markdown",
   "metadata": {},
   "source": [
    "# Building a Libor Curve"
   ]
  },
  {
   "cell_type": "code",
   "execution_count": 26,
   "metadata": {},
   "outputs": [],
   "source": [
    "# This program is distributed in the hope that it will be useful, but WITHOUT ANY WARRANTY; \n",
    "# without even the implied warranty of MERCHANTABILITY or FITNESS FOR A PARTICULAR PURPOSE.  \n",
    "# See the license for more details."
   ]
  },
  {
   "cell_type": "markdown",
   "metadata": {},
   "source": [
    "Simple introduction to the inputs required to define a Libor deposit and a FRA"
   ]
  },
  {
   "cell_type": "code",
   "execution_count": 13,
   "metadata": {},
   "outputs": [],
   "source": [
    "import numpy as np\n",
    "import matplotlib.pyplot as plt"
   ]
  },
  {
   "cell_type": "code",
   "execution_count": 14,
   "metadata": {},
   "outputs": [],
   "source": [
    "from financepy.finutils.FinDate import FinDate\n",
    "from financepy.finutils.FinDayCount import FinDayCountTypes\n",
    "from financepy.finutils.FinFrequency import FinFrequencyTypes\n",
    "from financepy.finutils.FinCalendar import *\n",
    "from financepy.market.curves.FinLiborCurve import FinLiborCurve\n",
    "from financepy.products.libor.FinLiborFRA import FinLiborFRA\n",
    "from financepy.products.libor.FinLiborDeposit import FinLiborDeposit\n",
    "from financepy.products.libor.FinLiborSwap import FinLiborSwap"
   ]
  },
  {
   "cell_type": "markdown",
   "metadata": {},
   "source": [
    "## Creating the Libor Instruments"
   ]
  },
  {
   "cell_type": "code",
   "execution_count": 15,
   "metadata": {},
   "outputs": [],
   "source": [
    "valuationDate = FinDate(18, 9, 2019)"
   ]
  },
  {
   "cell_type": "markdown",
   "metadata": {},
   "source": [
    "### Load up the deposits first"
   ]
  },
  {
   "cell_type": "code",
   "execution_count": 16,
   "metadata": {},
   "outputs": [],
   "source": [
    "depoDCCType = FinDayCountTypes.THIRTY_E_360_ISDA\n",
    "depos = []\n",
    "\n",
    "spotDays = 2\n",
    "settlementDate = valuationDate.addWorkDays(spotDays)\n",
    "\n",
    "depositRate = 0.050\n",
    "maturityDate = settlementDate.addMonths(1)\n",
    "depo = FinLiborDeposit(settlementDate, maturityDate, depositRate, depoDCCType)\n",
    "depos.append(depo)\n",
    "\n",
    "maturityDate = settlementDate.addMonths(3)\n",
    "depo = FinLiborDeposit(settlementDate, maturityDate, depositRate, depoDCCType)\n",
    "depos.append(depo)\n",
    "\n",
    "maturityDate = settlementDate.addMonths(6)\n",
    "depo = FinLiborDeposit(settlementDate, maturityDate, depositRate, depoDCCType)\n",
    "depos.append(depo)\n",
    "\n",
    "maturityDate = settlementDate.addMonths(9)\n",
    "depo = FinLiborDeposit(settlementDate, maturityDate, depositRate, depoDCCType)\n",
    "depos.append(depo)\n",
    "\n",
    "maturityDate = settlementDate.addMonths(12)\n",
    "depo = FinLiborDeposit(settlementDate, maturityDate, depositRate, depoDCCType)\n",
    "depos.append(depo)"
   ]
  },
  {
   "cell_type": "markdown",
   "metadata": {},
   "source": [
    "### Then we load up the FRAs"
   ]
  },
  {
   "cell_type": "code",
   "execution_count": 17,
   "metadata": {},
   "outputs": [],
   "source": [
    "# 1 x 4 FRA\n",
    "payFixed = True\n",
    "notional = 1000\n",
    "fras = []\n",
    "\n",
    "fraRate = 0.05\n",
    "fraSettlementDate = settlementDate.addMonths(12)\n",
    "fraMaturityDate = settlementDate.addMonths(16)\n",
    "fra = FinLiborFRA(fraSettlementDate, fraMaturityDate, fraRate, depoDCCType)\n",
    "fras.append(fra)\n",
    "\n",
    "# 4 x 7 FRA\n",
    "fraRate = 0.08\n",
    "fraSettlementDate = settlementDate.addMonths(16)\n",
    "fraMaturityDate = settlementDate.addMonths(20)\n",
    "fra = FinLiborFRA(fraSettlementDate, fraMaturityDate, fraRate, depoDCCType)\n",
    "fras.append(fra)"
   ]
  },
  {
   "cell_type": "markdown",
   "metadata": {},
   "source": [
    "### Then we load up swap rates"
   ]
  },
  {
   "cell_type": "code",
   "execution_count": 18,
   "metadata": {},
   "outputs": [],
   "source": [
    "swaps = []\n",
    "fixedDCCType = FinDayCountTypes.ACT_365_ISDA\n",
    "fixedFreqType = FinFrequencyTypes.SEMI_ANNUAL\n",
    "\n",
    "swapRate = 0.050\n",
    "maturityDate = settlementDate.addMonths(24)\n",
    "swap = FinLiborSwap(settlementDate, maturityDate, swapRate, fixedFreqType, fixedDCCType)\n",
    "swaps.append(swap)\n",
    "\n",
    "swapRate = 0.052\n",
    "maturityDate = settlementDate.addMonths(36)\n",
    "swap = FinLiborSwap(settlementDate, maturityDate, swapRate, fixedFreqType, fixedDCCType)\n",
    "swaps.append(swap)\n",
    "\n",
    "swapRate = 0.0535\n",
    "maturityDate = settlementDate.addMonths(48)\n",
    "swap = FinLiborSwap(settlementDate, maturityDate, swapRate, fixedFreqType, fixedDCCType)\n",
    "swaps.append(swap)\n",
    "\n",
    "swapRate = 0.055\n",
    "maturityDate = settlementDate.addMonths(60)\n",
    "swap = FinLiborSwap(settlementDate, maturityDate, swapRate, fixedFreqType, fixedDCCType)\n",
    "swaps.append(swap)\n",
    "\n",
    "swapRate = 0.0565\n",
    "maturityDate = settlementDate.addMonths(84)\n",
    "swap = FinLiborSwap(settlementDate, maturityDate, swapRate, fixedFreqType, fixedDCCType)\n",
    "swaps.append(swap)\n",
    "\n",
    "swapRate = 0.057\n",
    "maturityDate = settlementDate.addMonths(120)\n",
    "swap = FinLiborSwap(settlementDate, maturityDate, swapRate, fixedFreqType, fixedDCCType)\n",
    "swaps.append(swap)"
   ]
  },
  {
   "cell_type": "code",
   "execution_count": 19,
   "metadata": {},
   "outputs": [],
   "source": [
    "liborCurve = FinLiborCurve(\"USD_LIBOR\", settlementDate, depos, fras, swaps)"
   ]
  },
  {
   "cell_type": "code",
   "execution_count": 20,
   "metadata": {},
   "outputs": [
    {
     "name": "stdout",
     "output_type": "stream",
     "text": [
      "TIME: DISCOUNT FACTOR\n",
      "0.0: 1.0\n",
      "0.08213732265183084: 0.995850622406639\n",
      "0.24914987871055355: 0.9876543209876544\n",
      "0.4982997574211071: 0.9756097560975611\n",
      "0.7501875468867216: 0.9638554216867469\n",
      "1.0020753363523363: 0.9523809523809523\n",
      "1.3361004484697816: 0.9367681498829056\n",
      "1.664649739077105: 0.9124365096262099\n",
      "2.0014127619496116: 0.9060405999214638\n",
      "3.0007501875468865: 0.857086155227932\n",
      "4.000087613144162: 0.8090463604512739\n",
      "5.002162949496498: 0.7611475274411407\n",
      "7.00357571144611: 0.6747410626822261\n",
      "10.001587988237935: 0.5675270556063914\n",
      "\n"
     ]
    }
   ],
   "source": [
    "print(liborCurve)"
   ]
  },
  {
   "cell_type": "markdown",
   "metadata": {},
   "source": [
    "## Check Repricing"
   ]
  },
  {
   "cell_type": "code",
   "execution_count": 21,
   "metadata": {},
   "outputs": [
    {
     "name": "stdout",
     "output_type": "stream",
     "text": [
      "Depo Value: 100.000000\n",
      "Depo Value: 100.000000\n",
      "Depo Value: 100.000000\n",
      "Depo Value: 100.000000\n",
      "Depo Value: 100.000000\n"
     ]
    }
   ],
   "source": [
    "for depo in depos:\n",
    "    v = depo.value(settlementDate, liborCurve)\n",
    "    print(\"Depo Value: %10.6f\"% v)"
   ]
  },
  {
   "cell_type": "code",
   "execution_count": 22,
   "metadata": {},
   "outputs": [
    {
     "name": "stdout",
     "output_type": "stream",
     "text": [
      "FRA Value:   0.000000\n",
      "FRA Value:   0.000000\n"
     ]
    }
   ],
   "source": [
    "for fra in fras:\n",
    "    v = fra.value(settlementDate, liborCurve)\n",
    "    print(\"FRA Value: %10.6f\"% v)"
   ]
  },
  {
   "cell_type": "code",
   "execution_count": 23,
   "metadata": {},
   "outputs": [
    {
     "name": "stdout",
     "output_type": "stream",
     "text": [
      "Swap Value:   0.000000\n",
      "Swap Value:  -0.000000\n",
      "Swap Value:  -0.000000\n",
      "Swap Value:  -0.000000\n",
      "Swap Value:  -0.000000\n",
      "Swap Value:  -0.000000\n"
     ]
    }
   ],
   "source": [
    "for swap in swaps:\n",
    "    v = swap.value(settlementDate, liborCurve, liborCurve)\n",
    "    print(\"Swap Value: %10.6f\" % v)"
   ]
  },
  {
   "cell_type": "markdown",
   "metadata": {},
   "source": [
    "## Curve Examination"
   ]
  },
  {
   "cell_type": "markdown",
   "metadata": {},
   "source": [
    "Generate a vector of time points and then generate zero rates and forward rates"
   ]
  },
  {
   "cell_type": "code",
   "execution_count": 24,
   "metadata": {},
   "outputs": [],
   "source": [
    "times = np.linspace(0,10,500)\n",
    "zeroRates = liborCurve.zeroRate(times)\n",
    "fwdRates = liborCurve.fwd(times)"
   ]
  },
  {
   "cell_type": "code",
   "execution_count": 25,
   "metadata": {},
   "outputs": [
    {
     "data": {
      "image/png": "[encoded data removed]",
      "text/plain": [
       "<Figure size 576x432 with 1 Axes>"
      ]
     },
     "metadata": {
      "needs_background": "light"
     },
     "output_type": "display_data"
    }
   ],
   "source": [
    "plt.figure(figsize=(8,6))\n",
    "plt.plot(times, zeroRates*100, label=\"zero rates\")\n",
    "plt.plot(times, fwdRates*100, label = \"fwd rates\")\n",
    "plt.xlabel(\"Times\")\n",
    "plt.ylabel(\"CC forward rates\")\n",
    "plt.legend();"
   ]
  },
  {
   "cell_type": "markdown",
   "metadata": {},
   "source": [
    "We see that the forward rates are piecewise flat"
   ]
  }
 ],
 "metadata": {
  "kernelspec": {
   "display_name": "Python 3",
   "language": "python",
   "name": "python3"
  },
  "language_info": {
   "codemirror_mode": {
    "name": "ipython",
    "version": 3
   },
   "file_extension": ".py",
   "mimetype": "text/x-python",
   "name": "python",
   "nbconvert_exporter": "python",
   "pygments_lexer": "ipython3",
   "version": "3.7.7"
  }
 },
 "nbformat": 4,
 "nbformat_minor": 4
}
