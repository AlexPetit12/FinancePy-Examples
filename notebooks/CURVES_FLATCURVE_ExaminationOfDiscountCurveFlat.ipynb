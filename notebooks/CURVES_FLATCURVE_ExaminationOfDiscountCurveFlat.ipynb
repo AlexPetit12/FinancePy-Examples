{
 "cells": [
  {
   "cell_type": "markdown",
   "metadata": {},
   "source": [
    "# Examination of the FinFlatCurve"
   ]
  },
  {
   "cell_type": "markdown",
   "metadata": {},
   "source": [
    "Examine the impact of changing the compunding frequency"
   ]
  },
  {
   "cell_type": "code",
   "execution_count": 3,
   "metadata": {},
   "outputs": [],
   "source": [
    "import numpy as np"
   ]
  },
  {
   "cell_type": "code",
   "execution_count": 27,
   "metadata": {},
   "outputs": [],
   "source": [
    "from financepy.market.curves.FinDiscountCurveFlat import FinDiscountCurveFlat\n",
    "from financepy.finutils import *"
   ]
  },
  {
   "cell_type": "code",
   "execution_count": 28,
   "metadata": {},
   "outputs": [],
   "source": [
    "curveDate = FinDate(2019, 2, 2)\n",
    "times = np.linspace(0.0, 1.0, 5)    "
   ]
  },
  {
   "cell_type": "code",
   "execution_count": 29,
   "metadata": {},
   "outputs": [
    {
     "name": "stdout",
     "output_type": "stream",
     "text": [
      "COMPOUNDING DFS\n"
     ]
    }
   ],
   "source": [
    "print(\"COMPOUNDING\", \"DFS\")"
   ]
  },
  {
   "cell_type": "code",
   "execution_count": 30,
   "metadata": {},
   "outputs": [
    {
     "name": "stdout",
     "output_type": "stream",
     "text": [
      "FinFrequencyTypes.CONTINUOUS [1.         0.9875778  0.97530991 0.96319442 0.95122942]\n"
     ]
    }
   ],
   "source": [
    "compounding = FinFrequencyTypes.CONTINUOUS\n",
    "flatCurve = FinDiscountCurveFlat(curveDate, 0.05, compounding)\n",
    "dfs = flatCurve.df(times)\n",
    "print(compounding, dfs)"
   ]
  },
  {
   "cell_type": "code",
   "execution_count": 31,
   "metadata": {},
   "outputs": [
    {
     "name": "stdout",
     "output_type": "stream",
     "text": [
      "FinFrequencyTypes.ANNUAL [1.         0.98787655 0.97590007 0.96406879 0.95238095]\n"
     ]
    }
   ],
   "source": [
    "compounding = FinFrequencyTypes.ANNUAL\n",
    "flatCurve = FinDiscountCurveFlat(curveDate, 0.05, compounding)\n",
    "dfs = flatCurve.df(times)\n",
    "print(compounding, dfs)"
   ]
  },
  {
   "cell_type": "code",
   "execution_count": 22,
   "metadata": {},
   "outputs": [
    {
     "name": "stdout",
     "output_type": "stream",
     "text": [
      "FinFrequencyTypes.SEMI_ANNUAL [1.         0.9877296  0.97560976 0.96363863 0.9518144 ]\n"
     ]
    }
   ],
   "source": [
    "compounding = FinFrequencyTypes.SEMI_ANNUAL\n",
    "flatCurve = FinDiscountCurveFlat(curveDate, 0.05, compounding)\n",
    "dfs = flatCurve.df(times)\n",
    "print(compounding, dfs)"
   ]
  },
  {
   "cell_type": "code",
   "execution_count": 23,
   "metadata": {},
   "outputs": [
    {
     "name": "stdout",
     "output_type": "stream",
     "text": [
      "FinFrequencyTypes.QUARTERLY [1.         0.98765432 0.97546106 0.96341833 0.95152428]\n"
     ]
    }
   ],
   "source": [
    "compounding = FinFrequencyTypes.QUARTERLY\n",
    "flatCurve = FinDiscountCurveFlat(curveDate, 0.05, compounding)\n",
    "dfs = flatCurve.df(times)\n",
    "print(compounding, dfs)"
   ]
  },
  {
   "cell_type": "code",
   "execution_count": 24,
   "metadata": {},
   "outputs": [
    {
     "name": "stdout",
     "output_type": "stream",
     "text": [
      "FinFrequencyTypes.MONTHLY [1.         0.98760345 0.97536057 0.96326946 0.95132824]\n"
     ]
    }
   ],
   "source": [
    "compounding = FinFrequencyTypes.MONTHLY\n",
    "flatCurve = FinDiscountCurveFlat(curveDate, 0.05, compounding)\n",
    "dfs = flatCurve.df(times)\n",
    "print(compounding, dfs)"
   ]
  },
  {
   "cell_type": "code",
   "execution_count": 25,
   "metadata": {},
   "outputs": [
    {
     "name": "stdout",
     "output_type": "stream",
     "text": [
      "FinFrequencyTypes.CONTINUOUS [1.         0.9875778  0.97530991 0.96319442 0.95122942]\n"
     ]
    }
   ],
   "source": [
    "compounding = FinFrequencyTypes.CONTINUOUS\n",
    "flatCurve = FinDiscountCurveFlat(curveDate, 0.05, compounding)\n",
    "dfs = flatCurve.df(times)\n",
    "print(compounding, dfs)"
   ]
  },
  {
   "cell_type": "markdown",
   "metadata": {},
   "source": [
    "Copyright (c) 2020 Dominic O'Kane"
   ]
  }
 ],
 "metadata": {
  "kernelspec": {
   "display_name": "Python 3",
   "language": "python",
   "name": "python3"
  },
  "language_info": {
   "codemirror_mode": {
    "name": "ipython",
    "version": 3
   },
   "file_extension": ".py",
   "mimetype": "text/x-python",
   "name": "python",
   "nbconvert_exporter": "python",
   "pygments_lexer": "ipython3",
   "version": "3.7.7"
  }
 },
 "nbformat": 4,
 "nbformat_minor": 4
}
