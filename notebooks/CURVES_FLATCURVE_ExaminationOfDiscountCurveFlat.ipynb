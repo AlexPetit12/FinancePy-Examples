{
 "cells": [
  {
   "cell_type": "markdown",
   "metadata": {},
   "source": [
    "# Examination of the FinFlatCurve"
   ]
  },
  {
   "cell_type": "markdown",
   "metadata": {},
   "source": [
    "Examine the impact of changing the compunding frequency"
   ]
  },
  {
   "cell_type": "code",
   "execution_count": 1,
   "metadata": {},
   "outputs": [],
   "source": [
    "import numpy as np"
   ]
  },
  {
   "cell_type": "code",
   "execution_count": 2,
   "metadata": {},
   "outputs": [
    {
     "name": "stdout",
     "output_type": "stream",
     "text": [
      "###################################################################\n",
      "#   WELCOME TO FINANCEPY BETA VERSION 0.171 UNDER DEVELOPMENT      #\n",
      "# FinancePy it is distributed FREE & WITHOUT ANY WARRANTY AND     #\n",
      "# MERCHANTABILITY or FITNESS FOR A PARTICULAR PURPOSE. For more   #\n",
      "# details see the repo at https://github.com/domokane/FinancePy   #\n",
      "###################################################################\n",
      "\n"
     ]
    }
   ],
   "source": [
    "from financepy.market.curves.FinDiscountCurveFlat import FinDiscountCurveFlat\n",
    "from financepy.finutils import *"
   ]
  },
  {
   "cell_type": "code",
   "execution_count": 19,
   "metadata": {},
   "outputs": [],
   "source": [
    "curveDate = FinDate(2, 2, 2019)\n",
    "times = np.linspace(0.0, 1.0, 5)"
   ]
  },
  {
   "cell_type": "code",
   "execution_count": 20,
   "metadata": {},
   "outputs": [
    {
     "data": {
      "text/plain": [
       "array([0.  , 0.25, 0.5 , 0.75, 1.  ])"
      ]
     },
     "execution_count": 20,
     "metadata": {},
     "output_type": "execute_result"
    }
   ],
   "source": [
    "times"
   ]
  },
  {
   "cell_type": "code",
   "execution_count": 21,
   "metadata": {},
   "outputs": [],
   "source": [
    "dates = curveDate.addYears(times)"
   ]
  },
  {
   "cell_type": "code",
   "execution_count": 22,
   "metadata": {},
   "outputs": [
    {
     "name": "stdout",
     "output_type": "stream",
     "text": [
      "[SAT 2 FEB 2019, THU 2 MAY 2019, FRI 2 AUG 2019, SAT 2 NOV 2019, SUN 2 FEB 2020]\n"
     ]
    }
   ],
   "source": [
    "print(dates)"
   ]
  },
  {
   "cell_type": "code",
   "execution_count": 23,
   "metadata": {},
   "outputs": [
    {
     "name": "stdout",
     "output_type": "stream",
     "text": [
      "COMPOUNDING DFS\n"
     ]
    }
   ],
   "source": [
    "print(\"COMPOUNDING\", \"DFS\")"
   ]
  },
  {
   "cell_type": "code",
   "execution_count": 24,
   "metadata": {},
   "outputs": [
    {
     "name": "stdout",
     "output_type": "stream",
     "text": [
      "FinFrequencyTypes.CONTINUOUS [0.99999995 0.98789022 0.97552636 0.96331725 0.95126094]\n"
     ]
    }
   ],
   "source": [
    "compounding = FinFrequencyTypes.CONTINUOUS\n",
    "flatCurve = FinDiscountCurveFlat(curveDate, 0.05, compounding)\n",
    "dfs = flatCurve.df(dates)\n",
    "print(compounding, dfs)"
   ]
  },
  {
   "cell_type": "code",
   "execution_count": 8,
   "metadata": {},
   "outputs": [
    {
     "name": "stdout",
     "output_type": "stream",
     "text": [
      "FinFrequencyTypes.ANNUAL [0.99999995 0.9881815  0.97611142 0.96418876 0.95241174]\n"
     ]
    }
   ],
   "source": [
    "compounding = FinFrequencyTypes.ANNUAL\n",
    "flatCurve = FinDiscountCurveFlat(curveDate, 0.05, compounding)\n",
    "dfs = flatCurve.df(dates)\n",
    "print(compounding, dfs)"
   ]
  },
  {
   "cell_type": "code",
   "execution_count": 9,
   "metadata": {},
   "outputs": [
    {
     "name": "stdout",
     "output_type": "stream",
     "text": [
      "FinFrequencyTypes.SEMI_ANNUAL [0.99999995 0.98803822 0.97582361 0.96376001 0.95184554]\n"
     ]
    }
   ],
   "source": [
    "compounding = FinFrequencyTypes.SEMI_ANNUAL\n",
    "flatCurve = FinDiscountCurveFlat(curveDate, 0.05, compounding)\n",
    "dfs = flatCurve.df(dates)\n",
    "print(compounding, dfs)"
   ]
  },
  {
   "cell_type": "code",
   "execution_count": 10,
   "metadata": {},
   "outputs": [
    {
     "name": "stdout",
     "output_type": "stream",
     "text": [
      "FinFrequencyTypes.QUARTERLY [0.99999995 0.98796483 0.9756762  0.96354043 0.9515556 ]\n"
     ]
    }
   ],
   "source": [
    "compounding = FinFrequencyTypes.QUARTERLY\n",
    "flatCurve = FinDiscountCurveFlat(curveDate, 0.05, compounding)\n",
    "dfs = flatCurve.df(dates)\n",
    "print(compounding, dfs)"
   ]
  },
  {
   "cell_type": "code",
   "execution_count": 11,
   "metadata": {},
   "outputs": [
    {
     "name": "stdout",
     "output_type": "stream",
     "text": [
      "FinFrequencyTypes.MONTHLY [0.99999995 0.98791522 0.97557658 0.96339205 0.95135969]\n"
     ]
    }
   ],
   "source": [
    "compounding = FinFrequencyTypes.MONTHLY\n",
    "flatCurve = FinDiscountCurveFlat(curveDate, 0.05, compounding)\n",
    "dfs = flatCurve.df(dates)\n",
    "print(compounding, dfs)"
   ]
  },
  {
   "cell_type": "code",
   "execution_count": 12,
   "metadata": {},
   "outputs": [
    {
     "name": "stdout",
     "output_type": "stream",
     "text": [
      "FinFrequencyTypes.CONTINUOUS [0.99999995 0.98789022 0.97552636 0.96331725 0.95126094]\n"
     ]
    }
   ],
   "source": [
    "compounding = FinFrequencyTypes.CONTINUOUS\n",
    "flatCurve = FinDiscountCurveFlat(curveDate, 0.05, compounding)\n",
    "dfs = flatCurve.df(dates)\n",
    "print(compounding, dfs)"
   ]
  },
  {
   "cell_type": "markdown",
   "metadata": {},
   "source": [
    "Copyright (c) 2020 Dominic O'Kane"
   ]
  }
 ],
 "metadata": {
  "kernelspec": {
   "display_name": "Python 3",
   "language": "python",
   "name": "python3"
  },
  "language_info": {
   "codemirror_mode": {
    "name": "ipython",
    "version": 3
   },
   "file_extension": ".py",
   "mimetype": "text/x-python",
   "name": "python",
   "nbconvert_exporter": "python",
   "pygments_lexer": "ipython3",
   "version": "3.7.6"
  }
 },
 "nbformat": 4,
 "nbformat_minor": 4
}
