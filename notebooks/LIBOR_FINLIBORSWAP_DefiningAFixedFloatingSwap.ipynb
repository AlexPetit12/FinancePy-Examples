{
 "cells": [
  {
   "cell_type": "markdown",
   "metadata": {},
   "source": [
    "# Defining a Fixed-Floating Interest Rate Swap"
   ]
  },
  {
   "cell_type": "markdown",
   "metadata": {},
   "source": [
    "Simple introduction to the inputs required to define a Libor deposit and a FRA"
   ]
  },
  {
   "cell_type": "code",
   "execution_count": 1,
   "metadata": {},
   "outputs": [
    {
     "name": "stdout",
     "output_type": "stream",
     "text": [
      "###################################################################\n",
      "# FINANCEPY BETA Version 0.180 - This build: 10 Sep 2020 at 22:02 #\n",
      "#     This software is distributed FREE & WITHOUT ANY WARRANTY    #\n",
      "# For info and disclaimer - https://github.com/domokane/FinancePy #\n",
      "###################################################################\n",
      "\n"
     ]
    }
   ],
   "source": [
    "from financepy.finutils import *\n",
    "from financepy.products.libor import *"
   ]
  },
  {
   "cell_type": "markdown",
   "metadata": {},
   "source": [
    "## Creating the Swap"
   ]
  },
  {
   "cell_type": "markdown",
   "metadata": {},
   "source": [
    "We begin by setting the market conventions we wish to use."
   ]
  },
  {
   "cell_type": "code",
   "execution_count": 3,
   "metadata": {},
   "outputs": [],
   "source": [
    "swapCalendarType = FinCalendarTypes.TARGET\n",
    "busDayAdjustType = FinBusDayAdjustTypes.FOLLOWING\n",
    "dateGenRuleType = FinDateGenRuleTypes.BACKWARD"
   ]
  },
  {
   "cell_type": "markdown",
   "metadata": {},
   "source": [
    "We then define the Fixed Leg"
   ]
  },
  {
   "cell_type": "code",
   "execution_count": 4,
   "metadata": {},
   "outputs": [],
   "source": [
    "fixedCoupon = 0.05\n",
    "fixedFreqType = FinFrequencyTypes.ANNUAL\n",
    "fixedDayCountType = FinDayCountTypes.ACT_360"
   ]
  },
  {
   "cell_type": "markdown",
   "metadata": {},
   "source": [
    "And then we define the Floating Leg"
   ]
  },
  {
   "cell_type": "code",
   "execution_count": 5,
   "metadata": {},
   "outputs": [],
   "source": [
    "floatSpread = 0.0\n",
    "floatFreqType = FinFrequencyTypes.SEMI_ANNUAL\n",
    "floatDayCountType = FinDayCountTypes.ACT_360"
   ]
  },
  {
   "cell_type": "markdown",
   "metadata": {},
   "source": [
    "We need to specify the size and direction of the swap."
   ]
  },
  {
   "cell_type": "code",
   "execution_count": 6,
   "metadata": {},
   "outputs": [],
   "source": [
    "payFixedFlag = False\n",
    "notional = 10 * ONE_MILLION"
   ]
  },
  {
   "cell_type": "markdown",
   "metadata": {},
   "source": [
    "And then we define when the swap begins and ends."
   ]
  },
  {
   "cell_type": "code",
   "execution_count": 7,
   "metadata": {},
   "outputs": [],
   "source": [
    "startDate = FinDate(20, 6, 2018)\n",
    "maturityDate = FinDate(20, 9, 2025)"
   ]
  },
  {
   "cell_type": "markdown",
   "metadata": {},
   "source": [
    "We can now create the swap object."
   ]
  },
  {
   "cell_type": "code",
   "execution_count": 8,
   "metadata": {},
   "outputs": [],
   "source": [
    "swap = FinLiborSwap(startDate,\n",
    "                    maturityDate,\n",
    "                    fixedCoupon,\n",
    "                    fixedFreqType,\n",
    "                    fixedDayCountType,\n",
    "                    notional,\n",
    "                    floatSpread,\n",
    "                    floatFreqType,\n",
    "                    floatDayCountType,\n",
    "                    payFixedFlag,\n",
    "                    swapCalendarType,\n",
    "                    busDayAdjustType,\n",
    "                    dateGenRuleType)"
   ]
  },
  {
   "cell_type": "code",
   "execution_count": 9,
   "metadata": {},
   "outputs": [
    {
     "name": "stdout",
     "output_type": "stream",
     "text": [
      "OBJECT TYPE: FinLiborSwap\n",
      "START DATE: WED 20 JUN 2018\n",
      "TERMINATION DATE: SAT 20 SEP 2025\n",
      "MATURITY DATE: MON 22 SEP 2025\n",
      "NOTIONAL: 10000000\n",
      "PAY FIXED FLAG: False\n",
      "FIXED COUPON: 0.05\n",
      "FLOAT SPREAD: 0.0\n",
      "FIXED FREQUENCY: FinFrequencyTypes.ANNUAL\n",
      "FLOAT FREQUENCY: FinFrequencyTypes.SEMI_ANNUAL\n",
      "FIXED DAY COUNT: FinDayCountTypes.ACT_360\n",
      "FLOAT DAY COUNT: FinDayCountTypes.ACT_360\n",
      "CALENDAR: FinCalendarTypes.TARGET\n",
      "BUS DAY ADJUST: FinBusDayAdjustTypes.FOLLOWING\n",
      "DATE GEN TYPE: FinDateGenRuleTypes.BACKWARD\n",
      "\n"
     ]
    }
   ],
   "source": [
    "print(swap)"
   ]
  },
  {
   "cell_type": "code",
   "execution_count": 10,
   "metadata": {},
   "outputs": [
    {
     "data": {
      "text/plain": [
       "[THU 20 SEP 2018,\n",
       " FRI 20 SEP 2019,\n",
       " MON 21 SEP 2020,\n",
       " MON 20 SEP 2021,\n",
       " TUE 20 SEP 2022,\n",
       " WED 20 SEP 2023,\n",
       " FRI 20 SEP 2024,\n",
       " MON 22 SEP 2025]"
      ]
     },
     "execution_count": 10,
     "metadata": {},
     "output_type": "execute_result"
    }
   ],
   "source": [
    "swap.fixedDates()"
   ]
  },
  {
   "cell_type": "code",
   "execution_count": 11,
   "metadata": {},
   "outputs": [
    {
     "data": {
      "text/plain": [
       "[THU 20 SEP 2018,\n",
       " WED 20 MAR 2019,\n",
       " FRI 20 SEP 2019,\n",
       " FRI 20 MAR 2020,\n",
       " MON 21 SEP 2020,\n",
       " MON 22 MAR 2021,\n",
       " MON 20 SEP 2021,\n",
       " MON 21 MAR 2022,\n",
       " TUE 20 SEP 2022,\n",
       " MON 20 MAR 2023,\n",
       " WED 20 SEP 2023,\n",
       " WED 20 MAR 2024,\n",
       " FRI 20 SEP 2024,\n",
       " THU 20 MAR 2025,\n",
       " MON 22 SEP 2025]"
      ]
     },
     "execution_count": 11,
     "metadata": {},
     "output_type": "execute_result"
    }
   ],
   "source": [
    "swap.floatDates()"
   ]
  },
  {
   "cell_type": "markdown",
   "metadata": {},
   "source": [
    "## Valuation"
   ]
  },
  {
   "cell_type": "code",
   "execution_count": 12,
   "metadata": {},
   "outputs": [],
   "source": [
    "valuationDate = FinDate(20,3,2020)"
   ]
  },
  {
   "cell_type": "code",
   "execution_count": 13,
   "metadata": {},
   "outputs": [],
   "source": [
    "settlementDate = valuationDate.addWorkDays(0)"
   ]
  },
  {
   "cell_type": "markdown",
   "metadata": {},
   "source": [
    "This is just using a flat curve without any Libor accrual factors."
   ]
  },
  {
   "cell_type": "code",
   "execution_count": 15,
   "metadata": {},
   "outputs": [],
   "source": [
    "from financepy.market.curves.FinDiscountCurveFlat import FinDiscountCurveFlat"
   ]
  },
  {
   "cell_type": "code",
   "execution_count": 17,
   "metadata": {},
   "outputs": [],
   "source": [
    "discountCurve = FinDiscountCurveFlat(valuationDate, 0.05, FinFrequencyTypes.SEMI_ANNUAL)"
   ]
  },
  {
   "cell_type": "markdown",
   "metadata": {},
   "source": [
    "Need to specify the next fixing on the floating leg"
   ]
  },
  {
   "cell_type": "code",
   "execution_count": 18,
   "metadata": {},
   "outputs": [
    {
     "data": {
      "text/plain": [
       "254993.6463796678"
      ]
     },
     "execution_count": 18,
     "metadata": {},
     "output_type": "execute_result"
    }
   ],
   "source": [
    "swap.value(settlementDate, discountCurve, discountCurve)"
   ]
  },
  {
   "cell_type": "markdown",
   "metadata": {},
   "source": [
    "We can examine the individual legs - here is the floating leg valuation"
   ]
  },
  {
   "cell_type": "code",
   "execution_count": 21,
   "metadata": {},
   "outputs": [
    {
     "name": "stdout",
     "output_type": "stream",
     "text": [
      "START DATE: WED 20 JUN 2018\n",
      "MATURITY DATE: MON 22 SEP 2025\n",
      "SPREAD COUPON (%): 0.0\n",
      "FLOAT LEG FREQUENCY: FinFrequencyTypes.SEMI_ANNUAL\n",
      "FLOAT LEG DAY COUNT: FinDayCountTypes.ACT_360\n",
      "VALUATION DATE FRI 20 MAR 2020\n",
      "         *** FIRST FLOATING RATE PAYMENT IS IMPLIED ***\n",
      "PAYMENT_DATE     YEAR_FRAC    RATE(%)       FLOW         DF         DF*FLOW       CUM_PV\n",
      "FRI 20 MAR 2020          -          -            -   1.00000000            -            -\n",
      "FRI 20 MAR 2020  0.5055556    0.00000         0.00   1.00000000         0.00         0.00\n",
      "MON 21 SEP 2020  0.5138889    4.91869    252765.98   0.97534656    246534.43    246534.43\n",
      "MON 22 MAR 2021  0.5055556    4.92370    248920.14   0.95165788    236886.81    483421.24\n",
      "MON 20 SEP 2021  0.5055556    4.93134    249306.60   0.92850952    231483.55    714904.79\n",
      "MON 21 MAR 2022  0.5055556    4.93134    249306.60   0.90592423    225852.89    940757.68\n",
      "TUE 20 SEP 2022  0.5083333    4.93167    250693.45   0.88376873    221555.03   1162312.71\n",
      "MON 20 MAR 2023  0.5027778    4.93100    247919.94   0.86238840    213803.28   1376115.99\n",
      "WED 20 SEP 2023  0.5111111    4.93201    252080.48   0.84118380    212046.02   1588162.01\n",
      "WED 20 MAR 2024  0.5055556    4.92542    249007.28   0.82074661    204371.88   1792533.89\n",
      "FRI 20 SEP 2024  0.5111111    4.91837    251383.15   0.80062036    201262.47   1993796.36\n",
      "THU 20 MAR 2025  0.5027778    4.92324    247529.74   0.78128133    193390.37   2187186.72\n",
      "MON 22 SEP 2025  0.5166667    4.93268    254855.11   0.76186481    194165.14   2381351.86\n"
     ]
    }
   ],
   "source": [
    "swap.printFloatLegPV()"
   ]
  },
  {
   "cell_type": "markdown",
   "metadata": {},
   "source": [
    "And here is the fixed leg valuation"
   ]
  },
  {
   "cell_type": "code",
   "execution_count": 22,
   "metadata": {},
   "outputs": [
    {
     "name": "stdout",
     "output_type": "stream",
     "text": [
      "START DATE: WED 20 JUN 2018\n",
      "MATURITY DATE: MON 22 SEP 2025\n",
      "COUPON (%): 5.0\n",
      "FIXED LEG FREQUENCY: FinFrequencyTypes.ANNUAL\n",
      "FIXED LEG DAY COUNT: FinDayCountTypes.ACT_360\n",
      "VALUATION DATE FRI 20 MAR 2020\n",
      "PAYMENT_DATE     YEAR_FRAC        FLOW         DF         DF*FLOW       CUM_PV\n",
      "FRI 20 MAR 2020          -            -   1.00000000            -            -\n",
      "MON 21 SEP 2020  1.0194444    509722.22   0.97534656    497155.81    497155.81\n",
      "MON 20 SEP 2021  1.0111111    505555.56   0.92850952    469413.15    966568.96\n",
      "TUE 20 SEP 2022  1.0138889    506944.44   0.88376873    448021.65   1414590.61\n",
      "WED 20 SEP 2023  1.0138889    506944.44   0.84118380    426433.45   1841024.06\n",
      "FRI 20 SEP 2024  1.0166667    508333.33   0.80062036    406982.02   2248006.08\n",
      "MON 22 SEP 2025  1.0194444    509722.22   0.76186481    388339.43   2636345.51\n"
     ]
    }
   ],
   "source": [
    "swap.printFixedLegPV()"
   ]
  },
  {
   "cell_type": "code",
   "execution_count": 23,
   "metadata": {},
   "outputs": [
    {
     "data": {
      "text/plain": [
       "5.272691014585207"
      ]
     },
     "execution_count": 23,
     "metadata": {},
     "output_type": "execute_result"
    }
   ],
   "source": [
    "swap.pv01(valuationDate, discountCurve)"
   ]
  },
  {
   "cell_type": "code",
   "execution_count": 24,
   "metadata": {},
   "outputs": [
    {
     "data": {
      "text/plain": [
       "0.04516387811692542"
      ]
     },
     "execution_count": 24,
     "metadata": {},
     "output_type": "execute_result"
    }
   ],
   "source": [
    "swap.parCoupon(valuationDate, discountCurve)"
   ]
  },
  {
   "cell_type": "markdown",
   "metadata": {},
   "source": [
    "## Including a final exchange of principal"
   ]
  },
  {
   "cell_type": "code",
   "execution_count": 25,
   "metadata": {},
   "outputs": [
    {
     "data": {
      "text/plain": [
       "254993.64637966827"
      ]
     },
     "execution_count": 25,
     "metadata": {},
     "output_type": "execute_result"
    }
   ],
   "source": [
    "swap.value(settlementDate, discountCurve, discountCurve, principal=1.0)"
   ]
  },
  {
   "cell_type": "code",
   "execution_count": 27,
   "metadata": {},
   "outputs": [
    {
     "name": "stdout",
     "output_type": "stream",
     "text": [
      "START DATE: WED 20 JUN 2018\n",
      "MATURITY DATE: MON 22 SEP 2025\n",
      "SPREAD COUPON (%): 0.0\n",
      "FLOAT LEG FREQUENCY: FinFrequencyTypes.SEMI_ANNUAL\n",
      "FLOAT LEG DAY COUNT: FinDayCountTypes.ACT_360\n",
      "VALUATION DATE FRI 20 MAR 2020\n",
      "         *** FIRST FLOATING RATE PAYMENT IS IMPLIED ***\n",
      "PAYMENT_DATE     YEAR_FRAC    RATE(%)       FLOW         DF         DF*FLOW       CUM_PV\n",
      "FRI 20 MAR 2020          -          -            -   1.00000000            -            -\n",
      "FRI 20 MAR 2020  0.5055556    0.00000         0.00   1.00000000         0.00         0.00\n",
      "MON 21 SEP 2020  0.5138889    4.91869    252765.98   0.97534656    246534.43    246534.43\n",
      "MON 22 MAR 2021  0.5055556    4.92370    248920.14   0.95165788    236886.81    483421.24\n",
      "MON 20 SEP 2021  0.5055556    4.93134    249306.60   0.92850952    231483.55    714904.79\n",
      "MON 21 MAR 2022  0.5055556    4.93134    249306.60   0.90592423    225852.89    940757.68\n",
      "TUE 20 SEP 2022  0.5083333    4.93167    250693.45   0.88376873    221555.03   1162312.71\n",
      "MON 20 MAR 2023  0.5027778    4.93100    247919.94   0.86238840    213803.28   1376115.99\n",
      "WED 20 SEP 2023  0.5111111    4.93201    252080.48   0.84118380    212046.02   1588162.01\n",
      "WED 20 MAR 2024  0.5055556    4.92542    249007.28   0.82074661    204371.88   1792533.89\n",
      "FRI 20 SEP 2024  0.5111111    4.91837    251383.15   0.80062036    201262.47   1993796.36\n",
      "THU 20 MAR 2025  0.5027778    4.92324    247529.74   0.78128133    193390.37   2187186.72\n",
      "MON 22 SEP 2025  0.5166667    4.93268  10254855.11   0.76186481   7812813.28  10000000.00\n"
     ]
    }
   ],
   "source": [
    "swap.printFloatLegPV()"
   ]
  },
  {
   "cell_type": "markdown",
   "metadata": {},
   "source": [
    "As expected we see the final PV of the floating Leg is par (same index and discounting curve)."
   ]
  },
  {
   "cell_type": "code",
   "execution_count": 29,
   "metadata": {},
   "outputs": [
    {
     "name": "stdout",
     "output_type": "stream",
     "text": [
      "START DATE: WED 20 JUN 2018\n",
      "MATURITY DATE: MON 22 SEP 2025\n",
      "COUPON (%): 5.0\n",
      "FIXED LEG FREQUENCY: FinFrequencyTypes.ANNUAL\n",
      "FIXED LEG DAY COUNT: FinDayCountTypes.ACT_360\n",
      "VALUATION DATE FRI 20 MAR 2020\n",
      "PAYMENT_DATE     YEAR_FRAC        FLOW         DF         DF*FLOW       CUM_PV\n",
      "FRI 20 MAR 2020          -            -   1.00000000            -            -\n",
      "MON 21 SEP 2020  1.0194444    509722.22   0.97534656    497155.81    497155.81\n",
      "MON 20 SEP 2021  1.0111111    505555.56   0.92850952    469413.15    966568.96\n",
      "TUE 20 SEP 2022  1.0138889    506944.44   0.88376873    448021.65   1414590.61\n",
      "WED 20 SEP 2023  1.0138889    506944.44   0.84118380    426433.45   1841024.06\n",
      "FRI 20 SEP 2024  1.0166667    508333.33   0.80062036    406982.02   2248006.08\n",
      "MON 22 SEP 2025  1.0194444  10509722.22   0.76186481   8006987.57  10254993.65\n"
     ]
    }
   ],
   "source": [
    "swap.printFixedLegPV()"
   ]
  },
  {
   "cell_type": "markdown",
   "metadata": {},
   "source": [
    "Copyright (c) 2020 Dominic O'Kane"
   ]
  }
 ],
 "metadata": {
  "kernelspec": {
   "display_name": "Python 3",
   "language": "python",
   "name": "python3"
  },
  "language_info": {
   "codemirror_mode": {
    "name": "ipython",
    "version": 3
   },
   "file_extension": ".py",
   "mimetype": "text/x-python",
   "name": "python",
   "nbconvert_exporter": "python",
   "pygments_lexer": "ipython3",
   "version": "3.7.6"
  }
 },
 "nbformat": 4,
 "nbformat_minor": 4
}
